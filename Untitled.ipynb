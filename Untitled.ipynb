{
 "cells": [
  {
   "cell_type": "code",
   "execution_count": 1,
   "metadata": {},
   "outputs": [],
   "source": [
    "f = open(\"C:/Users/taehee/Documents/두타 후기.html\", 'r', encoding = 'UTF8')\n",
    "line = f.read()\n",
    "f.close()"
   ]
  },
  {
   "cell_type": "code",
   "execution_count": 2,
   "metadata": {},
   "outputs": [],
   "source": [
    "from bs4 import BeautifulSoup"
   ]
  },
  {
   "cell_type": "code",
   "execution_count": 3,
   "metadata": {},
   "outputs": [],
   "source": [
    "soup = BeautifulSoup(line)"
   ]
  },
  {
   "cell_type": "code",
   "execution_count": 4,
   "metadata": {},
   "outputs": [
    {
     "name": "stdout",
     "output_type": "stream",
     "text": [
      "<div class=\"location-review-review-list-parts-RatingLine__bubbles--GcJvM\" data-test-target=\"review-rating\"><span class=\"ui_bubble_rating bubble_40\"></span></div>\n"
     ]
    }
   ],
   "source": [
    "ratingDiv = soup.find(\"div\", class_=\"location-review-review-list-parts-RatingLine__bubbles--GcJvM\")\n",
    "print(ratingDiv)"
   ]
  },
  {
   "cell_type": "code",
   "execution_count": 5,
   "metadata": {},
   "outputs": [
    {
     "name": "stdout",
     "output_type": "stream",
     "text": [
      "<span class=\"ui_bubble_rating bubble_40\"></span>\n"
     ]
    }
   ],
   "source": [
    "ratingSpan = ratingDiv.contents[0]\n",
    "print(ratingSpan)"
   ]
  },
  {
   "cell_type": "code",
   "execution_count": 6,
   "metadata": {},
   "outputs": [
    {
     "name": "stdout",
     "output_type": "stream",
     "text": [
      "['ui_bubble_rating', 'bubble_40']\n"
     ]
    }
   ],
   "source": [
    "ratingClass = ratingSpan['class']\n",
    "print(ratingClass)"
   ]
  },
  {
   "cell_type": "code",
   "execution_count": 7,
   "metadata": {},
   "outputs": [
    {
     "name": "stdout",
     "output_type": "stream",
     "text": [
      "bubble_40\n"
     ]
    }
   ],
   "source": [
    "ratingRatingClass = ratingClass[1]\n",
    "print(ratingRatingClass)"
   ]
  },
  {
   "cell_type": "code",
   "execution_count": 8,
   "metadata": {},
   "outputs": [
    {
     "name": "stdout",
     "output_type": "stream",
     "text": [
      "40\n"
     ]
    }
   ],
   "source": [
    "rating = ratingRatingClass[-2:]\n",
    "print(rating)"
   ]
  },
  {
   "cell_type": "code",
   "execution_count": 9,
   "metadata": {},
   "outputs": [
    {
     "name": "stdout",
     "output_type": "stream",
     "text": [
      "4.0\n"
     ]
    }
   ],
   "source": [
    "rating = int(soup.find(\"div\", class_=\"location-review-review-list-parts-RatingLine__bubbles--GcJvM\").contents[0]['class'][1][-2:]) / 10\n",
    "print(rating)"
   ]
  },
  {
   "cell_type": "code",
   "execution_count": 10,
   "metadata": {},
   "outputs": [
    {
     "name": "stdout",
     "output_type": "stream",
     "text": [
      "We had dinner at Shake Shack which is our first visit ever to a Shake Shack as the one in Singapore always long queue. It was a great dinner experience. Doota is suitable for 20s-30s it has many trendy fashion & sports brands.\n"
     ]
    }
   ],
   "source": [
    "review = soup.find(\"q\", class_=\"location-review-review-list-parts-ExpandableReview__reviewText--gOmRC\").contents[0].contents[0]\n",
    "print(review)"
   ]
  },
  {
   "cell_type": "code",
   "execution_count": 11,
   "metadata": {},
   "outputs": [
    {
     "name": "stdout",
     "output_type": "stream",
     "text": [
      "[4.0, 5.0, 4.0, 5.0, 4.0]\n",
      "['We had dinner at Shake Shack which is our first visit ever to a Shake Shack as the one in Singapore always long queue. It was a great dinner experience. Doota is suitable for 20s-30s it has many trendy fashion & sports brands.', 'We highly recommend this mall for those who are looking for late & night shopping. Many korea. Brands and cloths with a very reasonable prices and unique designs', \"Down one level, hidden st the back is a good food court with a selection of Korean food. Good selection, good prices -just be adventurous!  Try the Boba or the bibimbap - it's all good!\", 'Doota is a mall for young people in the never-sleep Dongdaemun area, heaven for those who love to \"shop until you drop\".  The first 5 floors offer young brands to browse until 5.00am. Floor 6 to 12/13 is duty free shopping, where we have found many surprisingly steep discount', 'This is one of the shopping centres with the best and most versatile food court in seoul! the shopping experience is also very good']\n"
     ]
    }
   ],
   "source": [
    "ratings = []\n",
    "for data in soup.find_all(\"div\", class_=\"location-review-review-list-parts-RatingLine__bubbles--GcJvM\"):\n",
    "  ratings.append(int(data.contents[0]['class'][1][-2:]) / 10)\n",
    "reviews = []\n",
    "for data in soup.find_all(\"q\", class_=\"location-review-review-list-parts-ExpandableReview__reviewText--gOmRC\"):\n",
    "  reviews.append(data.contents[0].contents[0])\n",
    "\n",
    "print(ratings[:5])\n",
    "print(reviews[:5])"
   ]
  },
  {
   "cell_type": "code",
   "execution_count": 12,
   "metadata": {},
   "outputs": [
    {
     "name": "stdout",
     "output_type": "stream",
     "text": [
      "['We had dinner at Shake Shack which is our first visit ever to a Shake Shack as the one in Singapore always long queue. It was a great dinner experience. Doota is suitable for 20s-30s it has many trendy fashion & sports brands.', 'We highly recommend this mall for those who are looking for late & night shopping. Many korea. Brands and cloths with a very reasonable prices and unique designs', \"Down one level, hidden st the back is a good food court with a selection of Korean food. Good selection, good prices -just be adventurous!  Try the Boba or the bibimbap - it's all good!\", 'Doota is a mall for young people in the never-sleep Dongdaemun area, heaven for those who love to \"shop until you drop\".  The first 5 floors offer young brands to browse until 5.00am. Floor 6 to 12/13 is duty free shopping, where we have found many surprisingly steep discount', 'This is one of the shopping centres with the best and most versatile food court in seoul! the shopping experience is also very good', 'It is very funny and excellent place to go around to shop. You can also go other stores for more options-convenient!', 'Minimum half of the workers don’t speak korean, especially the ones in Innisfree. I beg your pardon, but not knowing what Sale and Discount means? Why are you even working in a place with full of foreigners', 'This is one of the largest fashion malls in Dongdaemun area. There are many designer shops, luxury brand stores, shops selling cosmetics, accessories, clothing, cafes and restaurants. It was lively and crowded in the evening. I went to the basement food court and had my dinner.', 'There are nothing about this store for it to stand out among the numerous retail offerings in Seoul -- so why waste time? The merchandise is offered at all the better outlets at equivalent prices -- the Food Court at Doota is inferior to that of most every other store in town', 'Being here for shopping. Most branded items were here and even you can find a souvenir shop in here.', 'There are levels of shops with local brands to shop for here. The prices are quite expensive. Duty free shopping requires passport.', 'Guide recommended this place. Shake shack was prominent on the ground floor, very large mall with emphasis on local designers which set it apart from the Lottes. Affordable and stylish enough, Wife happy!  Good sports section too. ', 'Had some time to browse around in the mall. The mall was okay for us. They sell what most malls in the world sell. A lot of things mostly cosmetic and perfume, bags, clothes, etc. It operates from 10am ish until 5am. Unbelievable! There is a famous restaurant next to the mall,', 'A little disappointed with this mall. Inside was pretty crowded and selling pretty much everything including food. But for me it was more or less the same as so many other malls in Seoul selling inexpensive or gadgetry things except with lots of visitors from the mainland.  The', \"Open from 10.30am till 5.00am - yes, you read it corretly - the Mall is open till 5 in the morning! I was curious who would go shopping in the middle of the night but wasn't about to lose any sleep to find out. It's about 8 levels of shopping with a Duty Free Wing next to it\", 'I suspect lots of tour buses offload their tour groups here in front of the mall which explain why this place is so packed with tourists. You can also find a food court at the basement.', 'Just like other mall. Heaven for shopping person. They gave food court. Not many variations of food though, still in affordable price, came in a big portion. I suggest you buy 2 portions of meal for 3 person. There is Arirang shop, where sell snacks and souveniers too.', 'Well, the best thing about Doota is their different flyers with promotions. You can get it in the street and inside the mall. Be very attentive reading it since you can get:  1. Free Face sheet mask! 2. 5,000 W (~$5) coupon for meal at their food court downstairs 3. Additional', 'We went here for a family outing because there’s a Tayo Kid’s Cafe on the 5th floor. The cafe itself was very clean and our kid enjoyed it, but it was way expensive compared to similar Kid Cafes around the city. We looked around the shops and the clothes were really cute, but', 'Got a brochure from the tourist information office and found 2 freebies in it - 1. Free face mask 2. 5000krw voucher to use in the food court. Why not? The discounts provided in the book is also good (with Conditions so do check before purchase) if you are looking to spend in', 'The promotion, services, membership and etc is all catered for PRC.   No point shopping here, and the cosmetic/makeup might be cheaper in the market area.  ', \"Great place to shop for souvenirs.  I personally rested for a short while at Auntie Anne's on the 4th floor, but still explored all floors.  We just bought 2 articles of clothing and 3 pieces of jewelry.  Definitely not many options for guys, but a paradise for someone looking\", 'in this mall you can find makeup products and any other things for tourist you can chance the bill to a receipt for tax refund ( i think the place is at 1st floor near the laneige counter) . i visit a place called \"arirang shop\" in this shop you can get discount for tourist and', 'Great selection of unique Korean brands by up and coming local designers.. Mostly ppeal to younger clientele who are fashion-conscious and seek the trendiest clothes and accessories.  Carefully curated boutiques spread out over many floors, with many good dining options mixed in', \"Shopping mall located inside the Doosan white building close to Dongdaemun. Food court in the basement. Shopping mall floors up to and including 6th floor. Signs say some duty free floors higher up, but I didn't go that high in building so not sure what is there. Has a coffee\", 'I visited Arirang Shop and eonnie was kind and friendly. I bought so many souvenirs such as keychain, pouch etc. 😁', 'I found the shop on the 6th floor of DOOTA Mall (Dongdaemun) called Arirang very rude. They sell all sorts including the 777 nail clippers which I went for.   The shopkeepers were not interested in me being present. I got the impression I got in the way. However, 10 minutes', 'This is a fairly large mall in the Dongdaemun district that sells a lot of clothing, food and cosmetics. The bottom few floors are offer a lot of casual clothing for both men and women with a food court located in Basement 1. There are generally a lot of Chinese tourists and', \"This mall have line friends store  at the ground floor , small boutiques inside , men level , women's level , children's level , food court level , cosmetics level on different floor , I like the no brand store inside . To my dismay I can't buy the cosmetics here inside the duty\", 'Doota Mall is located in Dongdaemun Dongdaemun History & Culture Park Subway Station Exit 14, walk straight out of the exit towards Dongdaemun. I received a free coupon book and complimentary gift using Mastercard from baynaru. It’s a great place to shop for Korean branded bags,', 'Shopping Time at Doota Korea South. Seoul  Open until 02.00 Many person in here to shopping.  Minus 9 derajat in here.  Good palace in doota.   Many souvenirs korea in doota.  4 floor in here', 'Nothing to spark my interest.  A very average mall lacking in “character”.  Daughter liked the kpop stationery in one of the souvenir shops, and that’s about it.', 'This is probably the best place & the only \"bright spark\" in an otherwise uninteresting Dongdaemun. A decent nice mall with nice shops & ambience.  However, what you see here can be found in other malls in Seoul as well.   Dongdaemun isn\\'t a very interesting place as compared to', \"This mall is super nice and has a huge selection especially woman's clothing. There's also a nice food court and coffee shops.   My only gripe was that it looked like a higher end Namdaemun market where they hand pick stuff from there and put them on hangers in this mall. We saw\", 'I love this mall. It has everything I need in there. From luxury ready to wear to cosmetics and electronics! And it closes at 5am! ', \"Great for female shoppers. Cosmetics and fashion.  Lot of choice.  Open till very late. Many floors. Bring passport as it's duty free\", 'Doota is one of the largest fashion malls at Dongdaemun Market, the fashion town that never sleeps. Home to over 3 million foreign visitors a year,  Doota is wonderful -free shopping mall and you must bring your passport.There are good deal especially for woman. The mall also', 'Doota is a big mall where you can find many things there especially clothes. In the 6th floor (if I\\'m not wrong) there is gift shop \"Arirang\" that sells many kind of souvenir/gifts with cheap price.  You can also find Duty Free shop.', 'This place is best seen at night with all the neon lights.  The shopping centres are pretty average and not far from the metro station.  The highlight of the trip is the big Owl and big bear!', 'Doota duty-free shopping mall in Seoul where you can find all your shopping needs, especially fashion items. ', \"After DDP we went to Doota Mall, we just heard that there's Descendants of the Sun Special Exhibition there so we just went here for Song Joongki. Haha. Though we stroll around a little bit, Doota Mall is a variety of expensive clothes (for me) lol - There are lots of Branded\", \"Doota Mall is in Dongdaemun Plaza. You get off at the Dongdaemun Design & Arts Center subway station, walk out of the DDP, and cross the street. You can't miss it. It has a LINE store on the G/F, and other coffee shops and women's shopping for days. The best part about our\", 'A lot of people recommended us to visit and shop at this mall but what we experienced was not as fancy as expected. The mall was big, yes, but not a great one as the others in the same area. We only spent half an hour and then decided to go to another mall.', \"Love this place. The women's fashion section on the second floor is very very tempting. So many to choose from. Prices are varied depending on the items. It's not exactly super cheap but the quality is really what you're paying for. They have tax refund facility on the spot. All\", 'Located at dongdaemun. Big mall n many brand in there to shopping. Have tax refund counter inside the mall.', 'Used to love shopping at Doota! But have found the style and prices a little disappointing this time round. Perhaps to cater to their new target markets!   Also the sales people were less friendly and packed full of tourist even on a weeknight at midnight!! Still worth a browse', 'All in one shopping at Doota with a food court and tax return counter and a few floors of shops selling clothing and accessories.', 'We went to Doota at Dongdaemun for shopping. It is considered a High-end shopping mall with local and international brands. Mostly Korean brands.  The items are quite pricey. We bought 2 dresses (no price tag) and upon payment, we were shocked by the price. 2 dresses for about', \"If you are into shopping and fashion then you should definitely visit Doota. Keep in mind that prices are not that cheap and can get as expensive as a department store. Even though I don't spend too much money here, I enjoy checking out the current fashion trend in Korea. There\", 'At the central of Dongdaemun, a very convenience place.  However, the area is too small and you have to wait the lift to and from G/F.  Means you may waste 5 minutes or more from 1/F down to G/F in critical season.', 'Accidentally went here while looking for the DOTS exhibit. Wide, various choices of clothes and shoes.. but of course be prepared of the cost. Although I find the place a bit complicated for me to roam around.', 'Another Fashion Mall with Duty Free from the fourth level up. A good place for branded items shopper. However, two levels featuring K Culture and K Wave were closed. ', \"I find lots of Korean local designers and Korean brands as well, good design. Never miss 3rd and 4th floor Korean noddles and Korean desserts. Also you can find jewelry, cosmetic and watches at top floor. love this mall, it's kind of luxury mall. by the way, they provide\", 'Love the cleanliness and the space and display at this mall.  There we found the famous Busan fishcake bakery in Seoul . recommended must try when Here. The seafood spicy soup fish noddles( made of fresh fish paste) with Optus, crab and fish cakes.   Mall is much better in', \"I liked this mall because it houses a lot of Korea's local designers.It's also very near Dongdaemun station so you won't have a hard time locating it.The brands in this mall are quite expensive but if you like unique clothes and other goods by Korean labels then this one's for\", \"This mall was a great respite after going through the monotony of the Dongdaemun shopping centre cookie cutter shops (although we did manage to pick up a couple of things there). It's an upmarket mall so definitely prices are steeper, but good hangout for window shopping and\", \"if you are looking for a place to dine or sit down in dongdaemun, this is the place! it's at the basement floor, clean and great for dining. i like the seafood sundubu (hot and spicy stew with soybeans, egg and seafood- it's always my most favourite korean food) my friends had\", 'Doota Mall located near DDP (Dongdaemon Design Plaza) and easy accessible by metro or bus. You can find nice clothes with good quality here. Price for stuff here cheaper than in Loota fittin, which is located in the same area. All other malls around here have cheaper items with', 'I used to love shopping at Doota 7-8 years ago but this trip was shocked with the prices.   I saw prices ranged from 46,000 Won to 600,000 Won where as other shopping centre nearby were selling fashion that much cheaper than that perhaps ranged from 9,000 Won - 58,000 Won. To be', \"It's a big shopping complex with very huge multi story duty free shop. Things to know.  1) bring your passport  2) bring your airplane ticket with you. The outbound  3) Korean goods that you buy you can take with you. Any non Korean product you can collect it on the airport\", \"As it is cashing into tourist's, hard to evaluate the credibility of the quality, clearly prices at mid high range, it takes one to recognize the worthy of it. \", 'A great variety of food from authentic Korean to burgers. Well priced meals in a bright clean basement area of the Doots department store at Dongdaemun.', \"I've heard a lot about Doota mall and I might expect a lot but the clothes is the same the price is kind of expensive compared to the quality of the other store. The good thing about it is that it open up to the midnight and until 5 am\", 'The items sold here are very expensive.. Took a walk around in the mall but did not manage to buy anything. Unless you are into designers items and willing to spend that much amount of money, I think it is not really suitable for normal shopping with items of reasonable price.', \"I won't buy anything in Doota- it has grown into a landmark but everything in Dongdaemun is more expensive than elsewhere. It is just a building with endless shops and overly priced clothes.....I rather prefer other places than here. Walked through since I was there- just to\", 'I was able to buy birkenstock sandals on sale. The price was more than 50% cheaper than in the Philippines ', 'My wife would have loved it. More for ladies. Other than the operating hours shopkeepers here can understand English...;)', \"Totally gentrified thus expensive. I'm not sure if there's a significant difference in quality between the designer clothes of Doota and the other Korean brands that you can find in Myeongdong or even in small shops at the subway stations. Not convinced and not amused, not even\", 'What a fun place to shop!  The experience alone was worth the visit. The shops stay open really late so if you need things to do after dinner and karaoke, go check it out.  The staff working at the mall were all very friendly.  ', \"Doota mall houses its own immediate tax refund on the 4th level and B2.  Men's are in B1 and B2, and ladies for the rest.  Although many local designer and international brands are here, it's not exactly a lot cheaper than the street stores. The good part is its immediate tax\"]\n"
     ]
    }
   ],
   "source": [
    "print(reviews)"
   ]
  },
  {
   "cell_type": "code",
   "execution_count": 13,
   "metadata": {},
   "outputs": [],
   "source": [
    "import pandas as pd\n",
    "import numpy as np\n",
    "import matplotlib.pyplot as plt"
   ]
  },
  {
   "cell_type": "code",
   "execution_count": 14,
   "metadata": {},
   "outputs": [],
   "source": [
    "df = pd.DataFrame({'rating' : ratings,\n",
    "                   'review' : reviews})"
   ]
  },
  {
   "cell_type": "code",
   "execution_count": 15,
   "metadata": {},
   "outputs": [
    {
     "data": {
      "text/html": [
       "<div>\n",
       "<style scoped>\n",
       "    .dataframe tbody tr th:only-of-type {\n",
       "        vertical-align: middle;\n",
       "    }\n",
       "\n",
       "    .dataframe tbody tr th {\n",
       "        vertical-align: top;\n",
       "    }\n",
       "\n",
       "    .dataframe thead th {\n",
       "        text-align: right;\n",
       "    }\n",
       "</style>\n",
       "<table border=\"1\" class=\"dataframe\">\n",
       "  <thead>\n",
       "    <tr style=\"text-align: right;\">\n",
       "      <th></th>\n",
       "      <th>rating</th>\n",
       "      <th>review</th>\n",
       "    </tr>\n",
       "  </thead>\n",
       "  <tbody>\n",
       "    <tr>\n",
       "      <th>0</th>\n",
       "      <td>4.0</td>\n",
       "      <td>We had dinner at Shake Shack which is our firs...</td>\n",
       "    </tr>\n",
       "    <tr>\n",
       "      <th>1</th>\n",
       "      <td>5.0</td>\n",
       "      <td>We highly recommend this mall for those who ar...</td>\n",
       "    </tr>\n",
       "    <tr>\n",
       "      <th>2</th>\n",
       "      <td>4.0</td>\n",
       "      <td>Down one level, hidden st the back is a good f...</td>\n",
       "    </tr>\n",
       "    <tr>\n",
       "      <th>3</th>\n",
       "      <td>5.0</td>\n",
       "      <td>Doota is a mall for young people in the never-...</td>\n",
       "    </tr>\n",
       "    <tr>\n",
       "      <th>4</th>\n",
       "      <td>4.0</td>\n",
       "      <td>This is one of the shopping centres with the b...</td>\n",
       "    </tr>\n",
       "  </tbody>\n",
       "</table>\n",
       "</div>"
      ],
      "text/plain": [
       "   rating                                             review\n",
       "0     4.0  We had dinner at Shake Shack which is our firs...\n",
       "1     5.0  We highly recommend this mall for those who ar...\n",
       "2     4.0  Down one level, hidden st the back is a good f...\n",
       "3     5.0  Doota is a mall for young people in the never-...\n",
       "4     4.0  This is one of the shopping centres with the b..."
      ]
     },
     "execution_count": 15,
     "metadata": {},
     "output_type": "execute_result"
    }
   ],
   "source": [
    "df.head()"
   ]
  },
  {
   "cell_type": "code",
   "execution_count": 16,
   "metadata": {},
   "outputs": [
    {
     "data": {
      "text/html": [
       "<div>\n",
       "<style scoped>\n",
       "    .dataframe tbody tr th:only-of-type {\n",
       "        vertical-align: middle;\n",
       "    }\n",
       "\n",
       "    .dataframe tbody tr th {\n",
       "        vertical-align: top;\n",
       "    }\n",
       "\n",
       "    .dataframe thead th {\n",
       "        text-align: right;\n",
       "    }\n",
       "</style>\n",
       "<table border=\"1\" class=\"dataframe\">\n",
       "  <thead>\n",
       "    <tr style=\"text-align: right;\">\n",
       "      <th></th>\n",
       "      <th>rating</th>\n",
       "      <th>review</th>\n",
       "    </tr>\n",
       "  </thead>\n",
       "  <tbody>\n",
       "    <tr>\n",
       "      <th>6</th>\n",
       "      <td>2.0</td>\n",
       "      <td>Minimum half of the workers don’t speak korean...</td>\n",
       "    </tr>\n",
       "    <tr>\n",
       "      <th>8</th>\n",
       "      <td>3.0</td>\n",
       "      <td>There are nothing about this store for it to s...</td>\n",
       "    </tr>\n",
       "    <tr>\n",
       "      <th>12</th>\n",
       "      <td>3.0</td>\n",
       "      <td>Had some time to browse around in the mall. Th...</td>\n",
       "    </tr>\n",
       "    <tr>\n",
       "      <th>13</th>\n",
       "      <td>3.0</td>\n",
       "      <td>A little disappointed with this mall. Inside w...</td>\n",
       "    </tr>\n",
       "    <tr>\n",
       "      <th>14</th>\n",
       "      <td>3.0</td>\n",
       "      <td>Open from 10.30am till 5.00am - yes, you read ...</td>\n",
       "    </tr>\n",
       "  </tbody>\n",
       "</table>\n",
       "</div>"
      ],
      "text/plain": [
       "    rating                                             review\n",
       "6      2.0  Minimum half of the workers don’t speak korean...\n",
       "8      3.0  There are nothing about this store for it to s...\n",
       "12     3.0  Had some time to browse around in the mall. Th...\n",
       "13     3.0  A little disappointed with this mall. Inside w...\n",
       "14     3.0  Open from 10.30am till 5.00am - yes, you read ..."
      ]
     },
     "execution_count": 16,
     "metadata": {},
     "output_type": "execute_result"
    }
   ],
   "source": [
    "dfLowerThan35 = df[df['rating']<3.5]\n",
    "dfLowerThan35.head()"
   ]
  },
  {
   "cell_type": "code",
   "execution_count": 17,
   "metadata": {},
   "outputs": [
    {
     "name": "stdout",
     "output_type": "stream",
     "text": [
      "Minimum half of the workers don’t speak korean, especially the ones in Innisfree. I beg your pardon, but not knowing what Sale and Discount means? Why are you even working in a place with full of foreignersThere are nothing about this store for it to stand out among the numerous retail offerings in Seoul -- so why waste time? The merchandise is offered at all the better outlets at equivalent prices -- the Food Court at Doota is inferior to that of most every other store in townHad some time to browse around in the mall. The mall was okay for us. They sell what most malls in the world sell. A lot of things mostly cosmetic and perfume, bags, clothes, etc. It operates from 10am ish until 5am. Unbelievable! There is a famous restaurant next to the mall,A little disappointed with this mall. Inside was pretty crowded and selling pretty much everything including food. But for me it was more or less the same as so many other malls in Seoul selling inexpensive or gadgetry things except with lots of visitors from the mainland.  TheOpen from 10.30am till 5.00am - yes, you read it corretly - the Mall is open till 5 in the morning! I was curious who would go shopping in the middle of the night but wasn't about to lose any sleep to find out. It's about 8 levels of shopping with a Duty Free Wing next to itI suspect lots of tour buses offload their tour groups here in front of the mall which explain why this place is so packed with tourists. You can also find a food court at the basement.Just like other mall. Heaven for shopping person. They gave food court. Not many variations of food though, still in affordable price, came in a big portion. I suggest you buy 2 portions of meal for 3 person. There is Arirang shop, where sell snacks and souveniers too.Well, the best thing about Doota is their different flyers with promotions. You can get it in the street and inside the mall. Be very attentive reading it since you can get:  1. Free Face sheet mask! 2. 5,000 W (~$5) coupon for meal at their food court downstairs 3. AdditionalWe went here for a family outing because there’s a Tayo Kid’s Cafe on the 5th floor. The cafe itself was very clean and our kid enjoyed it, but it was way expensive compared to similar Kid Cafes around the city. We looked around the shops and the clothes were really cute, butThe promotion, services, membership and etc is all catered for PRC.   No point shopping here, and the cosmetic/makeup might be cheaper in the market area.  Shopping mall located inside the Doosan white building close to Dongdaemun. Food court in the basement. Shopping mall floors up to and including 6th floor. Signs say some duty free floors higher up, but I didn't go that high in building so not sure what is there. Has a coffeeI found the shop on the 6th floor of DOOTA Mall (Dongdaemun) called Arirang very rude. They sell all sorts including the 777 nail clippers which I went for.   The shopkeepers were not interested in me being present. I got the impression I got in the way. However, 10 minutesThis is a fairly large mall in the Dongdaemun district that sells a lot of clothing, food and cosmetics. The bottom few floors are offer a lot of casual clothing for both men and women with a food court located in Basement 1. There are generally a lot of Chinese tourists andNothing to spark my interest.  A very average mall lacking in “character”.  Daughter liked the kpop stationery in one of the souvenir shops, and that’s about it.This is probably the best place & the only \"bright spark\" in an otherwise uninteresting Dongdaemun. A decent nice mall with nice shops & ambience.  However, what you see here can be found in other malls in Seoul as well.   Dongdaemun isn't a very interesting place as compared toThis mall is super nice and has a huge selection especially woman's clothing. There's also a nice food court and coffee shops.   My only gripe was that it looked like a higher end Namdaemun market where they hand pick stuff from there and put them on hangers in this mall. We sawGreat for female shoppers. Cosmetics and fashion.  Lot of choice.  Open till very late. Many floors. Bring passport as it's duty freeDoota is one of the largest fashion malls at Dongdaemun Market, the fashion town that never sleeps. Home to over 3 million foreign visitors a year,  Doota is wonderful -free shopping mall and you must bring your passport.There are good deal especially for woman. The mall alsoDoota is a big mall where you can find many things there especially clothes. In the 6th floor (if I'm not wrong) there is gift shop \"Arirang\" that sells many kind of souvenir/gifts with cheap price.  You can also find Duty Free shop.This place is best seen at night with all the neon lights.  The shopping centres are pretty average and not far from the metro station.  The highlight of the trip is the big Owl and big bear!A lot of people recommended us to visit and shop at this mall but what we experienced was not as fancy as expected. The mall was big, yes, but not a great one as the others in the same area. We only spent half an hour and then decided to go to another mall.All in one shopping at Doota with a food court and tax return counter and a few floors of shops selling clothing and accessories.At the central of Dongdaemun, a very convenience place.  However, the area is too small and you have to wait the lift to and from G/F.  Means you may waste 5 minutes or more from 1/F down to G/F in critical season.I liked this mall because it houses a lot of Korea's local designers.It's also very near Dongdaemun station so you won't have a hard time locating it.The brands in this mall are quite expensive but if you like unique clothes and other goods by Korean labels then this one's forI used to love shopping at Doota 7-8 years ago but this trip was shocked with the prices.   I saw prices ranged from 46,000 Won to 600,000 Won where as other shopping centre nearby were selling fashion that much cheaper than that perhaps ranged from 9,000 Won - 58,000 Won. To beAs it is cashing into tourist's, hard to evaluate the credibility of the quality, clearly prices at mid high range, it takes one to recognize the worthy of it. I've heard a lot about Doota mall and I might expect a lot but the clothes is the same the price is kind of expensive compared to the quality of the other store. The good thing about it is that it open up to the midnight and until 5 amThe items sold here are very expensive.. Took a walk around in the mall but did not manage to buy anything. Unless you are into designers items and willing to spend that much amount of money, I think it is not really suitable for normal shopping with items of reasonable price.I won't buy anything in Doota- it has grown into a landmark but everything in Dongdaemun is more expensive than elsewhere. It is just a building with endless shops and overly priced clothes.....I rather prefer other places than here. Walked through since I was there- just toTotally gentrified thus expensive. I'm not sure if there's a significant difference in quality between the designer clothes of Doota and the other Korean brands that you can find in Myeongdong or even in small shops at the subway stations. Not convinced and not amused, not even\n"
     ]
    }
   ],
   "source": [
    "result1 = \"\"\n",
    "for review in dfLowerThan35['review']:\n",
    "    result1 += review\n",
    "print(result1)"
   ]
  },
  {
   "cell_type": "code",
   "execution_count": null,
   "metadata": {},
   "outputs": [],
   "source": []
  }
 ],
 "metadata": {
  "kernelspec": {
   "display_name": "Python 3",
   "language": "python",
   "name": "python3"
  },
  "language_info": {
   "codemirror_mode": {
    "name": "ipython",
    "version": 3
   },
   "file_extension": ".py",
   "mimetype": "text/x-python",
   "name": "python",
   "nbconvert_exporter": "python",
   "pygments_lexer": "ipython3",
   "version": "3.7.1"
  }
 },
 "nbformat": 4,
 "nbformat_minor": 2
}
