{
 "cells": [
  {
   "cell_type": "code",
   "execution_count": 1,
   "metadata": {},
   "outputs": [],
   "source": [
    "%matplotlib inline\n",
    "\n",
    "import matplotlib.pyplot as plt\n",
    "from wordcloud import WordCloud\n",
    "import pandas as pd\n",
    "import os\n",
    "import nltk\n",
    "from nltk.tag import pos_tag\n",
    "from nltk.stem import WordNetLemmatizer as lm\n",
    "from nltk import Text\n",
    "from nltk.corpus import stopwords\n",
    "from nltk.tokenize import sent_tokenize as sentoken\n",
    "from nltk.tokenize import word_tokenize\n",
    "from nltk.tokenize import RegexpTokenizer\n",
    "retokenize = RegexpTokenizer(\"[\\w]+\")"
   ]
  },
  {
   "cell_type": "code",
   "execution_count": 2,
   "metadata": {},
   "outputs": [
    {
     "data": {
      "text/html": [
       "<div>\n",
       "<style scoped>\n",
       "    .dataframe tbody tr th:only-of-type {\n",
       "        vertical-align: middle;\n",
       "    }\n",
       "\n",
       "    .dataframe tbody tr th {\n",
       "        vertical-align: top;\n",
       "    }\n",
       "\n",
       "    .dataframe thead th {\n",
       "        text-align: right;\n",
       "    }\n",
       "</style>\n",
       "<table border=\"1\" class=\"dataframe\">\n",
       "  <thead>\n",
       "    <tr style=\"text-align: right;\">\n",
       "      <th></th>\n",
       "      <th>star_point</th>\n",
       "      <th>title</th>\n",
       "      <th>text</th>\n",
       "      <th>Date of experience</th>\n",
       "    </tr>\n",
       "  </thead>\n",
       "  <tbody>\n",
       "    <tr>\n",
       "      <th>0</th>\n",
       "      <td>4.0</td>\n",
       "      <td>Small City Palace, Great for Visit if one is s...</td>\n",
       "      <td>A small palace compared to that of Gyeongbukgu...</td>\n",
       "      <td>November 2019</td>\n",
       "    </tr>\n",
       "    <tr>\n",
       "      <th>1</th>\n",
       "      <td>5.0</td>\n",
       "      <td>My favorite Palace</td>\n",
       "      <td>This is probably one of my most favorite Palac...</td>\n",
       "      <td>January 2020</td>\n",
       "    </tr>\n",
       "    <tr>\n",
       "      <th>2</th>\n",
       "      <td>5.0</td>\n",
       "      <td>Love of Beauty is Taste. The Creation of Beaut...</td>\n",
       "      <td>There is a common believe that most South Kore...</td>\n",
       "      <td>January 2020</td>\n",
       "    </tr>\n",
       "    <tr>\n",
       "      <th>3</th>\n",
       "      <td>5.0</td>\n",
       "      <td>Deoksugung is a unique palace</td>\n",
       "      <td>I visited 2 palaces (Deoksugung &amp; Gyeongbokgun...</td>\n",
       "      <td>December 2019</td>\n",
       "    </tr>\n",
       "    <tr>\n",
       "      <th>4</th>\n",
       "      <td>5.0</td>\n",
       "      <td>Plan to Visit here and the other Historical Pl...</td>\n",
       "      <td>Why pay for tour guides when you can hop on an...</td>\n",
       "      <td>January 2020</td>\n",
       "    </tr>\n",
       "  </tbody>\n",
       "</table>\n",
       "</div>"
      ],
      "text/plain": [
       "   star_point                                              title  \\\n",
       "0         4.0  Small City Palace, Great for Visit if one is s...   \n",
       "1         5.0                                 My favorite Palace   \n",
       "2         5.0  Love of Beauty is Taste. The Creation of Beaut...   \n",
       "3         5.0                      Deoksugung is a unique palace   \n",
       "4         5.0  Plan to Visit here and the other Historical Pl...   \n",
       "\n",
       "                                                text Date of experience  \n",
       "0  A small palace compared to that of Gyeongbukgu...      November 2019  \n",
       "1  This is probably one of my most favorite Palac...       January 2020  \n",
       "2  There is a common believe that most South Kore...       January 2020  \n",
       "3  I visited 2 palaces (Deoksugung & Gyeongbokgun...      December 2019  \n",
       "4  Why pay for tour guides when you can hop on an...       January 2020  "
      ]
     },
     "execution_count": 2,
     "metadata": {},
     "output_type": "execute_result"
    }
   ],
   "source": [
    "#리뷰 불러오기\n",
    "path = 'C:/Users/taehee/Documents/GitHub/tripReviewAnalysisSystem/크롤러-전처리/원시자료/'\n",
    "deoksugung = pd.read_csv(path+'Deoksugung.csv', engine='python', index_col = 0, encoding = 'utf-8')\n",
    "\n",
    "deoksugung.head()"
   ]
  },
  {
   "cell_type": "code",
   "execution_count": 3,
   "metadata": {},
   "outputs": [
    {
     "data": {
      "text/plain": [
       "array([4., 5., 3., 2.])"
      ]
     },
     "execution_count": 3,
     "metadata": {},
     "output_type": "execute_result"
    }
   ],
   "source": [
    "# 별점에 따라 쪼개기기\n",
    "deoksugung[\"star_point\"].unique()"
   ]
  },
  {
   "cell_type": "code",
   "execution_count": 4,
   "metadata": {},
   "outputs": [
    {
     "data": {
      "text/html": [
       "<div>\n",
       "<style scoped>\n",
       "    .dataframe tbody tr th:only-of-type {\n",
       "        vertical-align: middle;\n",
       "    }\n",
       "\n",
       "    .dataframe tbody tr th {\n",
       "        vertical-align: top;\n",
       "    }\n",
       "\n",
       "    .dataframe thead th {\n",
       "        text-align: right;\n",
       "    }\n",
       "</style>\n",
       "<table border=\"1\" class=\"dataframe\">\n",
       "  <thead>\n",
       "    <tr style=\"text-align: right;\">\n",
       "      <th></th>\n",
       "      <th>star_point</th>\n",
       "      <th>title</th>\n",
       "      <th>text</th>\n",
       "      <th>Date of experience</th>\n",
       "    </tr>\n",
       "  </thead>\n",
       "  <tbody>\n",
       "    <tr>\n",
       "      <th>0</th>\n",
       "      <td>4.0</td>\n",
       "      <td>Small City Palace, Great for Visit if one is s...</td>\n",
       "      <td>A small palace compared to that of Gyeongbukgu...</td>\n",
       "      <td>November 2019</td>\n",
       "    </tr>\n",
       "    <tr>\n",
       "      <th>6</th>\n",
       "      <td>4.0</td>\n",
       "      <td>Changing of the guard</td>\n",
       "      <td>I've been here a few times over the years and ...</td>\n",
       "      <td>November 2019</td>\n",
       "    </tr>\n",
       "    <tr>\n",
       "      <th>8</th>\n",
       "      <td>4.0</td>\n",
       "      <td>Changing of the guards</td>\n",
       "      <td>This is a much smaller palace as compared to t...</td>\n",
       "      <td>April 2019</td>\n",
       "    </tr>\n",
       "    <tr>\n",
       "      <th>10</th>\n",
       "      <td>4.0</td>\n",
       "      <td>Lovely autumn colours</td>\n",
       "      <td>Deoksugung is right at City Hall Station. I we...</td>\n",
       "      <td>November 2019</td>\n",
       "    </tr>\n",
       "    <tr>\n",
       "      <th>11</th>\n",
       "      <td>4.0</td>\n",
       "      <td>Great palace to visit at night</td>\n",
       "      <td>Deoksugung is the only palace open at night an...</td>\n",
       "      <td>September 2019</td>\n",
       "    </tr>\n",
       "  </tbody>\n",
       "</table>\n",
       "</div>"
      ],
      "text/plain": [
       "    star_point                                              title  \\\n",
       "0          4.0  Small City Palace, Great for Visit if one is s...   \n",
       "6          4.0                             Changing of the guard    \n",
       "8          4.0                             Changing of the guards   \n",
       "10         4.0                              Lovely autumn colours   \n",
       "11         4.0                     Great palace to visit at night   \n",
       "\n",
       "                                                 text Date of experience  \n",
       "0   A small palace compared to that of Gyeongbukgu...      November 2019  \n",
       "6   I've been here a few times over the years and ...      November 2019  \n",
       "8   This is a much smaller palace as compared to t...         April 2019  \n",
       "10  Deoksugung is right at City Hall Station. I we...      November 2019  \n",
       "11  Deoksugung is the only palace open at night an...     September 2019  "
      ]
     },
     "execution_count": 4,
     "metadata": {},
     "output_type": "execute_result"
    }
   ],
   "source": [
    "deoksugung_4 = deoksugung[deoksugung[\"star_point\"]==4]\n",
    "deoksugung_4.head()"
   ]
  },
  {
   "cell_type": "code",
   "execution_count": 53,
   "metadata": {},
   "outputs": [
    {
     "name": "stdout",
     "output_type": "stream",
     "text": [
      "2      we ventured here for the free rental of hanbok, and the changing of guards performance:  changing o\n",
      "3      deoksugung  palace was used by the king when he was in exile during the japanese invasion of 1592. \n",
      "4      a small palace compared to that of gyeongbukgung and changdeokgung. this palace is perfect for thos\n",
      "5      this is probably one of my most favorite palace in seoul, definitely in the top three. it seems lik\n"
     ]
    }
   ],
   "source": [
    "import codecs\n",
    "\n",
    "deoksugung_2345 = []\n",
    "for num in range(2,5+1):\n",
    "    deoksugung_n = deoksugung[deoksugung[\"star_point\"]==num]\n",
    "    deoksugung_n_text =''\n",
    "    for text in deoksugung_n['text']:\n",
    "        \n",
    "        deoksugung_n_text += (\" \" + text)\n",
    "    ##다 소문자로 만들자. 컴퓨터는 The와 the가 다른 걸 모른다...\n",
    "    result = deoksugung_n_text.lower()\n",
    "    print(str (num) + \"     \" + result[:100])\n",
    "    deoksugung_2345.append(result)\n",
    "    f = codecs.open(path+'Deoksugung_%d.txt' % num , 'w', 'utf-8')\n",
    "    f.write(result)\n",
    "    f.close()"
   ]
  },
  {
   "cell_type": "code",
   "execution_count": 6,
   "metadata": {},
   "outputs": [],
   "source": [
    "#토크 나이징\n",
    "#text로 간단하게 빈도 수 세기\n",
    "text_2345 = []\n",
    "for text in deoksugung_2345:\n",
    "    token_n = retokenize.tokenize(text)\n",
    "    text_n = Text(token_n)\n",
    "    text_2345.append(text_n)"
   ]
  },
  {
   "cell_type": "code",
   "execution_count": 7,
   "metadata": {},
   "outputs": [
    {
     "data": {
      "text/plain": [
       "[<Text: we ventured here for the free rental of...>,\n",
       " <Text: deoksugung palace was used by the king when...>,\n",
       " <Text: a small palace compared to that of gyeongbukgung...>,\n",
       " <Text: this is probably one of my most favorite...>]"
      ]
     },
     "execution_count": 7,
     "metadata": {},
     "output_type": "execute_result"
    }
   ],
   "source": [
    "text_2345"
   ]
  },
  {
   "cell_type": "code",
   "execution_count": 8,
   "metadata": {},
   "outputs": [
    {
     "data": {
      "image/png": "[encoded data removed]",
      "text/plain": [
       "<Figure size 432x288 with 1 Axes>"
      ]
     },
     "metadata": {
      "needs_background": "light"
     },
     "output_type": "display_data"
    }
   ],
   "source": [
    "text_2345[2 -1].plot(20)\n",
    "plt.show()"
   ]
  },
  {
   "cell_type": "markdown",
   "metadata": {},
   "source": [
    "보면 알겠지만 the and 따위가 너무 많이 나온다.\n",
    "불용어 = 쓸모 없는 단어 사전을 불러온다\n",
    "NLTK랑 별도로 미리 다운로드 해둬야 한다.\n",
    "http://www.nltk.org/data.html 참조"
   ]
  },
  {
   "cell_type": "code",
   "execution_count": 9,
   "metadata": {},
   "outputs": [
    {
     "data": {
      "text/plain": [
       "{\"'s\",\n",
       " ',',\n",
       " '.',\n",
       " 'a',\n",
       " 'about',\n",
       " 'above',\n",
       " 'after',\n",
       " 'again',\n",
       " 'against',\n",
       " 'ain',\n",
       " 'all',\n",
       " 'am',\n",
       " 'an',\n",
       " 'and',\n",
       " 'any',\n",
       " 'are',\n",
       " 'aren',\n",
       " \"aren't\",\n",
       " 'as',\n",
       " 'at',\n",
       " 'be',\n",
       " 'because',\n",
       " 'been',\n",
       " 'before',\n",
       " 'being',\n",
       " 'below',\n",
       " 'between',\n",
       " 'both',\n",
       " 'but',\n",
       " 'by',\n",
       " 'can',\n",
       " 'couldn',\n",
       " \"couldn't\",\n",
       " 'd',\n",
       " 'did',\n",
       " 'didn',\n",
       " \"didn't\",\n",
       " 'do',\n",
       " 'does',\n",
       " 'doesn',\n",
       " \"doesn't\",\n",
       " 'doing',\n",
       " 'don',\n",
       " \"don't\",\n",
       " 'down',\n",
       " 'during',\n",
       " 'each',\n",
       " 'few',\n",
       " 'for',\n",
       " 'from',\n",
       " 'further',\n",
       " 'had',\n",
       " 'hadn',\n",
       " \"hadn't\",\n",
       " 'has',\n",
       " 'hasn',\n",
       " \"hasn't\",\n",
       " 'have',\n",
       " 'haven',\n",
       " \"haven't\",\n",
       " 'having',\n",
       " 'he',\n",
       " 'her',\n",
       " 'here',\n",
       " 'hers',\n",
       " 'herself',\n",
       " 'him',\n",
       " 'himself',\n",
       " 'his',\n",
       " 'how',\n",
       " 'i',\n",
       " 'if',\n",
       " 'in',\n",
       " 'into',\n",
       " 'is',\n",
       " 'isn',\n",
       " \"isn't\",\n",
       " 'it',\n",
       " \"it's\",\n",
       " 'its',\n",
       " 'itself',\n",
       " 'just',\n",
       " 'll',\n",
       " 'm',\n",
       " 'ma',\n",
       " 'me',\n",
       " 'mightn',\n",
       " \"mightn't\",\n",
       " 'more',\n",
       " 'most',\n",
       " 'mustn',\n",
       " \"mustn't\",\n",
       " 'my',\n",
       " 'myself',\n",
       " 'needn',\n",
       " \"needn't\",\n",
       " 'no',\n",
       " 'nor',\n",
       " 'not',\n",
       " 'now',\n",
       " 'o',\n",
       " 'of',\n",
       " 'off',\n",
       " 'on',\n",
       " 'once',\n",
       " 'only',\n",
       " 'or',\n",
       " 'other',\n",
       " 'our',\n",
       " 'ours',\n",
       " 'ourselves',\n",
       " 'out',\n",
       " 'over',\n",
       " 'own',\n",
       " 're',\n",
       " 's',\n",
       " 'same',\n",
       " 'shan',\n",
       " \"shan't\",\n",
       " 'she',\n",
       " \"she's\",\n",
       " 'should',\n",
       " \"should've\",\n",
       " 'shouldn',\n",
       " \"shouldn't\",\n",
       " 'so',\n",
       " 'some',\n",
       " 'such',\n",
       " 't',\n",
       " 'than',\n",
       " 'that',\n",
       " \"that'll\",\n",
       " 'the',\n",
       " 'their',\n",
       " 'theirs',\n",
       " 'them',\n",
       " 'themselves',\n",
       " 'then',\n",
       " 'there',\n",
       " 'these',\n",
       " 'they',\n",
       " 'this',\n",
       " 'those',\n",
       " 'through',\n",
       " 'to',\n",
       " 'too',\n",
       " 'under',\n",
       " 'until',\n",
       " 'up',\n",
       " 've',\n",
       " 'very',\n",
       " 'was',\n",
       " 'wasn',\n",
       " \"wasn't\",\n",
       " 'we',\n",
       " 'were',\n",
       " 'weren',\n",
       " \"weren't\",\n",
       " 'what',\n",
       " 'when',\n",
       " 'where',\n",
       " 'which',\n",
       " 'while',\n",
       " 'who',\n",
       " 'whom',\n",
       " 'why',\n",
       " 'will',\n",
       " 'with',\n",
       " 'won',\n",
       " \"won't\",\n",
       " 'wouldn',\n",
       " \"wouldn't\",\n",
       " 'y',\n",
       " 'you',\n",
       " \"you'd\",\n",
       " \"you'll\",\n",
       " \"you're\",\n",
       " \"you've\",\n",
       " 'your',\n",
       " 'yours',\n",
       " 'yourself',\n",
       " 'yourselves'}"
      ]
     },
     "execution_count": 9,
     "metadata": {},
     "output_type": "execute_result"
    }
   ],
   "source": [
    "stop_words = set(stopwords.words('english')) \n",
    "stop_words|set(['.', ',', 'the', \"'s\"])"
   ]
  },
  {
   "cell_type": "markdown",
   "metadata": {},
   "source": [
    "그리고 동사나 여러 친구들도 원형으로 복원하기 위해서...\n",
    "sentoken으로 문장으로 나눠주고\n",
    "pos_tag로 각 단어의 품사를 찾고\n",
    "lm을 써서 원형으로 복원한다"
   ]
  },
  {
   "cell_type": "code",
   "execution_count": 10,
   "metadata": {},
   "outputs": [],
   "source": [
    "test_text = 'We ventured here for the free rental of Hanbok, and the changing of guards performance:  Changing of Guards ceremony Closed on Mondays.  We queued for the Hanbok, as the sign stated that the counter will be opened at'"
   ]
  },
  {
   "cell_type": "code",
   "execution_count": 11,
   "metadata": {},
   "outputs": [],
   "source": [
    "def root_tokens(test_text):\n",
    "    sentences = sentoken(test_text)\n",
    "    result = []\n",
    "    for sentence in sentences:\n",
    "        test_words = retokenize.tokenize(sentence)\n",
    "        tagged_tokens = pos_tag(test_words, tagset='universal')\n",
    "        for (token, tag) in tagged_tokens:\n",
    "            if token not in stop_words:\n",
    "                try:\n",
    "                    root = lm.lemmatize(lm, word = token, pos = tag)\n",
    "                except KeyError:\n",
    "                    root = token\n",
    "                result.append(root)\n",
    "    return result"
   ]
  },
  {
   "cell_type": "code",
   "execution_count": 12,
   "metadata": {},
   "outputs": [],
   "source": [
    "root_tokens_2345 = []\n",
    "root_text_2345 = []\n",
    "for reviews_n in deoksugung_2345:\n",
    "    root_tokens_n = root_tokens(reviews_n)\n",
    "    root_text_n = Text(root_tokens_n)\n",
    "    \n",
    "    root_tokens_2345.append(root_tokens_n)\n",
    "    root_text_2345.append(root_text_n)"
   ]
  },
  {
   "cell_type": "code",
   "execution_count": 13,
   "metadata": {},
   "outputs": [
    {
     "data": {
      "image/png": "[encoded data removed]",
      "text/plain": [
       "<Figure size 432x288 with 1 Axes>"
      ]
     },
     "metadata": {
      "needs_background": "light"
     },
     "output_type": "display_data"
    }
   ],
   "source": [
    "root_text_5 = root_text_2345[5 -2]\n",
    "#빈도순 그래프를 보여준다\n",
    "root_text_5.plot(30)\n",
    "plt.show()"
   ]
  },
  {
   "cell_type": "markdown",
   "metadata": {},
   "source": [
    "어간 추출을 했음에도... 단수와 복수는 구분한다. 생각해보면 사람 한 명과 여러 사람은 다르니까. 엄격히 따지면 맞는 말이다.\n",
    "\n",
    "그러면 어떤 기준으로 동의어를 구분해야 할까?"
   ]
  },
  {
   "cell_type": "code",
   "execution_count": 14,
   "metadata": {},
   "outputs": [
    {
     "name": "stdout",
     "output_type": "stream",
     "text": [
      "Displaying 18 of 18 matches:\n",
      "so has a lot of dynamic i visited 2 palaces deoksugung gyeongbokgung during my \n",
      "l scenery this was the last of four palaces that we visited while in seoul and \n",
      "ok deoksugung is one of the 5 royal palaces in seoul it is covered by the royal\n",
      "l palace compared to the other main palaces but i think one of the nicer and mo\n",
      "considered one among the five grand palaces of joseon dynasty located near the \n",
      "y i seriously fell in love with the palaces in seoul this one is definitely def\n",
      "it s pretty small compared to other palaces it s still beautiful one of the bui\n",
      "ot just as a spectator unlike other palaces you can also enter the palace groun\n",
      " it although smaller than the other palaces this place is packed with charm the\n",
      "t is the smallest of the five royal palaces in korea the palace building is a b\n",
      "visit because you see many types of palaces in one place i recommend it to ever\n",
      " would be a much better of the five palaces in the heart of seoul the deoksugun\n",
      "istory this is just one of the many palaces to visit the recent goblin drama wa\n",
      " refreshing and some of the temples palaces are dating back two centuries ago t\n",
      "ared to the other well known korean palaces like gyeongbukgung or changdeokgung\n",
      " and avoided the nice collection of palaces both ancient and modern eastern and\n",
      "stern quite small compared to other palaces but well worth visiting as so uniqu\n",
      "sugung palace is smaller than other palaces but it attracted me more cause i co\n"
     ]
    }
   ],
   "source": [
    "#별점 5점인 리뷰들\n",
    "deoksugung_text_5 = Text(retokenize.tokenize(deoksugung_2345[5 -2]))\n",
    "#단어가 쓰인 문맥을 보여준다\n",
    "deoksugung_text_5.concordance(\"palaces\")"
   ]
  },
  {
   "cell_type": "markdown",
   "metadata": {},
   "source": [
    "문맥을 보면 palaces는 덕수궁을 다른 궁궐과 비교할 때 많이 쓰는 모양이다. 이를 수학적으로 보여주는 함수도 있다."
   ]
  },
  {
   "cell_type": "code",
   "execution_count": 15,
   "metadata": {},
   "outputs": [
    {
     "data": {
      "text/plain": [
       "['gate',\n",
       " 'place',\n",
       " 'guard',\n",
       " 'deoksugung',\n",
       " 'park',\n",
       " 'walk',\n",
       " 'vibe',\n",
       " 'one',\n",
       " 'visit',\n",
       " 'is',\n",
       " 'past',\n",
       " 'subway',\n",
       " 'nicer',\n",
       " 'buildings',\n",
       " 'morning',\n",
       " 'old',\n",
       " 'grounds',\n",
       " 'entire',\n",
       " 'sprawling',\n",
       " 'site']"
      ]
     },
     "execution_count": 15,
     "metadata": {},
     "output_type": "execute_result"
    }
   ],
   "source": [
    "#similar함수는 언어학적으로 주변 문맥을 탐색해서 비슷하게 쓰인 동의어를 찾아준다.\n",
    "# palace의 동의어는 place 뿐이다.\n",
    "context_5 = nltk.text.ContextIndex(deoksugung_text_5)"
   ]
  },
  {
   "cell_type": "code",
   "execution_count": 34,
   "metadata": {},
   "outputs": [
    {
     "data": {
      "text/plain": [
       "['gate',\n",
       " 'place',\n",
       " 'guard',\n",
       " 'deoksugung',\n",
       " 'park',\n",
       " 'walk',\n",
       " 'vibe',\n",
       " 'one',\n",
       " 'visit',\n",
       " 'is',\n",
       " 'past',\n",
       " 'subway',\n",
       " 'nicer',\n",
       " 'buildings',\n",
       " 'morning',\n",
       " 'old',\n",
       " 'grounds',\n",
       " 'entire',\n",
       " 'sprawling',\n",
       " 'site']"
      ]
     },
     "execution_count": 34,
     "metadata": {},
     "output_type": "execute_result"
    }
   ],
   "source": [
    "context_5.similar_words(\"palace\")"
   ]
  },
  {
   "cell_type": "code",
   "execution_count": 16,
   "metadata": {},
   "outputs": [
    {
     "data": {
      "text/plain": [
       "['palace',\n",
       " 'guards',\n",
       " 'gate',\n",
       " 'deoksugung',\n",
       " 'park',\n",
       " 'walk',\n",
       " 'vibe',\n",
       " 'best',\n",
       " 'afternoon',\n",
       " 'mmca',\n",
       " 'the']"
      ]
     },
     "execution_count": 16,
     "metadata": {},
     "output_type": "execute_result"
    }
   ],
   "source": [
    "#반면에 경비병과 경비병들은 동의어로 나온다. 믿을만하다.\n",
    "context_5.similar_words(\"guard\")"
   ]
  },
  {
   "cell_type": "code",
   "execution_count": 17,
   "metadata": {},
   "outputs": [
    {
     "data": {
      "text/plain": [
       "[('palace', 83),\n",
       " ('visit', 24),\n",
       " ('seoul', 22),\n",
       " ('changing', 21),\n",
       " ('buildings', 20),\n",
       " ('one', 18),\n",
       " ('palaces', 18),\n",
       " ('deoksugung', 18),\n",
       " ('ceremony', 16),\n",
       " ('place', 15),\n",
       " ('guard', 15),\n",
       " ('city', 14),\n",
       " ('tour', 12),\n",
       " ('good', 12),\n",
       " ('grounds', 11),\n",
       " ('guards', 11),\n",
       " ('hall', 10),\n",
       " ('korean', 10),\n",
       " ('well', 10),\n",
       " ('beautiful', 10)]"
      ]
     },
     "execution_count": 17,
     "metadata": {},
     "output_type": "execute_result"
    }
   ],
   "source": [
    "#빈도의 리스트도 필요하다.\n",
    "fd_5 = root_text_5.vocab()\n",
    "fd_5.most_common(20)"
   ]
  },
  {
   "cell_type": "code",
   "execution_count": 18,
   "metadata": {},
   "outputs": [
    {
     "data": {
      "text/plain": [
       "3"
      ]
     },
     "execution_count": 18,
     "metadata": {},
     "output_type": "execute_result"
    }
   ],
   "source": [
    "fd2 = nltk.FreqDist()\n",
    "fd2['taehee'] = 2\n",
    "fd2['taehee'] += 1\n",
    "fd2['taehee']"
   ]
  },
  {
   "cell_type": "code",
   "execution_count": 19,
   "metadata": {},
   "outputs": [
    {
     "data": {
      "text/plain": [
       "[('rabbit', 2)]"
      ]
     },
     "execution_count": 19,
     "metadata": {},
     "output_type": "execute_result"
    }
   ],
   "source": [
    "test_rabbit = [('taehee',3),('rabbit',2)]\n",
    "test_rabbit.remove(('taehee',3))\n",
    "test_rabbit"
   ]
  },
  {
   "cell_type": "code",
   "execution_count": 20,
   "metadata": {},
   "outputs": [],
   "source": [
    "#동의어를 합쳐준다.\n",
    "def find_synonym_groups(context, fd):\n",
    "    result = []\n",
    "    all_words = fd.most_common()\n",
    "    all_dict = dict(all_words)\n",
    "    for (word, times) in all_words:                \n",
    "        try:\n",
    "            synonyms = context.similar_words(word)\n",
    "            new_word = [word]\n",
    "            for synonym in synonyms:\n",
    "                new_word.append(synonym)\n",
    "                synonym_times = all_dict[synonym]\n",
    "                try:\n",
    "                    all_words.remove((synonym, synonym_times))\n",
    "                except ValueError:\n",
    "                    continue\n",
    "                except KeyError:\n",
    "                    continue\n",
    "                    \n",
    "            result.append(new_word)\n",
    "            \n",
    "        except TypeError:\n",
    "            result.append(word)\n",
    "        except KeyError:\n",
    "            continue\n",
    "            \n",
    "    return result"
   ]
  },
  {
   "cell_type": "code",
   "execution_count": 21,
   "metadata": {},
   "outputs": [],
   "source": [
    "synonym_groups_5 = find_synonym_groups(context_5, fd_5)"
   ]
  },
  {
   "cell_type": "code",
   "execution_count": 36,
   "metadata": {},
   "outputs": [
    {
     "data": {
      "text/plain": [
       "[['changing',\n",
       "  'middle',\n",
       "  'end',\n",
       "  'walls',\n",
       "  'heart',\n",
       "  'center',\n",
       "  'last',\n",
       "  'uses',\n",
       "  'pressure',\n",
       "  'name',\n",
       "  'intersection',\n",
       "  'uniqueness',\n",
       "  'smallest',\n",
       "  'front',\n",
       "  'inside',\n",
       "  'home',\n",
       "  'king',\n",
       "  'intent',\n",
       "  'two',\n",
       "  'mix',\n",
       "  'change'],\n",
       " ['buildings',\n",
       "  'grounds',\n",
       "  'palace',\n",
       "  'lawns',\n",
       "  'trees',\n",
       "  'subway',\n",
       "  'nicer',\n",
       "  'past',\n",
       "  'morning',\n",
       "  'old',\n",
       "  'site'],\n",
       " ['city']]"
      ]
     },
     "execution_count": 36,
     "metadata": {},
     "output_type": "execute_result"
    }
   ],
   "source": [
    "synonym_groups_5[:3]"
   ]
  },
  {
   "cell_type": "code",
   "execution_count": 23,
   "metadata": {},
   "outputs": [],
   "source": [
    "from wordcloud import (WordCloud, get_single_color_func)\n",
    "\n",
    "# 아래 두 함수는 저도 복붙해온 것이니 이해하려 하지 마십시오오\n",
    "\n",
    "class SimpleGroupedColorFunc(object):\n",
    "    def __init__(self, color_to_words, default_color):\n",
    "        self.word_to_color = {word: color\n",
    "                              for (color, words) in color_to_words.items()\n",
    "                              for word in words}\n",
    "\n",
    "        self.default_color = default_color\n",
    "\n",
    "    def __call__(self, word, **kwargs):\n",
    "        return self.word_to_color.get(word, self.default_color)\n",
    "\n",
    "class GroupedColorFunc(object):\n",
    "\n",
    "    def __init__(self, color_to_words, default_color):\n",
    "        self.color_func_to_words = [\n",
    "            (get_single_color_func(color), set(words))\n",
    "            for (color, words) in color_to_words.items()]\n",
    "\n",
    "        self.default_color_func = get_single_color_func(default_color)\n",
    "\n",
    "    def get_color_func(self, word):\n",
    "        \"\"\"Returns a single_color_func associated with the word\"\"\"\n",
    "        try:\n",
    "            color_func = next(\n",
    "                color_func for (color_func, words) in self.color_func_to_words\n",
    "                if word in words)\n",
    "        except StopIteration:\n",
    "            color_func = self.default_color_func\n",
    "        return color_func\n",
    "\n",
    "    def __call__(self, word, **kwargs):\n",
    "        return self.get_color_func(word)(word, **kwargs)"
   ]
  },
  {
   "cell_type": "code",
   "execution_count": 24,
   "metadata": {},
   "outputs": [],
   "source": [
    "from random import randint\n",
    "def random_color_to_groups(groups):\n",
    "    result = {}\n",
    "    for n, group in enumerate(groups):\n",
    "        \n",
    "        red_value = randint(100,255)\n",
    "        green_value = randint(0,255 - int(red_value/2))\n",
    "        blue_value = randint(0,255 - int((red_value+green_value)/2))\n",
    "    \n",
    "        rgb = [red_value,green_value,blue_value]\n",
    "        rgb_color = \"#\"\n",
    "        for color in rgb:\n",
    "            if color < 16:\n",
    "                rgb_color += \"0\"+hex(color)[-1]\n",
    "            else:\n",
    "                rgb_color += hex(color)[-2:]\n",
    "        result[rgb_color] = group\n",
    "    return result"
   ]
  },
  {
   "cell_type": "code",
   "execution_count": 55,
   "metadata": {},
   "outputs": [],
   "source": [
    "import numpy as np\n",
    "from PIL import Image\n",
    "import os\n",
    "\n",
    "mask_palace = np.array(Image.open(\"C:/Users/taehee/Pictures/palace3.png\"))"
   ]
  },
  {
   "cell_type": "code",
   "execution_count": 77,
   "metadata": {},
   "outputs": [
    {
     "data": {
      "text/plain": [
       "<wordcloud.wordcloud.WordCloud at 0x2b6b967e748>"
      ]
     },
     "execution_count": 77,
     "metadata": {},
     "output_type": "execute_result"
    }
   ],
   "source": [
    "wc_mask = WordCloud(background_color=\"white\", max_words=500, mask = mask_palace, contour_width=2, contour_color='#ff9933', width=500, height=500)\n",
    "wc = WordCloud(background_color=\"white\", max_words=500, contour_width=2, contour_color='#ff9933', width=500, height=500)\n",
    "\n",
    "default_color = 'grey'\n",
    "wc.generate_from_frequencies(fd_5)\n",
    "grouped_color_func = GroupedColorFunc(random_color_to_groups(synonym_groups_5), default_color)\n",
    "wc.recolor(color_func=grouped_color_func)"
   ]
  },
  {
   "cell_type": "code",
   "execution_count": 78,
   "metadata": {},
   "outputs": [
    {
     "data": {
      "image/png": "[encoded data removed]",
      "text/plain": [
       "<Figure size 432x288 with 1 Axes>"
      ]
     },
     "metadata": {
      "needs_background": "light"
     },
     "output_type": "display_data"
    }
   ],
   "source": [
    "plt.figure()\n",
    "plt.imshow(wc, interpolation='bilinear')\n",
    "plt.axis(\"off\")\n",
    "plt.show()"
   ]
  },
  {
   "cell_type": "code",
   "execution_count": 28,
   "metadata": {},
   "outputs": [],
   "source": [
    "def give_me_all(original_tokens):\n",
    "    result_text = []\n",
    "    result_context = []\n",
    "    result_fd = []\n",
    "    result_synonym_groups = []\n",
    "    for tokens_n in original_tokens:\n",
    "        text_n = Text(tokens_n)\n",
    "        context_n = nltk.text.ContextIndex(tokens_n)\n",
    "        fd_n = text_n.vocab() \n",
    "        synonym_groups_n = find_synonym_groups(context_n, fd_n)\n",
    "        \n",
    "        result_text.append(text_n)\n",
    "        result_context.append(context_n)\n",
    "        result_fd.append(fd_n)\n",
    "        result_synonym_groups.append(synonym_groups_n)\n",
    "        \n",
    "        return result_text, result_context, result_fd, result_synonym_groups"
   ]
  },
  {
   "cell_type": "code",
   "execution_count": null,
   "metadata": {},
   "outputs": [],
   "source": [
    "#각 텍스트 빈도 fd에서\n",
    "#각 단어 빈도수를 모두 더하고, 빈도수에 별점을 곱해서 합한 값을 나눠준 평균 별점을 단어별로 구한다.\n",
    "#단어 - 평균별점이 대응하는 딕셔너리를 반환\n",
    "\n",
    "def avg_star(text_2345):\n",
    "    result_times = {}\n",
    "    result_sum_star = {}\n",
    "    for num, text_n in enumerate(text_2345):\n",
    "        fd_n = text_n.vocab()\n",
    "        for (token, times) in fd_n.most_common():\n",
    "            result_times[token] += times\n",
    "            result_sum_star[token] += times * (num +2)\n",
    "            \n",
    "    result = {}\n",
    "    for key in result_times.keys():\n",
    "        result[key] = result_sum_star[key] / result_times[key]\n",
    "        \n",
    "    return result, result_times\n",
    "\n",
    "리팩토링...\n",
    "\n"
   ]
  }
 ],
 "metadata": {
  "kernelspec": {
   "display_name": "Python 3",
   "language": "python",
   "name": "python3"
  },
  "language_info": {
   "codemirror_mode": {
    "name": "ipython",
    "version": 3
   },
   "file_extension": ".py",
   "mimetype": "text/x-python",
   "name": "python",
   "nbconvert_exporter": "python",
   "pygments_lexer": "ipython3",
   "version": "3.7.1"
  }
 },
 "nbformat": 4,
 "nbformat_minor": 2
}
