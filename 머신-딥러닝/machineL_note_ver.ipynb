{
 "cells": [
  {
   "cell_type": "code",
   "execution_count": 2,
   "metadata": {},
   "outputs": [],
   "source": [
    "from sklearn.pipeline import Pipeline\n",
    "from sklearn.linear_model import LogisticRegression\n",
    "from sklearn.feature_extraction.text import TfidfVectorizer\n",
    "from sklearn.metrics import accuracy_score\n",
    "import pickle\n",
    "import os\n",
    "from time import time\n",
    "import pandas as pd\n",
    "import numpy as np\n",
    "from mylib.tokenizer import tokenizer, tokenizer_porter\n",
    "import nltk\n",
    "\n",
    "github_path = 'C:/Users/taehee/Documents/GitHub/tripReviewAnalysisSystem/'\n",
    "#engine='python' 을 넣어줘야 판다스가 한국어로 된 폴더명을 인식한다.\n",
    "\n",
    "from sklearn.pipeline import Pipeline\n",
    "from sklearn.linear_model import LogisticRegression\n",
    "from sklearn.feature_extraction.text import TfidfVectorizer\n",
    "from sklearn.metrics import accuracy_score\n",
    "from sklearn.model_selection import train_test_split\n"
   ]
  },
  {
   "cell_type": "code",
   "execution_count": 3,
   "metadata": {},
   "outputs": [],
   "source": [
    "def model_tfidf(df, train_size, c_value):\n",
    "    '''\n",
    "    입력 : text와 sentiment가 포함된 리뷰들의 데이터 프레임\n",
    "    출력 : 훈련이 끝난 분류기와 정확도를 리턴.\n",
    "    '''\n",
    "\n",
    "    X = df.loc[:, 'text'].values\n",
    "    y = df.loc[:, 'sentiment'].values\n",
    "\n",
    "    X_train, X_test, y_train, y_test = train_test_split(X, y,\n",
    "                                                        test_size=1 - train_size,\n",
    "                                                        random_state=14,\n",
    "                                                        stratify=y)\n",
    "\n",
    "    tfidf = TfidfVectorizer(lowercase=False, tokenizer=tokenizer)\n",
    "    Ir_tfidf = Pipeline([('vect', tfidf), ('clf', LogisticRegression(C=c_value, penalty='l2', random_state=0, solver='liblinear'))])\n",
    "\n",
    "    Ir_tfidf.fit(X_train, y_train)\n",
    "    y_pred = Ir_tfidf.predict(X_test)\n",
    "    test_accuracy = accuracy_score(y_test, y_pred)\n",
    "    print('정확도: %.3f' % test_accuracy)\n",
    "\n",
    "    return Ir_tfidf, test_accuracy\n",
    "\n"
   ]
  },
  {
   "cell_type": "code",
   "execution_count": 4,
   "metadata": {},
   "outputs": [],
   "source": [
    "def all_reviews(github_path, file_list, size):\n",
    "    result = pd.read_csv(github_path + '크롤러-전처리/원시자료/' + file_list[0], encoding='utf-8', engine='python', index_col=0)\n",
    "    stime = time()\n",
    "    print('데이터 로딩 start')\n",
    "\n",
    "    for file_path in file_list[:size]:\n",
    "        new_data = pd.read_csv(github_path + '크롤러-전처리/원시자료/' + file_path, encoding='utf-8', engine='python',\n",
    "                               index_col=0)\n",
    "        # 새 데이터를 리스트로 합쳐서 concat시키면 행이 계속 추가 된다.\n",
    "        # ignore_index로 기존 인덱스를  무시하고 합친 결과를 다시 인덱스해준다. 이거 안 하면 index must be monotonic increasing or decreasing 에러가 뜰 것이다.\n",
    "        result = pd.concat([result, new_data], ignore_index=True, sort=False)\n",
    "\n",
    "    print('데이터 로딩 종료: 소요시간 [%d]초' % (time() - stime))\n",
    "\n",
    "    result['sentiment'] = np.where(result.star_point > 3, '1', '0')\n",
    "\n",
    "    return result"
   ]
  },
  {
   "cell_type": "code",
   "execution_count": 5,
   "metadata": {},
   "outputs": [
    {
     "name": "stdout",
     "output_type": "stream",
     "text": [
      "file_list: ['63 City.txt', 'Alive Museum Insadong.txt', 'Amore Pacific Museum of Art.txt', 'An Jung-geun Memorial Hall.txt', 'Ansan Jarak-gil.txt', 'apm Place.txt', 'Arario Museum in Space.txt', \"Baek In-je's House.txt\", 'Banpodaegyo Bridge.txt', 'Bongeunsa Temple.txt']\n"
     ]
    },
    {
     "data": {
      "text/html": [
       "<div>\n",
       "<style scoped>\n",
       "    .dataframe tbody tr th:only-of-type {\n",
       "        vertical-align: middle;\n",
       "    }\n",
       "\n",
       "    .dataframe tbody tr th {\n",
       "        vertical-align: top;\n",
       "    }\n",
       "\n",
       "    .dataframe thead th {\n",
       "        text-align: right;\n",
       "    }\n",
       "</style>\n",
       "<table border=\"1\" class=\"dataframe\">\n",
       "  <thead>\n",
       "    <tr style=\"text-align: right;\">\n",
       "      <th></th>\n",
       "      <th>Unnamed: 0</th>\n",
       "      <th>star_point</th>\n",
       "      <th>title</th>\n",
       "      <th>text</th>\n",
       "      <th>Date of experience</th>\n",
       "    </tr>\n",
       "  </thead>\n",
       "  <tbody>\n",
       "    <tr>\n",
       "      <th>0</th>\n",
       "      <td>0</td>\n",
       "      <td>3.0</td>\n",
       "      <td>nothing special</td>\n",
       "      <td>just a tall building in a residential area. no...</td>\n",
       "      <td>February 2020</td>\n",
       "    </tr>\n",
       "    <tr>\n",
       "      <th>1</th>\n",
       "      <td>1</td>\n",
       "      <td>4.0</td>\n",
       "      <td>City Views</td>\n",
       "      <td>Had lunch on 59th floor, outstanding views of ...</td>\n",
       "      <td>October 2019</td>\n",
       "    </tr>\n",
       "    <tr>\n",
       "      <th>2</th>\n",
       "      <td>2</td>\n",
       "      <td>3.0</td>\n",
       "      <td>Great Views</td>\n",
       "      <td>Stopped by here as it was along my travel plan...</td>\n",
       "      <td>April 2019</td>\n",
       "    </tr>\n",
       "    <tr>\n",
       "      <th>3</th>\n",
       "      <td>3</td>\n",
       "      <td>3.0</td>\n",
       "      <td>Just a tall building</td>\n",
       "      <td>I don't know what I was expecting but this was...</td>\n",
       "      <td>August 2018</td>\n",
       "    </tr>\n",
       "    <tr>\n",
       "      <th>4</th>\n",
       "      <td>4</td>\n",
       "      <td>3.0</td>\n",
       "      <td>63 City</td>\n",
       "      <td>NaN</td>\n",
       "      <td>July 2019</td>\n",
       "    </tr>\n",
       "  </tbody>\n",
       "</table>\n",
       "</div>"
      ],
      "text/plain": [
       "   Unnamed: 0  star_point                 title  \\\n",
       "0           0         3.0       nothing special   \n",
       "1           1         4.0            City Views   \n",
       "2           2         3.0           Great Views   \n",
       "3           3         3.0  Just a tall building   \n",
       "4           4         3.0               63 City   \n",
       "\n",
       "                                                text Date of experience  \n",
       "0  just a tall building in a residential area. no...      February 2020  \n",
       "1  Had lunch on 59th floor, outstanding views of ...       October 2019  \n",
       "2  Stopped by here as it was along my travel plan...         April 2019  \n",
       "3  I don't know what I was expecting but this was...        August 2018  \n",
       "4                                                NaN          July 2019  "
      ]
     },
     "execution_count": 5,
     "metadata": {},
     "output_type": "execute_result"
    }
   ],
   "source": [
    "# 리뷰 리스트 불러오기기\n",
    "file_list = os.listdir(github_path + '크롤러-전처리/원시자료/')\n",
    "\n",
    "print(\"file_list: {}\".format(file_list[:10]))\n",
    "\n",
    "result = pd.read_csv(github_path + '크롤러-전처리/원시자료/' + file_list[0], encoding='utf-8', engine='python')\n",
    "result.head()"
   ]
  },
  {
   "cell_type": "code",
   "execution_count": 13,
   "metadata": {},
   "outputs": [
    {
     "name": "stdout",
     "output_type": "stream",
     "text": [
      "데이터 로딩 start\n",
      "데이터 로딩 종료: 소요시간 [1]초\n"
     ]
    }
   ],
   "source": [
    "data_all = all_reviews(github_path, file_list, len(file_list))"
   ]
  },
  {
   "cell_type": "code",
   "execution_count": 14,
   "metadata": {},
   "outputs": [
    {
     "data": {
      "text/plain": [
       "star_point               0\n",
       "title                    3\n",
       "text                  3657\n",
       "Date of experience       0\n",
       "sentiment                0\n",
       "dtype: int64"
      ]
     },
     "execution_count": 14,
     "metadata": {},
     "output_type": "execute_result"
    }
   ],
   "source": [
    "data_all.isnull().sum()"
   ]
  },
  {
   "cell_type": "code",
   "execution_count": null,
   "metadata": {},
   "outputs": [],
   "source": [
    "model = model_tfidf(data_all, train_size=0.7, c_value=1.0)"
   ]
  }
 ],
 "metadata": {
  "kernelspec": {
   "display_name": "Python 3",
   "language": "python",
   "name": "python3"
  },
  "language_info": {
   "codemirror_mode": {
    "name": "ipython",
    "version": 3
   },
   "file_extension": ".py",
   "mimetype": "text/x-python",
   "name": "python",
   "nbconvert_exporter": "python",
   "pygments_lexer": "ipython3",
   "version": "3.7.1"
  }
 },
 "nbformat": 4,
 "nbformat_minor": 2
}
