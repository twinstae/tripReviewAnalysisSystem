{
 "cells": [
  {
   "cell_type": "code",
   "execution_count": 2,
   "metadata": {},
   "outputs": [],
   "source": [
    "from sklearn.pipeline import Pipeline\n",
    "from sklearn.linear_model import LogisticRegression\n",
    "from sklearn.feature_extraction.text import TfidfVectorizer\n",
    "from sklearn.metrics import accuracy_score\n",
    "import pickle\n",
    "import os\n",
    "from time import time\n",
    "import pandas as pd\n",
    "import numpy as np\n",
    "from mylib.tokenizer import tokenizer, tokenizer_porter\n",
    "import nltk\n",
    "\n",
    "github_path = 'C:/Users/taehee/Documents/GitHub/tripReviewAnalysisSystem/'\n",
    "#engine='python' 을 넣어줘야 판다스가 한국어로 된 폴더명을 인식한다."
   ]
  },
  {
   "cell_type": "code",
   "execution_count": 3,
   "metadata": {},
   "outputs": [],
   "source": [
    "def model_tfidf(df, train_size, c_value):\n",
    "    '''\n",
    "    입력 : text와 sentiment가 포함된 리뷰들의 데이터 프레임\n",
    "    출력 : 훈련이 끝난 분류기와 정확도를 리턴.\n",
    "    '''\n",
    "\n",
    "    X = df.loc[:, 'text'].values\n",
    "    y = df.loc[:, 'sentiment'].values\n",
    "\n",
    "    X_train, X_test, y_train, y_test = train_test_split(X, y,\n",
    "                                                        test_size=1 - train_size,\n",
    "                                                        random_state=14,\n",
    "                                                        stratify=y)\n",
    "\n",
    "    tfidf = TfidfVectorizer(lowercase=False, tokenizer=tokenizer)\n",
    "    Ir_tfidf = Pipeline([('vect', tfidf), ('clf', LogisticRegression(C=c_value, penalty='l2', random_state=0, solver='liblinear'))])\n",
    "\n",
    "    Ir_tfidf.fit(X_train, y_train)\n",
    "    y_pred = Ir_tfidf.predict(X_test)\n",
    "    test_accuracy = accuracy_score(y_test, y_pred)\n",
    "    print('정확도: %.3f' % test_accuracy)\n",
    "\n",
    "    return Ir_tfidf, test_accuracy\n",
    "\n"
   ]
  },
  {
   "cell_type": "code",
   "execution_count": 4,
   "metadata": {},
   "outputs": [],
   "source": [
    "def all_reviews(github_path, file_list, size):\n",
    "    result = pd.read_csv(github_path + '크롤러-전처리/원시자료/' + file_list[0], encoding='utf-8', engine='python', index_col=0)\n",
    "    stime = time()\n",
    "    print('데이터 로딩 start')\n",
    "\n",
    "    for file_path in file_list[:size]:\n",
    "        new_data = pd.read_csv(github_path + '크롤러-전처리/원시자료/' + file_path, encoding='utf-8', engine='python',\n",
    "                               index_col=0)\n",
    "        # 새 데이터를 리스트로 합쳐서 concat시키면 행이 계속 추가 된다.\n",
    "        # ignore_index로 기존 인덱스를  무시하고 합친 결과를 다시 인덱스해준다. 이거 안 하면 index must be monotonic increasing or decreasing 에러가 뜰 것이다.\n",
    "        result = pd.concat([result, new_data], ignore_index=True, sort=False)\n",
    "\n",
    "    print('데이터 로딩 종료: 소요시간 [%d]초' % (time() - stime))\n",
    "\n",
    "    result['sentiment'] = np.where(result.star_point > 3, '1', '0')\n",
    "\n",
    "    return result"
   ]
  },
  {
   "cell_type": "code",
   "execution_count": 16,
   "metadata": {},
   "outputs": [],
   "source": [
    "# 리뷰 리스트 불러오기기\n",
    "file_list = os.listdir(github_path + '크롤러-전처리/원시자료/')"
   ]
  },
  {
   "cell_type": "code",
   "execution_count": 18,
   "metadata": {},
   "outputs": [
    {
     "name": "stdout",
     "output_type": "stream",
     "text": [
      "63 City.txt : 28\n",
      "Alive Museum Insadong.txt : 22\n",
      "An Jung-geun Memorial Hall.txt : 1\n",
      "Ansan Jarak-gil.txt : 3\n",
      "apm Place.txt : 2\n",
      "Arario Museum in Space.txt : 9\n",
      "Baek In-je's House.txt : 9\n",
      "Banpodaegyo Bridge.txt : 1\n",
      "Bongeunsa Temple.txt : 44\n",
      "Bugaksan Seoul Fortress.txt : 11\n",
      "Bukchon Hanok Village.txt : 54\n",
      "Changgyeonggung Palace.txt : 36\n",
      "Cheonggyecheon Stream.txt : 32\n",
      "Cheongwadae Sarangchae.txt : 1\n",
      "Children’s Museum of National Museum of Korea.txt : 1\n",
      "Coex Aquarium.txt : 54\n",
      "COEX Center.txt : 1\n",
      "Culture Station Seoul 284.txt : 13\n",
      "D Museum.txt : 3\n",
      "Daelim Museum.txt : 5\n",
      "Deoksugung.txt : 57\n",
      "Dongdaemun Design Plaza (DDP).txt : 41\n",
      "Dongdaemun Gate (Heunginjimun).txt : 35\n",
      "Dongdaemun History & Culture Park.txt : 13\n",
      "Dongdaemun Seonggwak Park.txt : 2\n",
      "Dongdaemun Shopping Complex.txt : 59\n",
      "Doota.txt : 22\n",
      "Dosan Neighborhood Park.txt : 3\n",
      "Dream Forest.txt : 3\n",
      "Eungbongsan Mountain.txt : 2\n",
      "Ewha Woman's University.txt : 1\n",
      "Ewha Womans University.txt : 47\n",
      "Express Bus Terminal Shopping Center.txt : 1\n",
      "Figure Museum.txt : 2\n",
      "Garak Market.txt : 3\n",
      "Garosu-gil.txt : 45\n",
      "Gilsangsa Shrine.txt : 1\n",
      "Gocheok Sky Dome.txt : 6\n",
      "GOTO Mall.txt : 11\n",
      "Grevin Museum.txt : 19\n",
      "Grilled Fish Street in Dongdaemun Market.txt : 3\n",
      "Gwanghwamun Gate.txt : 36\n",
      "Gwanghwamun Square.txt : 38\n",
      "Gyeonghuigung Palace.txt : 9\n",
      "Gyeongui line forest.txt : 2\n",
      "Haneul Park.txt : 27\n",
      "Hongdae Art Market Free Market.txt : 22\n",
      "Hongdae NANTA Theatre.txt : 1\n",
      "Hongik University Street.txt : 38\n",
      "Hongik University.txt : 2\n",
      "Hyundai Department Store Apgujeong Main.txt : 1\n",
      "I-Park Mall.txt : 8\n",
      "Ice Gallery.txt : 1\n",
      "IFC Mall.txt : 2\n",
      "Ihwa Mural Village.txt : 51\n",
      "Ikseon-dong Hanok Street.txt : 11\n",
      "Inwangsan Mountain.txt : 20\n",
      "Itaewon.txt : 52\n",
      "Jamsil Baseball Stadium.txt : 59\n",
      "Jeoldusan Martyrs' Shrine.txt : 3\n",
      "Jeongdong Observatory.txt : 8\n",
      "Jeongdong Theater.txt : 1\n",
      "Jogyesa Temple.txt : 41\n",
      "Jongmyo Shrine.txt : 56\n",
      "Jungbu Market.txt : 9\n",
      "KBS On.txt : 5\n",
      "Korea Furniture Museum.txt : 2\n",
      "Korea House.txt : 33\n",
      "Korea University.txt : 4\n",
      "Korean Postage Stamp Museum.txt : 3\n",
      "Kukkiwon World Taekwondo Headquarters.txt : 3\n",
      "Kwanghee Fasion Mall.txt : 2\n",
      "Kwangjang Market.txt : 52\n",
      "Leeum Samsung Museum of Art.txt : 62\n",
      "Lotte Department Store Main.txt : 67\n",
      "Lotte FitIn.txt : 7\n",
      "Lotte Outlets Seoul Station.txt : 1\n",
      "Lotte World Aquarium.txt : 17\n",
      "Lotte World Folk Museum.txt : 5\n",
      "Lotte World.txt : 67\n",
      "Lotte Young Plaza Myeongdong.txt : 7\n",
      "Love Museum.txt : 9\n",
      "L’atelier.txt : 2\n",
      "Majang Meat Market.txt : 19\n",
      "Mangwon Market.txt : 4\n",
      "Mario outlet.txt : 4\n",
      "Mecenatpolis Mall.txt : 3\n",
      "Migliore Dongdaemun Shop.txt : 20\n",
      "Museum Kimchikan.txt : 3\n",
      "Myeong-dong Cathedral.txt : 35\n",
      "Myeongdong Underground Shopping Center.txt : 6\n",
      "Naksan Park.txt : 13\n",
      "Naksan Public Art.txt : 6\n",
      "Namdaemun Market.txt : 47\n",
      "Namsan Cable Car.txt : 3\n",
      "Namsangol Hanok Village.txt : 47\n",
      "National Folk Museum of Korea.txt : 39\n",
      "National Hangeul Museum.txt : 8\n",
      "National Museum of Korean Contemporary History.txt : 2\n",
      "National Museum of Modern and Contemporary Art Seoul.txt : 25\n",
      "National Palace Museum of Korea.txt : 32\n",
      "Noryangjin Fisheries Wholesale Market.txt : 79\n",
      "Olympic Park.txt : 42\n",
      "Paradise Casino Walkerhill.txt : 9\n",
      "Poopoo Land.txt : 12\n",
      "Samcheongdong-gil Road.txt : 34\n",
      "Samcheonggak.txt : 11\n",
      "Sebitseom.txt : 4\n",
      "Seocho Tourist Information Center.txt : 4\n",
      "Seodaemun Museum of Natural History.txt : 5\n",
      "Seodaemun Prison History Hall.txt : 47\n",
      "Seokchon Lake.txt : 11\n",
      "Seolleung & Jeongneung Royal Tomb.txt : 22\n",
      "Seonyudo Park.txt : 1\n",
      "Seoul Arts Center.txt : 22\n",
      "Seoul Botanical Garden.txt : 2\n",
      "Seoul Central Mosque.txt : 22\n",
      "Seoul Children's Grand Park.txt : 48\n",
      "Seoul City Hall.txt : 37\n",
      "Seoul City Wall Museum.txt : 6\n",
      "Seoul City Wall.txt : 33\n",
      "Seoul Folk Flea Market.txt : 10\n",
      "Seoul Forest.txt : 36\n",
      "Seoul International Fireworks Festival.txt : 2\n",
      "Seoul Lantern Festival.txt : 7\n",
      "Seoul Museum of Art.txt : 20\n",
      "Seoul Museum of History.txt : 28\n",
      "Seoul National Cemetery.txt : 8\n",
      "Seoul Plaza.txt : 16\n",
      "Seoul Sky.txt : 53\n",
      "Seoul World Cup Stadium.txt : 18\n",
      "Seoullo 7017.txt : 21\n",
      "Seven Luck Casino Gangbuk Hilton.txt : 13\n",
      "Seven Luck Casino Gangnam Coex.txt : 10\n",
      "Shinsegae Dept. Store Main.txt : 40\n",
      "Shinsegae Gangnam.txt : 5\n",
      "Sinchon.txt : 11\n",
      "SRT.txt : 1\n",
      "Star Avenue at Lotte World.txt : 2\n",
      "Starfield COEX Mall.txt : 49\n",
      "Starfield Library.txt : 34\n",
      "Statue of Gangnam Style.txt : 2\n",
      "Statue of Sejong the Great.txt : 39\n",
      "Stylenanda Pink Hotel Flagship Store.txt : 8\n",
      "Sungnyemun Gate.txt : 1\n",
      "Tapgol Park.txt : 10\n",
      "The Blue House (Cheong Wa Dae).txt : 2\n",
      "The Story of King Sejong & The Story of Admiral Yi Sunshin.txt : 13\n",
      "The War and Women's Human Rights Museum.txt : 3\n",
      "Times Square Mall.txt : 17\n",
      "Tourist Information Center of Korea Tourism Organization.txt : 12\n",
      "Ttukseom Hangang Park.txt : 5\n",
      "Unhyeongung.txt : 15\n",
      "Yangjae Citizens' Park.txt : 2\n",
      "Yeouido Hangang Park.txt : 35\n",
      "Yeouido Park.txt : 44\n",
      "Yongma Land.txt : 2\n",
      "Yongsan Family Park.txt : 3\n"
     ]
    }
   ],
   "source": [
    "for file_name in file_list:\n",
    "    result = pd.read_csv(github_path + '크롤러-전처리/원시자료/' + file_name, encoding='utf-8', engine='python')\n",
    "    null_text = result.isnull().sum()['text']\n",
    "    if null_text != 0:\n",
    "        print(file_name + \" : \"+ str(null_text))"
   ]
  },
  {
   "cell_type": "code",
   "execution_count": 19,
   "metadata": {},
   "outputs": [
    {
     "name": "stdout",
     "output_type": "stream",
     "text": [
      "데이터 로딩 start\n",
      "데이터 로딩 종료: 소요시간 [2]초\n"
     ]
    }
   ],
   "source": [
    "data_all = all_reviews(github_path, file_list, len(file_list))"
   ]
  },
  {
   "cell_type": "code",
   "execution_count": 29,
   "metadata": {},
   "outputs": [
    {
     "data": {
      "text/plain": [
       "'I had fun taking photos here! just more than trick art. A Recommended visit place in Insadong'"
      ]
     },
     "execution_count": 29,
     "metadata": {},
     "output_type": "execute_result"
    }
   ],
   "source": [
    "data_all.iloc[414,:]['title']"
   ]
  },
  {
   "cell_type": "code",
   "execution_count": 30,
   "metadata": {},
   "outputs": [
    {
     "data": {
      "text/plain": [
       "star_point               0\n",
       "title                    3\n",
       "text                  2916\n",
       "Date of experience       0\n",
       "sentiment                0\n",
       "dtype: int64"
      ]
     },
     "execution_count": 30,
     "metadata": {},
     "output_type": "execute_result"
    }
   ],
   "source": [
    "data_all.isnull().sum()"
   ]
  },
  {
   "cell_type": "code",
   "execution_count": 32,
   "metadata": {},
   "outputs": [
    {
     "data": {
      "text/plain": [
       "33410     True\n",
       "33411    False\n",
       "33412    False\n",
       "33413    False\n",
       "33414    False\n",
       "33415    False\n",
       "33416     True\n",
       "33417    False\n",
       "33418    False\n",
       "33419     True\n",
       "Name: text, dtype: bool"
      ]
     },
     "execution_count": 32,
     "metadata": {},
     "output_type": "execute_result"
    }
   ],
   "source": [
    "nan_index = data_all['text'].isna()\n",
    "nan_index[33410:33420]"
   ]
  },
  {
   "cell_type": "code",
   "execution_count": 33,
   "metadata": {},
   "outputs": [
    {
     "data": {
      "text/html": [
       "<div>\n",
       "<style scoped>\n",
       "    .dataframe tbody tr th:only-of-type {\n",
       "        vertical-align: middle;\n",
       "    }\n",
       "\n",
       "    .dataframe tbody tr th {\n",
       "        vertical-align: top;\n",
       "    }\n",
       "\n",
       "    .dataframe thead th {\n",
       "        text-align: right;\n",
       "    }\n",
       "</style>\n",
       "<table border=\"1\" class=\"dataframe\">\n",
       "  <thead>\n",
       "    <tr style=\"text-align: right;\">\n",
       "      <th></th>\n",
       "      <th>star_point</th>\n",
       "      <th>title</th>\n",
       "      <th>text</th>\n",
       "      <th>Date of experience</th>\n",
       "      <th>sentiment</th>\n",
       "    </tr>\n",
       "  </thead>\n",
       "  <tbody>\n",
       "    <tr>\n",
       "      <th>166</th>\n",
       "      <td>3.0</td>\n",
       "      <td>63 City</td>\n",
       "      <td>NaN</td>\n",
       "      <td>July 2019</td>\n",
       "      <td>0</td>\n",
       "    </tr>\n",
       "    <tr>\n",
       "      <th>167</th>\n",
       "      <td>4.0</td>\n",
       "      <td>Worth a visit for the view</td>\n",
       "      <td>NaN</td>\n",
       "      <td>March 2019</td>\n",
       "      <td>1</td>\n",
       "    </tr>\n",
       "    <tr>\n",
       "      <th>170</th>\n",
       "      <td>5.0</td>\n",
       "      <td>Great view on the top.</td>\n",
       "      <td>NaN</td>\n",
       "      <td>May 2018</td>\n",
       "      <td>1</td>\n",
       "    </tr>\n",
       "    <tr>\n",
       "      <th>175</th>\n",
       "      <td>3.0</td>\n",
       "      <td>Tall building</td>\n",
       "      <td>NaN</td>\n",
       "      <td>October 2016</td>\n",
       "      <td>0</td>\n",
       "    </tr>\n",
       "    <tr>\n",
       "      <th>181</th>\n",
       "      <td>3.0</td>\n",
       "      <td>Only outside</td>\n",
       "      <td>NaN</td>\n",
       "      <td>July 2016</td>\n",
       "      <td>0</td>\n",
       "    </tr>\n",
       "  </tbody>\n",
       "</table>\n",
       "</div>"
      ],
      "text/plain": [
       "     star_point                       title text Date of experience sentiment\n",
       "166         3.0                     63 City  NaN          July 2019         0\n",
       "167         4.0  Worth a visit for the view  NaN         March 2019         1\n",
       "170         5.0      Great view on the top.  NaN           May 2018         1\n",
       "175         3.0               Tall building  NaN       October 2016         0\n",
       "181         3.0                Only outside  NaN          July 2016         0"
      ]
     },
     "execution_count": 33,
     "metadata": {},
     "output_type": "execute_result"
    }
   ],
   "source": [
    "data_all[nan_index].head()"
   ]
  },
  {
   "cell_type": "code",
   "execution_count": 34,
   "metadata": {},
   "outputs": [],
   "source": [
    "not_nan_index = data_all['text'].notna()"
   ]
  },
  {
   "cell_type": "code",
   "execution_count": 37,
   "metadata": {},
   "outputs": [
    {
     "data": {
      "text/html": [
       "<div>\n",
       "<style scoped>\n",
       "    .dataframe tbody tr th:only-of-type {\n",
       "        vertical-align: middle;\n",
       "    }\n",
       "\n",
       "    .dataframe tbody tr th {\n",
       "        vertical-align: top;\n",
       "    }\n",
       "\n",
       "    .dataframe thead th {\n",
       "        text-align: right;\n",
       "    }\n",
       "</style>\n",
       "<table border=\"1\" class=\"dataframe\">\n",
       "  <thead>\n",
       "    <tr style=\"text-align: right;\">\n",
       "      <th></th>\n",
       "      <th>star_point</th>\n",
       "      <th>title</th>\n",
       "      <th>text</th>\n",
       "      <th>Date of experience</th>\n",
       "      <th>sentiment</th>\n",
       "    </tr>\n",
       "  </thead>\n",
       "  <tbody>\n",
       "    <tr>\n",
       "      <th>0</th>\n",
       "      <td>3.0</td>\n",
       "      <td>nothing special</td>\n",
       "      <td>just a tall building in a residential area. no...</td>\n",
       "      <td>February 2020</td>\n",
       "      <td>0</td>\n",
       "    </tr>\n",
       "    <tr>\n",
       "      <th>1</th>\n",
       "      <td>4.0</td>\n",
       "      <td>City Views</td>\n",
       "      <td>Had lunch on 59th floor, outstanding views of ...</td>\n",
       "      <td>October 2019</td>\n",
       "      <td>1</td>\n",
       "    </tr>\n",
       "    <tr>\n",
       "      <th>2</th>\n",
       "      <td>3.0</td>\n",
       "      <td>Great Views</td>\n",
       "      <td>Stopped by here as it was along my travel plan...</td>\n",
       "      <td>April 2019</td>\n",
       "      <td>0</td>\n",
       "    </tr>\n",
       "    <tr>\n",
       "      <th>3</th>\n",
       "      <td>3.0</td>\n",
       "      <td>Just a tall building</td>\n",
       "      <td>I don't know what I was expecting but this was...</td>\n",
       "      <td>August 2018</td>\n",
       "      <td>0</td>\n",
       "    </tr>\n",
       "    <tr>\n",
       "      <th>4</th>\n",
       "      <td>3.0</td>\n",
       "      <td>63 City</td>\n",
       "      <td>Took a 10-15 mins walk from the Yeoinaru stati...</td>\n",
       "      <td>July 2019</td>\n",
       "      <td>0</td>\n",
       "    </tr>\n",
       "  </tbody>\n",
       "</table>\n",
       "</div>"
      ],
      "text/plain": [
       "   star_point                 title  \\\n",
       "0         3.0       nothing special   \n",
       "1         4.0            City Views   \n",
       "2         3.0           Great Views   \n",
       "3         3.0  Just a tall building   \n",
       "4         3.0               63 City   \n",
       "\n",
       "                                                text Date of experience  \\\n",
       "0  just a tall building in a residential area. no...      February 2020   \n",
       "1  Had lunch on 59th floor, outstanding views of ...       October 2019   \n",
       "2  Stopped by here as it was along my travel plan...         April 2019   \n",
       "3  I don't know what I was expecting but this was...        August 2018   \n",
       "4  Took a 10-15 mins walk from the Yeoinaru stati...          July 2019   \n",
       "\n",
       "  sentiment  \n",
       "0         0  \n",
       "1         1  \n",
       "2         0  \n",
       "3         0  \n",
       "4         0  "
      ]
     },
     "execution_count": 37,
     "metadata": {},
     "output_type": "execute_result"
    }
   ],
   "source": [
    "filtered_data = data_all[not_nan_index]\n",
    "filtered_data.head()"
   ]
  },
  {
   "cell_type": "code",
   "execution_count": 38,
   "metadata": {},
   "outputs": [
    {
     "data": {
      "text/plain": [
       "30510"
      ]
     },
     "execution_count": 38,
     "metadata": {},
     "output_type": "execute_result"
    }
   ],
   "source": [
    "len(filtered_data)"
   ]
  },
  {
   "cell_type": "code",
   "execution_count": 39,
   "metadata": {},
   "outputs": [
    {
     "name": "stdout",
     "output_type": "stream",
     "text": [
      "정확도: 0.867\n"
     ]
    }
   ],
   "source": [
    "model = model_tfidf(filtered_data, train_size=0.7, c_value=1.0)"
   ]
  }
 ],
 "metadata": {
  "kernelspec": {
   "display_name": "Python 3",
   "language": "python",
   "name": "python3"
  },
  "language_info": {
   "codemirror_mode": {
    "name": "ipython",
    "version": 3
   },
   "file_extension": ".py",
   "mimetype": "text/x-python",
   "name": "python",
   "nbconvert_exporter": "python",
   "pygments_lexer": "ipython3",
   "version": "3.7.1"
  }
 },
 "nbformat": 4,
 "nbformat_minor": 4
}
