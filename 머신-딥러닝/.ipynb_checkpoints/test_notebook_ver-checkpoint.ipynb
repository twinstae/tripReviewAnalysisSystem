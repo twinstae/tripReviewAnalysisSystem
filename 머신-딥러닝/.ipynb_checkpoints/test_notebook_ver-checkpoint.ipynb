{
 "cells": [
  {
   "cell_type": "code",
   "execution_count": 1,
   "metadata": {},
   "outputs": [],
   "source": [
    "%matplotlib inline\n",
    "import pandas as pd\n",
    "import numpy as np\n",
    "from sklearn.pipeline import Pipeline\n",
    "from sklearn.linear_model import LogisticRegression\n",
    "from sklearn.feature_extraction.text import TfidfVectorizer\n",
    "from sklearn.metrics import accuracy_score\n",
    "from sklearn.model_selection import train_test_split\n",
    "\n",
    "from nltk.stem.porter import PorterStemmer\n",
    "from nltk.corpus import stopwords\n",
    "import nltk\n",
    "\n",
    "import matplotlib.pyplot as plt\n",
    "import seaborn as sns\n",
    "\n",
    "import pickle\n",
    "import os\n",
    "from time import time"
   ]
  },
  {
   "cell_type": "code",
   "execution_count": 2,
   "metadata": {},
   "outputs": [
    {
     "data": {
      "text/plain": [
       "Index(['star_point', 'title', 'text', 'Date of experience'], dtype='object')"
      ]
     },
     "execution_count": 2,
     "metadata": {},
     "output_type": "execute_result"
    }
   ],
   "source": [
    "porter = PorterStemmer()\n",
    "stop = stopwords.words('english')\n",
    "\n",
    "#공백으로 단어 분리\n",
    "def tokenizer(text):\n",
    "    return text.split()\n",
    "\n",
    "# Porter Stemming 알고리즘을 이용해 단어 분리\n",
    "def tokenizer_porter(text):\n",
    "    return [porter.stem(word) for word in text.split()]\n",
    "\n",
    "github_path = 'C:/Users/taehee/Documents/GitHub/tripReviewAnalysisSystem/'\n",
    "\n",
    "#engine='python' 을 넣어줘야 판다스가 한국어로 된 폴더명을 인식한다.\n",
    "df = pd.read_csv(github_path +'크롤러-전처리/원시자료/Jongmyo Shrine.txt', encoding = 'utf-8', engine='python', index_col = 0)\n",
    "df.columns"
   ]
  },
  {
   "cell_type": "code",
   "execution_count": 3,
   "metadata": {},
   "outputs": [
    {
     "data": {
      "text/html": [
       "<div>\n",
       "<style scoped>\n",
       "    .dataframe tbody tr th:only-of-type {\n",
       "        vertical-align: middle;\n",
       "    }\n",
       "\n",
       "    .dataframe tbody tr th {\n",
       "        vertical-align: top;\n",
       "    }\n",
       "\n",
       "    .dataframe thead th {\n",
       "        text-align: right;\n",
       "    }\n",
       "</style>\n",
       "<table border=\"1\" class=\"dataframe\">\n",
       "  <thead>\n",
       "    <tr style=\"text-align: right;\">\n",
       "      <th></th>\n",
       "      <th>star_point</th>\n",
       "      <th>title</th>\n",
       "      <th>text</th>\n",
       "      <th>Date of experience</th>\n",
       "      <th>sentiment</th>\n",
       "    </tr>\n",
       "  </thead>\n",
       "  <tbody>\n",
       "    <tr>\n",
       "      <th>0</th>\n",
       "      <td>5.0</td>\n",
       "      <td>Peaceful and Insightful in the Middle of A Met...</td>\n",
       "      <td>Really this is one of the few places I enjoyed...</td>\n",
       "      <td>January 2020</td>\n",
       "      <td>1</td>\n",
       "    </tr>\n",
       "    <tr>\n",
       "      <th>1</th>\n",
       "      <td>3.0</td>\n",
       "      <td>Spiritual</td>\n",
       "      <td>Guided tours in English, German, Chinese and J...</td>\n",
       "      <td>April 2019</td>\n",
       "      <td>0</td>\n",
       "    </tr>\n",
       "    <tr>\n",
       "      <th>2</th>\n",
       "      <td>4.0</td>\n",
       "      <td>Informative tour</td>\n",
       "      <td>Jongmyo shrine is a fascinating visit for anyo...</td>\n",
       "      <td>November 2019</td>\n",
       "      <td>1</td>\n",
       "    </tr>\n",
       "    <tr>\n",
       "      <th>3</th>\n",
       "      <td>3.0</td>\n",
       "      <td>Good for a relaxing walk in the park and some ...</td>\n",
       "      <td>Entry to the Jongmyo Shrine is included in the...</td>\n",
       "      <td>September 2019</td>\n",
       "      <td>0</td>\n",
       "    </tr>\n",
       "    <tr>\n",
       "      <th>4</th>\n",
       "      <td>4.0</td>\n",
       "      <td>Shrine for the spirits of kings</td>\n",
       "      <td>I just thought of going there as it was near G...</td>\n",
       "      <td>October 2019</td>\n",
       "      <td>1</td>\n",
       "    </tr>\n",
       "  </tbody>\n",
       "</table>\n",
       "</div>"
      ],
      "text/plain": [
       "   star_point                                              title  \\\n",
       "0         5.0  Peaceful and Insightful in the Middle of A Met...   \n",
       "1         3.0                                         Spiritual    \n",
       "2         4.0                                   Informative tour   \n",
       "3         3.0  Good for a relaxing walk in the park and some ...   \n",
       "4         4.0                    Shrine for the spirits of kings   \n",
       "\n",
       "                                                text Date of experience  \\\n",
       "0  Really this is one of the few places I enjoyed...       January 2020   \n",
       "1  Guided tours in English, German, Chinese and J...         April 2019   \n",
       "2  Jongmyo shrine is a fascinating visit for anyo...      November 2019   \n",
       "3  Entry to the Jongmyo Shrine is included in the...     September 2019   \n",
       "4  I just thought of going there as it was near G...       October 2019   \n",
       "\n",
       "  sentiment  \n",
       "0         1  \n",
       "1         0  \n",
       "2         1  \n",
       "3         0  \n",
       "4         1  "
      ]
     },
     "execution_count": 3,
     "metadata": {},
     "output_type": "execute_result"
    }
   ],
   "source": [
    "s1 = pd.Series(dtype=int)\n",
    "df['sentiment'] = s1\n",
    "df['sentiment'] = np.where(df.star_point > 3, '1', '0')\n",
    "\n",
    "df.head()"
   ]
  },
  {
   "cell_type": "code",
   "execution_count": 4,
   "metadata": {},
   "outputs": [
    {
     "data": {
      "text/plain": [
       "195"
      ]
     },
     "execution_count": 4,
     "metadata": {},
     "output_type": "execute_result"
    }
   ],
   "source": [
    "len(df)"
   ]
  },
  {
   "cell_type": "code",
   "execution_count": 32,
   "metadata": {},
   "outputs": [],
   "source": [
    "def model_tfidf(df, train_size, c_value = 10.0, solver_selected = 'liblinear'):\n",
    "    '''\n",
    "    입력 : text와 sentiment가 포함된 리뷰들의 데이터 프레임\n",
    "    출력 : 훈련이 끝난 분류기와 정확도를 리턴.\n",
    "    '''\n",
    "    \n",
    "    X = df.loc[:,'text'].values\n",
    "    y = df.loc[:,'sentiment'].values\n",
    "    X_train, X_test, y_train, y_test = train_test_split(X, y,\n",
    "        test_size= 1 - train_size,\n",
    "        random_state=14,\n",
    "        stratify=y)\n",
    "\n",
    "    tfidf = TfidfVectorizer(lowercase=False, tokenizer=tokenizer)\n",
    "    Ir_tfidf = Pipeline([('vect', tfidf), ('clf', LogisticRegression(C=c_value ,penalty='l2', random_state=0, solver=solver_selected))])\n",
    "\n",
    "    Ir_tfidf.fit(X_train, y_train)\n",
    "    y_pred = Ir_tfidf.predict(X_test)\n",
    "    test_accuracy = accuracy_score(y_test, y_pred)\n",
    "    print('정확도: %.3f' %test_accuracy)\n",
    "    \n",
    "    return Ir_tfidf, test_accuracy"
   ]
  },
  {
   "cell_type": "code",
   "execution_count": 7,
   "metadata": {},
   "outputs": [
    {
     "name": "stdout",
     "output_type": "stream",
     "text": [
      "file_list: ['63 City.txt', 'Alive Museum Insadong.txt', 'Amore Pacific Museum of Art.txt', 'An Jung-geun Memorial Hall.txt', 'Ansan Jarak-gil.txt', 'apm Place.txt', 'Arario Museum in Space.txt', \"Baek In-je's House.txt\", 'Banpodaegyo Bridge.txt', 'Bongeunsa Temple.txt']\n"
     ]
    }
   ],
   "source": [
    "#리뷰 리스트 불러오기기\n",
    "file_list = os.listdir(github_path + '크롤러-전처리/원시자료/')\n",
    "\n",
    "print (\"file_list: {}\".format(file_list[:10]))"
   ]
  },
  {
   "cell_type": "code",
   "execution_count": 8,
   "metadata": {},
   "outputs": [
    {
     "data": {
      "text/html": [
       "<div>\n",
       "<style scoped>\n",
       "    .dataframe tbody tr th:only-of-type {\n",
       "        vertical-align: middle;\n",
       "    }\n",
       "\n",
       "    .dataframe tbody tr th {\n",
       "        vertical-align: top;\n",
       "    }\n",
       "\n",
       "    .dataframe thead th {\n",
       "        text-align: right;\n",
       "    }\n",
       "</style>\n",
       "<table border=\"1\" class=\"dataframe\">\n",
       "  <thead>\n",
       "    <tr style=\"text-align: right;\">\n",
       "      <th></th>\n",
       "      <th>Unnamed: 0</th>\n",
       "      <th>star_point</th>\n",
       "      <th>title</th>\n",
       "      <th>text</th>\n",
       "      <th>Date of experience</th>\n",
       "    </tr>\n",
       "  </thead>\n",
       "  <tbody>\n",
       "    <tr>\n",
       "      <th>0</th>\n",
       "      <td>0</td>\n",
       "      <td>3.0</td>\n",
       "      <td>nothing special</td>\n",
       "      <td>just a tall building in a residential area. no...</td>\n",
       "      <td>February 2020</td>\n",
       "    </tr>\n",
       "    <tr>\n",
       "      <th>1</th>\n",
       "      <td>1</td>\n",
       "      <td>4.0</td>\n",
       "      <td>City Views</td>\n",
       "      <td>Had lunch on 59th floor, outstanding views of ...</td>\n",
       "      <td>October 2019</td>\n",
       "    </tr>\n",
       "    <tr>\n",
       "      <th>2</th>\n",
       "      <td>2</td>\n",
       "      <td>3.0</td>\n",
       "      <td>Great Views</td>\n",
       "      <td>Stopped by here as it was along my travel plan...</td>\n",
       "      <td>April 2019</td>\n",
       "    </tr>\n",
       "    <tr>\n",
       "      <th>3</th>\n",
       "      <td>3</td>\n",
       "      <td>3.0</td>\n",
       "      <td>Just a tall building</td>\n",
       "      <td>I don't know what I was expecting but this was...</td>\n",
       "      <td>August 2018</td>\n",
       "    </tr>\n",
       "    <tr>\n",
       "      <th>4</th>\n",
       "      <td>4</td>\n",
       "      <td>3.0</td>\n",
       "      <td>63 City</td>\n",
       "      <td>Took a 10-15 mins walk from the Yeoinaru stati...</td>\n",
       "      <td>July 2019</td>\n",
       "    </tr>\n",
       "  </tbody>\n",
       "</table>\n",
       "</div>"
      ],
      "text/plain": [
       "   Unnamed: 0  star_point                 title  \\\n",
       "0           0         3.0       nothing special   \n",
       "1           1         4.0            City Views   \n",
       "2           2         3.0           Great Views   \n",
       "3           3         3.0  Just a tall building   \n",
       "4           4         3.0               63 City   \n",
       "\n",
       "                                                text Date of experience  \n",
       "0  just a tall building in a residential area. no...      February 2020  \n",
       "1  Had lunch on 59th floor, outstanding views of ...       October 2019  \n",
       "2  Stopped by here as it was along my travel plan...         April 2019  \n",
       "3  I don't know what I was expecting but this was...        August 2018  \n",
       "4  Took a 10-15 mins walk from the Yeoinaru stati...          July 2019  "
      ]
     },
     "execution_count": 8,
     "metadata": {},
     "output_type": "execute_result"
    }
   ],
   "source": [
    "result = pd.read_csv(github_path + '크롤러-전처리/원시자료/' + file_list[0], encoding = 'utf-8', engine='python')\n",
    "result.head()"
   ]
  },
  {
   "cell_type": "code",
   "execution_count": 9,
   "metadata": {},
   "outputs": [],
   "source": [
    "def all_reviews(github_path, file_list ,size):\n",
    "    result = pd.read_csv(github_path + '크롤러-전처리/원시자료/' + file_list[0], encoding = 'utf-8', engine='python', index_col = 0)\n",
    "    stime=time()\n",
    "    print('데이터 로딩 start')\n",
    "\n",
    "    for file_path in file_list[:size]:\n",
    "        new_data = pd.read_csv(github_path + '크롤러-전처리/원시자료/' + file_path, encoding = 'utf-8', engine='python', index_col = 0)\n",
    "        # 새 데이터를 리스트로 합쳐서 concat시키면 행이 계속 추가 된다.\n",
    "        # ignore_index로 기존 인덱스를  무시하고 합친 결과를 다시 인덱스해준다. 이거 안 하면 index must be monotonic increasing or decreasing 에러가 뜰 것이다.\n",
    "        result = pd.concat([result, new_data], ignore_index = True, sort = False)\n",
    "    \n",
    "    print('데이터 로딩 종료: 소요시간 [%d]초' %(time()-stime))\n",
    "    \n",
    "    result['sentiment'] = s1\n",
    "    result['sentiment'] = np.where(result.star_point > 3, '1', '0')\n",
    "        \n",
    "    return result"
   ]
  },
  {
   "cell_type": "code",
   "execution_count": 10,
   "metadata": {},
   "outputs": [
    {
     "name": "stdout",
     "output_type": "stream",
     "text": [
      "데이터 로딩 start\n",
      "데이터 로딩 종료: 소요시간 [0]초\n",
      "정확도: 0.843\n"
     ]
    }
   ],
   "source": [
    "data_30 = all_reviews(github_path, file_list, 30)\n",
    "model_30_c30 = model_tfidf(data_30, train_size= 0.7, c_value = 30.0)"
   ]
  },
  {
   "cell_type": "code",
   "execution_count": 11,
   "metadata": {},
   "outputs": [
    {
     "name": "stdout",
     "output_type": "stream",
     "text": [
      "정확도: 0.834\n"
     ]
    }
   ],
   "source": [
    "model_30_c10 = model_tfidf(data_30, train_size= 0.7, c_value = 10.0)"
   ]
  },
  {
   "cell_type": "code",
   "execution_count": 12,
   "metadata": {},
   "outputs": [
    {
     "name": "stdout",
     "output_type": "stream",
     "text": [
      "데이터 로딩 start\n",
      "데이터 로딩 종료: 소요시간 [3]초\n",
      "정확도: 0.835\n"
     ]
    }
   ],
   "source": [
    "data_100 = all_reviews(github_path, file_list, 100)\n",
    "model_100 = model_tfidf(data_100, train_size= 0.7, c_value = 10.0)"
   ]
  },
  {
   "cell_type": "code",
   "execution_count": 13,
   "metadata": {},
   "outputs": [
    {
     "name": "stdout",
     "output_type": "stream",
     "text": [
      "데이터 로딩 start\n",
      "데이터 로딩 종료: 소요시간 [13]초\n"
     ]
    }
   ],
   "source": [
    "data_all = all_reviews(github_path, file_list, len(file_list))"
   ]
  },
  {
   "cell_type": "code",
   "execution_count": 34,
   "metadata": {},
   "outputs": [
    {
     "name": "stdout",
     "output_type": "stream",
     "text": [
      "c값 : 100.0\n",
      "정확도: 0.831\n",
      "c값 : 10.0\n",
      "정확도: 0.843\n",
      "c값 : 1\n",
      "정확도: 0.838\n",
      "c값 : 0.1\n",
      "정확도: 0.822\n"
     ]
    }
   ],
   "source": [
    "models = []\n",
    "for c_test_value in [100.0, 10.0, 1, 0.1]:\n",
    "    print('c값 : ' + str(c_test_value))\n",
    "    models.append([c_test_value, model_tfidf(data_all, train_size= 0.7, c_value = c_test_value)[1]])"
   ]
  },
  {
   "cell_type": "code",
   "execution_count": 35,
   "metadata": {},
   "outputs": [
    {
     "data": {
      "text/html": [
       "<div>\n",
       "<style scoped>\n",
       "    .dataframe tbody tr th:only-of-type {\n",
       "        vertical-align: middle;\n",
       "    }\n",
       "\n",
       "    .dataframe tbody tr th {\n",
       "        vertical-align: top;\n",
       "    }\n",
       "\n",
       "    .dataframe thead th {\n",
       "        text-align: right;\n",
       "    }\n",
       "</style>\n",
       "<table border=\"1\" class=\"dataframe\">\n",
       "  <thead>\n",
       "    <tr style=\"text-align: right;\">\n",
       "      <th></th>\n",
       "      <th>cvalue</th>\n",
       "      <th>accuracy</th>\n",
       "    </tr>\n",
       "  </thead>\n",
       "  <tbody>\n",
       "    <tr>\n",
       "      <th>0</th>\n",
       "      <td>100.0</td>\n",
       "      <td>0.830501</td>\n",
       "    </tr>\n",
       "    <tr>\n",
       "      <th>1</th>\n",
       "      <td>10.0</td>\n",
       "      <td>0.843191</td>\n",
       "    </tr>\n",
       "    <tr>\n",
       "      <th>2</th>\n",
       "      <td>1.0</td>\n",
       "      <td>0.837525</td>\n",
       "    </tr>\n",
       "    <tr>\n",
       "      <th>3</th>\n",
       "      <td>0.1</td>\n",
       "      <td>0.822116</td>\n",
       "    </tr>\n",
       "  </tbody>\n",
       "</table>\n",
       "</div>"
      ],
      "text/plain": [
       "   cvalue  accuracy\n",
       "0   100.0  0.830501\n",
       "1    10.0  0.843191\n",
       "2     1.0  0.837525\n",
       "3     0.1  0.822116"
      ]
     },
     "execution_count": 35,
     "metadata": {},
     "output_type": "execute_result"
    }
   ],
   "source": [
    "result_models_test = pd.DataFrame(models, columns = ['cvalue','accuracy'])\n",
    "result_models_test"
   ]
  },
  {
   "cell_type": "code",
   "execution_count": 36,
   "metadata": {},
   "outputs": [
    {
     "data": {
      "image/png": "[encoded data removed]",
      "text/plain": [
       "<Figure size 504x504 with 1 Axes>"
      ]
     },
     "metadata": {
      "needs_background": "light"
     },
     "output_type": "display_data"
    },
    {
     "data": {
      "image/png": "[encoded data removed]",
      "text/plain": [
       "<Figure size 360x360 with 1 Axes>"
      ]
     },
     "metadata": {
      "needs_background": "light"
     },
     "output_type": "display_data"
    }
   ],
   "source": [
    "f, ax = plt.subplots(figsize=(7, 7))\n",
    "ax.set(xscale=\"log\")\n",
    "sns.relplot(x=\"cvalue\", y=\"accuracy\", kind=\"line\", data=result_models_test, ax=ax)\n",
    "plt.show()"
   ]
  },
  {
   "cell_type": "code",
   "execution_count": 31,
   "metadata": {},
   "outputs": [
    {
     "name": "stdout",
     "output_type": "stream",
     "text": [
      "newton-cg\n",
      "정확도: 0.837\n",
      "lbfgs\n",
      "정확도: 0.837\n",
      "liblinear\n",
      "정확도: 0.838\n",
      "sag\n",
      "정확도: 0.837\n",
      "saga\n",
      "정확도: 0.838\n"
     ]
    }
   ],
   "source": [
    "for the_solver in ['newton-cg','lbfgs','liblinear','sag','saga']:\n",
    "    print(the_solver)\n",
    "    model_tfidf(data_all, train_size= 0.7,c_value = 1.0, solver_selected = the_solver)"
   ]
  },
  {
   "cell_type": "code",
   "execution_count": 18,
   "metadata": {},
   "outputs": [
    {
     "name": "stdout",
     "output_type": "stream",
     "text": [
      "C:\\Users\\taehee\\Documents\\GitHub\\tripReviewAnalysisSystem\\머신-딥러닝\\data\\pklObject\\classifier.pkl분류기 머신러닝 모델 저장 완료\n"
     ]
    }
   ],
   "source": [
    "#머신러닝 결과 파일로 저장(머신러닝 알고리즘을 계속 불러오지 않기 위하여)\n",
    "curDir=os.getcwd()\n",
    "dest = os.path.join(curDir, 'data', 'pklObject')\n",
    "if not os.path.exists(dest):\n",
    "    os.makedirs(dest)\n",
    "\n",
    "path_save = os.path.join(dest, 'classifier.pkl')\n",
    "pickle.dump(models[2], open(path_save, 'wb'), protocol=4)\n",
    "print(path_save + '분류기 머신러닝 모델 저장 완료')"
   ]
  }
 ],
 "metadata": {
  "kernelspec": {
   "display_name": "Python 3",
   "language": "python",
   "name": "python3"
  },
  "language_info": {
   "codemirror_mode": {
    "name": "ipython",
    "version": 3
   },
   "file_extension": ".py",
   "mimetype": "text/x-python",
   "name": "python",
   "nbconvert_exporter": "python",
   "pygments_lexer": "ipython3",
   "version": "3.7.1"
  }
 },
 "nbformat": 4,
 "nbformat_minor": 2
}
