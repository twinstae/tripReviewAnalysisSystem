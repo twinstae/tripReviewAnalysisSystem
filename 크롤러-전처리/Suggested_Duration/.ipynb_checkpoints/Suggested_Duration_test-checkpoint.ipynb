{
 "cells": [
  {
   "cell_type": "markdown",
   "metadata": {
    "colab_type": "text",
    "id": "view-in-github"
   },
   "source": [
    "<a href=\"https://colab.research.google.com/github/twinstae/tripReviewAnalysisSystem/blob/master/%ED%81%AC%EB%A1%A4%EB%9F%AC-%EC%A0%84%EC%B2%98%EB%A6%AC/TRAS_crawler.ipynb\" target=\"_parent\"><img src=\"https://colab.research.google.com/assets/colab-badge.svg\" alt=\"Open In Colab\"/></a>"
   ]
  },
  {
   "cell_type": "code",
   "execution_count": 3,
   "metadata": {
    "colab": {
     "base_uri": "https://localhost:8080/",
     "height": 35
    },
    "colab_type": "code",
    "id": "zciHbS535CM6",
    "outputId": "8f44ef50-11dd-45c3-96d5-eb1f05fadc2b"
   },
   "outputs": [
    {
     "name": "stdout",
     "output_type": "stream",
     "text": [
      "\u001b[K     |████████████████████████████████| 911kB 2.8MB/s eta 0:00:01\n",
      "\u001b[?25h"
     ]
    }
   ],
   "source": [
    "!pip install -q selenium\n",
    "!pip install -q bs4\n",
    "!pip install -q pandas"
   ]
  },
  {
   "cell_type": "code",
   "execution_count": 1,
   "metadata": {
    "colab": {},
    "colab_type": "code",
    "id": "xZx-9HwI4WLS"
   },
   "outputs": [],
   "source": [
    "import pandas as pd\n",
    "\n",
    "from selenium import webdriver\n",
    "from bs4 import BeautifulSoup\n",
    "from selenium.webdriver.support.ui import WebDriverWait\n",
    "from selenium.webdriver.support import expected_conditions as EC\n",
    "from selenium.common.exceptions import NoSuchElementException, ElementNotInteractableException, ElementClickInterceptedException, StaleElementReferenceException\n",
    "from selenium.webdriver.common.keys import Keys\n",
    "import time\n",
    "import re\n",
    "import sys\n",
    "from PyQt5.QtWidgets import *\n",
    "from PyQt5 import uic"
   ]
  },
  {
   "cell_type": "code",
   "execution_count": 45,
   "metadata": {
    "colab": {
     "base_uri": "https://localhost:8080/",
     "height": 504
    },
    "colab_type": "code",
    "id": "v7QdW4Lh4waN",
    "outputId": "365f8fd7-e0f7-448e-ddbd-dbd3619aeb21"
   },
   "outputs": [
    {
     "name": "stderr",
     "output_type": "stream",
     "text": [
      "C:\\Users\\Jeong\\Anaconda3\\lib\\site-packages\\ipykernel_launcher.py:8: DeprecationWarning: use options instead of chrome_options\n",
      "  \n"
     ]
    }
   ],
   "source": [
    "options = webdriver.ChromeOptions()\n",
    "options.add_argument(\"lang=en-CA\")\n",
    "options.add_argument('window-size=1920x1080')\n",
    "prefs = {\"profile.managed_default_content_settings.images\": 2}\n",
    "options.add_experimental_option(\"prefs\", prefs)\n",
    "\n",
    "driver_address = r'C:\\Users\\Jeong\\chromedriver.exe'\n",
    "driver = webdriver.Chrome(driver_address, chrome_options=options)\n",
    "wait = WebDriverWait(driver, timeout=2)\n",
    "driver.implicitly_wait(5)\n",
    "# tripadvisor에 접근한다.\n",
    "driver.get('https://www.tripadvisor.com/Attraction_Review-g294197-d553546-Reviews-Myeongdong_Shopping_Street-Seoul.html')\n",
    "#driver.get('https://www.tripadvisor.com/Attractions-g294197-Activities-oa30-Seoul.html')\n",
    "#원래 있던 리스트 창을 저장해둔다\n",
    "original_window = driver.current_window_handle\n",
    "\n",
    "\n",
    "\n",
    "\n"
   ]
  },
  {
   "cell_type": "code",
   "execution_count": 47,
   "metadata": {},
   "outputs": [
    {
     "name": "stdout",
     "output_type": "stream",
     "text": [
      "['Myeongdong Shopping Street', nan]\n"
     ]
    }
   ],
   "source": [
    "html = driver.page_source\n",
    "soup = BeautifulSoup(html, 'html.parser')\n",
    "\n",
    "html = driver.page_source\n",
    "soup = BeautifulSoup(html, 'html.parser')\n",
    "attraction_header = soup.find(class_ = 'attractions-attraction-review-atf-AttractionReviewATFLayout__atf_component--2Qflo attractions-attraction-review-atf-AttractionReviewATFLayout__header_container--dAJtk')\n",
    "    \n",
    "    \n",
    "    # 원하는 정보가 담겨있는 전체 페이지 선택\n",
    "    \n",
    "try:\n",
    "    suggesting = soup.find_all(class_ = 'attractions-attraction-detail-about-card-AboutSection__sectionWrapper--3PMQg')[1]\n",
    "    full_duration = suggesting.text\n",
    "    start_duration = full_duration.find(':') + 1\n",
    "    full_duration = full_duration[start_duration:]\n",
    "except:\n",
    "    full_duration = float('nan')\n",
    "\n",
    "duration = [attraction_header.find('h1', class_='ui_header h1').text, full_duration]\n",
    "\n",
    "print(duration) "
   ]
  },
  {
   "cell_type": "code",
   "execution_count": null,
   "metadata": {},
   "outputs": [],
   "source": [
    "suggesting = attraction_header.find_all(class_ = 'attractions-attraction-detail-about-card-AboutSection__sectionWrapper--3PMQg')[0]\n",
    "\n",
    "\n",
    "# 원하는 정보가 담겨있는 전체 페이지 선택\n",
    "try:\n",
    "    full_duration = suggesting.text\n",
    "    start_duration = full_duration.find(':') + 1\n",
    "    full_duration = full_duration[start_duration:]\n",
    "except:\n",
    "    suggest_duration = float('nan')\n",
    "\n",
    "duration = [attraction_header.find('h1', class_='ui_header h1').text, full_duration]\n"
   ]
  }
 ],
 "metadata": {
  "colab": {
   "authorship_tag": "ABX9TyNS1fuYzbVTs5TBXBpg+qZO",
   "include_colab_link": true,
   "name": "TRAS_crawler.ipynb",
   "provenance": []
  },
  "kernelspec": {
   "display_name": "Python 3",
   "language": "python",
   "name": "python3"
  },
  "language_info": {
   "codemirror_mode": {
    "name": "ipython",
    "version": 3
   },
   "file_extension": ".py",
   "mimetype": "text/x-python",
   "name": "python",
   "nbconvert_exporter": "python",
   "pygments_lexer": "ipython3",
   "version": "3.7.4"
  }
 },
 "nbformat": 4,
 "nbformat_minor": 4
}
