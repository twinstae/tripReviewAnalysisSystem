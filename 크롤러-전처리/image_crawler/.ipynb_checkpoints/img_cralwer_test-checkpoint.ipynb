{
 "cells": [
  {
   "cell_type": "code",
   "execution_count": 27,
   "metadata": {},
   "outputs": [],
   "source": [
    "from PIL import Image\n",
    "import urllib.request\n",
    "import pandas as pd\n",
    "from selenium import webdriver\n",
    "from bs4 import BeautifulSoup\n",
    "from selenium.webdriver.support.ui import WebDriverWait\n",
    "from selenium.webdriver.support import expected_conditions as EC\n",
    "from selenium.common.exceptions import NoSuchElementException, ElementNotInteractableException, ElementClickInterceptedException, StaleElementReferenceException\n",
    "from selenium.webdriver.common.keys import Keys\n",
    "import time\n",
    "import re\n",
    "import sys\n",
    "from PyQt5.QtWidgets import *\n",
    "from PyQt5 import uic\n",
    "import requests"
   ]
  },
  {
   "cell_type": "code",
   "execution_count": 36,
   "metadata": {},
   "outputs": [
    {
     "name": "stderr",
     "output_type": "stream",
     "text": [
      "C:\\Users\\Jeong\\Anaconda3\\lib\\site-packages\\ipykernel_launcher.py:8: DeprecationWarning: use options instead of chrome_options\n",
      "  \n"
     ]
    }
   ],
   "source": [
    "options = webdriver.ChromeOptions()\n",
    "options.add_argument(\"lang=en-CA\")\n",
    "options.add_argument('window-size=1920x1080')\n",
    "prefs = {\"profile.managed_default_content_settings.images\": 2}\n",
    "options.add_experimental_option(\"prefs\", prefs)\n",
    "\n",
    "driver_address = r'C:\\Users\\Jeong\\chromedriver.exe'\n",
    "driver = webdriver.Chrome(driver_address, chrome_options=options)\n",
    "wait = WebDriverWait(driver, timeout=2)\n",
    "driver.implicitly_wait(5)\n",
    "# tripadvisor에 접근한다.\n",
    "driver.get('https://www.tripadvisor.ca/Attractions-g294197-Activities-oa30-Seoul.html')\n",
    "#driver.get('https://www.tripadvisor.com/Attractions-g294197-Activities-oa30-Seoul.html')\n",
    "#원래 있던 리스트 창을 저장해둔다\n",
    "original_window = driver.current_window_handle\n",
    "\n",
    "driver.implicitly_wait(5)\n",
    "\n"
   ]
  },
  {
   "cell_type": "code",
   "execution_count": 25,
   "metadata": {},
   "outputs": [
    {
     "name": "stdout",
     "output_type": "stream",
     "text": [
      "https://media-cdn.tripadvisor.com/media/photo-f/08/34/de/44/from-deoksugung.jpg\n",
      "https://media-cdn.tripadvisor.com/media/photo-f/02/6f/55/16/filename-img-4313-jpg.jpg\n",
      "https://media-cdn.tripadvisor.com/media/photo-f/01/51/28/37/olympic-park.jpg\n"
     ]
    },
    {
     "ename": "KeyboardInterrupt",
     "evalue": "",
     "output_type": "error",
     "traceback": [
      "\u001b[1;31m---------------------------------------------------------------------------\u001b[0m",
      "\u001b[1;31mKeyboardInterrupt\u001b[0m                         Traceback (most recent call last)",
      "\u001b[1;32m<ipython-input-25-0d912f17f6a8>\u001b[0m in \u001b[0;36m<module>\u001b[1;34m\u001b[0m\n\u001b[0;32m      9\u001b[0m     \u001b[0murl\u001b[0m \u001b[1;33m=\u001b[0m \u001b[0mstr\u001b[0m\u001b[1;33m(\u001b[0m\u001b[0mattraction_element\u001b[0m\u001b[1;33m)\u001b[0m\u001b[1;33m\u001b[0m\u001b[1;33m\u001b[0m\u001b[0m\n\u001b[0;32m     10\u001b[0m     \u001b[0msrc_start\u001b[0m \u001b[1;33m=\u001b[0m \u001b[0murl\u001b[0m\u001b[1;33m.\u001b[0m\u001b[0mfind\u001b[0m\u001b[1;33m(\u001b[0m\u001b[1;34m'150w'\u001b[0m\u001b[1;33m)\u001b[0m \u001b[1;33m+\u001b[0m \u001b[1;36m5\u001b[0m\u001b[1;33m\u001b[0m\u001b[1;33m\u001b[0m\u001b[0m\n\u001b[1;32m---> 11\u001b[1;33m     \u001b[0mtime\u001b[0m\u001b[1;33m.\u001b[0m\u001b[0msleep\u001b[0m\u001b[1;33m(\u001b[0m\u001b[1;36m2\u001b[0m\u001b[1;33m)\u001b[0m\u001b[1;33m\u001b[0m\u001b[1;33m\u001b[0m\u001b[0m\n\u001b[0m\u001b[0;32m     12\u001b[0m     \u001b[0murl_w\u001b[0m \u001b[1;33m=\u001b[0m \u001b[0murl\u001b[0m\u001b[1;33m[\u001b[0m\u001b[0msrc_start\u001b[0m\u001b[1;33m:\u001b[0m\u001b[1;33m]\u001b[0m\u001b[1;33m\u001b[0m\u001b[1;33m\u001b[0m\u001b[0m\n\u001b[0;32m     13\u001b[0m     \u001b[0msrc_end\u001b[0m \u001b[1;33m=\u001b[0m \u001b[0murl_w\u001b[0m\u001b[1;33m.\u001b[0m\u001b[0mfind\u001b[0m\u001b[1;33m(\u001b[0m\u001b[1;34m'w,https'\u001b[0m\u001b[1;33m)\u001b[0m \u001b[1;33m-\u001b[0m \u001b[1;36m4\u001b[0m\u001b[1;33m\u001b[0m\u001b[1;33m\u001b[0m\u001b[0m\n",
      "\u001b[1;31mKeyboardInterrupt\u001b[0m: "
     ]
    }
   ],
   "source": [
    "html = driver.page_source\n",
    "soup = BeautifulSoup(html, 'html.parser')\n",
    "\n",
    "main_page = soup.find(class_ = 'attractions-attraction-filtered-common-attraction-filtered-common__listingsContainer--2cOBG')\n",
    "attraction_elements = main_page.find_all(name='img')\n",
    "time.sleep(2)\n",
    "\n",
    "for attraction_element in attraction_elements[:]:\n",
    "    url = str(attraction_element)\n",
    "    src_start = url.find('150w') + 5\n",
    "    time.sleep(2)\n",
    "    url_w = url[src_start:]\n",
    "    src_end = url_w.find('w,https') - 4\n",
    "    print(url_w[:src_end])\n",
    "    \n",
    "# 2~6페이지 이미지 크롤링 전용 개발, 완성"
   ]
  },
  {
   "cell_type": "code",
   "execution_count": 10,
   "metadata": {},
   "outputs": [
    {
     "name": "stdout",
     "output_type": "stream",
     "text": [
      "Gyeongbokgung Palace\n",
      "Bukhansan National Park\n",
      "Myeongdong Shopping Street\n",
      "Changdeokgung Palace\n",
      "The War Memorial of Korea\n",
      "National Museum of Korea\n",
      "Insadong\n",
      "Trickeye Museum Seoul\n",
      "Lotte World Tower &amp; Mall\n",
      "KTX (Korea Train Express)\n",
      "Seoul Metro\n",
      "Hangang Park\n",
      "N Seoul Tower\n",
      "Namsan Park\n",
      "Myeongdong NANTA Theater\n",
      "Cheonggyecheon Stream\n",
      "Jogyesa Temple\n",
      "Bongeunsa Temple\n",
      "Haneul Park\n",
      "Bukchon Hanok Village\n",
      "Hongik University Street\n",
      "Ewha Womans University\n",
      "Dongdaemun Design Plaza (DDP)\n",
      "Starfield Library\n",
      "Kwangjang Market\n",
      "Love Museum\n",
      "Seoul Forest\n",
      "Yeouido Hangang Park\n",
      "Leeum Samsung Museum of Art\n",
      "Seoul Sky\n"
     ]
    }
   ],
   "source": [
    "html = driver.page_source\n",
    "soup = BeautifulSoup(html, 'html.parser')\n",
    "\n",
    "main_page = soup.find(class_ = 'attractions-attraction-overview-main-TopPOIs__container--3eHZU')\n",
    "attraction_names = main_page.find_all(name='h3')\n",
    "time.sleep(2)\n",
    "name_error = 1\n",
    "for attraction_name in attraction_names[:]:\n",
    "    url = str(attraction_name)\n",
    "    if name_error < 11:\n",
    "        name_start = url.find('<!-- -->') + 8\n",
    "        name_end = url.find('</h3>') \n",
    "        print(url[name_start:name_end])\n",
    "    else:\n",
    "        name_start = url.find('.') + 2\n",
    "        name_end = url.find('</h3>') \n",
    "        print(url[name_start:name_end])\n",
    "    name_error += 1\n",
    "# 1페이지 이름 크롤링 개발 완료"
   ]
  },
  {
   "cell_type": "code",
   "execution_count": 37,
   "metadata": {},
   "outputs": [
    {
     "name": "stdout",
     "output_type": "stream",
     "text": [
      "Deoksugung\n",
      "Yeouido Park\n",
      "Olympic Park\n",
      "Myeong-dong Cathedral\n",
      "Seoul Children's Grand Park\n",
      "Lotte World Aquarium\n",
      "Gwanghwamun Gate\n",
      "National Folk Museum of Korea\n",
      "Changgyeonggung Palace\n",
      "Starfield COEX Mall\n",
      "Jamsil Baseball Stadium\n",
      "Coex Aquarium\n",
      "Grevin Museum\n",
      "Seodaemun Prison History Hall\n",
      "Seoul Lantern Festival\n",
      "Namsangol Hanok Village\n",
      "Namdaemun Market\n",
      "Korea House\n",
      "Itaewon\n",
      "Samcheongdong-gil Road\n",
      "Garosu-gil\n",
      "Naksan Park\n",
      "Shinsegae Dept. Store Main\n",
      "Lotte World\n",
      "Inwangsan Mountain\n",
      "Majang Meat Market\n",
      "Seoul Museum of History\n",
      "Seoul City Wall\n",
      "Ikseon-dong Hanok Street\n",
      "Jongmyo Shrine\n"
     ]
    }
   ],
   "source": [
    "html = driver.page_source\n",
    "soup = BeautifulSoup(html, 'html.parser')\n",
    "\n",
    "main_page = soup.find(class_ = 'attractions-attraction-filtered-common-attraction-filtered-common__listingsContainer--2cOBG')\n",
    "attraction_names = main_page.find_all(name='h2')\n",
    "time.sleep(2)\n",
    "\n",
    "for attraction_name in attraction_names[:]:\n",
    "    url = str(attraction_name)\n",
    "    name_start = url.find('<h2>') + 4\n",
    "    name_end = url.find('</h2>')\n",
    "    print(url[name_start:name_end])\n",
    "\n",
    "# 2~6페이지 이름 크롤링 개발 완료"
   ]
  },
  {
   "cell_type": "code",
   "execution_count": 30,
   "metadata": {},
   "outputs": [],
   "source": [
    "image_url = ('https://media-cdn.tripadvisor.com/media/photo-f/08/34/de/44/from-deoksugung.jpg')\n",
    "\n",
    "image1 = requests.get(image_url).content\n",
    "\n",
    "image_name = \"asdas\"\n",
    "\n",
    "with open(image_name, 'wb') as f:\n",
    "    f.write(image1)"
   ]
  },
  {
   "cell_type": "code",
   "execution_count": 35,
   "metadata": {},
   "outputs": [
    {
     "data": {
      "text/plain": [
       "('C:\\\\Users\\\\Jeong/imagetest.jpg', <http.client.HTTPMessage at 0x1e5d6d50548>)"
      ]
     },
     "execution_count": 35,
     "metadata": {},
     "output_type": "execute_result"
    }
   ],
   "source": [
    "image_url = ('https://media-cdn.tripadvisor.com/media/photo-f/08/34/de/44/from-deoksugung.jpg')\n",
    "\n",
    "out_file = \"imagetest\"\n",
    "\n",
    "urllib.request.urlretrieve(image_url, r'C:\\Users\\Jeong/' + out_file +'.jpg')"
   ]
  },
  {
   "cell_type": "code",
   "execution_count": null,
   "metadata": {},
   "outputs": [],
   "source": []
  }
 ],
 "metadata": {
  "kernelspec": {
   "display_name": "Python 3",
   "language": "python",
   "name": "python3"
  },
  "language_info": {
   "codemirror_mode": {
    "name": "ipython",
    "version": 3
   },
   "file_extension": ".py",
   "mimetype": "text/x-python",
   "name": "python",
   "nbconvert_exporter": "python",
   "pygments_lexer": "ipython3",
   "version": "3.7.4"
  }
 },
 "nbformat": 4,
 "nbformat_minor": 4
}
