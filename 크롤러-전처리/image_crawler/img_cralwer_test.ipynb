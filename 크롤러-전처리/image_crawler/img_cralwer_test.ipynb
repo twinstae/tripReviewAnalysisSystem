{
 "cells": [
  {
   "cell_type": "code",
   "execution_count": 2,
   "metadata": {},
   "outputs": [],
   "source": [
    "from PIL import Image\n",
    "import urllib.request\n",
    "import pandas as pd\n",
    "from selenium import webdriver\n",
    "from bs4 import BeautifulSoup\n",
    "from selenium.webdriver.support.ui import WebDriverWait\n",
    "from selenium.webdriver.support import expected_conditions as EC\n",
    "from selenium.common.exceptions import NoSuchElementException, ElementNotInteractableException, ElementClickInterceptedException, StaleElementReferenceException\n",
    "from selenium.webdriver.common.keys import Keys\n",
    "import time\n",
    "import re\n",
    "import sys\n",
    "from PyQt5.QtWidgets import *\n",
    "from PyQt5 import uic\n",
    "import requests"
   ]
  },
  {
   "cell_type": "code",
   "execution_count": 7,
   "metadata": {},
   "outputs": [
    {
     "name": "stderr",
     "output_type": "stream",
     "text": [
      "C:\\Users\\Jeong\\Anaconda3\\lib\\site-packages\\ipykernel_launcher.py:8: DeprecationWarning: use options instead of chrome_options\n",
      "  \n"
     ]
    }
   ],
   "source": [
    "options = webdriver.ChromeOptions()\n",
    "options.add_argument(\"lang=en-CA\")\n",
    "options.add_argument('window-size=1920x1080')\n",
    "prefs = {\"profile.managed_default_content_settings.images\": 2}\n",
    "options.add_experimental_option(\"prefs\", prefs)\n",
    "\n",
    "driver_address = r'C:\\Users\\Jeong\\chromedriver.exe'\n",
    "driver = webdriver.Chrome(driver_address, chrome_options=options)\n",
    "wait = WebDriverWait(driver, timeout=2)\n",
    "driver.implicitly_wait(5)\n",
    "# tripadvisor에 접근한다.\n",
    "driver.get('https://www.tripadvisor.ca/Attractions-g294197-Activities-oa90-Seoul.html')\n",
    "#driver.get('https://www.tripadvisor.com/Attractions-g294197-Activities-oa30-Seoul.html')\n",
    "#원래 있던 리스트 창을 저장해둔다\n",
    "original_window = driver.current_window_handle\n",
    "\n",
    "driver.implicitly_wait(5)\n",
    "\n"
   ]
  },
  {
   "cell_type": "code",
   "execution_count": 8,
   "metadata": {},
   "outputs": [
    {
     "name": "stdout",
     "output_type": "stream",
     "text": [
      "https://media-cdn.tripadvisor.com/media/photo-i/15/43/ed/b6/children-s-playground.jpg\n",
      "https://media-cdn.tripadvisor.com/media/photo-i/13/4f/94/e9/p-20180617-114441-largejpg.jpg\n",
      "https://media-cdn.tripadvisor.com/media/photo-f/03/95/df/98/getlstd-property-photo.jpg\n",
      "https://media-cdn.tripadvisor.com/media/photo-f/0f/db/77/28/photo0jpg.jpg\n",
      "https://media-cdn.tripadvisor.com/media/photo-i/0f/1a/cd/23/kyung-hee-university.jpg\n",
      "https://media-cdn.tripadvisor.com/media/photo-f/0a/54/b6/2c/common-ground.jpg\n",
      "https://media-cdn.tripadvisor.com/media/photo-i/0f/c4/a0/4e/caption.jpg\n",
      "https://media-cdn.tripadvisor.com/media/photo-f/03/6a/ef/f0/ifc-mall.jpg\n",
      "https://media-cdn.tripadvisor.com/media/photo-i/0e/33/45/2e/sr.jpg\n",
      "https://media-cdn.tripadvisor.com/media/daodao/photo-s/05/33/4f/b4/caption.jpg 29\n",
      "https://media-cdn.tripadvisor.com/media/photo-f/03/c6/db/7b/getlstd-property-photo.jpg\n",
      "https://media-cdn.tripadvisor.com/media/photo-f/05/e6/78/85/lotte-world-folk-museum.jpg\n",
      "https://media-cdn.tripadvisor.com/media/photo-f/03/c2/12/f2/caption.jpg\n",
      "https://media-cdn.tripadvisor.com/media/photo-f/07/f0/a4/65/caption.jpg\n",
      "https://media-cdn.tripadvisor.com/media/photo-f/01/30/a1/86/seoul.jpg\n",
      "https://media-cdn.tripadvisor.com/media/photo-f/02/a2/38/bd/filename-p1070632-jpg.jpg\n",
      "https://media-cdn.tripadvisor.com/media/photo-f/03/0b/eb/12/namsan-cable-car.jpg\n",
      "https://media-cdn.tripadvisor.com/media/photo-i/10/26/8f/3d/the-murals-along-the.jpg\n",
      "https://media-cdn.tripadvisor.com/media/photo-f/09/8f/32/49/caption.jpg\n",
      "https://media-cdn.tripadvisor.com/media/photo-i/0d/f3/59/f3/photo0jpg.jpg\n",
      "https://media-cdn.tripadvisor.com/media/photo-f/04/89/01/f6/photo-of-d-cube-city.jpg\n",
      "https://media-cdn.tripadvisor.com/media/photo-f/01/de/73/24/seonyudo.jpg\n",
      "https://media-cdn.tripadvisor.com/media/photo-f/01/f2/07/25/guesthouse-within-the.jpg\n",
      "https://media-cdn.tripadvisor.com/media/photo-i/18/6d/ed/35/caption.jpg\n",
      "https://media-cdn.tripadvisor.com/media/photo-f/06/e4/e3/63/nice-view.jpg\n",
      "https://media-cdn.tripadvisor.com/media/photo-f/04/1b/7c/51/sungnyemun-gate-namdaemun.jpg\n",
      "https://media-cdn.tripadvisor.com/media/photo-f/08/22/81/93/caption.jpg\n",
      "https://media-cdn.tripadvisor.com/media/photo-f/03/0d/d5/77/banpodaegyo-bridge.jpg\n",
      "https://media-cdn.tripadvisor.com/media/photo-i/10/9f/fd/6d/photo0jpg.jpg\n",
      "https://media-cdn.tripadvisor.com/media/photo-f/07/fe/42/a4/caption.jpg\n"
     ]
    }
   ],
   "source": [
    "html = driver.page_source\n",
    "soup = BeautifulSoup(html, 'html.parser')\n",
    "\n",
    "main_page = soup.find(class_ = 'attractions-attraction-filtered-common-attraction-filtered-common__listingsContainer--2cOBG')\n",
    "attraction_elements = main_page.find_all(name='img')\n",
    "time.sleep(2)\n",
    "\n",
    "for attraction_element in attraction_elements[:]:\n",
    "    url = str(attraction_element)\n",
    "    src_start = url.find('150w') + 5\n",
    "    time.sleep(2)\n",
    "    url_w = url[src_start:]\n",
    "    src_end = url_w.find('w,https') - 4\n",
    "    print(url_w[:src_end])\n",
    "    \n",
    "# 2~6페이지 이미지 크롤링 전용 개발, 완성"
   ]
  },
  {
   "cell_type": "code",
   "execution_count": 3,
   "metadata": {},
   "outputs": [
    {
     "ename": "AttributeError",
     "evalue": "'NoneType' object has no attribute 'find_all'",
     "output_type": "error",
     "traceback": [
      "\u001b[1;31m---------------------------------------------------------------------------\u001b[0m",
      "\u001b[1;31mAttributeError\u001b[0m                            Traceback (most recent call last)",
      "\u001b[1;32m<ipython-input-3-26949ba15944>\u001b[0m in \u001b[0;36m<module>\u001b[1;34m\u001b[0m\n\u001b[0;32m      3\u001b[0m \u001b[1;33m\u001b[0m\u001b[0m\n\u001b[0;32m      4\u001b[0m \u001b[0mmain_page\u001b[0m \u001b[1;33m=\u001b[0m \u001b[0msoup\u001b[0m\u001b[1;33m.\u001b[0m\u001b[0mfind\u001b[0m\u001b[1;33m(\u001b[0m\u001b[0mclass_\u001b[0m \u001b[1;33m=\u001b[0m \u001b[1;34m'attractions-attraction-overview-main-TopPOIs__container--3eHZU'\u001b[0m\u001b[1;33m)\u001b[0m\u001b[1;33m\u001b[0m\u001b[1;33m\u001b[0m\u001b[0m\n\u001b[1;32m----> 5\u001b[1;33m \u001b[0mattraction_names\u001b[0m \u001b[1;33m=\u001b[0m \u001b[0mmain_page\u001b[0m\u001b[1;33m.\u001b[0m\u001b[0mfind_all\u001b[0m\u001b[1;33m(\u001b[0m\u001b[0mname\u001b[0m\u001b[1;33m=\u001b[0m\u001b[1;34m'h3'\u001b[0m\u001b[1;33m)\u001b[0m\u001b[1;33m\u001b[0m\u001b[1;33m\u001b[0m\u001b[0m\n\u001b[0m\u001b[0;32m      6\u001b[0m \u001b[0mtime\u001b[0m\u001b[1;33m.\u001b[0m\u001b[0msleep\u001b[0m\u001b[1;33m(\u001b[0m\u001b[1;36m2\u001b[0m\u001b[1;33m)\u001b[0m\u001b[1;33m\u001b[0m\u001b[1;33m\u001b[0m\u001b[0m\n\u001b[0;32m      7\u001b[0m \u001b[0mname_error\u001b[0m \u001b[1;33m=\u001b[0m \u001b[1;36m1\u001b[0m\u001b[1;33m\u001b[0m\u001b[1;33m\u001b[0m\u001b[0m\n",
      "\u001b[1;31mAttributeError\u001b[0m: 'NoneType' object has no attribute 'find_all'"
     ]
    }
   ],
   "source": [
    "html = driver.page_source\n",
    "soup = BeautifulSoup(html, 'html.parser')\n",
    "\n",
    "main_page = soup.find(class_ = 'attractions-attraction-overview-main-TopPOIs__container--3eHZU')\n",
    "attraction_names = main_page.find_all(name='h3')\n",
    "time.sleep(2)\n",
    "name_error = 1\n",
    "for attraction_name in attraction_names[:]:\n",
    "    url = str(attraction_name)\n",
    "    if name_error < 11:\n",
    "        name_start = url.find('<!-- -->') + 8\n",
    "        name_end = url.find('</h3>') \n",
    "        print(url[name_start:name_end])\n",
    "    else:\n",
    "        name_start = url.find('.') + 2\n",
    "        name_end = url.find('</h3>') \n",
    "        print(url[name_start:name_end])\n",
    "    name_error += 1\n",
    "# 1페이지 이름 크롤링 개발 완료"
   ]
  },
  {
   "cell_type": "code",
   "execution_count": 4,
   "metadata": {},
   "outputs": [
    {
     "name": "stdout",
     "output_type": "stream",
     "text": [
      "GOTO Mall\n",
      "National Museum of Modern and Contemporary Art Seoul\n",
      "Seokchon Lake\n",
      "National Palace Museum of Korea\n",
      "Hongdae Art Market Free Market\n",
      "Poopoo Land\n",
      "Jungbu Market\n",
      "Seoullo 7017\n",
      "Seoul World Cup Stadium\n",
      "Seoul City Hall\n",
      "Seolleung &amp; Jeongneung Royal Tomb\n",
      "Gwanghwamun Square\n",
      "Times Square Mall\n",
      "Lotte Department Store Main\n",
      "Seoul Central Mosque\n",
      "Samcheonggak\n",
      "63 City\n",
      "Dongdaemun History &amp; Culture Park\n",
      "Stylenanda Pink Hotel Flagship Store\n",
      "COEX Center\n",
      "Alive Museum Insadong\n",
      "Seoul International Fireworks Festival\n",
      "Ihwa Mural Village\n",
      "Sinchon\n",
      "Dongdaemun Shopping Complex\n",
      "Statue of Sejong the Great\n",
      "Arario Museum in Space\n",
      "Seoul Arts Center\n",
      "Noryangjin Fisheries Wholesale Market\n",
      "Gocheok Sky Dome\n"
     ]
    }
   ],
   "source": [
    "html = driver.page_source\n",
    "soup = BeautifulSoup(html, 'html.parser')\n",
    "\n",
    "main_page = soup.find(class_ = 'attractions-attraction-filtered-common-attraction-filtered-common__listingsContainer--2cOBG')\n",
    "attraction_names = main_page.find_all(name='h2')\n",
    "time.sleep(2)\n",
    "\n",
    "for attraction_name in attraction_names[:]:\n",
    "    url = str(attraction_name)\n",
    "    name_start = url.find('<h2>') + 4\n",
    "    name_end = url.find('</h2>')\n",
    "    print(url[name_start:name_end])\n",
    "\n",
    "# 2~6페이지 이름 크롤링 개발 완료"
   ]
  },
  {
   "cell_type": "code",
   "execution_count": 30,
   "metadata": {},
   "outputs": [],
   "source": [
    "image_url = ('https://media-cdn.tripadvisor.com/media/photo-f/08/34/de/44/from-deoksugung.jpg')\n",
    "\n",
    "image1 = requests.get(image_url).content\n",
    "\n",
    "image_name = \"asdas\"\n",
    "\n",
    "with open(image_name, 'wb') as f:\n",
    "    f.write(image1)"
   ]
  },
  {
   "cell_type": "code",
   "execution_count": 35,
   "metadata": {},
   "outputs": [
    {
     "data": {
      "text/plain": [
       "('C:\\\\Users\\\\Jeong/imagetest.jpg', <http.client.HTTPMessage at 0x1e5d6d50548>)"
      ]
     },
     "execution_count": 35,
     "metadata": {},
     "output_type": "execute_result"
    }
   ],
   "source": [
    "image_url = ('https://media-cdn.tripadvisor.com/media/photo-f/08/34/de/44/from-deoksugung.jpg')\n",
    "\n",
    "out_file = \"imagetest\"\n",
    "\n",
    "urllib.request.urlretrieve(image_url, r'C:\\Users\\Jeong/' + out_file +'.jpg')"
   ]
  },
  {
   "cell_type": "code",
   "execution_count": 10,
   "metadata": {},
   "outputs": [
    {
     "name": "stdout",
     "output_type": "stream",
     "text": [
      "https://media-cdn.tripadvisor.com/media/daodao/photo-s/05/33/4f/b4/caption.jpg\n"
     ]
    }
   ],
   "source": [
    "attr_src = \"https://media-cdn.tripadvisor.com/media/daodao/photo-s/05/33/4f/b4/caption.jpg 29\"\n",
    "if attr_src == \"https://media-cdn.tripadvisor.com/media/daodao/photo-s/05/33/4f/b4/caption.jpg 29\":\n",
    "    end_number_src = attr_src.find('29') - 1\n",
    "    attr_src = attr_src[:end_number_src]\n",
    "    print(attr_src)"
   ]
  },
  {
   "cell_type": "code",
   "execution_count": null,
   "metadata": {},
   "outputs": [],
   "source": []
  }
 ],
 "metadata": {
  "kernelspec": {
   "display_name": "Python 3",
   "language": "python",
   "name": "python3"
  },
  "language_info": {
   "codemirror_mode": {
    "name": "ipython",
    "version": 3
   },
   "file_extension": ".py",
   "mimetype": "text/x-python",
   "name": "python",
   "nbconvert_exporter": "python",
   "pygments_lexer": "ipython3",
   "version": "3.7.4"
  }
 },
 "nbformat": 4,
 "nbformat_minor": 4
}
