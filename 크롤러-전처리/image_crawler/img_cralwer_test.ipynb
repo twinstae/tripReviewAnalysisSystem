{
 "cells": [
  {
   "cell_type": "code",
   "execution_count": 1,
   "metadata": {},
   "outputs": [],
   "source": [
    "from PIL import Image\n",
    "import urllib.request\n",
    "import pandas as pd\n",
    "from selenium import webdriver\n",
    "from bs4 import BeautifulSoup\n",
    "from selenium.webdriver.support.ui import WebDriverWait\n",
    "from selenium.webdriver.support import expected_conditions as EC\n",
    "from selenium.common.exceptions import NoSuchElementException, ElementNotInteractableException, ElementClickInterceptedException, StaleElementReferenceException\n",
    "from selenium.webdriver.common.keys import Keys\n",
    "import time\n",
    "import re\n",
    "import sys\n",
    "from PyQt5.QtWidgets import *\n",
    "from PyQt5 import uic"
   ]
  },
  {
   "cell_type": "code",
   "execution_count": 25,
   "metadata": {},
   "outputs": [
    {
     "name": "stderr",
     "output_type": "stream",
     "text": [
      "C:\\Users\\Jeong\\Anaconda3\\lib\\site-packages\\ipykernel_launcher.py:8: DeprecationWarning: use options instead of chrome_options\n",
      "  \n"
     ]
    }
   ],
   "source": [
    "options = webdriver.ChromeOptions()\n",
    "options.add_argument(\"lang=en-CA\")\n",
    "options.add_argument('window-size=1920x1080')\n",
    "prefs = {\"profile.managed_default_content_settings.images\": 2}\n",
    "options.add_experimental_option(\"prefs\", prefs)\n",
    "\n",
    "driver_address = r'C:\\Users\\Jeong\\chromedriver.exe'\n",
    "driver = webdriver.Chrome(driver_address, chrome_options=options)\n",
    "wait = WebDriverWait(driver, timeout=2)\n",
    "driver.implicitly_wait(5)\n",
    "# tripadvisor에 접근한다.\n",
    "driver.get('https://www.tripadvisor.ca/Attractions-g294197-Activities-Seoul.html')\n",
    "#driver.get('https://www.tripadvisor.com/Attractions-g294197-Activities-oa30-Seoul.html')\n",
    "#원래 있던 리스트 창을 저장해둔다\n",
    "original_window = driver.current_window_handle\n",
    "\n",
    "driver.implicitly_wait(5)\n",
    "\n"
   ]
  },
  {
   "cell_type": "code",
   "execution_count": 12,
   "metadata": {},
   "outputs": [
    {
     "name": "stdout",
     "output_type": "stream",
     "text": [
      "\n",
      "\n",
      "\n",
      "\n",
      "\n",
      "\n",
      "\n"
     ]
    },
    {
     "ename": "KeyboardInterrupt",
     "evalue": "",
     "output_type": "error",
     "traceback": [
      "\u001b[1;31m---------------------------------------------------------------------------\u001b[0m",
      "\u001b[1;31mKeyboardInterrupt\u001b[0m                         Traceback (most recent call last)",
      "\u001b[1;32m<ipython-input-12-bf32e7035880>\u001b[0m in \u001b[0;36m<module>\u001b[1;34m\u001b[0m\n\u001b[0;32m     10\u001b[0m     \u001b[0msrc_start\u001b[0m \u001b[1;33m=\u001b[0m \u001b[0murl\u001b[0m\u001b[1;33m.\u001b[0m\u001b[0mfind\u001b[0m\u001b[1;33m(\u001b[0m\u001b[1;34m'150w'\u001b[0m\u001b[1;33m)\u001b[0m \u001b[1;33m+\u001b[0m \u001b[1;36m6\u001b[0m\u001b[1;33m\u001b[0m\u001b[1;33m\u001b[0m\u001b[0m\n\u001b[0;32m     11\u001b[0m     \u001b[0msrc_end\u001b[0m \u001b[1;33m=\u001b[0m \u001b[0murl\u001b[0m\u001b[1;33m.\u001b[0m\u001b[0mfind\u001b[0m\u001b[1;33m(\u001b[0m\u001b[1;34m'jpg'\u001b[0m\u001b[1;33m)\u001b[0m \u001b[1;33m+\u001b[0m \u001b[1;36m3\u001b[0m\u001b[1;33m\u001b[0m\u001b[1;33m\u001b[0m\u001b[0m\n\u001b[1;32m---> 12\u001b[1;33m     \u001b[0mtime\u001b[0m\u001b[1;33m.\u001b[0m\u001b[0msleep\u001b[0m\u001b[1;33m(\u001b[0m\u001b[1;36m2\u001b[0m\u001b[1;33m)\u001b[0m\u001b[1;33m\u001b[0m\u001b[1;33m\u001b[0m\u001b[0m\n\u001b[0m\u001b[0;32m     13\u001b[0m \u001b[1;33m\u001b[0m\u001b[0m\n\u001b[0;32m     14\u001b[0m     \u001b[0mprint\u001b[0m\u001b[1;33m(\u001b[0m\u001b[0murl\u001b[0m\u001b[1;33m[\u001b[0m\u001b[0msrc_start\u001b[0m\u001b[1;33m:\u001b[0m\u001b[0msrc_end\u001b[0m\u001b[1;33m]\u001b[0m\u001b[1;33m)\u001b[0m\u001b[1;33m\u001b[0m\u001b[1;33m\u001b[0m\u001b[0m\n",
      "\u001b[1;31mKeyboardInterrupt\u001b[0m: "
     ]
    }
   ],
   "source": [
    "html = driver.page_source\n",
    "soup = BeautifulSoup(html, 'html.parser')\n",
    "\n",
    "main_page = soup.find(class_ = 'attractions-attraction-overview-main-TopPOIs__container--3eHZU')\n",
    "attraction_elements = main_page.find_all(name='img')\n",
    "time.sleep(2)\n",
    "\n",
    "for attraction_element in attraction_elements[:]:\n",
    "    url = str(attraction_element)\n",
    "    src_start = url.find('150w') + 5\n",
    "    time.sleep(2)\n",
    "    url_w = url[src_start:]\n",
    "    src_end = url_w.find('w,https') - 4\n",
    "    print(url_w[:src_end])"
   ]
  },
  {
   "cell_type": "code",
   "execution_count": 27,
   "metadata": {},
   "outputs": [
    {
     "name": "stdout",
     "output_type": "stream",
     "text": [
      "https://media-cdn.tripadvisor.com/media/photo-f/15/6a/f8/e8/palace.jpg\n",
      "https://media-cdn.tripadvisor.com/media/photo-f/09/70/71/11/bukhansan-national-park.jpg\n",
      "https://media-cdn.tripadvisor.com/media/photo-f/12/f8/f7/ca/myeongdong-shopping-street.jpg\n",
      "https://media-cdn.tripadvisor.com/media/photo-f/16/19/5e/41/entrance.jpg\n",
      "https://media-cdn.tripadvisor.com/media/photo-f/09/e5/01/9f/the-war-memorial-of-korea.jpg\n",
      "https://media-cdn.tripadvisor.com/media/daodao/photo-f/11/24/a9/f5/caption.jpg\n",
      "https://media-cdn.tripadvisor.com/media/photo-f/0b/a4/a2/cd/photo1jpg.jpg\n",
      "https://media-cdn.tripadvisor.com/media/photo-f/0e/db/9d/22/riding-on-a-dragon.jpg\n",
      "https://media-cdn.tripadvisor.com/media/photo-f/0e/f3/03/2c/event-for-1st-day-of.jpg\n",
      "https://media-cdn.tripadvisor.com/media/photo-f/12/18/24/20/supertrein.jpg\n",
      "https://media-cdn.tripadvisor.com/media/photo-f/02/1b/7a/29/caption.jpg\n",
      "https://media-cdn.tripadvisor.com/media/photo-f/01/f9/33/b0/caption.jpg\n",
      "https://media-cdn.tripadvisor.com/media/photo-f/02/1f/d3/4c/caption.jpg\n",
      "https://media-cdn.tripadvisor.com/media/photo-f/0e/55/29/27/great-scenic-view-of.jpg\n",
      "https://media-cdn.tripadvisor.com/media/photo-f/04/35/04/dd/myeongdong-nanta-theatre.jpg\n",
      "https://media-cdn.tripadvisor.com/media/photo-f/05/e6/33/ce/cheonggyecheon.jpg\n",
      "https://media-cdn.tripadvisor.com/media/photo-f/10/ea/7f/bb/jogyesa-temple.jpg\n",
      "https://media-cdn.tripadvisor.com/media/photo-f/10/9f/ed/b6/photo4jpg.jpg\n",
      "https://media-cdn.tripadvisor.com/media/photo-f/07/7e/82/96/haneul-park.jpg\n",
      "https://media-cdn.tripadvisor.com/media/photo-f/16/46/54/8a/photo1jpg.jpg\n",
      "https://media-cdn.tripadvisor.com/media/photo-f/0f/80/4a/2e/photo0jpg.jpg\n",
      "https://media-cdn.tripadvisor.com/media/photo-f/0e/18/b7/53/caption.jpg\n",
      "https://media-cdn.tripadvisor.com/media/photo-f/14/c6/4f/9c/dongdaemun-design-plaza.jpg\n",
      "https://media-cdn.tripadvisor.com/media/photo-f/12/a0/c3/97/uri-mh1523636862808-largejpg.jpg\n",
      "https://media-cdn.tripadvisor.com/media/photo-f/18/2b/25/bc/traditional-market.jpg\n",
      "https://media-cdn.tripadvisor.com/media/photo-f/13/23/bb/d3/fb-img-1527887767689.jpg\n",
      "https://media-cdn.tripadvisor.com/media/photo-f/0f/c4/54/d1/dsc-4703-largejpg.jpg\n",
      "https://media-cdn.tripadvisor.com/media/photo-f/0d/59/c7/5a/views.jpg\n",
      "https://media-cdn.tripadvisor.com/media/photo-f/1a/17/4e/86/leeum-leeum-samsung-museum.jpg\n",
      "https://media-cdn.tripadvisor.com/media/photo-f/0f/08/24/67/seoul-sky-observatory.jpg\n"
     ]
    }
   ],
   "source": [
    "html = driver.page_source\n",
    "soup = BeautifulSoup(html, 'html.parser')\n",
    "\n",
    "main_page = soup.find(class_ = 'attractions-attraction-overview-main-TopPOIs__container--3eHZU')\n",
    "attraction_elements = main_page.find_all(name='img')\n",
    "time.sleep(2)\n",
    "\n",
    "for attraction_element in attraction_elements[:]:\n",
    "    url = str(attraction_element)\n",
    "    src_start = url.find('150w') + 6\n",
    "    \n",
    "    url_w = url[src_start:]\n",
    "    src_end = url_w.find('w, https') -4\n",
    "    print(url_w[:src_end])\n",
    "    \n",
    "# 1페이지 이미지 크롤링 전용 개발, 완성"
   ]
  },
  {
   "cell_type": "code",
   "execution_count": 23,
   "metadata": {},
   "outputs": [
    {
     "name": "stdout",
     "output_type": "stream",
     "text": [
      "<img alt=\"Gyeongbokgung Palace\" data-url=\"https://media-cdn.tripadvisor.com/media/photo-l/15/6a/f8/e8/palace.jpg 150w, https://media-cdn.tripadvisor.com/media/photo-f/15/6a/f8/e8/palace.jpg 250w, https://media-cdn.tripadvisor.com/media/photo-s/15/6a/f8/e8/palace.jpg 550w\"/>\n",
      "<img alt=\"Bukhansan National Park\" data-url=\"https://media-cdn.tripadvisor.com/media/photo-l/09/70/71/11/bukhansan-national-park.jpg 150w, https://media-cdn.tripadvisor.com/media/photo-f/09/70/71/11/bukhansan-national-park.jpg 250w, https://media-cdn.tripadvisor.com/media/photo-s/09/70/71/11/bukhansan-national-park.jpg 550w\"/>\n",
      "<img alt=\"Myeongdong Shopping Street\" class=\"_2P5uBdMn\" src=\"https://media-cdn.tripadvisor.com/media/photo-s/12/f8/f7/ca/myeongdong-shopping-street.jpg\" srcset=\"https://media-cdn.tripadvisor.com/media/photo-l/12/f8/f7/ca/myeongdong-shopping-street.jpg 150w, https://media-cdn.tripadvisor.com/media/photo-f/12/f8/f7/ca/myeongdong-shopping-street.jpg 250w, https://media-cdn.tripadvisor.com/media/photo-s/12/f8/f7/ca/myeongdong-shopping-street.jpg 550w\"/>\n",
      "<img alt=\"Changdeokgung Palace\" class=\"_2P5uBdMn\" src=\"https://media-cdn.tripadvisor.com/media/photo-s/16/19/5e/41/entrance.jpg\" srcset=\"https://media-cdn.tripadvisor.com/media/photo-l/16/19/5e/41/entrance.jpg 150w, https://media-cdn.tripadvisor.com/media/photo-f/16/19/5e/41/entrance.jpg 250w, https://media-cdn.tripadvisor.com/media/photo-s/16/19/5e/41/entrance.jpg 550w\"/>\n",
      "<img alt=\"The War Memorial of Korea\" class=\"_2P5uBdMn\" src=\"https://media-cdn.tripadvisor.com/media/photo-s/09/e5/01/9f/the-war-memorial-of-korea.jpg\" srcset=\"https://media-cdn.tripadvisor.com/media/photo-l/09/e5/01/9f/the-war-memorial-of-korea.jpg 150w, https://media-cdn.tripadvisor.com/media/photo-f/09/e5/01/9f/the-war-memorial-of-korea.jpg 250w, https://media-cdn.tripadvisor.com/media/photo-s/09/e5/01/9f/the-war-memorial-of-korea.jpg 550w\"/>\n",
      "<img alt=\"National Museum of Korea\" class=\"_2P5uBdMn\" src=\"https://media-cdn.tripadvisor.com/media/daodao/photo-s/11/24/a9/f5/caption.jpg\" srcset=\"https://media-cdn.tripadvisor.com/media/daodao/photo-l/11/24/a9/f5/caption.jpg 150w, https://media-cdn.tripadvisor.com/media/daodao/photo-f/11/24/a9/f5/caption.jpg 250w, https://media-cdn.tripadvisor.com/media/daodao/photo-s/11/24/a9/f5/caption.jpg 550w\"/>\n",
      "<img alt=\"Insadong\" class=\"_2P5uBdMn\" src=\"https://media-cdn.tripadvisor.com/media/photo-s/0b/a4/a2/cd/photo1jpg.jpg\" srcset=\"https://media-cdn.tripadvisor.com/media/photo-l/0b/a4/a2/cd/photo1jpg.jpg 150w, https://media-cdn.tripadvisor.com/media/photo-f/0b/a4/a2/cd/photo1jpg.jpg 250w, https://media-cdn.tripadvisor.com/media/photo-s/0b/a4/a2/cd/photo1jpg.jpg 550w\"/>\n",
      "<img alt=\"Trickeye Museum Seoul\" class=\"_2P5uBdMn\" src=\"https://media-cdn.tripadvisor.com/media/photo-s/0e/db/9d/22/riding-on-a-dragon.jpg\" srcset=\"https://media-cdn.tripadvisor.com/media/photo-l/0e/db/9d/22/riding-on-a-dragon.jpg 150w, https://media-cdn.tripadvisor.com/media/photo-f/0e/db/9d/22/riding-on-a-dragon.jpg 250w, https://media-cdn.tripadvisor.com/media/photo-s/0e/db/9d/22/riding-on-a-dragon.jpg 550w\"/>\n",
      "<img alt=\"Lotte World Tower &amp; Mall\" class=\"_2P5uBdMn\" src=\"https://media-cdn.tripadvisor.com/media/photo-s/0e/f3/03/2c/event-for-1st-day-of.jpg\" srcset=\"https://media-cdn.tripadvisor.com/media/photo-l/0e/f3/03/2c/event-for-1st-day-of.jpg 150w, https://media-cdn.tripadvisor.com/media/photo-f/0e/f3/03/2c/event-for-1st-day-of.jpg 250w, https://media-cdn.tripadvisor.com/media/photo-s/0e/f3/03/2c/event-for-1st-day-of.jpg 550w\"/>\n",
      "<img alt=\"KTX (Korea Train Express)\" class=\"_2P5uBdMn\" src=\"https://media-cdn.tripadvisor.com/media/photo-s/12/18/24/20/supertrein.jpg\" srcset=\"https://media-cdn.tripadvisor.com/media/photo-l/12/18/24/20/supertrein.jpg 150w, https://media-cdn.tripadvisor.com/media/photo-f/12/18/24/20/supertrein.jpg 250w, https://media-cdn.tripadvisor.com/media/photo-s/12/18/24/20/supertrein.jpg 550w\"/>\n",
      "<img alt=\"Seoul Metro\" class=\"_2P5uBdMn\" src=\"https://media-cdn.tripadvisor.com/media/photo-s/02/1b/7a/29/caption.jpg\" srcset=\"https://media-cdn.tripadvisor.com/media/photo-l/02/1b/7a/29/caption.jpg 150w, https://media-cdn.tripadvisor.com/media/photo-f/02/1b/7a/29/caption.jpg 250w, https://media-cdn.tripadvisor.com/media/photo-s/02/1b/7a/29/caption.jpg 550w\"/>\n",
      "<img alt=\"Hangang Park\" class=\"_2P5uBdMn\" src=\"https://media-cdn.tripadvisor.com/media/photo-s/01/f9/33/b0/caption.jpg\" srcset=\"https://media-cdn.tripadvisor.com/media/photo-l/01/f9/33/b0/caption.jpg 150w, https://media-cdn.tripadvisor.com/media/photo-f/01/f9/33/b0/caption.jpg 250w, https://media-cdn.tripadvisor.com/media/photo-s/01/f9/33/b0/caption.jpg 550w\"/>\n",
      "<img alt=\"N Seoul Tower\" class=\"\" src=\"https://media-cdn.tripadvisor.com/media/photo-s/02/1f/d3/4c/caption.jpg\" srcset=\"https://media-cdn.tripadvisor.com/media/photo-l/02/1f/d3/4c/caption.jpg 150w, https://media-cdn.tripadvisor.com/media/photo-f/02/1f/d3/4c/caption.jpg 153w, https://media-cdn.tripadvisor.com/media/photo-s/02/1f/d3/4c/caption.jpg 337w\"/>\n",
      "<img alt=\"Namsan Park\" class=\"_2P5uBdMn\" src=\"https://media-cdn.tripadvisor.com/media/photo-s/0e/55/29/27/great-scenic-view-of.jpg\" srcset=\"https://media-cdn.tripadvisor.com/media/photo-l/0e/55/29/27/great-scenic-view-of.jpg 150w, https://media-cdn.tripadvisor.com/media/photo-f/0e/55/29/27/great-scenic-view-of.jpg 250w, https://media-cdn.tripadvisor.com/media/photo-s/0e/55/29/27/great-scenic-view-of.jpg 550w\"/>\n",
      "<img alt=\"Myeongdong NANTA Theater\" class=\"_2P5uBdMn\" src=\"https://media-cdn.tripadvisor.com/media/photo-s/04/35/04/dd/myeongdong-nanta-theatre.jpg\" srcset=\"https://media-cdn.tripadvisor.com/media/photo-l/04/35/04/dd/myeongdong-nanta-theatre.jpg 150w, https://media-cdn.tripadvisor.com/media/photo-f/04/35/04/dd/myeongdong-nanta-theatre.jpg 250w, https://media-cdn.tripadvisor.com/media/photo-s/04/35/04/dd/myeongdong-nanta-theatre.jpg 550w\"/>\n",
      "<img alt=\"Cheonggyecheon Stream\" class=\"_2P5uBdMn\" src=\"https://media-cdn.tripadvisor.com/media/photo-s/05/e6/33/ce/cheonggyecheon.jpg\" srcset=\"https://media-cdn.tripadvisor.com/media/photo-l/05/e6/33/ce/cheonggyecheon.jpg 150w, https://media-cdn.tripadvisor.com/media/photo-f/05/e6/33/ce/cheonggyecheon.jpg 250w, https://media-cdn.tripadvisor.com/media/photo-s/05/e6/33/ce/cheonggyecheon.jpg 550w\"/>\n",
      "<img alt=\"Jogyesa Temple\" class=\"_2P5uBdMn\" src=\"https://media-cdn.tripadvisor.com/media/photo-s/10/ea/7f/bb/jogyesa-temple.jpg\" srcset=\"https://media-cdn.tripadvisor.com/media/photo-l/10/ea/7f/bb/jogyesa-temple.jpg 150w, https://media-cdn.tripadvisor.com/media/photo-f/10/ea/7f/bb/jogyesa-temple.jpg 250w, https://media-cdn.tripadvisor.com/media/photo-s/10/ea/7f/bb/jogyesa-temple.jpg 550w\"/>\n",
      "<img alt=\"Bongeunsa Temple\" class=\"_2P5uBdMn\" src=\"https://media-cdn.tripadvisor.com/media/photo-s/10/9f/ed/b6/photo4jpg.jpg\" srcset=\"https://media-cdn.tripadvisor.com/media/photo-l/10/9f/ed/b6/photo4jpg.jpg 150w, https://media-cdn.tripadvisor.com/media/photo-f/10/9f/ed/b6/photo4jpg.jpg 250w, https://media-cdn.tripadvisor.com/media/photo-s/10/9f/ed/b6/photo4jpg.jpg 550w\"/>\n",
      "<img alt=\"Haneul Park\" class=\"_2P5uBdMn\" src=\"https://media-cdn.tripadvisor.com/media/photo-s/07/7e/82/96/haneul-park.jpg\" srcset=\"https://media-cdn.tripadvisor.com/media/photo-l/07/7e/82/96/haneul-park.jpg 150w, https://media-cdn.tripadvisor.com/media/photo-f/07/7e/82/96/haneul-park.jpg 250w, https://media-cdn.tripadvisor.com/media/photo-s/07/7e/82/96/haneul-park.jpg 550w\"/>\n",
      "<img alt=\"Bukchon Hanok Village\" class=\"_2P5uBdMn\" src=\"https://media-cdn.tripadvisor.com/media/photo-s/16/46/54/8a/photo1jpg.jpg\" srcset=\"https://media-cdn.tripadvisor.com/media/photo-l/16/46/54/8a/photo1jpg.jpg 150w, https://media-cdn.tripadvisor.com/media/photo-f/16/46/54/8a/photo1jpg.jpg 250w, https://media-cdn.tripadvisor.com/media/photo-s/16/46/54/8a/photo1jpg.jpg 550w\"/>\n",
      "<img alt=\"Hongik University Street\" class=\"_2P5uBdMn\" src=\"https://media-cdn.tripadvisor.com/media/photo-s/0f/80/4a/2e/photo0jpg.jpg\" srcset=\"https://media-cdn.tripadvisor.com/media/photo-l/0f/80/4a/2e/photo0jpg.jpg 150w, https://media-cdn.tripadvisor.com/media/photo-f/0f/80/4a/2e/photo0jpg.jpg 250w, https://media-cdn.tripadvisor.com/media/photo-s/0f/80/4a/2e/photo0jpg.jpg 550w\"/>\n",
      "<img alt=\"Ewha Womans University\" class=\"_2P5uBdMn\" src=\"https://media-cdn.tripadvisor.com/media/photo-s/0e/18/b7/53/caption.jpg\" srcset=\"https://media-cdn.tripadvisor.com/media/photo-l/0e/18/b7/53/caption.jpg 150w, https://media-cdn.tripadvisor.com/media/photo-f/0e/18/b7/53/caption.jpg 250w, https://media-cdn.tripadvisor.com/media/photo-s/0e/18/b7/53/caption.jpg 550w\"/>\n",
      "<img alt=\"Dongdaemun Design Plaza (DDP)\" class=\"_2P5uBdMn\" src=\"https://media-cdn.tripadvisor.com/media/photo-s/14/c6/4f/9c/dongdaemun-design-plaza.jpg\" srcset=\"https://media-cdn.tripadvisor.com/media/photo-l/14/c6/4f/9c/dongdaemun-design-plaza.jpg 150w, https://media-cdn.tripadvisor.com/media/photo-f/14/c6/4f/9c/dongdaemun-design-plaza.jpg 250w, https://media-cdn.tripadvisor.com/media/photo-s/14/c6/4f/9c/dongdaemun-design-plaza.jpg 550w\"/>\n",
      "<img alt=\"Starfield Library\" class=\"_2P5uBdMn\" src=\"https://media-cdn.tripadvisor.com/media/photo-s/12/a0/c3/97/uri-mh1523636862808-largejpg.jpg\" srcset=\"https://media-cdn.tripadvisor.com/media/photo-l/12/a0/c3/97/uri-mh1523636862808-largejpg.jpg 150w, https://media-cdn.tripadvisor.com/media/photo-f/12/a0/c3/97/uri-mh1523636862808-largejpg.jpg 250w, https://media-cdn.tripadvisor.com/media/photo-s/12/a0/c3/97/uri-mh1523636862808-largejpg.jpg 550w\"/>\n",
      "<img alt=\"Kwangjang Market\" data-url=\"https://media-cdn.tripadvisor.com/media/photo-l/18/2b/25/bc/traditional-market.jpg 150w, https://media-cdn.tripadvisor.com/media/photo-f/18/2b/25/bc/traditional-market.jpg 250w, https://media-cdn.tripadvisor.com/media/photo-s/18/2b/25/bc/traditional-market.jpg 550w\"/>\n",
      "<img alt=\"Love Museum\" data-url=\"https://media-cdn.tripadvisor.com/media/photo-l/13/23/bb/d3/fb-img-1527887767689.jpg 150w, https://media-cdn.tripadvisor.com/media/photo-f/13/23/bb/d3/fb-img-1527887767689.jpg 250w, https://media-cdn.tripadvisor.com/media/photo-s/13/23/bb/d3/fb-img-1527887767689.jpg 550w\"/>\n",
      "<img alt=\"Seoul Forest\" data-url=\"https://media-cdn.tripadvisor.com/media/photo-l/0f/c4/54/d1/dsc-4703-largejpg.jpg 150w, https://media-cdn.tripadvisor.com/media/photo-f/0f/c4/54/d1/dsc-4703-largejpg.jpg 250w, https://media-cdn.tripadvisor.com/media/photo-s/0f/c4/54/d1/dsc-4703-largejpg.jpg 550w\"/>\n",
      "<img alt=\"Yeouido Hangang Park\" data-url=\"https://media-cdn.tripadvisor.com/media/photo-l/0d/59/c7/5a/views.jpg 150w, https://media-cdn.tripadvisor.com/media/photo-f/0d/59/c7/5a/views.jpg 250w, https://media-cdn.tripadvisor.com/media/photo-s/0d/59/c7/5a/views.jpg 550w\"/>\n",
      "<img alt=\"Leeum Samsung Museum of Art\" data-url=\"https://media-cdn.tripadvisor.com/media/photo-l/1a/17/4e/86/leeum-leeum-samsung-museum.jpg 150w, https://media-cdn.tripadvisor.com/media/photo-f/1a/17/4e/86/leeum-leeum-samsung-museum.jpg 250w, https://media-cdn.tripadvisor.com/media/photo-s/1a/17/4e/86/leeum-leeum-samsung-museum.jpg 550w\"/>\n",
      "<img alt=\"Seoul Sky\" data-url=\"https://media-cdn.tripadvisor.com/media/photo-l/0f/08/24/67/seoul-sky-observatory.jpg 150w, https://media-cdn.tripadvisor.com/media/photo-f/0f/08/24/67/seoul-sky-observatory.jpg 154w, https://media-cdn.tripadvisor.com/media/photo-s/0f/08/24/67/seoul-sky-observatory.jpg 338w\"/>\n"
     ]
    }
   ],
   "source": [
    "html = driver.page_source\n",
    "soup = BeautifulSoup(html, 'html.parser')\n",
    "\n",
    "main_page = soup.find(class_ = 'attractions-attraction-overview-main-TopPOIs__container--3eHZU')\n",
    "attraction_elements = main_page.find_all(name='img')\n",
    "time.sleep(2)\n",
    "\n",
    "for attraction_element in attraction_elements[:]:\n",
    "    url = str(attraction_element)\n",
    "\n",
    "    print(url)"
   ]
  },
  {
   "cell_type": "code",
   "execution_count": 13,
   "metadata": {},
   "outputs": [
    {
     "name": "stdout",
     "output_type": "stream",
     "text": [
      "\"Gyeongbokgung Palace\" class=\"\" src=\"https://media-cdn.tripadvisor.com/media/photo-s/15/6a/f8/e8/palace.jpg\n",
      "\"Bukhansan National Park\" class=\"\" src=\"https://media-cdn.tripadvisor.com/media/photo-s/09/70/71/11/bukhansan-national-park.jpg\n",
      "\"Myeongdong Shopping Street\" class=\"_2P5uBdMn\" src=\"https://media-cdn.tripadvisor.com/media/photo-s/12/f8/f7/ca/myeongdong-shopping-street.jpg\n",
      "\"Changdeokgung Palace\" class=\"_2P5uBdMn\" src=\"https://media-cdn.tripadvisor.com/media/photo-s/16/19/5e/41/entrance.jpg\n",
      "\"The War Memorial of Korea\" class=\"_2P5uBdMn\" src=\"https://media-cdn.tripadvisor.com/media/photo-s/09/e5/01/9f/the-war-memorial-of-korea.jpg\n",
      "\"National Museum of Korea\" class=\"_2P5uBdMn\" src=\"https://media-cdn.tripadvisor.com/media/daodao/photo-s/11/24/a9/f5/caption.jpg\n",
      "\"Insadong\" class=\"_2P5uBdMn\" src=\"https://media-cdn.tripadvisor.com/media/photo-s/0b/a4/a2/cd/photo1jpg.jpg\n",
      "\"Trickeye Museum Seoul\" class=\"_2P5uBdMn\" src=\"https://media-cdn.tripadvisor.com/media/photo-s/0e/db/9d/22/riding-on-a-dragon.jpg\n",
      "\"Lotte World Tower &amp; Mall\" class=\"_2P5uBdMn\" src=\"https://media-cdn.tripadvisor.com/media/photo-s/0e/f3/03/2c/event-for-1st-day-of.jpg\n",
      "\"KTX (Korea Train Express)\" class=\"_2P5uBdMn\" src=\"https://media-cdn.tripadvisor.com/media/photo-s/12/18/24/20/supertrein.jpg\n",
      "\"Seoul Metro\" class=\"_2P5uBdMn\" src=\"https://media-cdn.tripadvisor.com/media/photo-s/02/1b/7a/29/caption.jpg\n",
      "\"Hangang Park\" class=\"_2P5uBdMn\" src=\"https://media-cdn.tripadvisor.com/media/photo-s/01/f9/33/b0/caption.jpg\n",
      "\"N Seoul Tower\" class=\"\" src=\"https://media-cdn.tripadvisor.com/media/photo-s/02/1f/d3/4c/caption.jpg\n",
      "\"Namsan Park\" class=\"_2P5uBdMn\" src=\"https://media-cdn.tripadvisor.com/media/photo-s/0e/55/29/27/great-scenic-view-of.jpg\n",
      "\"Myeongdong NANTA Theater\" class=\"_2P5uBdMn\" src=\"https://media-cdn.tripadvisor.com/media/photo-s/04/35/04/dd/myeongdong-nanta-theatre.jpg\n",
      "\"Cheonggyecheon Stream\" class=\"_2P5uBdMn\" src=\"https://media-cdn.tripadvisor.com/media/photo-s/05/e6/33/ce/cheonggyecheon.jpg\n",
      "\"Jogyesa Temple\" class=\"_2P5uBdMn\" src=\"https://media-cdn.tripadvisor.com/media/photo-s/10/ea/7f/bb/jogyesa-temple.jpg\n",
      "\"Bongeunsa Temple\" class=\"_2P5uBdMn\" src=\"https://media-cdn.tripadvisor.com/media/photo-s/10/9f/ed/b6/photo4jpg.jpg\n",
      "https://media-cdn.tripadvisor.com/media/photo-l/07/7e/82/96/haneul-park.jpg\n",
      "https://media-cdn.tripadvisor.com/media/photo-l/16/46/54/8a/photo1jpg.jpg\n",
      "https://media-cdn.tripadvisor.com/media/photo-l/0f/80/4a/2e/photo0jpg.jpg\n",
      "https://media-cdn.tripadvisor.com/media/photo-l/0e/18/b7/53/caption.jpg\n",
      "https://media-cdn.tripadvisor.com/media/photo-l/14/c6/4f/9c/dongdaemun-design-plaza.jpg\n",
      "https://media-cdn.tripadvisor.com/media/photo-l/12/a0/c3/97/uri-mh1523636862808-largejpg.jpg\n",
      "\"Kwangjang Market\" class=\"_2P5uBdMn\" src=\"https://media-cdn.tripadvisor.com/media/photo-s/18/2b/25/bc/traditional-market.jpg\n",
      "\"Love Museum\" class=\"_2P5uBdMn\" src=\"https://media-cdn.tripadvisor.com/media/photo-s/13/23/bb/d3/fb-img-1527887767689.jpg\n",
      "\"Seoul Forest\" class=\"_2P5uBdMn\" src=\"https://media-cdn.tripadvisor.com/media/photo-s/0f/c4/54/d1/dsc-4703-largejpg.jpg\n",
      "\"Yeouido Hangang Park\" class=\"_2P5uBdMn\" src=\"https://media-cdn.tripadvisor.com/media/photo-s/0d/59/c7/5a/views.jpg\n",
      "\"Leeum Samsung Museum of Art\" class=\"_2P5uBdMn\" src=\"https://media-cdn.tripadvisor.com/media/photo-s/1a/17/4e/86/leeum-leeum-samsung-museum.jpg\n",
      "\"Seoul Sky\" class=\"\" src=\"https://media-cdn.tripadvisor.com/media/photo-s/0f/08/24/67/seoul-sky-observatory.jpg\n"
     ]
    }
   ],
   "source": [
    "for attraction_element in attraction_elements[:]:\n",
    "    url = str(attraction_element)\n",
    "    src_start = url.find('data-url') + 10\n",
    "    src_end = url.find('.jpg') + 4\n",
    "    time.sleep(2)\n",
    "    \n",
    "    print(url[src_start:src_end])"
   ]
  },
  {
   "cell_type": "code",
   "execution_count": 19,
   "metadata": {},
   "outputs": [
    {
     "name": "stdout",
     "output_type": "stream",
     "text": [
      "\n",
      "\n",
      "\n",
      "\n",
      "\n",
      "\n",
      "\n",
      "\n",
      "\n",
      "\n",
      "\n",
      "\n",
      "\n",
      "\n",
      "\n",
      "\n",
      "\n",
      "\n",
      "\n",
      "\n",
      "\n",
      "\n",
      "\n",
      "\n",
      "\n",
      "\n",
      "\n",
      "\n",
      "\n",
      "\n"
     ]
    }
   ],
   "source": [
    "main_page = driver.find_element_by_class_name('attractions-attraction-filtered-common-attraction-filtered-common__listingsContainer--2cOBG')\n",
    "attraction_elements = main_page.find_elements_by_class_name('_1SVhvMXu')\n",
    "\n",
    "time.sleep(2)\n",
    "\n",
    "for attraction_element in attraction_elements:\n",
    "\n",
    "    url = attraction_element.find_element_by_tag_name('img')\n",
    "    \n",
    "    print(str(url.get_attribute('innerHTML')))"
   ]
  },
  {
   "cell_type": "code",
   "execution_count": null,
   "metadata": {},
   "outputs": [],
   "source": []
  }
 ],
 "metadata": {
  "kernelspec": {
   "display_name": "Python 3",
   "language": "python",
   "name": "python3"
  },
  "language_info": {
   "codemirror_mode": {
    "name": "ipython",
    "version": 3
   },
   "file_extension": ".py",
   "mimetype": "text/x-python",
   "name": "python",
   "nbconvert_exporter": "python",
   "pygments_lexer": "ipython3",
   "version": "3.7.4"
  }
 },
 "nbformat": 4,
 "nbformat_minor": 4
}
