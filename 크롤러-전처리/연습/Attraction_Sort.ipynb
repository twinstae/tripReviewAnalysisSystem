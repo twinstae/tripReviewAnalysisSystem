{
 "cells": [
  {
   "cell_type": "code",
   "execution_count": 2,
   "metadata": {},
   "outputs": [],
   "source": [
    "from selenium import webdriver\n",
    "from bs4 import BeautifulSoup\n",
    "from selenium.webdriver.support.ui import WebDriverWait\n",
    "from selenium.webdriver.support import expected_conditions as EC\n",
    "from selenium.common.exceptions import NoSuchElementException\n",
    "from pandas import Series, DataFrame\n",
    "from selenium.webdriver.common.keys import Keys\n",
    "import time\n",
    "import re"
   ]
  },
  {
   "cell_type": "code",
   "execution_count": null,
   "metadata": {},
   "outputs": [],
   "source": []
  },
  {
   "cell_type": "code",
   "execution_count": 6,
   "metadata": {},
   "outputs": [],
   "source": [
    "def sort_test():\n",
    "    Sort = []\n",
    "    columns = ['name','big sortig','small sorting','address']\n",
    "    xpath = \"\"\"//*[@id=\"component_20\"]/div/div/div[1]/div[1]/div/div/div[2]/div/ul/li[3]/span/div/span[5]/a\"\"\"\n",
    "    driver.find_elements_by_xpath(xpath).click()\n",
    "    #more부분 클릭\n",
    "    html = driver.page_source\n",
    "    soup = BeautifulSoup(html, 'html.parser')\n",
    "    Sortings = soup.find_all(class_ = 'attractions-attraction-review-atf-AttractionReviewATFLayout__atf_left_column--1ogzd')\n",
    "# 원하는 정보가 담겨있는 전체 페이지 선택\n",
    "    for Sorting in Sortings:\n",
    "        try:\n",
    "            Sort = [\n",
    "                Sorting.find('h1', class_='ui_header h1').get_text(),\n",
    "                Sorting.find('a', class_ = 'attractions-attraction-review-header-AttractionLinks__dotted_link--Pt2MP').contents[0].string,\n",
    "                Sorting.find('a', class_ = 'attractions-attraction-review-header-AttractionLinks__dotted_link--Pt2MP').contents[1].string,\n",
    "                Sorting.find('span', class_='attractions-attraction-review-atf-overview-card-Address__address--1QyPi').get.text()\n",
    "            ]\n",
    "        except IndexError:\n",
    "            #아무도 helpful이나 vote를 누르지 않은 에러, 무시하고 계속\n",
    "            continue\n",
    "        except AttributeError:\n",
    "            #주소를 공개하지 않는 에러, 무시하고 계속\n",
    "            continue\n",
    "        reviews.append(review)\n",
    "\n",
    "    return DataFrame(reviews, columns = columns)        "
   ]
  },
  {
   "cell_type": "code",
   "execution_count": 8,
   "metadata": {},
   "outputs": [
    {
     "name": "stderr",
     "output_type": "stream",
     "text": [
      "C:\\Users\\taehee\\Anaconda3\\lib\\site-packages\\ipykernel_launcher.py:6: DeprecationWarning: use options instead of chrome_options\n",
      "  \n"
     ]
    }
   ],
   "source": [
    "options = webdriver.ChromeOptions()\n",
    "options.add_argument(\"lang=en-CA\")\n",
    "options.add_argument('window-size=1920x1080')\n",
    "\n",
    "driver_address = 'C:/Users/taehee/Downloads/chromedriver_win32/chromedriver'\n",
    "driver = webdriver.Chrome(driver_address, chrome_options=options)\n",
    "wait = WebDriverWait(driver,timeout=2)\n",
    "driver.implicitly_wait(5)\n",
    "driver.get('https://www.tripadvisor.com/Attractions-g294197-Activities-Seoul.html')\n",
    "original_window = driver.current_window_handle\n",
    "xpath = \"\"\"//*[@id=\"FILTERED_LIST\"]/div[4]\"\"\"\n",
    "driver.find_element_by_xpath(xpath).click()"
   ]
  },
  {
   "cell_type": "code",
   "execution_count": null,
   "metadata": {},
   "outputs": [],
   "source": []
  },
  {
   "cell_type": "code",
   "execution_count": null,
   "metadata": {},
   "outputs": [],
   "source": []
  },
  {
   "cell_type": "code",
   "execution_count": null,
   "metadata": {},
   "outputs": [],
   "source": []
  },
  {
   "cell_type": "code",
   "execution_count": null,
   "metadata": {},
   "outputs": [],
   "source": []
  },
  {
   "cell_type": "code",
   "execution_count": null,
   "metadata": {},
   "outputs": [],
   "source": []
  }
 ],
 "metadata": {
  "kernelspec": {
   "display_name": "Python 3",
   "language": "python",
   "name": "python3"
  },
  "language_info": {
   "codemirror_mode": {
    "name": "ipython",
    "version": 3
   },
   "file_extension": ".py",
   "mimetype": "text/x-python",
   "name": "python",
   "nbconvert_exporter": "python",
   "pygments_lexer": "ipython3",
   "version": "3.7.1"
  }
 },
 "nbformat": 4,
 "nbformat_minor": 2
}
