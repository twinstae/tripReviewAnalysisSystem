{
 "cells": [
  {
   "cell_type": "code",
   "execution_count": 1,
   "metadata": {},
   "outputs": [],
   "source": [
    "import csv\n",
    "import pandas as pd\n",
    "import csv\n",
    "import glob\n",
    "import os\n",
    "from selenium import webdriver\n",
    "from bs4 import BeautifulSoup\n",
    "from selenium.webdriver.support.ui import WebDriverWait\n",
    "from selenium.webdriver.support import expected_conditions as EC\n",
    "from selenium.common.exceptions import NoSuchElementException\n",
    "from pandas import Series, DataFrame\n",
    "from selenium.webdriver.common.keys import Keys\n",
    "import time\n",
    "import re\n",
    "from selenium.webdriver.common.keys import Keys"
   ]
  },
  {
   "cell_type": "code",
   "execution_count": 16,
   "metadata": {},
   "outputs": [
    {
     "name": "stdout",
     "output_type": "stream",
     "text": [
      "C:\\Users\\Jeong\\rawdata\\Bukhansan National Park.csv\n",
      "C:\\Users\\Jeong\\rawdata\\Namdaemun Market.csv\n"
     ]
    }
   ],
   "source": [
    "for i in glob.glob(r'C:\\Users\\Jeong\\rawdata\\*csv'):\n",
    "    csv_d = pd.read_csv(i)\n",
    "    if(csv_d.shape[0] == 0):\n",
    "        print(i)\n",
    "    # 행의 갯수가 0인 데이터를 찾습니다. 남대문마켓과 북한산이 나옵니다. "
   ]
  },
  {
   "cell_type": "code",
   "execution_count": 15,
   "metadata": {},
   "outputs": [
    {
     "name": "stdout",
     "output_type": "stream",
     "text": [
      "error\n",
      "error\n",
      "error\n",
      "error\n",
      "error\n",
      "error\n",
      "error\n",
      "error\n",
      "error\n",
      "error\n",
      "error\n",
      "error\n",
      "error\n",
      "error\n",
      "error\n",
      "error\n"
     ]
    }
   ],
   "source": [
    "#저장 확인 완료!!!\n",
    "\n",
    "driver = webdriver.Chrome(r'C:\\Users\\Jeong\\chromedriver.exe')\n",
    "url = 'https://www.tripadvisor.ca/Attraction_Review-g294197-d554528-Reviews-or{}-Bukhansan_National_Park-Seoul.html'\n",
    "# 드라이버를 실행시키기 위해 행이 비어있는 어트랙션의 페이지를 저장합니다.\n",
    "# 남대문 마켓 주소 : https://www.tripadvisor.ca/Attraction_Review-g294197-d324907-Reviews-or{}-Namdaemun_Market-Seoul.html\n",
    "\n",
    "reviews = []\n",
    "columns = ['star_point','title','text','Date of experience']\n",
    "# 저장을 하기 위해 리스트를 생성합니다.\n",
    "\n",
    "for i in range(0, 20, 5):\n",
    "    link = url.format(i)\n",
    "    driver.get(link)\n",
    "    driver.implicitly_wait(5)\n",
    "    # format함수를 이용하여 리뷰 페이지를 이동 시킵니다.\n",
    "    \n",
    "    html = driver.page_source\n",
    "    soup = BeautifulSoup(html, 'html.parser')\n",
    "    # 뷰티풀스프를 실행시킵니다. \n",
    "    \n",
    "    review_cards = driver.find_elements_by_class_name('location-review-card-Card__ui_card--2Mri0')\n",
    "    time.sleep(5)\n",
    "    for review_card in review_cards:\n",
    "        try:\n",
    "            read_more = review_card.find_element_by_class_name('location-review-review-list-parts-ExpandableReview__cta--2mR2g')\n",
    "            read_more.click()\n",
    "        except:\n",
    "            print('error')\n",
    "            continue\n",
    "    # more버튼을 클릭합니다. 첫번째 more만 클릭하면 모두 more이 눌리기 때문에 error가 4번씩 나게 됩니다.\n",
    "        \n",
    "        review_elements = soup.find_all(class_ = 'location-review-card-Card__ui_card--2Mri0 location-review-card-Card__card--o3LVm location-review-card-Card__section--NiAcw')\n",
    "    \n",
    "    for review_element in review_elements:\n",
    "        try:\n",
    "            review = [\n",
    "                int(review_element.find('span',class_='ui_bubble_rating')['class'][1][-2:]) / 10,\n",
    "                review_element.find('a', class_='location-review-review-list-parts-ReviewTitle__reviewTitleText--2tFRT').find('span').find('span').text,\n",
    "                review_element.find('q', class_='location-review-review-list-parts-ExpandableReview__reviewText--gOmRC').find('span').text,\n",
    "                review_element.find('span', class_='location-review-review-list-parts-EventDate__event_date--1epHa').contents[1]\n",
    "                #,review_element.find('span', class_='social-member-common-MemberHometown__hometown--3kM9S').contents[1]\n",
    "            ]\n",
    "        except IndexError:\n",
    "        #아무도 helpful이나 vote를 누르지 않은 에러, 무시하고 계속\n",
    "            continue\n",
    "        except AttributeError:\n",
    "        #주소를 공개하지 않는 에러, 무시하고 계속\n",
    "            continue\n",
    "        reviews.append(review)\n",
    "        # 리스트에 긁어온 자료를 담아봅니다.\n",
    "df_list = pd.DataFrame(reviews, columns = columns)\n",
    "df_list.to_csv('bukhansan.csv')\n",
    "# 저장합니다. \n"
   ]
  },
  {
   "cell_type": "code",
   "execution_count": null,
   "metadata": {},
   "outputs": [],
   "source": []
  }
 ],
 "metadata": {
  "kernelspec": {
   "display_name": "Python 3",
   "language": "python",
   "name": "python3"
  },
  "language_info": {
   "codemirror_mode": {
    "name": "ipython",
    "version": 3
   },
   "file_extension": ".py",
   "mimetype": "text/x-python",
   "name": "python",
   "nbconvert_exporter": "python",
   "pygments_lexer": "ipython3",
   "version": "3.7.4"
  }
 },
 "nbformat": 4,
 "nbformat_minor": 2
}
