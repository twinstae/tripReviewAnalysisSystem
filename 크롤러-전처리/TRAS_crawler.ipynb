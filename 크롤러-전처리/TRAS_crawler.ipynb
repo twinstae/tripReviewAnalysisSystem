{
  "nbformat": 4,
  "nbformat_minor": 0,
  "metadata": {
    "colab": {
      "name": "TRAS_crawler.ipynb",
      "provenance": [],
      "authorship_tag": "ABX9TyNS1fuYzbVTs5TBXBpg+qZO",
      "include_colab_link": true
    },
    "kernelspec": {
      "name": "python3",
      "display_name": "Python 3"
    }
  },
  "cells": [
    {
      "cell_type": "markdown",
      "metadata": {
        "id": "view-in-github",
        "colab_type": "text"
      },
      "source": [
        "<a href=\"https://colab.research.google.com/github/twinstae/tripReviewAnalysisSystem/blob/master/%ED%81%AC%EB%A1%A4%EB%9F%AC-%EC%A0%84%EC%B2%98%EB%A6%AC/TRAS_crawler.ipynb\" target=\"_parent\"><img src=\"https://colab.research.google.com/assets/colab-badge.svg\" alt=\"Open In Colab\"/></a>"
      ]
    },
    {
      "cell_type": "code",
      "metadata": {
        "id": "zciHbS535CM6",
        "colab_type": "code",
        "colab": {
          "base_uri": "https://localhost:8080/",
          "height": 35
        },
        "outputId": "8f44ef50-11dd-45c3-96d5-eb1f05fadc2b"
      },
      "source": [
        "!pip install -q selenium\n",
        "!pip install -q bs4\n",
        "!pip install -q pandas"
      ],
      "execution_count": 3,
      "outputs": [
        {
          "output_type": "stream",
          "text": [
            "\u001b[?25l\r\u001b[K     |▍                               | 10kB 23.5MB/s eta 0:00:01\r\u001b[K     |▊                               | 20kB 1.8MB/s eta 0:00:01\r\u001b[K     |█                               | 30kB 2.6MB/s eta 0:00:01\r\u001b[K     |█▌                              | 40kB 1.7MB/s eta 0:00:01\r\u001b[K     |█▉                              | 51kB 2.1MB/s eta 0:00:01\r\u001b[K     |██▏                             | 61kB 2.5MB/s eta 0:00:01\r\u001b[K     |██▌                             | 71kB 2.9MB/s eta 0:00:01\r\u001b[K     |███                             | 81kB 2.2MB/s eta 0:00:01\r\u001b[K     |███▎                            | 92kB 2.5MB/s eta 0:00:01\r\u001b[K     |███▋                            | 102kB 2.8MB/s eta 0:00:01\r\u001b[K     |████                            | 112kB 2.8MB/s eta 0:00:01\r\u001b[K     |████▍                           | 122kB 2.8MB/s eta 0:00:01\r\u001b[K     |████▊                           | 133kB 2.8MB/s eta 0:00:01\r\u001b[K     |█████                           | 143kB 2.8MB/s eta 0:00:01\r\u001b[K     |█████▍                          | 153kB 2.8MB/s eta 0:00:01\r\u001b[K     |█████▉                          | 163kB 2.8MB/s eta 0:00:01\r\u001b[K     |██████▏                         | 174kB 2.8MB/s eta 0:00:01\r\u001b[K     |██████▌                         | 184kB 2.8MB/s eta 0:00:01\r\u001b[K     |██████▉                         | 194kB 2.8MB/s eta 0:00:01\r\u001b[K     |███████▎                        | 204kB 2.8MB/s eta 0:00:01\r\u001b[K     |███████▋                        | 215kB 2.8MB/s eta 0:00:01\r\u001b[K     |████████                        | 225kB 2.8MB/s eta 0:00:01\r\u001b[K     |████████▎                       | 235kB 2.8MB/s eta 0:00:01\r\u001b[K     |████████▊                       | 245kB 2.8MB/s eta 0:00:01\r\u001b[K     |█████████                       | 256kB 2.8MB/s eta 0:00:01\r\u001b[K     |█████████▍                      | 266kB 2.8MB/s eta 0:00:01\r\u001b[K     |█████████▉                      | 276kB 2.8MB/s eta 0:00:01\r\u001b[K     |██████████▏                     | 286kB 2.8MB/s eta 0:00:01\r\u001b[K     |██████████▌                     | 296kB 2.8MB/s eta 0:00:01\r\u001b[K     |██████████▉                     | 307kB 2.8MB/s eta 0:00:01\r\u001b[K     |███████████▎                    | 317kB 2.8MB/s eta 0:00:01\r\u001b[K     |███████████▋                    | 327kB 2.8MB/s eta 0:00:01\r\u001b[K     |████████████                    | 337kB 2.8MB/s eta 0:00:01\r\u001b[K     |████████████▎                   | 348kB 2.8MB/s eta 0:00:01\r\u001b[K     |████████████▊                   | 358kB 2.8MB/s eta 0:00:01\r\u001b[K     |█████████████                   | 368kB 2.8MB/s eta 0:00:01\r\u001b[K     |█████████████▍                  | 378kB 2.8MB/s eta 0:00:01\r\u001b[K     |█████████████▊                  | 389kB 2.8MB/s eta 0:00:01\r\u001b[K     |██████████████▏                 | 399kB 2.8MB/s eta 0:00:01\r\u001b[K     |██████████████▌                 | 409kB 2.8MB/s eta 0:00:01\r\u001b[K     |██████████████▉                 | 419kB 2.8MB/s eta 0:00:01\r\u001b[K     |███████████████▏                | 430kB 2.8MB/s eta 0:00:01\r\u001b[K     |███████████████▋                | 440kB 2.8MB/s eta 0:00:01\r\u001b[K     |████████████████                | 450kB 2.8MB/s eta 0:00:01\r\u001b[K     |████████████████▎               | 460kB 2.8MB/s eta 0:00:01\r\u001b[K     |████████████████▋               | 471kB 2.8MB/s eta 0:00:01\r\u001b[K     |█████████████████               | 481kB 2.8MB/s eta 0:00:01\r\u001b[K     |█████████████████▍              | 491kB 2.8MB/s eta 0:00:01\r\u001b[K     |█████████████████▊              | 501kB 2.8MB/s eta 0:00:01\r\u001b[K     |██████████████████▏             | 512kB 2.8MB/s eta 0:00:01\r\u001b[K     |██████████████████▌             | 522kB 2.8MB/s eta 0:00:01\r\u001b[K     |██████████████████▉             | 532kB 2.8MB/s eta 0:00:01\r\u001b[K     |███████████████████▏            | 542kB 2.8MB/s eta 0:00:01\r\u001b[K     |███████████████████▋            | 552kB 2.8MB/s eta 0:00:01\r\u001b[K     |████████████████████            | 563kB 2.8MB/s eta 0:00:01\r\u001b[K     |████████████████████▎           | 573kB 2.8MB/s eta 0:00:01\r\u001b[K     |████████████████████▋           | 583kB 2.8MB/s eta 0:00:01\r\u001b[K     |█████████████████████           | 593kB 2.8MB/s eta 0:00:01\r\u001b[K     |█████████████████████▍          | 604kB 2.8MB/s eta 0:00:01\r\u001b[K     |█████████████████████▊          | 614kB 2.8MB/s eta 0:00:01\r\u001b[K     |██████████████████████          | 624kB 2.8MB/s eta 0:00:01\r\u001b[K     |██████████████████████▌         | 634kB 2.8MB/s eta 0:00:01\r\u001b[K     |██████████████████████▉         | 645kB 2.8MB/s eta 0:00:01\r\u001b[K     |███████████████████████▏        | 655kB 2.8MB/s eta 0:00:01\r\u001b[K     |███████████████████████▌        | 665kB 2.8MB/s eta 0:00:01\r\u001b[K     |████████████████████████        | 675kB 2.8MB/s eta 0:00:01\r\u001b[K     |████████████████████████▎       | 686kB 2.8MB/s eta 0:00:01\r\u001b[K     |████████████████████████▋       | 696kB 2.8MB/s eta 0:00:01\r\u001b[K     |█████████████████████████       | 706kB 2.8MB/s eta 0:00:01\r\u001b[K     |█████████████████████████▍      | 716kB 2.8MB/s eta 0:00:01\r\u001b[K     |█████████████████████████▊      | 727kB 2.8MB/s eta 0:00:01\r\u001b[K     |██████████████████████████      | 737kB 2.8MB/s eta 0:00:01\r\u001b[K     |██████████████████████████▍     | 747kB 2.8MB/s eta 0:00:01\r\u001b[K     |██████████████████████████▉     | 757kB 2.8MB/s eta 0:00:01\r\u001b[K     |███████████████████████████▏    | 768kB 2.8MB/s eta 0:00:01\r\u001b[K     |███████████████████████████▌    | 778kB 2.8MB/s eta 0:00:01\r\u001b[K     |████████████████████████████    | 788kB 2.8MB/s eta 0:00:01\r\u001b[K     |████████████████████████████▎   | 798kB 2.8MB/s eta 0:00:01\r\u001b[K     |████████████████████████████▋   | 808kB 2.8MB/s eta 0:00:01\r\u001b[K     |█████████████████████████████   | 819kB 2.8MB/s eta 0:00:01\r\u001b[K     |█████████████████████████████▍  | 829kB 2.8MB/s eta 0:00:01\r\u001b[K     |█████████████████████████████▊  | 839kB 2.8MB/s eta 0:00:01\r\u001b[K     |██████████████████████████████  | 849kB 2.8MB/s eta 0:00:01\r\u001b[K     |██████████████████████████████▍ | 860kB 2.8MB/s eta 0:00:01\r\u001b[K     |██████████████████████████████▉ | 870kB 2.8MB/s eta 0:00:01\r\u001b[K     |███████████████████████████████▏| 880kB 2.8MB/s eta 0:00:01\r\u001b[K     |███████████████████████████████▌| 890kB 2.8MB/s eta 0:00:01\r\u001b[K     |███████████████████████████████▉| 901kB 2.8MB/s eta 0:00:01\r\u001b[K     |████████████████████████████████| 911kB 2.8MB/s \n",
            "\u001b[?25h"
          ],
          "name": "stdout"
        }
      ]
    },
    {
      "cell_type": "code",
      "metadata": {
        "id": "xZx-9HwI4WLS",
        "colab_type": "code",
        "colab": {}
      },
      "source": [
        "from selenium import webdriver\n",
        "from bs4 import BeautifulSoup\n",
        "from selenium.webdriver.support.ui import WebDriverWait\n",
        "from selenium.webdriver.support import expected_conditions as EC\n",
        "from selenium.common.exceptions import NoSuchElementException\n",
        "from pandas import Series, DataFrame\n",
        "from selenium.webdriver.common.keys import Keys\n",
        "import time\n",
        "import re"
      ],
      "execution_count": 0,
      "outputs": []
    },
    {
      "cell_type": "code",
      "metadata": {
        "id": "7MP2betB4YeO",
        "colab_type": "code",
        "colab": {}
      },
      "source": [
        "#키를 파일 이름으로 저장\n",
        "def data_to_csv(dict_n):\n",
        "    '''\n",
        "    입력 : 딕셔너리 데이터\n",
        "    출력 : csv파일 형태로 원시 자료 폴더에 출력.\n",
        "    '''\n",
        "    git_address = 'C:/Users/taehee/Documents/GitHub'\n",
        "    for key, an_attracrion_dict in dict_n.items():\n",
        "        an_attracrion_dict.to_csv(git_address + '/tripReviewAnalysisSystem/크롤러-전처리/원시자료/' + key + '.csv', mode = 'w')"
      ],
      "execution_count": 0,
      "outputs": []
    },
    {
      "cell_type": "code",
      "metadata": {
        "id": "tJipUMCV4Zku",
        "colab_type": "code",
        "colab": {}
      },
      "source": [
        "def reviews(sample_size):\n",
        "    '''\n",
        "    단위 테스트 성공. 개발 완료.\n",
        "    입력 : 표본 리뷰의 숫자자.\n",
        "    맥락 : 리뷰를 추출할 즐길거리 페이지에 있다.\n",
        "    출력 : 한 즐길거리에 대한 리뷰를 모아놓은 데이터 프레임\n",
        "\n",
        "    각 리뷰에서 새로운 항목을 추출하고 싶다면, columns와 for문을 모두 수정해야한다.\n",
        "    '''\n",
        "    reviews = []\n",
        "    columns = ['star_point','title','text','Date of experience']\n",
        "    #,'reviewer_address'\n",
        "        \n",
        "        \n",
        "    #리뷰 크기를 텍스트로 찾아와, 콤마를 제거하여, 정수형으로 저장.\n",
        "    review_size_text = driver.find_element_by_class_name('attractions-community-content-TabBarContent__tabCount--2hTdj').text\n",
        "    review_size = int(re.sub(',','', str(review_size_text)))\n",
        "\n",
        "    n = 5\n",
        "    count = 0\n",
        "    while n < sample_size:\n",
        "        try:\n",
        "            foot = driver.find_element_by_class_name('location-review-review-list-parts-ReviewScrollController__container--3XtvE')\n",
        "            show_more = foot.find_element_by_tag_name('button')  \n",
        "            driver.execute_script(\"arguments[0].click();\", show_more)\n",
        "            n += 5\n",
        "        except:\n",
        "            if count > 3:\n",
        "                break\n",
        "            count +=1\n",
        "            time.sleep(2)\n",
        "                \n",
        "    review_cards = driver.find_elements_by_class_name('location-review-card-Card__ui_card--2Mri0')\n",
        "\n",
        "    for review_card in review_cards:\n",
        "        try:\n",
        "            read_more = review_card.find_element_by_class_name('location-review-review-list-parts-ExpandableReview__cta--2mR2g')\n",
        "            read_more.click()\n",
        "        except:\n",
        "            print('error')\n",
        "            continue\n",
        "    \n",
        "    # 드라이버 \n",
        "    html = driver.page_source\n",
        "    soup = BeautifulSoup(html, 'html.parser')\n",
        "    review_elements = soup.find_all(class_ = 'location-review-card-Card__ui_card--2Mri0 location-review-card-Card__card--o3LVm location-review-card-Card__section--NiAcw')\n",
        "    \n",
        "    for review_element in review_elements:\n",
        "        try:\n",
        "            review = [\n",
        "                int(review_element.find('span',class_='ui_bubble_rating')['class'][1][-2:]) / 10,\n",
        "                review_element.find('a', class_='location-review-review-list-parts-ReviewTitle__reviewTitleText--2tFRT').find('span').find('span').text,\n",
        "                review_element.find('q', class_='location-review-review-list-parts-ExpandableReview__reviewText--gOmRC').find('span').text,\n",
        "                review_element.find('span', class_='location-review-review-list-parts-EventDate__event_date--1epHa').contents[1]\n",
        "                #,review_element.find('span', class_='social-member-common-MemberHometown__hometown--3kM9S').contents[1]\n",
        "            ]\n",
        "        except IndexError:\n",
        "            #아무도 helpful이나 vote를 누르지 않은 에러, 무시하고 계속\n",
        "            continue\n",
        "        except AttributeError:\n",
        "            #주소를 공개하지 않는 에러, 무시하고 계속\n",
        "            continue\n",
        "        reviews.append(review)\n",
        "\n",
        "    return DataFrame(reviews, columns = columns)"
      ],
      "execution_count": 0,
      "outputs": []
    },
    {
      "cell_type": "code",
      "metadata": {
        "id": "I37lXHEM5ril",
        "colab_type": "code",
        "colab": {
          "base_uri": "https://localhost:8080/",
          "height": 55
        },
        "outputId": "c495a88b-c66c-41c3-89fe-55ba64b2101c"
      },
      "source": [
        "def find_address():\n",
        "  html = driver.page_source\n",
        "  soup = BeautifulSoup(html, 'html.parser')\n",
        "  contact = soup.find_all(class_ = 'attractions-contact-card-ContactCard__contactRow--3Ih6v')\n",
        "  address_block = contact[0]\n",
        "  address_spans = address_block.contents\n",
        "  address_span = address_spans[1]\n",
        "  address = address_span.text\n",
        "  return address\n",
        "\n",
        "\"\"\"data_test = [names, location]\n",
        "\n",
        "df_list = pd.DataFrame(data_test, columns = columns)\n",
        "df_list.to_csv('crawler test.csv')\n",
        "\"\"\""
      ],
      "execution_count": 7,
      "outputs": [
        {
          "output_type": "execute_result",
          "data": {
            "text/plain": [
              "\"data_test = [names, location]\\n\\ndf_list = pd.DataFrame(data_test, columns = columns)\\ndf_list.to_csv('crawler test.csv')\\n\""
            ]
          },
          "metadata": {
            "tags": []
          },
          "execution_count": 7
        }
      ]
    },
    {
      "cell_type": "markdown",
      "metadata": {
        "id": "nEsPaNEJ4aP-",
        "colab_type": "text"
      },
      "source": [
        ""
      ]
    },
    {
      "cell_type": "code",
      "metadata": {
        "id": "D4CQ7nrs4dG-",
        "colab_type": "code",
        "colab": {}
      },
      "source": [
        "def load_attraction(link, fuction):\n",
        "    '''\n",
        "    단위 테스트 성공. 개발 완료.\n",
        "    입력 : 어떤 즐길거리 번호 int, 이름 string 예: \"Gyeongbokgung Palace\"\n",
        "    출력 : 어트랙션의 리뷰 모음. data.frame\n",
        "    '''\n",
        "    #새 창을 열고 링크로 간다.\n",
        "    # 슬립...매우매우중요이거없으면무조건에러남.이거하나로3시간머리싸맸음.\n",
        "    \n",
        "    time.sleep(5)\n",
        "    original_window = driver.current_window_handle\n",
        "    driver.execute_script(\"arguments[0].click();\", link)\n",
        "    \n",
        "    for window_handle in driver.window_handles:\n",
        "        if window_handle != original_window:\n",
        "            driver.switch_to.window(window_handle)\n",
        "            break\n",
        "    \n",
        "    #즐길거리 별로 샘플사이즈를 어떻게 정할 것인지?    \n",
        "    result = function()\n",
        "    \n",
        "    if result['text'].isnull().sum() != 0:\n",
        "        print(result['text'].isnull().sum())\n",
        "        result.head()\n",
        "\n",
        "    #창을 닫고 리스트 창으로 돌아간다\n",
        "    driver.close();\n",
        "    driver.switch_to.window(original_window)\n",
        "    driver.current_window_handle;\n",
        "    \n",
        "    return result\n",
        "    #result.head()"
      ],
      "execution_count": 0,
      "outputs": []
    },
    {
      "cell_type": "code",
      "metadata": {
        "id": "1AyFsH6b4flb",
        "colab_type": "code",
        "colab": {}
      },
      "source": [
        "def load_page(start, end, function):\n",
        "    '''\n",
        "    단위 테스트 성공. 개발 완료.\n",
        "    입력 : 크롤링할 페이지 내 시작 번호와 끝 번호\n",
        "    출력 : 페이지의 리뷰들을 csv파일로 출력\n",
        "    '''\n",
        "\n",
        "    #모든 여행지의 리스트를 만든다\n",
        "    is_first = True\n",
        "    print(\"I am in the load_page\")\n",
        "    if driver.current_url == 'https://www.tripadvisor.com/Attractions-g294197-Activities-Seoul.html':\n",
        "        main_page = driver.find_element_by_class_name('attractions-attraction-overview-main-TopPOIs__container--3eHZU')\n",
        "        attraction_elements = main_page.find_elements_by_class_name(\"attractions-attraction-overview-pois-PoiInfo__info--239IR\")\n",
        "        is_first = True\n",
        "    else:\n",
        "        main_page = driver.find_element_by_class_name('scrollAdMain')\n",
        "        attraction_elements = main_page.find_elements_by_class_name('listing_info')\n",
        "        is_first = False\n",
        "    print(\"I found the elements!\")\n",
        "\n",
        "    attraction_names = []\n",
        "    for attraction_element in attraction_elements[start:end]:      \n",
        "        if is_first:\n",
        "            link = attraction_element.find_element_by_tag_name('h3')\n",
        "            attraction_name = link.text[link.text.find('.')+2 :]\n",
        "        else:\n",
        "            div_class = attraction_element.find_element_by_class_name('tracking_attraction_title')\n",
        "            link = div_class.find_element_by_tag_name('a')\n",
        "            attraction_name = link.text\n",
        "        attraction_names.append((attraction_name, link))   \n",
        "    print(\"I found the attraction_names\")\n",
        "        \n",
        "    attraction_dict = {}\n",
        "    for attraction_name, link in attraction_names:\n",
        "        if len(attraction_dict) < end:\n",
        "            stime = time.time()\n",
        "            attraction_dict[attraction_name] = load_attraction(link, function)\n",
        "            print(attraction_name,  \" \" + str(time.time() -stime) + \"초 걸림 \", len(attraction_dict[attraction_name]))\n",
        "            if len(attraction_dict) % 5 == 0:\n",
        "                data_to_csv(attraction_dict)\n",
        "                print(\"저장했어요!\")\n",
        "        else:\n",
        "            data_to_csv(attraction_dict)\n",
        "            print(\"저장했어요!\")\n",
        "            break"
      ],
      "execution_count": 0,
      "outputs": []
    },
    {
      "cell_type": "code",
      "metadata": {
        "id": "NK8UrXP64nnk",
        "colab_type": "code",
        "colab": {}
      },
      "source": [
        "def is_first_page(driver):\n",
        "    try:\n",
        "        time.sleep(1)\n",
        "        show = driver.find_element_by_class_name('attractions-attraction-overview-main-TopPOIs__see_more--2Vsb-')\n",
        "        driver.execute_script(\"arguments[0].click();\", show)\n",
        "        is_first_page = True\n",
        "        print(\"it is first page!\")\n",
        "    except NoSuchElementException:\n",
        "        print('continue!')\n",
        "        is_first_page = False\n",
        "    except:\n",
        "        print(\"exception\")"
      ],
      "execution_count": 0,
      "outputs": []
    },
    {
      "cell_type": "code",
      "metadata": {
        "id": "x6RZ8B_K4gyL",
        "colab_type": "code",
        "colab": {}
      },
      "source": [
        "def get_start_page(is_first_page, start, end):\n",
        "    if is_first_page:\n",
        "        selected_page = 1\n",
        "        page_numbers = driver.find_element_by_class_name('attractions-attraction-overview-main-Pagination__container--PUXGq')\n",
        "        if start // 30 > 0:\n",
        "            if start // 30 > 6:\n",
        "                target_num = 6\n",
        "            else:\n",
        "                target_num = (start // 30) + 1\n",
        "            target_page = page_numbers.find_element_by_link_text(str(target_num))\n",
        "            time.sleep(5)\n",
        "            driver.execute_script(\"arguments[0].click();\", target_page)\n",
        "            time.sleep(3)\n",
        "            selected_page = target_num\n",
        "            page_numbers = driver.find_element_by_class_name('pageNumbers')\n",
        "            is_first_page = False\n",
        "        else:\n",
        "            selected_page = int(soup.find(\"div\", class_='pageNumbers').find(class_ = 'current').text)\n",
        "            page_numbers = driver.find_element_by_class_name('pageNumbers')\n"
      ],
      "execution_count": 0,
      "outputs": []
    },
    {
      "cell_type": "code",
      "metadata": {
        "id": "fnuZ002T4umh",
        "colab_type": "code",
        "colab": {}
      },
      "source": [
        "def crawl_pages(is_first_page, start, end, function):\n",
        "    keep_going = True    \n",
        "    while keep_going:\n",
        "        # 현재 페이지 번호 알아내기\n",
        "\n",
        "        html = driver.page_source\n",
        "        soup = BeautifulSoup(html, 'html.parser')\n",
        "        print(\"I made a soup\")\n",
        "        selected_page, page_numbers = get_start_page(is_firt_page, start, end)\n",
        "            \n",
        "                # 시작점이 뒷 페이지면 지나간다\n",
        "        if start <= selected_page * 30:\n",
        "            strat_in_page = start-(selected_page-1)*30\n",
        "            if strat_in_page < 0:\n",
        "                strat_in_page = 0\n",
        "            assert strat_in_page <= 30\n",
        "            \n",
        "            end_in_page = end-(selected_page-1)*30\n",
        "            if end_in_page > 30:\n",
        "                end_in_page = 30                \n",
        "            assert 0 <= end_in_page\n",
        "            if is_first_page:\n",
        "                is_first_page = False\n",
        "                \n",
        "            load_page(strat_in_page, end_in_page, function)\n",
        "        \n",
        "        # 끝나는 지점을 지나갔으면 루프를 끝낸다.\n",
        "        if (selected_page - 1) * 30 >= end:\n",
        "            keep_going = False\n",
        "            break\n",
        "            \n",
        "        print(\"I find the current page\")\n",
        "\n",
        "        # 다음 페이지로 넘어가기\n",
        "        time.sleep(5)\n",
        "        next_num = str(selected_page + 1)\n",
        "        next_page = page_numbers.find_element_by_link_text(next_num)\n",
        "        driver.execute_script(\"arguments[0].click();\", next_page)"
      ],
      "execution_count": 0,
      "outputs": []
    },
    {
      "cell_type": "code",
      "metadata": {
        "id": "N9lxsfGG4wYl",
        "colab_type": "code",
        "colab": {}
      },
      "source": [
        "def crawl_addresses(start, end):\n",
        "    '''\n",
        "    입력 : 크롤링할 즐길거리의 시작 번호와 끝 번호\n",
        "    출력 : 해당 구간의 즐길거리 리뷰들csv로 출력\n",
        "    '''    \n",
        "    #처음 한 번만 see more을 누른다.\n",
        "    is_first_page = is_first_page(driver)\n",
        "    \n",
        "    time.sleep(5)\n",
        "    crawl_pages(is_first_page, start, end)"
      ],
      "execution_count": 0,
      "outputs": []
    },
    {
      "cell_type": "code",
      "metadata": {
        "id": "v7QdW4Lh4waN",
        "colab_type": "code",
        "colab": {
          "base_uri": "https://localhost:8080/",
          "height": 504
        },
        "outputId": "365f8fd7-e0f7-448e-ddbd-dbd3619aeb21"
      },
      "source": [
        "# 언어를 영어 캐나다로 설정. 이래야 show more버튼이 나오는 줄 알았는데...\n",
        "options = webdriver.ChromeOptions()\n",
        "options.add_argument(\"lang=en-CA\")\n",
        "#이미지를 보지 않음\n",
        "prefs = {\"profile.managed_default_content_settings.images\": 2}\n",
        "options.add_experimental_option(\"prefs\", prefs)\n",
        "\n",
        "driver_address = 'C:/Users/taehee/Downloads/chromedriver_win32/chromedriver'\n",
        "\n",
        "is_show_more = False\n",
        "while not is_show_more:\n",
        "    driver = webdriver.Chrome(driver_address, chrome_options=options)\n",
        "    wait = WebDriverWait(driver, timeout=2)\n",
        "    driver.implicitly_wait(5)\n",
        "    # tripadvisor 경복궁에 접근한다.\n",
        "    driver.get('https://www.tripadvisor.com/Attraction_Review-g294197-d324888-Reviews-Gyeongbokgung_Palace-Seoul.html')\n",
        "    time.sleep(1)\n",
        "    try:\n",
        "        foot = driver.find_element_by_class_name('location-review-review-list-parts-ReviewScrollController__container--3XtvE')\n",
        "        show_more = foot.find_element_by_tag_name('button')\n",
        "    except:\n",
        "        driver.close();\n",
        "        time.sleep(1)\n",
        "        continue\n",
        "    is_show_more =True\n",
        "\n",
        "#원래 있던 리스트 창을 저장해둔다\n",
        "time.sleep(10)\n",
        "driver.get('https://www.tripadvisor.com/Attractions-g294197-Activities-Seoul.html')\n",
        "\n",
        "\n",
        "crawl_function(function = find_addresss)\n",
        "\n",
        "#dict_n() => load_page() => load_reviews() => reviews()"
      ],
      "execution_count": 14,
      "outputs": [
        {
          "output_type": "stream",
          "text": [
            "/usr/local/lib/python3.6/dist-packages/ipykernel_launcher.py:11: DeprecationWarning: use options instead of chrome_options\n",
            "  # This is added back by InteractiveShellApp.init_path()\n"
          ],
          "name": "stderr"
        },
        {
          "output_type": "error",
          "ename": "WebDriverException",
          "evalue": "ignored",
          "traceback": [
            "\u001b[0;31m---------------------------------------------------------------------------\u001b[0m",
            "\u001b[0;31mFileNotFoundError\u001b[0m                         Traceback (most recent call last)",
            "\u001b[0;32m/usr/local/lib/python3.6/dist-packages/selenium/webdriver/common/service.py\u001b[0m in \u001b[0;36mstart\u001b[0;34m(self)\u001b[0m\n\u001b[1;32m     75\u001b[0m                                             \u001b[0mstderr\u001b[0m\u001b[0;34m=\u001b[0m\u001b[0mself\u001b[0m\u001b[0;34m.\u001b[0m\u001b[0mlog_file\u001b[0m\u001b[0;34m,\u001b[0m\u001b[0;34m\u001b[0m\u001b[0;34m\u001b[0m\u001b[0m\n\u001b[0;32m---> 76\u001b[0;31m                                             stdin=PIPE)\n\u001b[0m\u001b[1;32m     77\u001b[0m         \u001b[0;32mexcept\u001b[0m \u001b[0mTypeError\u001b[0m\u001b[0;34m:\u001b[0m\u001b[0;34m\u001b[0m\u001b[0;34m\u001b[0m\u001b[0m\n",
            "\u001b[0;32m/usr/lib/python3.6/subprocess.py\u001b[0m in \u001b[0;36m__init__\u001b[0;34m(self, args, bufsize, executable, stdin, stdout, stderr, preexec_fn, close_fds, shell, cwd, env, universal_newlines, startupinfo, creationflags, restore_signals, start_new_session, pass_fds, encoding, errors)\u001b[0m\n\u001b[1;32m    728\u001b[0m                                 \u001b[0merrread\u001b[0m\u001b[0;34m,\u001b[0m \u001b[0merrwrite\u001b[0m\u001b[0;34m,\u001b[0m\u001b[0;34m\u001b[0m\u001b[0;34m\u001b[0m\u001b[0m\n\u001b[0;32m--> 729\u001b[0;31m                                 restore_signals, start_new_session)\n\u001b[0m\u001b[1;32m    730\u001b[0m         \u001b[0;32mexcept\u001b[0m\u001b[0;34m:\u001b[0m\u001b[0;34m\u001b[0m\u001b[0;34m\u001b[0m\u001b[0m\n",
            "\u001b[0;32m/usr/lib/python3.6/subprocess.py\u001b[0m in \u001b[0;36m_execute_child\u001b[0;34m(self, args, executable, preexec_fn, close_fds, pass_fds, cwd, env, startupinfo, creationflags, shell, p2cread, p2cwrite, c2pread, c2pwrite, errread, errwrite, restore_signals, start_new_session)\u001b[0m\n\u001b[1;32m   1363\u001b[0m                             \u001b[0merr_msg\u001b[0m \u001b[0;34m+=\u001b[0m \u001b[0;34m': '\u001b[0m \u001b[0;34m+\u001b[0m \u001b[0mrepr\u001b[0m\u001b[0;34m(\u001b[0m\u001b[0merr_filename\u001b[0m\u001b[0;34m)\u001b[0m\u001b[0;34m\u001b[0m\u001b[0;34m\u001b[0m\u001b[0m\n\u001b[0;32m-> 1364\u001b[0;31m                     \u001b[0;32mraise\u001b[0m \u001b[0mchild_exception_type\u001b[0m\u001b[0;34m(\u001b[0m\u001b[0merrno_num\u001b[0m\u001b[0;34m,\u001b[0m \u001b[0merr_msg\u001b[0m\u001b[0;34m,\u001b[0m \u001b[0merr_filename\u001b[0m\u001b[0;34m)\u001b[0m\u001b[0;34m\u001b[0m\u001b[0;34m\u001b[0m\u001b[0m\n\u001b[0m\u001b[1;32m   1365\u001b[0m                 \u001b[0;32mraise\u001b[0m \u001b[0mchild_exception_type\u001b[0m\u001b[0;34m(\u001b[0m\u001b[0merr_msg\u001b[0m\u001b[0;34m)\u001b[0m\u001b[0;34m\u001b[0m\u001b[0;34m\u001b[0m\u001b[0m\n",
            "\u001b[0;31mFileNotFoundError\u001b[0m: [Errno 2] No such file or directory: 'C:/Users/taehee/Downloads/chromedriver_win32/chromedriver': 'C:/Users/taehee/Downloads/chromedriver_win32/chromedriver'",
            "\nDuring handling of the above exception, another exception occurred:\n",
            "\u001b[0;31mWebDriverException\u001b[0m                        Traceback (most recent call last)",
            "\u001b[0;32m<ipython-input-14-26e0b872b3c7>\u001b[0m in \u001b[0;36m<module>\u001b[0;34m()\u001b[0m\n\u001b[1;32m      9\u001b[0m \u001b[0mis_show_more\u001b[0m \u001b[0;34m=\u001b[0m \u001b[0;32mFalse\u001b[0m\u001b[0;34m\u001b[0m\u001b[0;34m\u001b[0m\u001b[0m\n\u001b[1;32m     10\u001b[0m \u001b[0;32mwhile\u001b[0m \u001b[0;32mnot\u001b[0m \u001b[0mis_show_more\u001b[0m\u001b[0;34m:\u001b[0m\u001b[0;34m\u001b[0m\u001b[0;34m\u001b[0m\u001b[0m\n\u001b[0;32m---> 11\u001b[0;31m     \u001b[0mdriver\u001b[0m \u001b[0;34m=\u001b[0m \u001b[0mwebdriver\u001b[0m\u001b[0;34m.\u001b[0m\u001b[0mChrome\u001b[0m\u001b[0;34m(\u001b[0m\u001b[0mdriver_address\u001b[0m\u001b[0;34m,\u001b[0m \u001b[0mchrome_options\u001b[0m\u001b[0;34m=\u001b[0m\u001b[0moptions\u001b[0m\u001b[0;34m)\u001b[0m\u001b[0;34m\u001b[0m\u001b[0;34m\u001b[0m\u001b[0m\n\u001b[0m\u001b[1;32m     12\u001b[0m     \u001b[0mwait\u001b[0m \u001b[0;34m=\u001b[0m \u001b[0mWebDriverWait\u001b[0m\u001b[0;34m(\u001b[0m\u001b[0mdriver\u001b[0m\u001b[0;34m,\u001b[0m \u001b[0mtimeout\u001b[0m\u001b[0;34m=\u001b[0m\u001b[0;36m2\u001b[0m\u001b[0;34m)\u001b[0m\u001b[0;34m\u001b[0m\u001b[0;34m\u001b[0m\u001b[0m\n\u001b[1;32m     13\u001b[0m     \u001b[0mdriver\u001b[0m\u001b[0;34m.\u001b[0m\u001b[0mimplicitly_wait\u001b[0m\u001b[0;34m(\u001b[0m\u001b[0;36m5\u001b[0m\u001b[0;34m)\u001b[0m\u001b[0;34m\u001b[0m\u001b[0;34m\u001b[0m\u001b[0m\n",
            "\u001b[0;32m/usr/local/lib/python3.6/dist-packages/selenium/webdriver/chrome/webdriver.py\u001b[0m in \u001b[0;36m__init__\u001b[0;34m(self, executable_path, port, options, service_args, desired_capabilities, service_log_path, chrome_options, keep_alive)\u001b[0m\n\u001b[1;32m     71\u001b[0m             \u001b[0mservice_args\u001b[0m\u001b[0;34m=\u001b[0m\u001b[0mservice_args\u001b[0m\u001b[0;34m,\u001b[0m\u001b[0;34m\u001b[0m\u001b[0;34m\u001b[0m\u001b[0m\n\u001b[1;32m     72\u001b[0m             log_path=service_log_path)\n\u001b[0;32m---> 73\u001b[0;31m         \u001b[0mself\u001b[0m\u001b[0;34m.\u001b[0m\u001b[0mservice\u001b[0m\u001b[0;34m.\u001b[0m\u001b[0mstart\u001b[0m\u001b[0;34m(\u001b[0m\u001b[0;34m)\u001b[0m\u001b[0;34m\u001b[0m\u001b[0;34m\u001b[0m\u001b[0m\n\u001b[0m\u001b[1;32m     74\u001b[0m \u001b[0;34m\u001b[0m\u001b[0m\n\u001b[1;32m     75\u001b[0m         \u001b[0;32mtry\u001b[0m\u001b[0;34m:\u001b[0m\u001b[0;34m\u001b[0m\u001b[0;34m\u001b[0m\u001b[0m\n",
            "\u001b[0;32m/usr/local/lib/python3.6/dist-packages/selenium/webdriver/common/service.py\u001b[0m in \u001b[0;36mstart\u001b[0;34m(self)\u001b[0m\n\u001b[1;32m     81\u001b[0m                 raise WebDriverException(\n\u001b[1;32m     82\u001b[0m                     \"'%s' executable needs to be in PATH. %s\" % (\n\u001b[0;32m---> 83\u001b[0;31m                         os.path.basename(self.path), self.start_error_message)\n\u001b[0m\u001b[1;32m     84\u001b[0m                 )\n\u001b[1;32m     85\u001b[0m             \u001b[0;32melif\u001b[0m \u001b[0merr\u001b[0m\u001b[0;34m.\u001b[0m\u001b[0merrno\u001b[0m \u001b[0;34m==\u001b[0m \u001b[0merrno\u001b[0m\u001b[0;34m.\u001b[0m\u001b[0mEACCES\u001b[0m\u001b[0;34m:\u001b[0m\u001b[0;34m\u001b[0m\u001b[0;34m\u001b[0m\u001b[0m\n",
            "\u001b[0;31mWebDriverException\u001b[0m: Message: 'chromedriver' executable needs to be in PATH. Please see https://sites.google.com/a/chromium.org/chromedriver/home\n"
          ]
        }
      ]
    }
  ]
}