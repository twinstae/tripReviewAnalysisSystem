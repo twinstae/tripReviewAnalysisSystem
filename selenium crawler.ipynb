{
 "cells": [
  {
   "cell_type": "code",
   "execution_count": null,
   "metadata": {},
   "outputs": [],
   "source": [
    "from selenium import webdriver\n",
    "from bs4 import BeautifulSoup"
   ]
  },
  {
   "cell_type": "code",
   "execution_count": null,
   "metadata": {},
   "outputs": [],
   "source": [
    "# 완료조건 1. 리뷰를특정개수이상확보하거나\n",
    "# 완료조건 2. 모든리뷰를확보했을때\n",
    "\n",
    "# keep_going = true\n",
    "# while keep_going:"
   ]
  },
  {
   "cell_type": "markdown",
   "metadata": {},
   "source": [
    "# 즐길거리 선택하고 클릭하기\n",
    "HTML을 개발자 도구로 뜯어보니\n",
    "\n",
    "attractions-attraction-overview-pois-PoiInfo__info--239IR 라는 div\n",
    "안에\n",
    "h3 \n",
    "로 된 제목을 클릭하면 상세 보기로 넘어간다.\n",
    "\n",
    "단, 그냥 h3로 찾으면 위에 있는 투어나 다른 추천도 모두 찾게 되므로 유의하자.\n",
    "브라우저는 크롬을 사용한다.\n",
    "먼저 제목 요소를 찾아보자.\n",
    "요소찾기[Locating elements]: https://www.selenium.dev/documentation/en/getting_started_with_webdriver/locating_elements/"
   ]
  },
  {
   "cell_type": "code",
   "execution_count": null,
   "metadata": {},
   "outputs": [],
   "source": []
  }
 ],
 "metadata": {
  "kernelspec": {
   "display_name": "Python 3",
   "language": "python",
   "name": "python3"
  },
  "language_info": {
   "codemirror_mode": {
    "name": "ipython",
    "version": 3
   },
   "file_extension": ".py",
   "mimetype": "text/x-python",
   "name": "python",
   "nbconvert_exporter": "python",
   "pygments_lexer": "ipython3",
   "version": "3.7.1"
  }
 },
 "nbformat": 4,
 "nbformat_minor": 2
}
