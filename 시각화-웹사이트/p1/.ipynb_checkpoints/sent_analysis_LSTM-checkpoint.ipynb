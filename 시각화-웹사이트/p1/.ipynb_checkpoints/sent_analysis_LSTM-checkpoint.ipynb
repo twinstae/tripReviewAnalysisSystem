{
 "cells": [
  {
   "cell_type": "code",
   "execution_count": 1,
   "metadata": {},
   "outputs": [],
   "source": [
    "%matplotlib inline\n",
    "\n",
    "import numpy as np\n",
    "import matplotlib.pyplot as plt\n",
    "\n",
    "import pandas as pd\n",
    "\n",
    "import os\n",
    "from os import path \n",
    "from time import time\n",
    "import random"
   ]
  },
  {
   "cell_type": "code",
   "execution_count": 2,
   "metadata": {},
   "outputs": [],
   "source": [
    "os.environ.setdefault(\"DJANGO_SETTINGS_MODULE\", \"TRAS.settings\")\n",
    "os.environ[\"DJANGO_ALLOW_ASYNC_UNSAFE\"] = \"true\"\n",
    "\n",
    "import django\n",
    "django.setup()\n",
    "\n",
    "from django.core.exceptions import ObjectDoesNotExist\n",
    "from django.db import transaction\n",
    "from django.conf import settings\n",
    "from django_pandas.io import read_frame\n",
    "\n",
    "from asgiref.sync import sync_to_async\n",
    "\n",
    "from proto.models import Attraction, Review"
   ]
  },
  {
   "cell_type": "code",
   "execution_count": 3,
   "metadata": {},
   "outputs": [],
   "source": [
    "from nltk.tokenize import RegexpTokenizer\n",
    "from nltk import tokenize \n",
    "from nltk import Text\n",
    "from nltk.corpus import stopwords\n",
    "\n",
    "import nltk"
   ]
  },
  {
   "cell_type": "code",
   "execution_count": 4,
   "metadata": {},
   "outputs": [],
   "source": [
    "retokenize = RegexpTokenizer(\"[\\w]+\")"
   ]
  },
  {
   "cell_type": "code",
   "execution_count": 5,
   "metadata": {},
   "outputs": [],
   "source": [
    "query = Review.objects.all()\n",
    "All_Reviews_df = read_frame(query)"
   ]
  },
  {
   "cell_type": "code",
   "execution_count": 15,
   "metadata": {},
   "outputs": [],
   "source": [
    "All_Reviews_df.head().to_csv('Review_data_head.csv')"
   ]
  },
  {
   "cell_type": "code",
   "execution_count": 7,
   "metadata": {},
   "outputs": [],
   "source": [
    "stop_words = set(stopwords.words('english')) \n",
    "stop_words = stop_words|set(['.', ',', 'the', \"'s\"])"
   ]
  },
  {
   "cell_type": "code",
   "execution_count": 8,
   "metadata": {},
   "outputs": [],
   "source": [
    "lower_text =''.join(All_Reviews_df['text']).lower()\n",
    "\n",
    "pre_token = retokenize.tokenize(lower_text)\n",
    "token = [a_token for a_token in pre_token if a_token not in stop_words]\n",
    "\n",
    "text = Text(token)\n",
    "fd = text.vocab()\n",
    "\n",
    "dict_5000 = {word:i for (word, i) in zip(fd, range(len(fd))) if i < 5000}"
   ]
  },
  {
   "cell_type": "code",
   "execution_count": 9,
   "metadata": {},
   "outputs": [],
   "source": [
    "def pre_process(Reviews_df):\n",
    "    star_list = list(Reviews_df['star'])\n",
    "    text_list = list(Reviews_df['text'])\n",
    "    \n",
    "    result_text = []\n",
    "    for text in text_list:\n",
    "        tokens = retokenize.tokenize(text)\n",
    "        processed_list = []\n",
    "        for token in tokens:\n",
    "            if token in dict_5000:\n",
    "                processed_list.append(dict_5000[token])\n",
    "        result_text.append(processed_list)\n",
    "    \n",
    "    result_star = []\n",
    "    for star in star_list:\n",
    "        if star >4:\n",
    "            result_star.append(1)\n",
    "        else:\n",
    "            result_star.append(0)\n",
    "        \n",
    "    X = np.array(result_text)\n",
    "    Y = np.array(result_star)\n",
    "    return X, Y"
   ]
  },
  {
   "cell_type": "code",
   "execution_count": 10,
   "metadata": {},
   "outputs": [
    {
     "name": "stdout",
     "output_type": "stream",
     "text": [
      "[list([596, 2, 293, 809, 1652, 227, 246, 554, 727, 44])\n",
      " list([430, 23, 50, 1160, 1409, 2115, 150, 85, 575, 188])\n",
      " list([3, 642, 294, 18, 54, 9, 3, 44, 3364, 968])\n",
      " list([6, 13, 206, 87, 87, 2220, 20, 642, 294, 13, 2953, 410, 228])\n",
      " list([952, 416, 2403, 572, 524, 105, 42, 30, 67, 3496, 12, 63, 759, 1083, 21, 1376, 1198, 264, 81, 465, 665, 20, 277, 389, 367, 20, 570, 69])]\n"
     ]
    },
    {
     "data": {
      "text/plain": [
       "array([1, 1, 1, 1, 1])"
      ]
     },
     "execution_count": 10,
     "metadata": {},
     "output_type": "execute_result"
    }
   ],
   "source": [
    "X_head, Y_head = pre_process(All_Reviews_df[All_Reviews_df['star'] != 4].head())\n",
    "print(X_head)\n",
    "Y_head"
   ]
  },
  {
   "cell_type": "code",
   "execution_count": 11,
   "metadata": {},
   "outputs": [],
   "source": [
    "from tensorflow.keras.preprocessing.sequence import pad_sequences\n",
    "from tensorflow.keras.models import Sequential\n",
    "from tensorflow.keras.layers import Dense, LSTM, Embedding, Flatten, Dropout\n",
    "from tensorflow.keras.callbacks import EarlyStopping, ModelCheckpoint\n",
    "from tensorflow.keras.models import load_model\n",
    "from tensorflow.keras.utils import to_categorical"
   ]
  },
  {
   "cell_type": "code",
   "execution_count": 12,
   "metadata": {},
   "outputs": [],
   "source": [
    "X, Y = pre_process(All_Reviews_df[All_Reviews_df['star'] != 4])"
   ]
  },
  {
   "cell_type": "code",
   "execution_count": 14,
   "metadata": {},
   "outputs": [],
   "source": [
    "X_padded = pad_sequences(X, maxlen=100)\n",
    "\n",
    "from numpy import savetxt\n",
    "# define data\n",
    "# save to csv file\n",
    "savetxt('X.csv', X_padded, delimiter=',')\n",
    "savetxt('Y.csv', Y, delimiter=',')"
   ]
  },
  {
   "cell_type": "code",
   "execution_count": 333,
   "metadata": {},
   "outputs": [
    {
     "name": "stdout",
     "output_type": "stream",
     "text": [
      "리뷰의 최대 길이 : 503\n",
      "리뷰의 평균 길이 : 28.336644014636697\n"
     ]
    },
    {
     "data": {
      "image/png": "[encoded data removed]",
      "text/plain": [
       "<Figure size 432x288 with 2 Axes>"
      ]
     },
     "metadata": {
      "needs_background": "light"
     },
     "output_type": "display_data"
    }
   ],
   "source": [
    "len_result = [len(s) for s in X]\n",
    "\n",
    "print('리뷰의 최대 길이 : {}'.format(np.max(len_result)))\n",
    "print('리뷰의 평균 길이 : {}'.format(np.mean(len_result)))\n",
    "\n",
    "plt.subplot(1,2,1)\n",
    "plt.boxplot(len_result)\n",
    "plt.subplot(1,2,2)\n",
    "plt.hist(len_result, bins=100)\n",
    "plt.show()"
   ]
  },
  {
   "cell_type": "code",
   "execution_count": 302,
   "metadata": {},
   "outputs": [],
   "source": [
    "from sklearn.model_selection import train_test_split"
   ]
  },
  {
   "cell_type": "code",
   "execution_count": 334,
   "metadata": {},
   "outputs": [],
   "source": [
    "X_train, X_test, y_train, y_test = train_test_split(X, Y, test_size=0.2, random_state=7)"
   ]
  },
  {
   "cell_type": "code",
   "execution_count": 335,
   "metadata": {},
   "outputs": [],
   "source": [
    "max_len = 100\n",
    "X_train = pad_sequences(X_train, maxlen=max_len)\n",
    "X_test = pad_sequences(X_test, maxlen=max_len)"
   ]
  },
  {
   "cell_type": "code",
   "execution_count": 336,
   "metadata": {},
   "outputs": [],
   "source": [
    "model = Sequential()\n",
    "\n",
    "# 단어를 읽어오는 세포 5천개\n",
    "\n",
    "model.add(Embedding(5000, 120))\n",
    "# 단어 하나마다 세포가 하나씩\n",
    "# 단어들을 120개로 임베딩딩\n",
    "model.add(Dropout(0.2))\n",
    "# LSTM\n",
    "model.add(LSTM(120))\n",
    "model.add(Dropout(0.2))\n",
    "#DropOut으로 랜덤으로 노드를 꺼줌으로서, 과적합을 방지\n",
    "\n",
    "# 은닉층...\n",
    "model.add(Dense(1, activation='sigmoid'))"
   ]
  },
  {
   "cell_type": "code",
   "execution_count": 337,
   "metadata": {},
   "outputs": [],
   "source": [
    "es = EarlyStopping(monitor='val_loss', mode='min', verbose=1, patience=3)\n",
    "mc = ModelCheckpoint('best_model.h5', monitor='val_acc', mode='max', verbose=1, save_best_only=True)"
   ]
  },
  {
   "cell_type": "code",
   "execution_count": 338,
   "metadata": {},
   "outputs": [
    {
     "name": "stdout",
     "output_type": "stream",
     "text": [
      "Epoch 1/10\n",
      "144/144 [==============================] - ETA: 0s - loss: 0.5136 - acc: 0.7623\n",
      "Epoch 00001: val_acc improved from -inf to 0.79965, saving model to best_model.h5\n",
      "144/144 [==============================] - 19s 131ms/step - loss: 0.5136 - acc: 0.7623 - val_loss: 0.4395 - val_acc: 0.7997\n",
      "Epoch 2/10\n",
      "144/144 [==============================] - ETA: 0s - loss: 0.3461 - acc: 0.8519\n",
      "Epoch 00002: val_acc improved from 0.79965 to 0.80967, saving model to best_model.h5\n",
      "144/144 [==============================] - 18s 126ms/step - loss: 0.3461 - acc: 0.8519 - val_loss: 0.4374 - val_acc: 0.8097\n",
      "Epoch 3/10\n",
      "144/144 [==============================] - ETA: 0s - loss: 0.2734 - acc: 0.8889\n",
      "Epoch 00003: val_acc did not improve from 0.80967\n",
      "144/144 [==============================] - 18s 126ms/step - loss: 0.2734 - acc: 0.8889 - val_loss: 0.4496 - val_acc: 0.8053\n",
      "Epoch 4/10\n",
      "144/144 [==============================] - ETA: 0s - loss: 0.2373 - acc: 0.9060\n",
      "Epoch 00004: val_acc did not improve from 0.80967\n",
      "144/144 [==============================] - 19s 129ms/step - loss: 0.2373 - acc: 0.9060 - val_loss: 0.5679 - val_acc: 0.7979\n",
      "Epoch 5/10\n",
      "144/144 [==============================] - ETA: 0s - loss: 0.1828 - acc: 0.9307\n",
      "Epoch 00005: val_acc did not improve from 0.80967\n",
      "144/144 [==============================] - 19s 129ms/step - loss: 0.1828 - acc: 0.9307 - val_loss: 0.5755 - val_acc: 0.7975\n",
      "Epoch 00005: early stopping\n"
     ]
    },
    {
     "data": {
      "text/plain": [
       "<tensorflow.python.keras.callbacks.History at 0x23cfdcf8c08>"
      ]
     },
     "execution_count": 338,
     "metadata": {},
     "output_type": "execute_result"
    }
   ],
   "source": [
    "model.compile(loss='binary_crossentropy', optimizer='adam', metrics=['acc'])\n",
    "model.fit(X_train, y_train, validation_data=(X_test, y_test), epochs=10, batch_size=64, callbacks=[es, mc])"
   ]
  },
  {
   "cell_type": "code",
   "execution_count": 341,
   "metadata": {},
   "outputs": [],
   "source": [
    "def top_low_n(name, n = 10):\n",
    "\n",
    "    attraction_df = All_Reviews_df[All_Reviews_df['attraction']==name]['text']\n",
    "\n",
    "    sentence_list = []\n",
    "    for text in attraction_df:\n",
    "        for sentence in tokenize.sent_tokenize(text):\n",
    "            if len(sentence) > 15:\n",
    "                sentence_list.append(sentence)\n",
    "            \n",
    "    result_sentences = []\n",
    "    \n",
    "    for sentence in sentence_list:\n",
    "        tokens = retokenize.tokenize(sentence)\n",
    "        processed_list = []\n",
    "        for token in tokens:\n",
    "            if token in dict_5000:\n",
    "                processed_list.append(dict_5000[token])\n",
    "        result_sentences.append(processed_list)\n",
    "\n",
    "    X_sentence = np.array(result_sentences)\n",
    "    X_sentence = pad_sequences(X_sentence, maxlen=max_len)\n",
    "\n",
    "    prediction_list = model.predict(X_sentence)\n",
    "    \n",
    "    \"\"\"\n",
    "    for prediction in model.predict(X_sentence):\n",
    "        max_i = 0\n",
    "        max_value = 0\n",
    "        for i, value in enumerate(prediction):\n",
    "            if max_value < value:\n",
    "                max_i = i\n",
    "                max_value = value\n",
    "        prediction_list.append(max_i)\n",
    "    \"\"\"\n",
    "\n",
    "    sent_predict_df = pd.DataFrame([(sentence, prediction) for sentence, prediction in zip(sentence_list, prediction_list)]).sort_values(by = 1)\n",
    "    \n",
    "    print(name)\n",
    "    print('negative')\n",
    "    head = sent_predict_df.head(10)\n",
    "    for star, sentence in zip(head[1], head[0]):\n",
    "        print(star, \" : \", sentence)\n",
    "        \n",
    "    print()\n",
    "    print(\"positive\")\n",
    "    \n",
    "    tail = sent_predict_df.tail(10)\n",
    "    for star, sentence in zip(tail[1], tail[0]):\n",
    "        print(star, \" : \", sentence)"
   ]
  },
  {
   "cell_type": "code",
   "execution_count": 342,
   "metadata": {},
   "outputs": [
    {
     "name": "stdout",
     "output_type": "stream",
     "text": [
      "Gyeongbokgung Palace\n",
      "negative\n",
      "[0.00825131]  :  It was destroyed during the Japanese invasion of 1592 and was reconstructed in 1867.During the Japanese Occupation between 1910 and 1945 most of the buildings were torn down and work continues to fully restore the place since 1990.\n",
      "[0.01743782]  :  But in all these countries, for a while, the worst elements were in control.\n",
      "[0.01856041]  :  If you ignore the whole place was rebuilt not long ago and hence isn't particularly original (although, of course, rebuilt in its impressive, historical, form) it is definitely worth seeing.\n",
      "[0.0246284]  :  But it’s nothing compared to palaces in other countries.\n",
      "[0.03219941]  :  We ended up renting hanbok (Korean old-style fancy clothing) before going into the palace which meant that we got free entry.\n",
      "[0.03225231]  :  This Palace also houses the Korean National Palace Museum and the   National Folk Museum.Because it was the biggest remaining Korean palace , the whole complex was systematically destroyed during the Japanese Occupation at the beginning of the 20th Century, and is slowly being rebuilt , including demolition of former Japanese government buildings to recreate the majestic Palace gateways!\n",
      "[0.0419485]  :  Other reviewers may say that it is not as fantastic as other palaces in other countries but you cannot compare.\n",
      "[0.04977277]  :  The pagoda in the centre seemed to be still under renovation (for a long time now).\n",
      "[0.0529491]  :  I recommend audio guides as there are very few signs telling you what you are looking at.Down side, a lot of open space with nothing but tourists to look at No grass for the most part just dirt and the walking paths are uneven granite stones.\n",
      "[0.05499113]  :  )There are complimentary language guides at designated times through the day if you are interested but the information can be found online and at the website rather than the brochure.\n",
      "\n",
      "positive\n",
      "[0.999498]  :  Make sure to bring your selfie stick or camera, there are so many gorgeous views, buildings and gardens so you’ll definitely get some fantastic pictures.\n",
      "[0.99950254]  :  Cheap entrance ticket or free when you enter wearing with traditional Korean “Hanbok” which can be rented in many shops in Bukchon village.Nice well preserved palaces and beautiful lake.\n",
      "[0.9995202]  :  Taking leisurely couple hours of walk with a friend on a weekend was a perfect way to relax & catch up.\n",
      "[0.9995595]  :  We also managed to watched the elaborate changing of the guard ceremony and then roamed around to admire the palace amazing structures.\n",
      "[0.9995936]  :  It is well preserved and provides the best background for your Joseon inspired photoshoot.Since there are many visitors, in regular clothes and in costume, it takes patience and good timing to get that perfect travelling in time, kdrama scene, hanbok shot.\n",
      "[0.99965715]  :  Also, try to witness the changing of the guards ceremony.\n",
      "[0.99973273]  :  TIPS:If you are planning your itinerary, this palace is located at the end of Gwanghwamun Square with the mountains at the backdropIf you will ride the bus going here, alight at the STOP right BEFORE the Gyeongbokgung station - it'll save you 5 minutes to walk back to the placeIf you intend to rent a Hanbok, alight at the Gyeongbokgung Station where all the rental shops and hairdo experts are before reaching the palace groundsCheck the schedule for changing of guardsDO NOT FORGET to eat at the Tosokchon Samgyetang for some stuffed chicken soup that will revive your soul!\n",
      "[0.9997917]  :  Also do not miss visiting the museums, both are well worth it; best to set aside most of the day to do the museums justice.\n",
      "[0.9998561]  :  The gates and the palace are the stars but the dining hall on the pond is an incredible building in a beautiful setting.\n",
      "[0.9999108]  :  We joined the free English tour, which was really excellent, informative and entertaining.\n"
     ]
    }
   ],
   "source": [
    "top_low_n(\"Gyeongbokgung Palace\", n = 10)"
   ]
  },
  {
   "cell_type": "code",
   "execution_count": 312,
   "metadata": {},
   "outputs": [],
   "source": [
    "data = \"\"\"Lots of clothes , socks , bags , etc . neg\n",
    "2\n",
    "There 's an aquarium inside too which I was really tempted to go but I 'd just eaten a bunch of sushi and did n't need a reminder that I had probably eaten Nemo . neg\n",
    "3\n",
    "connects two hotels . neg\n",
    "2\n",
    "Definitely a must see ! pos\n",
    "1\n",
    "We accidentally came across this mall . neu\n",
    "2\n",
    "Do n't get confused , Quantity does not mean either Quality or a good price . neg\n",
    "3\n",
    "Do not forget your camera and the volunteers in costume are very happy to get a photo with you . pos\n",
    "1\n",
    "This area is great for the atmosphere , hotels , and variety of different kinds of restaurants and people you will find . pos\n",
    "1\n",
    "Overwhelmed by Korean youngers . pos\n",
    "1\n",
    "At a certain fee , they can prepare the seafood you bought from the market for you . neg\n",
    "1\n",
    "Be sure to reach earlier if you intend to visit the zoo and the various museums there since they close pretty early . neu\n",
    "2\n",
    "Fast , clean , and friendly staffs . pos\n",
    "1\n",
    "After getting familiarized we realized that there were so all Magic tour tickets available allowing to skip the line . neg\n",
    "3\n",
    "Other reviews have mentioned the interactive hands free headset . pos\n",
    "1\n",
    "A great way to thoroughly enjoy this palace is to emerge yourself into the culture ! pos\n",
    "1\n",
    "The street itself also quite artsy with some mural and street performance during night . pos\n",
    "1\n",
    "There are a lot of shops to choose from . pos\n",
    "2\n",
    "Again as before , go with a guide and this palace comes to life.Be prepared to walk , the treasure is the building architecture and the history . pos\n",
    "1\n",
    "This branch is the Main & Biggest one . neu\n",
    "2\n",
    "Even you can shop some cosmetics ( which is the same store that you can find in Myeongdong ! ) pos\n",
    "1\n",
    "There is an old building and a new building next to each other . pos\n",
    "2\n",
    "However I am disappointed towards Youll . neg\n",
    "3\n",
    "Here we share some day & night photos shot . neu\n",
    "1\n",
    "They will push you to buy fresh seafood and will bring you to a bunch of restaurants upstairs and charge you exorbitantly to cook it . neg\n",
    "3\n",
    "Was looking forward to coming here but after marvelling at the structure and sculptures outside we were a bit bemused by the inside . neg\n",
    "3\n",
    "Nice place . pos\n",
    "1\n",
    "Overall a very nice day trip in conjunction with a walk down to Independence Park . neu\n",
    "1\n",
    "It 's a residence area . neg\n",
    "2\n",
    "I 've never been in a library that is soo huge . pos\n",
    "1\n",
    "It was beautifully restored and displayed . neu\n",
    "1\n",
    "However , if you need to buy something inside the prices are extremely reasonable . neu\n",
    "1\n",
    "If this was all there was in the area then it would be great , but there are some very impressive “ competitors ” nearby . neg\n",
    "2\n",
    "The prices are not cheap though but we order 2 set menus consisting of about 10 items which cost about Kwn69,000/- . neu\n",
    "3\n",
    "When we got on the bus to go to the tower , I didn ’ t realize that it was at the top of a hill/mountain so I was surprised that we didn ’ t just walk , but I was thankful as we made our way up the windy roads that walking wasn ’ t happening ! pos\n",
    "1\n",
    "So if you want to know the other side of Seoul that is more interesting , just stay in Hongdae ! pos\n",
    "1\n",
    "Worth a visit ! pos\n",
    "1\n",
    "Queues were small to get up and down the tower though . neu\n",
    "3\n",
    "? The owner gave us a shopping bag and wrote our name in korean . neg\n",
    "1\n",
    "Main problem anywhere in Korea is the language barrier . neu\n",
    "3\n",
    "You can bargain with for price . neu\n",
    "2\n",
    "I forgot the name . neu\n",
    "2\n",
    "It 's a well-planned mall for a younger audience with many amenities for events such as the Seoul St. Patty 's Day festival . neu\n",
    "1\n",
    "Inside the Seoul metro area I think it is very competitive with cars and riding is generally as fast as driving.English is everywhere and am English speaker can easily use the metro , though specifics like express trains and branch line service can be hard to spot without a little Korean . neu\n",
    "1\n",
    "Small portions , so if you have a big appetite ... ... ? ? ? ? ? ? ? ? ? ? ? neu\n",
    "3\n",
    "They have a really interesting library in the middle of the COEX . pos\n",
    "1\n",
    "After a brief lesson , you use brush and ink to write the Hangeul word on canvas . pos\n",
    "1\n",
    "You can also check out the Hongdae Free Market on Saturdays . pos\n",
    "1\n",
    "You can see the whole of Seoul from up here . pos\n",
    "1\n",
    "There are 11 floors with top 3 of them dedicated to Duty Free shopping . pos\n",
    "1\n",
    "However , fee was charged for camel / pony riding , amusement park and character world.Upon entrance , we were greeted by the awesome autumn scenery with colorful orange , yellow and red leaves on the tall trees . neu\n",
    "1\n",
    "Well worth the $ 22 admission price . neu\n",
    "1\n",
    "This temple has so much more to offer than the more popular spots in Seoul.Gyeongbokgung Palace was just ... big , while the Temple was wonderfully ornate and less crowded . pos\n",
    "1\n",
    "The exhibits and exhibition style was interesting too . neu\n",
    "1\n",
    "This place is a quick walkthrough compared to other palaces in Seoul , but it 's worth a visit if you have been to the other palaces . neu\n",
    "1\n",
    "Lots of food affordable food available as well . neu\n",
    "1\n",
    "Goods sold here tend to be cheaper than what you can find in Meyongdong . neg\n",
    "1\n",
    "Nevertheless , the museum is a great chronology of Korean history told through wars . pos\n",
    "1\n",
    "The parking garage was cold.- I appreciated that they had us line up in order . neu\n",
    "2\n",
    "I think the best experience is to grab any street food you like and munch on them while shopping . pos\n",
    "1\n",
    "I definitely recommend the casino , but please note that it is a rather small facility and so finding a table can be very hard with the right limits ( unless you 're a high limits player ) . pos\n",
    "1\n",
    "There is a free museum under the statue that mentions Yi Sunshin one of Korea 's greatest heroes and other important exhibits about important dates in Korean history . pos\n",
    "1\n",
    "This is also near Pungmoon High School and Choong Ang High School where you can reminisce the drama : ) pos\n",
    "1\n",
    "Must do the tower and get a great view of the city . pos\n",
    "1\n",
    "It also started pissing it down raining . pos\n",
    "2\n",
    "Many shop and food have been changed to modern style but still you can find Korean special style . pos\n",
    "1\n",
    "There are several theaters that display either holograms or 3-D presentations . pos\n",
    "1\n",
    "Really enjoyed the enjoyed the gardens which this building is situated . pos\n",
    "1\n",
    "nice museum close to the gyongborksung palace . neu\n",
    "1\n",
    "But , you have to pay for 11,000 won to go up the observatory to see the whole country view . pos\n",
    "3\n",
    "He was suspected to die with a complication of diabetes . neu\n",
    "2\n",
    "They even have a museum at the top floor . neu\n",
    "1\n",
    "Do n't worry it so safe : ) pos\n",
    "1\n",
    "There are many trails to go to the top of the mountain . neu\n",
    "2\n",
    "No entrance fee at all.Boungeunsa Temple is a peaceful retreat that is nestled in the heart of one of the busiest location in Seoul . pos\n",
    "1\n",
    "The area is mostly full of ladies stuffs and other home decorations , accessories etc.. pos\n",
    "1\n",
    "Would recommend the greenbean pancake , gimbap and bibimbap there ! pos\n",
    "1\n",
    "There were a lot of police lined up at the street at that time , so it was interesting in that the old and the new were happening in one place . neu\n",
    "1\n",
    "The down side is , it 's mostly only in Korean ! neu\n",
    "1\n",
    "We were lucky as there was a traditional korean music performance on the palace grounds as well , so we got to experience that ? ? ? pos\n",
    "1\n",
    "The museum is very interested , especially considering that it focuses on modern history and economic development . neu\n",
    "1\n",
    "Created by the admiral , this vessel was the world 's best assault ship of the time . pos\n",
    "1\n",
    "Even u will find toilets , fitness pos\n",
    "1\n",
    "Thus the only option that I notice is sulbing bingsu shop or bring some snacks from the lotte mart outside . neg\n",
    "3\n",
    "If you like fresh and good quality seafood this is a total must ! pos\n",
    "1\n",
    "It does not disappoint ! pos\n",
    "1\n",
    "I also liberated a young man who had been locked in a cell by his ‘ friends ’ . neu\n",
    "2\n",
    "Especially if you want to watch a play with your lover , friend or family , and go to a nice and intimate restaurant for dinner , do n't hesitate to visit Daehakro . pos\n",
    "1\n",
    "! neg\n",
    "2\n",
    "It has a wide variety of artifacts including ancient ones . neg\n",
    "1\n",
    "Connect this tour with your geokbong palace tour . pos\n",
    "2\n",
    "Buy a shirt , support a team and hope that they win ! pos\n",
    "1\n",
    "The place is small and crowded . neg\n",
    "3\n",
    "While walking the ground of the shrine , I said to her “ ah-reum-dap-da ” which was to compliment it to be such a pretty and serene place . pos\n",
    "1\n",
    "Would n't recommend coming all the way for this . neg\n",
    "3\n",
    "I advise you not to visit Korea House unless you sleep on money . neg\n",
    "3\n",
    "You will find Bonghwadae ( beacon mound ) at the top as it was once the center of capital defense . pos\n",
    "1\n",
    "Good way to spend an hour . neu\n",
    "1\n",
    "I would recommend to visit during day time until 8 PM . pos\n",
    "2\n",
    "I just feel bad that all were enclosed ... neu\n",
    "3\n",
    "It 's just a gate as part of the larger Gyeongbokgung Palace . neu\n",
    "2\"\"\""
   ]
  },
  {
   "cell_type": "code",
   "execution_count": 345,
   "metadata": {},
   "outputs": [
    {
     "data": {
      "text/plain": [
       "[('Lots of clothes , socks , bags , etc . neg', 0.5),\n",
       " (\"There 's an aquarium inside too which I was really tempted to go but I 'd just eaten a bunch of sushi and did n't need a reminder that I had probably eaten Nemo . neg\",\n",
       "  0),\n",
       " ('connects two hotels . neg', 0.5),\n",
       " ('Definitely a must see ! pos', 1),\n",
       " ('We accidentally came across this mall . neu', 0.5)]"
      ]
     },
     "execution_count": 345,
     "metadata": {},
     "output_type": "execute_result"
    }
   ],
   "source": [
    "h_test_list = []\n",
    "sentence_of_n = \"\"\n",
    "for line in data.split('\\n'):\n",
    "    try:\n",
    "        tag_num = int(line)\n",
    "        if tag_num == 1:\n",
    "            tag = 1\n",
    "        elif tag_num == 2:\n",
    "            tag = 0.5\n",
    "        else:\n",
    "            tag = 0\n",
    "        h_test_list.append((sentence_of_n, tag))\n",
    "    except ValueError:\n",
    "        sentence_of_n = line\n",
    "h_test_list[:5]"
   ]
  },
  {
   "cell_type": "code",
   "execution_count": 347,
   "metadata": {},
   "outputs": [
    {
     "data": {
      "text/plain": [
       "'\\nfor prediction in model.predict(X_sentence):\\n    max_i = 0\\n    max_value = 0\\n    for i, value in enumerate(prediction):\\n        if max_value < value:\\n            max_i = i\\n            max_value = value\\n    prediction_list.append(max_i)\\n'"
      ]
     },
     "execution_count": 347,
     "metadata": {},
     "output_type": "execute_result"
    }
   ],
   "source": [
    "result_sentences = []\n",
    "h_list = []\n",
    "\n",
    "for sentence, n in h_test_list:\n",
    "    tokens = retokenize.tokenize(sentence)\n",
    "    processed_list = []\n",
    "    for token in tokens:\n",
    "        if token in dict_5000:\n",
    "            processed_list.append(dict_5000[token])\n",
    "    result_sentences.append(processed_list)\n",
    "    h_list.append(n)\n",
    "\n",
    "X_sentence = np.array(result_sentences)\n",
    "X_sentence = pad_sequences(X_sentence, maxlen=max_len)\n",
    "\n",
    "prediction_list = model.predict(X_sentence)\n",
    "\"\"\"\n",
    "for prediction in model.predict(X_sentence):\n",
    "    max_i = 0\n",
    "    max_value = 0\n",
    "    for i, value in enumerate(prediction):\n",
    "        if max_value < value:\n",
    "            max_i = i\n",
    "            max_value = value\n",
    "    prediction_list.append(max_i)\n",
    "\"\"\""
   ]
  },
  {
   "cell_type": "code",
   "execution_count": 353,
   "metadata": {
    "scrolled": false
   },
   "outputs": [
    {
     "name": "stdout",
     "output_type": "stream",
     "text": [
      "Correct! 0.5 [0.739873] Lots of clothes , socks , bags , etc . neg\n",
      "Nearly 0 [0.4409516] There 's an aquarium inside too which I was really tempted to go but I 'd just eaten a bunch of sushi and did n't need a reminder that I had probably eaten Nemo . neg\n",
      "Nearly 0.5 [0.11170006] connects two hotels . neg\n",
      "Correct! 1 [0.70657164] Definitely a must see ! pos\n",
      "Correct! 0.5 [0.5039751] We accidentally came across this mall . neu\n",
      "Nearly 0 [0.62259066] Do n't get confused , Quantity does not mean either Quality or a good price . neg\n",
      "Correct! 1 [0.99530464] Do not forget your camera and the volunteers in costume are very happy to get a photo with you . pos\n",
      "Correct! 1 [0.99514747] This area is great for the atmosphere , hotels , and variety of different kinds of restaurants and people you will find . pos\n",
      "Wrong... 1 [0.3368889] Overwhelmed by Korean youngers . pos\n",
      "Correct! 1 [0.809152] At a certain fee , they can prepare the seafood you bought from the market for you . neg\n",
      "Nearly 0.5 [0.9794143] Be sure to reach earlier if you intend to visit the zoo and the various museums there since they close pretty early . neu\n",
      "Correct! 1 [0.81893283] Fast , clean , and friendly staffs . pos\n",
      "Wrong... 0 [0.7777457] After getting familiarized we realized that there were so all Magic tour tickets available allowing to skip the line . neg\n",
      "Correct! 1 [0.9725015] Other reviews have mentioned the interactive hands free headset . pos\n",
      "Correct! 1 [0.9958547] A great way to thoroughly enjoy this palace is to emerge yourself into the culture ! pos\n",
      "Correct! 1 [0.88378775] The street itself also quite artsy with some mural and street performance during night . pos\n",
      "Nearly 0.5 [0.8399937] There are a lot of shops to choose from . pos\n",
      "Correct! 1 [0.87521553] Again as before , go with a guide and this palace comes to life.Be prepared to walk , the treasure is the building architecture and the history . pos\n",
      "Correct! 0.5 [0.7037327] This branch is the Main & Biggest one . neu\n",
      "Correct! 1 [0.91575015] Even you can shop some cosmetics ( which is the same store that you can find in Myeongdong ! ) pos\n",
      "Correct! 0.5 [0.43440086] There is an old building and a new building next to each other . pos\n",
      "Correct! 0 [0.13536888] However I am disappointed towards Youll . neg\n",
      "Correct! 1 [0.8567587] Here we share some day & night photos shot . neu\n",
      "Wrong... 0 [0.81456697] They will push you to buy fresh seafood and will bring you to a bunch of restaurants upstairs and charge you exorbitantly to cook it . neg\n",
      "Wrong... 0 [0.67712027] Was looking forward to coming here but after marvelling at the structure and sculptures outside we were a bit bemused by the inside . neg\n",
      "Wrong... 1 [0.3368889] Nice place . pos\n",
      "Nearly 1 [0.5485585] Overall a very nice day trip in conjunction with a walk down to Independence Park . neu\n",
      "Correct! 0.5 [0.55033785] It 's a residence area . neg\n",
      "Correct! 1 [0.97344285] I 've never been in a library that is soo huge . pos\n",
      "Correct! 1 [0.9605135] It was beautifully restored and displayed . neu\n",
      "Nearly 1 [0.56561196] However , if you need to buy something inside the prices are extremely reasonable . neu\n",
      "Correct! 0.5 [0.6924852] If this was all there was in the area then it would be great , but there are some very impressive “ competitors ” nearby . neg\n",
      "Wrong... 0 [0.73769253] The prices are not cheap though but we order 2 set menus consisting of about 10 items which cost about Kwn69,000/- . neu\n",
      "Correct! 1 [0.9879304] When we got on the bus to go to the tower , I didn ’ t realize that it was at the top of a hill/mountain so I was surprised that we didn ’ t just walk , but I was thankful as we made our way up the windy roads that walking wasn ’ t happening ! pos\n",
      "Nearly 1 [0.6693002] So if you want to know the other side of Seoul that is more interesting , just stay in Hongdae ! pos\n",
      "Nearly 1 [0.55298793] Worth a visit ! pos\n",
      "Nearly 0 [0.64403033] Queues were small to get up and down the tower though . neu\n",
      "Wrong... 1 [0.21237633] ? The owner gave us a shopping bag and wrote our name in korean . neg\n",
      "Wrong... 0 [0.87894756] Main problem anywhere in Korea is the language barrier . neu\n",
      "Correct! 0.5 [0.8176354] You can bargain with for price . neu\n",
      "Correct! 0.5 [0.79146886] I forgot the name . neu\n",
      "Correct! 1 [0.9994167] It 's a well-planned mall for a younger audience with many amenities for events such as the Seoul St. Patty 's Day festival . neu\n",
      "Correct! 1 [0.98476124] Inside the Seoul metro area I think it is very competitive with cars and riding is generally as fast as driving.English is everywhere and am English speaker can easily use the metro , though specifics like express trains and branch line service can be hard to spot without a little Korean . neu\n",
      "Nearly 0 [0.3400976] Small portions , so if you have a big appetite ... ... ? ? ? ? ? ? ? ? ? ? ? neu\n",
      "Nearly 1 [0.448289] They have a really interesting library in the middle of the COEX . pos\n",
      "Nearly 1 [0.36351052] After a brief lesson , you use brush and ink to write the Hangeul word on canvas . pos\n",
      "Correct! 1 [0.67907953] You can also check out the Hongdae Free Market on Saturdays . pos\n",
      "Nearly 1 [0.4989118] You can see the whole of Seoul from up here . pos\n",
      "Correct! 1 [0.7653511] There are 11 floors with top 3 of them dedicated to Duty Free shopping . pos\n",
      "Correct! 1 [0.9885171] However , fee was charged for camel / pony riding , amusement park and character world.Upon entrance , we were greeted by the awesome autumn scenery with colorful orange , yellow and red leaves on the tall trees . neu\n",
      "Nearly 1 [0.545962] Well worth the $ 22 admission price . neu\n",
      "Correct! 1 [0.77460456] This temple has so much more to offer than the more popular spots in Seoul.Gyeongbokgung Palace was just ... big , while the Temple was wonderfully ornate and less crowded . pos\n",
      "Wrong... 1 [0.3249926] The exhibits and exhibition style was interesting too . neu\n",
      "Wrong... 1 [0.2384648] This place is a quick walkthrough compared to other palaces in Seoul , but it 's worth a visit if you have been to the other palaces . neu\n",
      "Correct! 1 [0.96718985] Lots of food affordable food available as well . neu\n",
      "Correct! 1 [0.9770052] Goods sold here tend to be cheaper than what you can find in Meyongdong . neg\n",
      "Correct! 1 [0.9508593] Nevertheless , the museum is a great chronology of Korean history told through wars . pos\n",
      "Nearly 0.5 [0.9852644] The parking garage was cold.- I appreciated that they had us line up in order . neu\n",
      "Correct! 1 [0.9427148] I think the best experience is to grab any street food you like and munch on them while shopping . pos\n",
      "Correct! 1 [0.7281691] I definitely recommend the casino , but please note that it is a rather small facility and so finding a table can be very hard with the right limits ( unless you 're a high limits player ) . pos\n",
      "Correct! 1 [0.98741496] There is a free museum under the statue that mentions Yi Sunshin one of Korea 's greatest heroes and other important exhibits about important dates in Korean history . pos\n",
      "Nearly 1 [0.51616365] This is also near Pungmoon High School and Choong Ang High School where you can reminisce the drama : ) pos\n",
      "Correct! 1 [0.88239324] Must do the tower and get a great view of the city . pos\n",
      "Nearly 0.5 [0.9592757] It also started pissing it down raining . pos\n",
      "Wrong... 1 [0.21268675] Many shop and food have been changed to modern style but still you can find Korean special style . pos\n",
      "Nearly 1 [0.42310593] There are several theaters that display either holograms or 3-D presentations . pos\n",
      "Correct! 1 [0.9729029] Really enjoyed the enjoyed the gardens which this building is situated . pos\n",
      "Nearly 1 [0.61829436] nice museum close to the gyongborksung palace . neu\n",
      "Correct! 0 [0.1333532] But , you have to pay for 11,000 won to go up the observatory to see the whole country view . pos\n",
      "Correct! 0.5 [0.3929516] He was suspected to die with a complication of diabetes . neu\n",
      "Nearly 1 [0.66338223] They even have a museum at the top floor . neu\n",
      "Correct! 1 [0.92134136] Do n't worry it so safe : ) pos\n",
      "Nearly 0.5 [0.9201089] There are many trails to go to the top of the mountain . neu\n",
      "Correct! 1 [0.9849132] No entrance fee at all.Boungeunsa Temple is a peaceful retreat that is nestled in the heart of one of the busiest location in Seoul . pos\n",
      "Correct! 1 [0.9429021] The area is mostly full of ladies stuffs and other home decorations , accessories etc.. pos\n",
      "Correct! 1 [0.9175315] Would recommend the greenbean pancake , gimbap and bibimbap there ! pos\n",
      "Wrong... 1 [0.21189675] There were a lot of police lined up at the street at that time , so it was interesting in that the old and the new were happening in one place . neu\n",
      "Wrong... 1 [0.162557] The down side is , it 's mostly only in Korean ! neu\n",
      "Correct! 1 [0.9662515] We were lucky as there was a traditional korean music performance on the palace grounds as well , so we got to experience that ? ? ? pos\n",
      "Nearly 1 [0.50847393] The museum is very interested , especially considering that it focuses on modern history and economic development . neu\n",
      "Correct! 1 [0.93598664] Created by the admiral , this vessel was the world 's best assault ship of the time . pos\n",
      "Nearly 1 [0.56117356] Even u will find toilets , fitness pos\n",
      "Wrong... 0 [0.882104] Thus the only option that I notice is sulbing bingsu shop or bring some snacks from the lotte mart outside . neg\n",
      "Correct! 1 [0.71314865] If you like fresh and good quality seafood this is a total must ! pos\n",
      "Correct! 1 [0.8809102] It does not disappoint ! pos\n",
      "Correct! 0.5 [0.19191846] I also liberated a young man who had been locked in a cell by his ‘ friends ’ . neu\n",
      "Correct! 1 [0.9973828] Especially if you want to watch a play with your lover , friend or family , and go to a nice and intimate restaurant for dinner , do n't hesitate to visit Daehakro . pos\n",
      "Correct! 0.5 [0.3368889] ! neg\n",
      "Correct! 1 [0.98970026] It has a wide variety of artifacts including ancient ones . neg\n",
      "Correct! 0.5 [0.5897494] Connect this tour with your geokbong palace tour . pos\n",
      "Correct! 1 [0.9891893] Buy a shirt , support a team and hope that they win ! pos\n",
      "Correct! 0 [0.28062105] The place is small and crowded . neg\n",
      "Correct! 1 [0.7581413] While walking the ground of the shrine , I said to her “ ah-reum-dap-da ” which was to compliment it to be such a pretty and serene place . pos\n",
      "Nearly 0 [0.562045] Would n't recommend coming all the way for this . neg\n",
      "Correct! 0 [0.02830899] I advise you not to visit Korea House unless you sleep on money . neg\n",
      "Correct! 1 [0.8434515] You will find Bonghwadae ( beacon mound ) at the top as it was once the center of capital defense . pos\n",
      "Nearly 1 [0.4750321] Good way to spend an hour . neu\n",
      "Correct! 0.5 [0.505453] I would recommend to visit during day time until 8 PM . pos\n",
      "Correct! 0 [0.10838358] I just feel bad that all were enclosed ... neu\n",
      "Correct! 0.5 [0.52119446] It 's just a gate as part of the larger Gyeongbokgung Palace . neu\n",
      "Correct :  60\n",
      "Nearly :  26\n",
      "Wrong :  14\n",
      "rate :  0.73\n"
     ]
    }
   ],
   "source": [
    "residual_list = []\n",
    "wrong = 0\n",
    "nearly = 0\n",
    "correct = 0\n",
    "\n",
    "for h, p, S in zip(h_list, prediction_list, h_test_list):\n",
    "\n",
    "    if abs(h-p) < 0.33:\n",
    "        print(\"Correct!\", h, p, S[0])\n",
    "        correct += 1\n",
    "    elif abs(h-p) <0.66:\n",
    "        print(\"Nearly\", h, p, S[0])\n",
    "        nearly += 1\n",
    "    \n",
    "    else:\n",
    "        print(\"Wrong...\", h, p, S[0])\n",
    "        wrong += 1\n",
    "\n",
    "print('Correct : ', correct)\n",
    "print('Nearly : ', nearly)\n",
    "print('Wrong : ', wrong)\n",
    "print('rate : ', (correct + nearly * 0.5) / (correct + wrong + nearly)) "
   ]
  },
  {
   "cell_type": "code",
   "execution_count": null,
   "metadata": {},
   "outputs": [],
   "source": []
  }
 ],
 "metadata": {
  "kernelspec": {
   "display_name": "Python 3",
   "language": "python",
   "name": "python3"
  },
  "language_info": {
   "codemirror_mode": {
    "name": "ipython",
    "version": 3
   },
   "file_extension": ".py",
   "mimetype": "text/x-python",
   "name": "python",
   "nbconvert_exporter": "python",
   "pygments_lexer": "ipython3",
   "version": "3.7.7"
  }
 },
 "nbformat": 4,
 "nbformat_minor": 4
}
