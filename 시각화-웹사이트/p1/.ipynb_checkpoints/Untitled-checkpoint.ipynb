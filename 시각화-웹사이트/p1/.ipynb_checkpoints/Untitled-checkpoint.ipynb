{
 "cells": [
  {
   "cell_type": "code",
   "execution_count": 1,
   "metadata": {},
   "outputs": [],
   "source": [
    "import pandas as pd"
   ]
  },
  {
   "cell_type": "code",
   "execution_count": 2,
   "metadata": {},
   "outputs": [],
   "source": [
    "import os\n",
    "from os import path \n",
    "from time import time\n",
    "os.environ.setdefault(\"DJANGO_SETTINGS_MODULE\", \"TRAS.settings\")\n",
    "import django\n",
    "from django.core.exceptions import ObjectDoesNotExist\n",
    "django.setup()\n",
    "from django.db import transaction\n",
    "from django.conf import settings"
   ]
  },
  {
   "cell_type": "code",
   "execution_count": 3,
   "metadata": {},
   "outputs": [],
   "source": [
    "from PIL import Image"
   ]
  },
  {
   "cell_type": "code",
   "execution_count": 4,
   "metadata": {},
   "outputs": [],
   "source": [
    "from proto.models import Attraction, Review, Big_Sort"
   ]
  },
  {
   "cell_type": "code",
   "execution_count": 5,
   "metadata": {},
   "outputs": [],
   "source": [
    "os.environ[\"DJANGO_ALLOW_ASYNC_UNSAFE\"] = \"true\""
   ]
  },
  {
   "cell_type": "code",
   "execution_count": 5,
   "metadata": {},
   "outputs": [],
   "source": [
    "sort_path = 'C:/Users/taehee/Documents/GitHub/tripReviewAnalysisSystem/크롤러-전처리/sorting/'\n",
    "\n",
    "sort_file_list = os.listdir(sort_path)"
   ]
  },
  {
   "cell_type": "code",
   "execution_count": 6,
   "metadata": {},
   "outputs": [],
   "source": [
    "def add_Attraction_and_Sorting(sort_path, sort_file_name):\n",
    "    \n",
    "    attractions_df = pd.read_csv(sort_path+ sort_file_name, engine='python', index_col = 0, encoding = 'utf-8')\n",
    "        \n",
    "    for attraction in attractions_df.itertuples(index=False):\n",
    "        try:\n",
    "            the_sort = Big_Sort.objects.get(sort_name = attraction[1])\n",
    "        except Big_Sort.DoesNotExist:\n",
    "            Big_Sort(sort_name = attraction[1]).save()\n",
    "            the_sort = Big_Sort.objects.get(sort_name = attraction[1])\n",
    "        Attraction(name = attraction[0], big_sort = the_sort, address = attraction[3]).save()"
   ]
  },
  {
   "cell_type": "code",
   "execution_count": 7,
   "metadata": {},
   "outputs": [],
   "source": [
    "def review_date(date_string):\n",
    "    dict = {\n",
    "        ' January ':'-01-01',\n",
    "        ' February ':'-02-01',\n",
    "        ' March ':'-03-01',\n",
    "        ' April ':'-04-01',\n",
    "        ' May ':'-05-01',\n",
    "        ' June ':'-06-01',\n",
    "        ' July ':'-07-01',\n",
    "        ' August ':'-08-01',\n",
    "        ' September ':'-09-01',\n",
    "        ' October ':'-10-01',\n",
    "        ' November ':'-11-01',\n",
    "        ' December ':'-12-01',\n",
    "    }\n",
    "    \n",
    "    return date_string[-4:] + dict[date_string[:-4]]"
   ]
  },
  {
   "cell_type": "code",
   "execution_count": 8,
   "metadata": {},
   "outputs": [
    {
     "name": "stdout",
     "output_type": "stream",
     "text": [
      "2019-12-01\n"
     ]
    }
   ],
   "source": [
    "print(review_date(' December 2019'))"
   ]
  },
  {
   "cell_type": "code",
   "execution_count": 9,
   "metadata": {},
   "outputs": [],
   "source": [
    "def add_Reviews_of_attraction(path, file_name):\n",
    "    '''\n",
    "    입력 : 정확한 여행지의 이름(string)\n",
    "    출력 : 데이터 베이스에 새로운 여행지와 그 리뷰들을 추가\n",
    "    '''\n",
    "    \n",
    "    stime = time()\n",
    "    print(file_name + ' is began to be moved')\n",
    "    raw_df = pd.read_csv(path+ file_name, engine='python', index_col = 0, encoding = 'utf-8')    \n",
    "    \n",
    "    not_nan_index = raw_df['text'].notna()\n",
    "    Attraction_df = raw_df[not_nan_index]      \n",
    "    the_Attraction = Attraction.objects.get(name = file_name[:-4])\n",
    "    \n",
    "    '''    \n",
    "    for review in Attraction_df.itertuples(index=False):\n",
    "        Review(attraction = the_Attraction, star = review[0],title = review[1], text=review[2], date=review_date(review[3])).save()\n",
    "    '''\n",
    "    \n",
    "    reviews = [Review(attraction = the_Attraction, star = review[0],title = review[1], text=review[2], date=review_date(review[3])) for review in Attraction_df.itertuples(index=False)]\n",
    "    \n",
    "    print(reviews[2].text)\n",
    "    \n",
    "    Review.objects.bulk_create(reviews)\n",
    "    \n",
    "    print(file_name + \"has moved to MySQL: 소요시간 [%d]초\" % (time() - stime))\n",
    "        "
   ]
  },
  {
   "cell_type": "code",
   "execution_count": 6,
   "metadata": {},
   "outputs": [],
   "source": [
    "path = 'C:/Users/taehee/Documents/GitHub/tripReviewAnalysisSystem/크롤러-전처리/원시자료/'\n",
    "\n",
    "file_list = os.listdir(path)"
   ]
  },
  {
   "cell_type": "code",
   "execution_count": 11,
   "metadata": {},
   "outputs": [
    {
     "name": "stdout",
     "output_type": "stream",
     "text": [
      "63 City.csv\n",
      "63 City\n"
     ]
    }
   ],
   "source": [
    "print(file_list[0])\n",
    "print(file_list[0][:-4])\n",
    "test_df = pd.read_csv(path+ file_list[0], engine='python', index_col = 0, encoding = 'utf-8')"
   ]
  },
  {
   "cell_type": "code",
   "execution_count": 12,
   "metadata": {},
   "outputs": [
    {
     "name": "stdout",
     "output_type": "stream",
     "text": [
      "Pandas(star_point=3.0, title='nothing special', text='just a tall building in a residential area. not worth visiting in itself. the restaurants and attractions are mostly intended for families in the area.', _3=' February 2020')\n",
      "Pandas(star_point=4.0, title='City Views', text='Had lunch on 59th floor, outstanding views of the the city. Enjoyable buffet lunch well presented, professional staff.', _3=' October 2019')\n",
      "Pandas(star_point=3.0, title='Great Views', text='Stopped by here as it was along my travel plans for the day.  The building is striking from the outside and in... a little pricy for the overall experience.  The exterior elevators are quite thrilling for one with a great respect for heights.  It was a bit of a challenge to find the actual entrance to the building/activities and it was quite crowded on the weekend I visited.  As mentioned, it was along the travel route I had planned for the day and thought it would be nice to visit the Art Gallery (happened be to the show \"With My Friends\" geared toward children and how children interact with their environment - actually quite charming).  Not sure that I would go back unless there were a particular event to attend or art show to see.  City views are available in other locations...', _3=' April 2019')\n",
      "Pandas(star_point=3.0, title='Just a tall building', text=\"I don't know what I was expecting but this was just another modern building. The area is great though, so if you are in a position like me where you're travel buddy wants to visit, you can combine it with a nice walk by the river :)\", _3=' August 2018')\n",
      "Pandas(star_point=3.0, title='63 City', text='Took a 10-15 mins walk from the Yeoinaru station. First went to the aquarium but the place as smaller than expected. I would say not worth the price if you are not interested in sea creatures. The observatory and art museum was worth the time there as it overlooks the whole of S.Korea.Tip: I left 63 city around 7 and walked past the Han river towards Yeoinaru station and there was a great view there since there was a great sunset.', _3=' July 2019')\n"
     ]
    }
   ],
   "source": [
    "for test in test_df.head().itertuples(index=False):\n",
    "    print(test)"
   ]
  },
  {
   "cell_type": "code",
   "execution_count": 24,
   "metadata": {},
   "outputs": [],
   "source": [
    "def update_wordcloud(path):\n",
    "    #데이터 베이스에서 모든 어트랙션들을 불러온다\n",
    "    Attractions = Attraction.objects.all()[:]\n",
    "    \n",
    "    for attraction in Attractions:\n",
    "        print(str(attraction))\n",
    "        try:\n",
    "            image = Image.open(os.path.join(path, attraction.name+'.csv.jpg'))\n",
    "            attraction.wordcloud = image\n",
    "        except:\n",
    "            continue\n",
    "            \n",
    "    Attraction.objects.bulk_update(Attractions, ['wordcloud'])\n",
    "    #bulk로 업데이트 한다."
   ]
  },
  {
   "cell_type": "code",
   "execution_count": 20,
   "metadata": {},
   "outputs": [],
   "source": [
    "image = Image.open(os.path.join(path, 'Gyeongbokgung Palace'+'.csv.jpg'))"
   ]
  },
  {
   "cell_type": "code",
   "execution_count": 26,
   "metadata": {},
   "outputs": [
    {
     "ename": "SyntaxError",
     "evalue": "EOL while scanning string literal (<ipython-input-26-f2f7b94e1994>, line 1)",
     "output_type": "error",
     "traceback": [
      "\u001b[1;36m  File \u001b[1;32m\"<ipython-input-26-f2f7b94e1994>\"\u001b[1;36m, line \u001b[1;32m1\u001b[0m\n\u001b[1;33m    update_wordcloud(\"C:\\Users\\taehee\\Documents\\GitHub\\tripReviewAnalysisSystem\\시각화-웹사이트\\p1\\proto\\wc_image\\\")\u001b[0m\n\u001b[1;37m                                                                                                             ^\u001b[0m\n\u001b[1;31mSyntaxError\u001b[0m\u001b[1;31m:\u001b[0m EOL while scanning string literal\n"
     ]
    }
   ],
   "source": [
    "update_wordcloud(\"C:/Users/taehee/Documents/GitHub/tripReviewAnalysisSystem/시각화-웹사이트/p1/proto/wc_image/\")"
   ]
  }
 ],
 "metadata": {
  "kernelspec": {
   "display_name": "Python 3",
   "language": "python",
   "name": "python3"
  },
  "language_info": {
   "codemirror_mode": {
    "name": "ipython",
    "version": 3
   },
   "file_extension": ".py",
   "mimetype": "text/x-python",
   "name": "python",
   "nbconvert_exporter": "python",
   "pygments_lexer": "ipython3",
   "version": "3.7.1"
  }
 },
 "nbformat": 4,
 "nbformat_minor": 4
}
