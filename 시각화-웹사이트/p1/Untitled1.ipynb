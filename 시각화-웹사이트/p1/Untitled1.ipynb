{
 "cells": [
  {
   "cell_type": "code",
   "execution_count": 5,
   "metadata": {},
   "outputs": [],
   "source": [
    "from tensorflow.keras.datasets import imdb\n",
    "%matplotlib inline\n",
    "import matplotlib.pyplot as plt\n",
    "import numpy as np"
   ]
  },
  {
   "cell_type": "code",
   "execution_count": 6,
   "metadata": {},
   "outputs": [
    {
     "name": "stdout",
     "output_type": "stream",
     "text": [
      "Downloading data from https://storage.googleapis.com/tensorflow/tf-keras-datasets/imdb.npz\n",
      "17465344/17464789 [==============================] - 2s 0us/step\n",
      "훈련용 리뷰 개수 : 25000\n",
      "테스트용 리뷰 개수 : 25000\n",
      "카테고리 : 2\n",
      "[1, 14, 22, 16, 43, 530, 973, 1622, 1385, 65, 458, 4468, 66, 3941, 4, 173, 36, 256, 5, 25, 100, 43, 838, 112, 50, 670, 22665, 9, 35, 480, 284, 5, 150, 4, 172, 112, 167, 21631, 336, 385, 39, 4, 172, 4536, 1111, 17, 546, 38, 13, 447, 4, 192, 50, 16, 6, 147, 2025, 19, 14, 22, 4, 1920, 4613, 469, 4, 22, 71, 87, 12, 16, 43, 530, 38, 76, 15, 13, 1247, 4, 22, 17, 515, 17, 12, 16, 626, 18, 19193, 5, 62, 386, 12, 8, 316, 8, 106, 5, 4, 2223, 5244, 16, 480, 66, 3785, 33, 4, 130, 12, 16, 38, 619, 5, 25, 124, 51, 36, 135, 48, 25, 1415, 33, 6, 22, 12, 215, 28, 77, 52, 5, 14, 407, 16, 82, 10311, 8, 4, 107, 117, 5952, 15, 256, 4, 31050, 7, 3766, 5, 723, 36, 71, 43, 530, 476, 26, 400, 317, 46, 7, 4, 12118, 1029, 13, 104, 88, 4, 381, 15, 297, 98, 32, 2071, 56, 26, 141, 6, 194, 7486, 18, 4, 226, 22, 21, 134, 476, 26, 480, 5, 144, 30, 5535, 18, 51, 36, 28, 224, 92, 25, 104, 4, 226, 65, 16, 38, 1334, 88, 12, 16, 283, 5, 16, 4472, 113, 103, 32, 15, 16, 5345, 19, 178, 32]\n",
      "1\n"
     ]
    }
   ],
   "source": [
    "# 영화 리뷰는 X_train에, 감성 정보는 y_train에 저장된다.\n",
    "# 테스트용 리뷰는 X_test에, 테스트용 리뷰의 감성 정보는 y_test에 저장된다.\n",
    "(X_train, y_train), (X_test, y_test) = imdb.load_data()\n",
    "# (X_train, y_train), (X_test, y_test) = imdb.load_data(num_words = 10000)\n",
    "\n",
    "print('훈련용 리뷰 개수 : {}'.format(len(X_train)))\n",
    "print('테스트용 리뷰 개수 : {}'.format(len(X_test)))\n",
    "num_classes = max(y_train) + 1\n",
    "print('카테고리 : {}'.format(num_classes))\n",
    "\n",
    "print(X_train[0])\n",
    "print(y_train[0])"
   ]
  },
  {
   "cell_type": "code",
   "execution_count": 8,
   "metadata": {},
   "outputs": [
    {
     "name": "stdout",
     "output_type": "stream",
     "text": [
      "리뷰의 최대 길이 : 2494\n",
      "리뷰의 평균 길이 : 238.71364\n"
     ]
    },
    {
     "data": {
      "image/png": "[encoded data removed]",
      "text/plain": [
       "<Figure size 432x288 with 2 Axes>"
      ]
     },
     "metadata": {
      "needs_background": "light"
     },
     "output_type": "display_data"
    }
   ],
   "source": [
    "len_result = [len(s) for s in X_train]\n",
    "\n",
    "print('리뷰의 최대 길이 : {}'.format(np.max(len_result)))\n",
    "print('리뷰의 평균 길이 : {}'.format(np.mean(len_result)))\n",
    "\n",
    "plt.subplot(1,2,1)\n",
    "plt.boxplot(len_result)\n",
    "plt.subplot(1,2,2)\n",
    "plt.hist(len_result, bins=50)\n",
    "plt.show()"
   ]
  },
  {
   "cell_type": "code",
   "execution_count": 9,
   "metadata": {},
   "outputs": [
    {
     "name": "stdout",
     "output_type": "stream",
     "text": [
      "각 레이블에 대한 빈도수:\n",
      "[[    0     1]\n",
      " [12500 12500]]\n"
     ]
    }
   ],
   "source": [
    "unique_elements, counts_elements = np.unique(y_train, return_counts=True)\n",
    "print(\"각 레이블에 대한 빈도수:\")\n",
    "print(np.asarray((unique_elements, counts_elements)))"
   ]
  },
  {
   "cell_type": "code",
   "execution_count": 10,
   "metadata": {},
   "outputs": [
    {
     "name": "stdout",
     "output_type": "stream",
     "text": [
      "Downloading data from https://storage.googleapis.com/tensorflow/tf-keras-datasets/imdb_word_index.json\n",
      "1646592/1641221 [==============================] - 1s 0us/step\n"
     ]
    }
   ],
   "source": [
    "word_to_index = imdb.get_word_index()\n",
    "index_to_word={}\n",
    "for key, value in word_to_index.items():\n",
    "    index_to_word[value] = key"
   ]
  },
  {
   "cell_type": "code",
   "execution_count": 11,
   "metadata": {},
   "outputs": [
    {
     "name": "stdout",
     "output_type": "stream",
     "text": [
      "빈도수 상위 1번 단어 : the\n"
     ]
    }
   ],
   "source": [
    "print('빈도수 상위 1번 단어 : {}'.format(index_to_word[1]))"
   ]
  },
  {
   "cell_type": "code",
   "execution_count": 12,
   "metadata": {},
   "outputs": [
    {
     "name": "stdout",
     "output_type": "stream",
     "text": [
      "빈도수 상위 3941번 단어 : journalist\n"
     ]
    }
   ],
   "source": [
    "print('빈도수 상위 3941번 단어 : {}'.format(index_to_word[3941]))"
   ]
  },
  {
   "cell_type": "code",
   "execution_count": 13,
   "metadata": {},
   "outputs": [],
   "source": [
    "from tensorflow.keras.preprocessing.sequence import pad_sequences\n",
    "from tensorflow.keras.models import Sequential\n",
    "from tensorflow.keras.layers import Dense, LSTM, Embedding\n",
    "from tensorflow.keras.callbacks import EarlyStopping, ModelCheckpoint\n",
    "from tensorflow.keras.models import load_model"
   ]
  },
  {
   "cell_type": "code",
   "execution_count": 14,
   "metadata": {},
   "outputs": [],
   "source": [
    "(X_train, y_train), (X_test, y_test) = imdb.load_data(num_words = 5000)"
   ]
  },
  {
   "cell_type": "code",
   "execution_count": 15,
   "metadata": {},
   "outputs": [],
   "source": [
    "max_len = 500\n",
    "X_train = pad_sequences(X_train, maxlen=max_len)\n",
    "X_test = pad_sequences(X_test, maxlen=max_len)"
   ]
  },
  {
   "cell_type": "code",
   "execution_count": 16,
   "metadata": {},
   "outputs": [],
   "source": [
    "model = Sequential()\n",
    "model.add(Embedding(5000, 120))\n",
    "model.add(LSTM(120))\n",
    "model.add(Dense(1, activation='sigmoid'))"
   ]
  },
  {
   "cell_type": "code",
   "execution_count": 17,
   "metadata": {},
   "outputs": [],
   "source": [
    "es = EarlyStopping(monitor='val_loss', mode='min', verbose=1, patience=4)\n",
    "mc = ModelCheckpoint('best_model.h5', monitor='val_acc', mode='max', verbose=1, save_best_only=True)"
   ]
  },
  {
   "cell_type": "code",
   "execution_count": 18,
   "metadata": {},
   "outputs": [
    {
     "name": "stdout",
     "output_type": "stream",
     "text": [
      "Epoch 1/10\n",
      "391/391 [==============================] - ETA: 0s - loss: 0.4807 - acc: 0.7636\n",
      "Epoch 00001: val_acc improved from -inf to 0.84596, saving model to best_model.h5\n",
      "391/391 [==============================] - 408s 1s/step - loss: 0.4807 - acc: 0.7636 - val_loss: 0.3987 - val_acc: 0.8460\n",
      "Epoch 2/10\n",
      "391/391 [==============================] - ETA: 0s - loss: 0.3061 - acc: 0.8766\n",
      "Epoch 00002: val_acc did not improve from 0.84596\n",
      "391/391 [==============================] - 476s 1s/step - loss: 0.3061 - acc: 0.8766 - val_loss: 0.3817 - val_acc: 0.8263\n",
      "Epoch 3/10\n",
      "391/391 [==============================] - ETA: 0s - loss: 0.2357 - acc: 0.9077\n",
      "Epoch 00003: val_acc improved from 0.84596 to 0.85948, saving model to best_model.h5\n",
      "391/391 [==============================] - 424s 1s/step - loss: 0.2357 - acc: 0.9077 - val_loss: 0.3345 - val_acc: 0.8595\n",
      "Epoch 4/10\n",
      "391/391 [==============================] - ETA: 0s - loss: 0.2165 - acc: 0.9136\n",
      "Epoch 00004: val_acc improved from 0.85948 to 0.87424, saving model to best_model.h5\n",
      "391/391 [==============================] - 414s 1s/step - loss: 0.2165 - acc: 0.9136 - val_loss: 0.3188 - val_acc: 0.8742\n",
      "Epoch 5/10\n",
      "391/391 [==============================] - ETA: 0s - loss: 0.1820 - acc: 0.9331\n",
      "Epoch 00005: val_acc improved from 0.87424 to 0.87708, saving model to best_model.h5\n",
      "391/391 [==============================] - 411s 1s/step - loss: 0.1820 - acc: 0.9331 - val_loss: 0.3316 - val_acc: 0.8771\n",
      "Epoch 6/10\n",
      "391/391 [==============================] - ETA: 0s - loss: 0.1295 - acc: 0.9514\n",
      "Epoch 00006: val_acc did not improve from 0.87708\n",
      "391/391 [==============================] - 418s 1s/step - loss: 0.1295 - acc: 0.9514 - val_loss: 0.3664 - val_acc: 0.8623\n",
      "Epoch 7/10\n",
      "391/391 [==============================] - ETA: 0s - loss: 0.1192 - acc: 0.9564\n",
      "Epoch 00007: val_acc did not improve from 0.87708\n",
      "391/391 [==============================] - 419s 1s/step - loss: 0.1192 - acc: 0.9564 - val_loss: 0.4567 - val_acc: 0.8630\n",
      "Epoch 8/10\n",
      "391/391 [==============================] - ETA: 0s - loss: 0.1095 - acc: 0.9604\n",
      "Epoch 00008: val_acc did not improve from 0.87708\n",
      "391/391 [==============================] - 441s 1s/step - loss: 0.1095 - acc: 0.9604 - val_loss: 0.4653 - val_acc: 0.8725\n",
      "Epoch 00008: early stopping\n"
     ]
    },
    {
     "data": {
      "text/plain": [
       "<tensorflow.python.keras.callbacks.History at 0x16855062808>"
      ]
     },
     "execution_count": 18,
     "metadata": {},
     "output_type": "execute_result"
    }
   ],
   "source": [
    "model.compile(loss='binary_crossentropy', optimizer='adam', metrics=['acc'])\n",
    "model.fit(X_train, y_train, validation_data=(X_test, y_test), epochs=10, batch_size=64, callbacks=[es, mc])"
   ]
  },
  {
   "cell_type": "code",
   "execution_count": 30,
   "metadata": {},
   "outputs": [
    {
     "ename": "AttributeError",
     "evalue": "'list' object has no attribute 'replace'",
     "output_type": "error",
     "traceback": [
      "\u001b[1;31m---------------------------------------------------------------------------\u001b[0m",
      "\u001b[1;31mAttributeError\u001b[0m                            Traceback (most recent call last)",
      "\u001b[1;32m<ipython-input-30-988b95db970c>\u001b[0m in \u001b[0;36m<module>\u001b[1;34m\u001b[0m\n\u001b[0;32m     20\u001b[0m \u001b[1;36m0.46061103\u001b[0m\u001b[1;33m,\u001b[0m \u001b[1;33m-\u001b[0m\u001b[1;36m0.84067471\u001b[0m\u001b[1;33m,\u001b[0m \u001b[1;33m-\u001b[0m\u001b[1;36m0.43859999\u001b[0m\u001b[1;33m,\u001b[0m \u001b[1;33m-\u001b[0m\u001b[1;36m0.28556632\u001b[0m\u001b[1;33m,\u001b[0m \u001b[1;33m-\u001b[0m\u001b[1;36m0.14161649\u001b[0m\u001b[1;33m,\u001b[0m\u001b[1;33m\u001b[0m\u001b[1;33m\u001b[0m\u001b[0m\n\u001b[0;32m     21\u001b[0m 0.76755039, -1.82507856, -0.39183048,  0.25355122,  1.41184215\"\"\".split(\",\")\n\u001b[1;32m---> 22\u001b[1;33m \u001b[0mb\u001b[0m\u001b[1;33m.\u001b[0m\u001b[0mreplace\u001b[0m\u001b[1;33m(\u001b[0m\u001b[1;34m'\\n'\u001b[0m\u001b[1;33m,\u001b[0m\u001b[1;34m\"\"\u001b[0m\u001b[1;33m)\u001b[0m\u001b[1;33m\u001b[0m\u001b[1;33m\u001b[0m\u001b[0m\n\u001b[0m",
      "\u001b[1;31mAttributeError\u001b[0m: 'list' object has no attribute 'replace'"
     ]
    }
   ],
   "source": [
    "a = np.random.normal(size =100)\n"
   ]
  },
  {
   "cell_type": "code",
   "execution_count": 36,
   "metadata": {},
   "outputs": [
    {
     "data": {
      "text/plain": [
       "'-0.08614102f,0.27654024f,0.89495368f,0.41420759f,1.62456005f,-0.33855729f,-0.83038163f,-0.98741016f,-0.86336372f,-0.46057282f,-0.84770005f,0.52202933f,0.69577994f,0.04639981f,-0.77995225f,-1.31976384f,0.40578822f,-0.37490976f,0.31316824f,-1.15165888f,0.47868109f,0.21012114f,1.05453267f,-0.1112672f,1.15994267f,0.49655696f,0.82023714f,1.95796233f,1.03184381f,0.33386916f,0.03472399f,1.12146567f,0.39967922f,-0.13662467f,1.72956827f,-0.51620378f,-1.36180343f,-1.48099491f,0.38377728f,-0.20797315f,1.46046342f,0.65543754f,-0.62680953f,-0.38907937f,-0.3632367f,0.79650207f,-0.77025824f,0.77637997f,-0.34211692f,1.15252219f,-0.31717885f,-0.00453982f,-0.62353936f,-1.4046471f,-1.07390436f,-1.07307974f,0.21937285f,-1.73192209f,-0.091317f,0.38817384f,0.17685415f,-0.76815545f,-0.64125447f,0.25787911f,0.83089795f,-0.14465505f,-0.23923142f,-1.23141355f,0.06188245f,-0.44639805f,0.191714f,1.40596086f,2.47942587f,0.70438992f,0.62379098f,-0.30894806f,-0.83353702f,0.64823276f,0.88601385f,-1.47315633f,0.6958867f,0.63905276f,-1.06625944f,-1.33501982f,1.99197749f,1.50133895f,1.19400813f,-1.61409565f,-0.33305413f,-0.27854724f,0.46061103f,-0.84067471f,-0.43859999f,-0.28556632f,-0.14161649f,0.76755039f,-1.82507856f,-0.39183048f,0.25355122f,1.41184215f'"
      ]
     },
     "execution_count": 36,
     "metadata": {},
     "output_type": "execute_result"
    }
   ],
   "source": [
    "B = \"\"\"-0.08614102,  0.27654024,  0.89495368,  0.41420759,  1.62456005,\n",
    "-0.33855729, -0.83038163, -0.98741016, -0.86336372, -0.46057282,\n",
    "-0.84770005,  0.52202933,  0.69577994,  0.04639981, -0.77995225,\n",
    "-1.31976384,  0.40578822, -0.37490976,  0.31316824, -1.15165888,\n",
    "0.47868109,  0.21012114,  1.05453267, -0.1112672, 1.15994267,\n",
    "0.49655696,  0.82023714,  1.95796233,  1.03184381,  0.33386916,\n",
    "0.03472399,  1.12146567,  0.39967922, -0.13662467,  1.72956827,\n",
    "-0.51620378, -1.36180343, -1.48099491,  0.38377728, -0.20797315,\n",
    "1.46046342,  0.65543754, -0.62680953, -0.38907937, -0.3632367 ,\n",
    "0.79650207, -0.77025824,  0.77637997, -0.34211692,  1.15252219,\n",
    "-0.31717885, -0.00453982, -0.62353936, -1.4046471 , -1.07390436,\n",
    "-1.07307974,  0.21937285, -1.73192209, -0.091317  ,  0.38817384,\n",
    "0.17685415, -0.76815545, -0.64125447,  0.25787911,  0.83089795,\n",
    "-0.14465505, -0.23923142, -1.23141355,  0.06188245, -0.44639805,\n",
    "0.191714  ,  1.40596086,  2.47942587,  0.70438992,  0.62379098,\n",
    "-0.30894806, -0.83353702,  0.64823276,  0.88601385, -1.47315633,\n",
    "0.6958867 ,  0.63905276, -1.06625944, -1.33501982,  1.99197749,\n",
    "1.50133895,  1.19400813, -1.61409565, -0.33305413, -0.27854724,\n",
    "0.46061103, -0.84067471, -0.43859999, -0.28556632, -0.14161649,\n",
    "0.76755039, -1.82507856, -0.39183048,  0.25355122,  1.41184215\"\"\".split(\",\")\n",
    "B = [b.replace('\\n',\"\") for b in B]\n",
    "B = [b.replace(' ',\"\") for b in B]\n",
    "B = [b+'f' for b in B]\n",
    "\",\".join(B)"
   ]
  }
 ],
 "metadata": {
  "kernelspec": {
   "display_name": "Python 3",
   "language": "python",
   "name": "python3"
  },
  "language_info": {
   "codemirror_mode": {
    "name": "ipython",
    "version": 3
   },
   "file_extension": ".py",
   "mimetype": "text/x-python",
   "name": "python",
   "nbconvert_exporter": "python",
   "pygments_lexer": "ipython3",
   "version": "3.7.7"
  }
 },
 "nbformat": 4,
 "nbformat_minor": 4
}
