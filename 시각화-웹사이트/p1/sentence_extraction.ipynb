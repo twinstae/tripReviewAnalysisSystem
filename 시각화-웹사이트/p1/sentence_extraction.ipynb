{
 "cells": [
  {
   "cell_type": "code",
   "execution_count": 1,
   "metadata": {},
   "outputs": [],
   "source": [
    "%matplotlib inline\n",
    "\n",
    "from time import time\n",
    "import numpy as np\n",
    "import matplotlib.pyplot as plt\n",
    "\n",
    "import pandas as pd\n",
    "\n",
    "import os\n",
    "from os import path \n",
    "from time import time"
   ]
  },
  {
   "cell_type": "code",
   "execution_count": 131,
   "metadata": {},
   "outputs": [],
   "source": [
    "os.environ.setdefault(\"DJANGO_SETTINGS_MODULE\", \"TRAS.settings\")\n",
    "os.environ[\"DJANGO_ALLOW_ASYNC_UNSAFE\"] = \"true\"\n",
    "import django\n",
    "from django.core.exceptions import ObjectDoesNotExist\n",
    "django.setup()\n",
    "from django.db import transaction\n",
    "from django.conf import settings\n",
    "\n",
    "from django_pandas.io import read_frame\n",
    "\n",
    "from proto.models import Attraction, Review\n",
    "\n",
    "from nltk import tokenize\n",
    "from nltk.sentiment.vader import SentimentIntensityAnalyzer\n",
    "from asgiref.sync import sync_to_async\n",
    "import nltk"
   ]
  },
  {
   "cell_type": "code",
   "execution_count": 206,
   "metadata": {},
   "outputs": [],
   "source": [
    "# 디장고 all 리뷰 데이터 불러오고. bulk load?\n",
    "def preprocess(Reviews_df):\n",
    "    result_list = [[Review.title,tokenize.sent_tokenize(Review.text)] for Review in Reviews_df]\n",
    "    return result_list\n",
    "\n",
    "def sentiment_analysis(Review_list):\n",
    "    result_list = [[Review[0], sentiment(Review[1])] for Review in Review_list]\n",
    "    return result_list\n",
    "\n",
    "def sentiment(review)\n",
    "    sid = SentimentIntensityAnalyzer()\n",
    "    \n",
    "    sid.polarity_scores(Review_sentences[1])['compound']\n",
    "    result_list = []\n",
    "    for sentence in sentences_list:\n",
    "        # print(sentence) 샘플만 작게 해서 테스트\n",
    "        ss = \n",
    "        \n",
    "        '''\n",
    "        for k in sorted(ss):\n",
    "            print('{0}: {1}, '.format(k, ss[k]), end='')\n",
    "        print()\n",
    "        '''\n",
    "        #compound: 0.8316, neg: 0.0, neu: 0.254, pos: 0.746,\n",
    "    return pd.DataFrame(result_list, columns=['sentence','sentiment'])\n",
    "\n",
    "\n",
    "def sentences_extraction(sent_df, sample_size):\n",
    "    sent_df.sort_values(by=['sentiment'],inplace=True)\n",
    "    \n",
    "    positive_sample = sent_df[-int(sample_size):][::-1]\n",
    "    negative_sample = sent_df[:int(sample_size)]\n",
    "    \n",
    "    return positive_sample, negative_sample\n",
    "\n",
    "#star기반 수축 감정 사전 구축"
   ]
  },
  {
   "cell_type": "code",
   "execution_count": 76,
   "metadata": {},
   "outputs": [],
   "source": [
    "Attractions_query = Attraction.objects.all()      \n",
    "Attractions_df = read_frame(Attractions_query)"
   ]
  },
  {
   "cell_type": "code",
   "execution_count": 81,
   "metadata": {},
   "outputs": [],
   "source": [
    "Attractions_name = Attractions_df.name.tolist()"
   ]
  },
  {
   "cell_type": "code",
   "execution_count": 73,
   "metadata": {},
   "outputs": [],
   "source": [
    "query = Review.objects.all()\n",
    "All_Reviews_df = read_frame(query)"
   ]
  },
  {
   "cell_type": "code",
   "execution_count": 199,
   "metadata": {},
   "outputs": [
    {
     "data": {
      "text/html": [
       "<div>\n",
       "<style scoped>\n",
       "    .dataframe tbody tr th:only-of-type {\n",
       "        vertical-align: middle;\n",
       "    }\n",
       "\n",
       "    .dataframe tbody tr th {\n",
       "        vertical-align: top;\n",
       "    }\n",
       "\n",
       "    .dataframe thead th {\n",
       "        text-align: right;\n",
       "    }\n",
       "</style>\n",
       "<table border=\"1\" class=\"dataframe\">\n",
       "  <thead>\n",
       "    <tr style=\"text-align: right;\">\n",
       "      <th></th>\n",
       "      <th>id</th>\n",
       "      <th>attraction</th>\n",
       "      <th>star</th>\n",
       "      <th>title</th>\n",
       "      <th>text</th>\n",
       "      <th>date</th>\n",
       "    </tr>\n",
       "  </thead>\n",
       "  <tbody>\n",
       "    <tr>\n",
       "      <th>0</th>\n",
       "      <td>1</td>\n",
       "      <td>Gyeongbokgung Palace</td>\n",
       "      <td>5</td>\n",
       "      <td>Fantastic area, don t miss</td>\n",
       "      <td>I had the chance to visit the site after a bus...</td>\n",
       "      <td>2019-12-01</td>\n",
       "    </tr>\n",
       "    <tr>\n",
       "      <th>1</th>\n",
       "      <td>2</td>\n",
       "      <td>Gyeongbokgung Palace</td>\n",
       "      <td>4</td>\n",
       "      <td>Pretend you're in a period K-drama</td>\n",
       "      <td>Rent a hanbok and soak in the ancient Joseon v...</td>\n",
       "      <td>2019-10-01</td>\n",
       "    </tr>\n",
       "    <tr>\n",
       "      <th>2</th>\n",
       "      <td>3</td>\n",
       "      <td>Gyeongbokgung Palace</td>\n",
       "      <td>4</td>\n",
       "      <td>Love to See and Feel the History</td>\n",
       "      <td>Walking around the palace is a unique experien...</td>\n",
       "      <td>2020-02-01</td>\n",
       "    </tr>\n",
       "    <tr>\n",
       "      <th>3</th>\n",
       "      <td>4</td>\n",
       "      <td>Gyeongbokgung Palace</td>\n",
       "      <td>5</td>\n",
       "      <td>What an experience</td>\n",
       "      <td>We had a layover in South Korea and decided to...</td>\n",
       "      <td>2020-02-01</td>\n",
       "    </tr>\n",
       "    <tr>\n",
       "      <th>4</th>\n",
       "      <td>5</td>\n",
       "      <td>Gyeongbokgung Palace</td>\n",
       "      <td>5</td>\n",
       "      <td>good to visit</td>\n",
       "      <td>you can see the blue house in this area and th...</td>\n",
       "      <td>2020-02-01</td>\n",
       "    </tr>\n",
       "  </tbody>\n",
       "</table>\n",
       "</div>"
      ],
      "text/plain": [
       "   id            attraction  star                               title  \\\n",
       "0   1  Gyeongbokgung Palace     5          Fantastic area, don t miss   \n",
       "1   2  Gyeongbokgung Palace     4  Pretend you're in a period K-drama   \n",
       "2   3  Gyeongbokgung Palace     4    Love to See and Feel the History   \n",
       "3   4  Gyeongbokgung Palace     5                  What an experience   \n",
       "4   5  Gyeongbokgung Palace     5                       good to visit   \n",
       "\n",
       "                                                text        date  \n",
       "0  I had the chance to visit the site after a bus...  2019-12-01  \n",
       "1  Rent a hanbok and soak in the ancient Joseon v...  2019-10-01  \n",
       "2  Walking around the palace is a unique experien...  2020-02-01  \n",
       "3  We had a layover in South Korea and decided to...  2020-02-01  \n",
       "4  you can see the blue house in this area and th...  2020-02-01  "
      ]
     },
     "execution_count": 199,
     "metadata": {},
     "output_type": "execute_result"
    }
   ],
   "source": [
    "All_Reviews_df.head()"
   ]
  },
  {
   "cell_type": "code",
   "execution_count": 201,
   "metadata": {},
   "outputs": [],
   "source": [
    "sentence_list = preprocess(All_Reviews_df[::10])"
   ]
  },
  {
   "cell_type": "code",
   "execution_count": 202,
   "metadata": {},
   "outputs": [
    {
     "data": {
      "text/html": [
       "<div>\n",
       "<style scoped>\n",
       "    .dataframe tbody tr th:only-of-type {\n",
       "        vertical-align: middle;\n",
       "    }\n",
       "\n",
       "    .dataframe tbody tr th {\n",
       "        vertical-align: top;\n",
       "    }\n",
       "\n",
       "    .dataframe thead th {\n",
       "        text-align: right;\n",
       "    }\n",
       "</style>\n",
       "<table border=\"1\" class=\"dataframe\">\n",
       "  <thead>\n",
       "    <tr style=\"text-align: right;\">\n",
       "      <th></th>\n",
       "      <th>sentence</th>\n",
       "      <th>sentiment</th>\n",
       "    </tr>\n",
       "  </thead>\n",
       "  <tbody>\n",
       "    <tr>\n",
       "      <th>0</th>\n",
       "      <td>I had the chance to visit the site after a bus...</td>\n",
       "      <td>0.6801</td>\n",
       "    </tr>\n",
       "    <tr>\n",
       "      <th>1</th>\n",
       "      <td>We visited during a layover at the Incheon Ai...</td>\n",
       "      <td>0.0000</td>\n",
       "    </tr>\n",
       "    <tr>\n",
       "      <th>2</th>\n",
       "      <td>If you ever have a long lay-off and land befo...</td>\n",
       "      <td>0.0000</td>\n",
       "    </tr>\n",
       "    <tr>\n",
       "      <th>3</th>\n",
       "      <td>I could not stand the airport for 8 hours</td>\n",
       "      <td>0.0000</td>\n",
       "    </tr>\n",
       "    <tr>\n",
       "      <th>4</th>\n",
       "      <td>I researched about how this was the principle...</td>\n",
       "      <td>0.0000</td>\n",
       "    </tr>\n",
       "  </tbody>\n",
       "</table>\n",
       "</div>"
      ],
      "text/plain": [
       "                                            sentence  sentiment\n",
       "0  I had the chance to visit the site after a bus...     0.6801\n",
       "1   We visited during a layover at the Incheon Ai...     0.0000\n",
       "2   If you ever have a long lay-off and land befo...     0.0000\n",
       "3          I could not stand the airport for 8 hours     0.0000\n",
       "4   I researched about how this was the principle...     0.0000"
      ]
     },
     "execution_count": 202,
     "metadata": {},
     "output_type": "execute_result"
    }
   ],
   "source": [
    "sentsent_df = sentiment_analysis(sentence_list)\n",
    "sentsent_df.head()"
   ]
  },
  {
   "cell_type": "code",
   "execution_count": 204,
   "metadata": {},
   "outputs": [
    {
     "name": "stdout",
     "output_type": "stream",
     "text": [
      "neg_sample\n",
      "['It is difficult to be affected by the torture cell displays when you are surrounded by screaming kids whose teachers do not control them.'\n",
      " -0.8625]\n",
      "['As others have mentioned, if you are unfortunate enough to coincide your visit with a school tour then this really detracts from the experience.'\n",
      " -0.4588]\n",
      "['Avoid using it during rush hour.' -0.296]\n",
      "['Fun.Well thought out museum that gives an insight into Korea’s history and their relationship to Japan.'\n",
      " 0.0]\n",
      "['The museum staff also do not intervene.' 0.0]\n",
      "['I also liberated a young man who had been locked in a cell by his ‘friends’.This district is lined with international cages and retail stores.'\n",
      " 0.0]\n",
      "[\"But, there's nothing fantastic.- The entrance from the east seems to be main gate with a parking lot.\"\n",
      " 0.0]\n",
      "['Many family visitors.' 0.0]\n",
      "['People who live in Seoul come and rest here.' 0.0]\n",
      "['You can spend around 30 mins to 1 hour here.' 0.0]\n"
     ]
    }
   ],
   "source": [
    "pos_sample, neg_sample = sentences_extraction(sentsent_list, sample_size = 10)\n",
    "print(\"neg_sample\")\n",
    "for one_neg_sample in neg_sample.values:\n",
    "    print(one_neg_sample)"
   ]
  },
  {
   "cell_type": "code",
   "execution_count": null,
   "metadata": {},
   "outputs": [],
   "source": [
    "# 아래는 리뷰가 다 사라졌길래 다시 bulk create한 내용"
   ]
  },
  {
   "cell_type": "code",
   "execution_count": 54,
   "metadata": {},
   "outputs": [],
   "source": [
    "def review_date(date_string):\n",
    "    dict = {\n",
    "        ' January ':'-01-01',\n",
    "        ' February ':'-02-01',\n",
    "        ' March ':'-03-01',\n",
    "        ' April ':'-04-01',\n",
    "        ' May ':'-05-01',\n",
    "        ' June ':'-06-01',\n",
    "        ' July ':'-07-01',\n",
    "        ' August ':'-08-01',\n",
    "        ' September ':'-09-01',\n",
    "        ' October ':'-10-01',\n",
    "        ' November ':'-11-01',\n",
    "        ' December ':'-12-01',\n",
    "    }\n",
    "    \n",
    "    return date_string[-4:] + dict[date_string[:-4]]"
   ]
  },
  {
   "cell_type": "code",
   "execution_count": 66,
   "metadata": {},
   "outputs": [],
   "source": [
    "review_path = 'C:/Users/taehee/Documents/GitHub/tripReviewAnalysisSystem/크롤러-전처리/원시자료/'\n",
    "Attraction_list = Attraction.objects.all()\n",
    "Reviews_list = []\n",
    "for the_Attraction in Attraction_list:\n",
    "    Attraction_Reviews_df = pd.read_csv(review_path+ the_Attraction.name+\".csv\", engine='python', index_col = 0, encoding = 'utf-8')\n",
    "    for Review_list in Attraction_Reviews_df.values[2:]:\n",
    "        Reviews_list.append(Review(attraction = the_Attraction,\n",
    "                       star = Review_list[0],\n",
    "                      title = Review_list[1],\n",
    "                      text = Review_list[2],\n",
    "                      date = review_date(Review_list[3])))"
   ]
  },
  {
   "cell_type": "code",
   "execution_count": 69,
   "metadata": {},
   "outputs": [
    {
     "data": {
      "text/plain": [
       "18534"
      ]
     },
     "execution_count": 69,
     "metadata": {},
     "output_type": "execute_result"
    }
   ],
   "source": [
    "len(Reviews_list)"
   ]
  },
  {
   "cell_type": "code",
   "execution_count": 72,
   "metadata": {},
   "outputs": [],
   "source": [
    "for num in range(19):\n",
    "    start = (num-1)*1000\n",
    "    if start <0:\n",
    "        start = 0\n",
    "    end = num*1000\n",
    "    if end > 18534:\n",
    "        end = 18534\n",
    "    Review.objects.bulk_create(Reviews_list[start:end])"
   ]
  },
  {
   "cell_type": "code",
   "execution_count": 61,
   "metadata": {},
   "outputs": [],
   "source": [
    "max_len = 0\n",
    "max_text = \"\"\n",
    "for Review in Reviews_list:\n",
    "    if len(Review.text) > max_len:\n",
    "        max_text = Review.text\n",
    "        max_len = len(Review.text)"
   ]
  },
  {
   "cell_type": "code",
   "execution_count": 62,
   "metadata": {},
   "outputs": [
    {
     "name": "stdout",
     "output_type": "stream",
     "text": [
      "9136\n"
     ]
    }
   ],
   "source": [
    "print(max_len)"
   ]
  },
  {
   "cell_type": "code",
   "execution_count": 63,
   "metadata": {},
   "outputs": [
    {
     "name": "stdout",
     "output_type": "stream",
     "text": [
      "The best military museum I’ve ever seen.  Korea’s War Memorial has about 650,000 square-feet under roof, and more than 60 fixed-wing aircraft, choppers, tanks, artillery pieces, missiles, and naval vessels outside in the rain.  You get a crash course in the history of Korean warfare from neolithic spear-fights to modern times:  civil wars between ancient ethnic groups, invasions by the Chinese, Japanese, Mongols, Manchus and so on; the centuries-long Japanese pirate fleet threat; the 19th century attacks by various Western powers; all the way up to the Vietnam War, when more than a third of a million ROK troops supported Saigon.Most of these wars, battles, sieges, victories and defeats will be terra incognita to foreign visitors.  But it’s all interesting and well-presented.  Curatorship is outstanding.   21st century technology helps: if you see locals watching any animation on pirate fleets, city-wall sieges, et cetera, stop and watch the spectacle with them.Most military museums focus on generals and admirals, soldiers and sailors, strategy, tactics, and the various regiments or battleships involved in the fighting.  The War Memorial goes beyond the fighting forces to also provide information about non-combatants.  This is underscored before you even walk into the museum, in monumental statues of both soldiers and the victims of war (see The Warriors and The Victims photos).  Not surprisingly, half the indoor area is focused on the 1950s Korean War.  I walked in with a fair grasp of the military changes of fortune in that war: such as the North’s surprise attack, which captured Seoul within 48 hours.  What I’d never known before was that not only did the Northerners carefully plan exactly how and when they’d attack, but they also carefully planned the sweeping atrocities they would inflict on the civilian population of Seoul as soon as they captured the city.  If you were on their list, you and your family disappeared within 48 hours of takeover; thousands were on their list.The museum’s information on the war is sweeping.  The commitments made to the North by Stalin and Mao prior to the attack, Douglas MacArthur’s determination to turn the tide with the Inchon landings against the opinion of the US Joint Chiefs of Staff, and the massive winter counter-attack of Chinese forces, are all presented clearly and cogently.  The Korean War is also unusual because of the ROK’s powerful ally: the United Nations fought on their side.  There have been UN peace-keeping missions since, to the Balkans and other areas, but never again anything like this.  Two dozen nations from Europe, Asia, Africa, Australia and both North and South America fought under the UN flag, to save the people and legitimate government of Korea.  Several rooms of the museum focus on the UN decision, and the UN leadership of Trygve Lie.  The museum notes that immediately upon hearing of the attack on the ROK, Lie called an emergency meeting of the Security Council for the next day, and the UN support for the ROK was proposed, argued, revised and passed the same day.  The museum names the countries which supported the UN resolution, the one who abstained (Tito’s Yugoslavia), and the member state which was absent: the USSR.  (It doesn’t mention one interesting bit: the USSR’s delegate was refusing to attend UN meetings over a totally different issue—the seating of the PRC—another partner in the attack.  But had he attended, I believe the USSR could simply have vetoed the resolution, in which case the ROK wouldn’t have been defended under the UN banner, and the UN in all likelihood would have gone down the drain like the League of Nations.)  At any rate, you get to see a diorama of Douglas MacArthur receiving the UN flag that they’d all be fighting under (see UN Flag photo).  A large area of one floor provides information on every nation that sent military personnel to Korea, as well as every nation that sent medical personnel (some of India’s and Denmark’s noncombatant personnel also died in Korea).  Each of these countries has a special area in the museum, where you can learn how they contributed, how long they were in Korea, where they fought, and how many died (see Thailand Display photo).  The information for each country is in Korean, English, and that country’s national language:  Greece’s in Greek; Colombia’s in Spanish, and so on.  Since Belgium  is bilingual, you can read or hear about Belgian forces in Korean, English, French or Nederlands.  This United Nations aspect of the war is symbolized before you even enter the museum, by the national flags of the contributing states flying in a semi-circle around of the facade (see International Flags photo).  Each of the national stories is interesting.  Luxembourg’s infantrymen were integrated for the duration with the Belgians, and although the headcount of Luxembourg fighting forces was small, as a percentage of total national population, it was one of the highest of any of the countries.  Turkey sent a brigade-size integrated unit of artillery, ordinance, engineering and transport, which inflicted ten times more enemy casualties that it received.In 1950, there were only three independent counties in sub-Saharan Africa; all three contributed.  South Africa sent pilots.  Liberia supported civilian relief.  I thought Ethiopia’s story was the most amazing of all.  Haile Selassie was a strong proponent of collective security; he’d appealed for support from the League of Nations when Mussolini invaded Ethiopia, and hadn’t gotten it.  So he wanted Ethiopia to help Korea, another innocent country, but Ethiopia had no army.  Solution: the Emperor sent his Palace Guards!  The guardsmen weren’t trained for combat, so US instructors gave them a three-month crash course, and attached them to the US 7th Infantry Division.  The Imperial Guard did just fine: the museum has videos of them marching upcountry where, among other battles, they fought at Pork Chop Hill.  The museum also addresses the impact of the war on individual men and women of the allied nations.  For example, an Aussie who left his pregnant wife to go to Korea, died there; his wife never remarried; more than half a century later her ashes were buried in the Korean grave of the husband she lost in her youth (see Mrs Shepherd photo).  Another Australian widow, Nancy Hummerston, was buried at Korea’s UN Memorial Cemetery even more recently, in 2010, sixty years after Captain Hummerston died defending the ROK.I spent the best part of a day here, and could have spent longer had they not been closing.  Among my favorite sights were:* A replica of an 500-year old dragon-bowed Korean battleship, reduced to frigate size so it would fit in the central courtyard, but still impressive (Battleship photo).* A grand gallery of military paintings around the walls of that courtyard, including Korea’s crushing defeat of a French invasion force sent by Napoleon III in 1866 (Kapkot-Jin photo; that same year Napoleon III’s army was also beaten by the Mexicans; figuring the odds of losing three in a row were negligible, the III-time loser then declared war on Prussia).  * Korean “knights” using trident-spears rather than the lances of their European counterparts (see Trident Knight photo)* An ingenious ancient Korean contraption for rapid fire of multiple arrows (see Gatling Bow photo).* Something for the children, a miniature Korean castle they can climb onto to man the bastions (Hawseong Fortress photo)* A huge drum commemorating the 60th anniversary of the founding of the ROK armed forces (Mother of All War-Drums photo).   *  A modest little inflatable Aircat airboat used by the ROK for river and marsh reconnaisance in Vietnam, and equipped with A60 machine-guns.   This beaut is outdoors with the other military hardware: big impressive fighters, bombers, heavy artillery and tanks, so the little fellow goes virtually unnoticed.  But back home in south Louisiana, “Cajuns” down on the bayous use airboats to get around in the swamps, where they hunt alligators for gumbo.  You could hunt any number and size of ‘gators you liked, if you had an A60 machine-gun on board! (ROK Aircat photo).* Also outdoors but much nearer the street, a 20-year-old exact replica of the tallest of all Korean monuments, a four-sided monster 6.39 meters high, inscribed with 1,770 Chinese calligraphs.  The original still exists, but was carted off to China long ago, and isn’t likely to be returned anytime soon. An impressive placard informs us that “The monument of King Gwanggaeto the Great (391-413) was built by his son, King Jangsu (413-491) in 414 BC in Gungnaeseong, the capital city of Goguryeo,” to honor his father’s conquests and the founding of the kingdom.  And in small print, we’re also advised  that “The translation of the inscription was advised by experts in the relevant fields in 2005.” Apparently chronology wasn’t one of the “relevant fields” that anybody was an expert in, since 414 BC precedes 391-413 BC, rather than following it.  Still, it’s an impressive replica of Korea’s grandest ancient monument.  (Monumental Error photo).\n"
     ]
    }
   ],
   "source": [
    "print(max_text)"
   ]
  }
 ],
 "metadata": {
  "kernelspec": {
   "display_name": "Python 3",
   "language": "python",
   "name": "python3"
  },
  "language_info": {
   "codemirror_mode": {
    "name": "ipython",
    "version": 3
   },
   "file_extension": ".py",
   "mimetype": "text/x-python",
   "name": "python",
   "nbconvert_exporter": "python",
   "pygments_lexer": "ipython3",
   "version": "3.7.1"
  }
 },
 "nbformat": 4,
 "nbformat_minor": 4
}
