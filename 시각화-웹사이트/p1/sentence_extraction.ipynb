{
 "cells": [
  {
   "cell_type": "code",
   "execution_count": 6,
   "metadata": {},
   "outputs": [],
   "source": [
    "%matplotlib inline\n",
    "\n",
    "from time import time\n",
    "import numpy as np\n",
    "import matplotlib.pyplot as plt\n",
    "\n",
    "import pandas as pd\n",
    "\n",
    "import os\n",
    "from os import path \n",
    "from time import time"
   ]
  },
  {
   "cell_type": "code",
   "execution_count": 8,
   "metadata": {},
   "outputs": [],
   "source": [
    "os.environ.setdefault(\"DJANGO_SETTINGS_MODULE\", \"TRAS.settings\")\n",
    "os.environ[\"DJANGO_ALLOW_ASYNC_UNSAFE\"] = \"true\"\n",
    "import django\n",
    "from django.core.exceptions import ObjectDoesNotExist\n",
    "django.setup()\n",
    "from django.db import transaction\n",
    "from django.conf import settings\n",
    "\n",
    "from proto.models import Attraction, Review\n",
    "\n",
    "from nltk import tokenize\n",
    "from nltk.sentiment.vader import SentimentIntensityAnalyzer\n",
    "from asgiref.sync import sync_to_async"
   ]
  },
  {
   "cell_type": "code",
   "execution_count": 2,
   "metadata": {},
   "outputs": [],
   "source": [
    "# 디장고 all 리뷰 데이터 불러오고. bulk load?\n",
    "def preprocess(Reviews):\n",
    "    Reviews\n",
    "    sentences_list = tokenize.sent_tokenize(all_review)\n",
    "        \n",
    "    return pd.DataFrame(sentences_list)\n",
    "\n",
    "def sentiment_analysis(sentences_df):\n",
    "    sid = SentimentIntensityAnalyzer()\n",
    "    \n",
    "    for sentence in sentences_list:\n",
    "        # print(sentence) 샘플만 작게 해서 테스트\n",
    "        ss = sid.polarity_scores(sentence)\n",
    "        sentences_df['sentiment'] = ss[0]\n",
    "        '''\n",
    "        for k in sorted(ss):\n",
    "            print('{0}: {1}, '.format(k, ss[k]), end='')\n",
    "        print()\n",
    "        '''\n",
    "        #compound: 0.8316, neg: 0.0, neu: 0.254, pos: 0.746,\n",
    "    return sentiment_df\n",
    "\n",
    "\n",
    "def sentences_extraction(sent_df, sample_size):\n",
    "    sent_df.sort_values(by=['sentiment'], axis=0)\n",
    "    \n",
    "    positive_sample = sent_df[:int(sample_size)]\n",
    "    negative_sample = sent_df[-int(sample_size):]\n",
    "    \n",
    "    return (positive_sample, negative_sample)\n",
    "\n",
    "#star기반 수축 감정 사전 구축"
   ]
  },
  {
   "cell_type": "code",
   "execution_count": 11,
   "metadata": {},
   "outputs": [
    {
     "ename": "TypeError",
     "evalue": "join() missing 1 required positional argument: 'other'",
     "output_type": "error",
     "traceback": [
      "\u001b[1;31m---------------------------------------------------------------------------\u001b[0m",
      "\u001b[1;31mTypeError\u001b[0m                                 Traceback (most recent call last)",
      "\u001b[1;32m<ipython-input-11-15d0677314f3>\u001b[0m in \u001b[0;36m<module>\u001b[1;34m\u001b[0m\n\u001b[0;32m      3\u001b[0m \u001b[1;32mfor\u001b[0m \u001b[0mthe_Attraction\u001b[0m \u001b[1;32min\u001b[0m \u001b[0mAttractions\u001b[0m\u001b[1;33m:\u001b[0m\u001b[1;33m\u001b[0m\u001b[1;33m\u001b[0m\u001b[0m\n\u001b[0;32m      4\u001b[0m     \u001b[0mReviews_df\u001b[0m \u001b[1;33m=\u001b[0m \u001b[0mpd\u001b[0m\u001b[1;33m.\u001b[0m\u001b[0mDataFrame\u001b[0m\u001b[1;33m(\u001b[0m\u001b[0mlist\u001b[0m\u001b[1;33m(\u001b[0m\u001b[0mReview\u001b[0m\u001b[1;33m.\u001b[0m\u001b[0mobjects\u001b[0m\u001b[1;33m.\u001b[0m\u001b[0mfilter\u001b[0m\u001b[1;33m(\u001b[0m\u001b[0mattraction\u001b[0m\u001b[1;33m=\u001b[0m\u001b[0mthe_Attraction\u001b[0m\u001b[1;33m)\u001b[0m\u001b[1;33m.\u001b[0m\u001b[0mvalues\u001b[0m\u001b[1;33m(\u001b[0m\u001b[1;33m)\u001b[0m\u001b[1;33m)\u001b[0m\u001b[1;33m)\u001b[0m\u001b[1;33m\u001b[0m\u001b[1;33m\u001b[0m\u001b[0m\n\u001b[1;32m----> 5\u001b[1;33m     \u001b[0msentences_df\u001b[0m \u001b[1;33m=\u001b[0m \u001b[0mpreprocess\u001b[0m\u001b[1;33m(\u001b[0m\u001b[0mReviews_df\u001b[0m\u001b[1;33m)\u001b[0m\u001b[1;33m\u001b[0m\u001b[1;33m\u001b[0m\u001b[0m\n\u001b[0m\u001b[0;32m      6\u001b[0m     \u001b[0msent_df\u001b[0m \u001b[1;33m=\u001b[0m \u001b[0msentiment_analysis\u001b[0m\u001b[1;33m(\u001b[0m\u001b[0msentences_df\u001b[0m\u001b[1;33m)\u001b[0m\u001b[1;33m\u001b[0m\u001b[1;33m\u001b[0m\u001b[0m\n\u001b[0;32m      7\u001b[0m     \u001b[0mpos_samples\u001b[0m\u001b[1;33m,\u001b[0m \u001b[0mneg_samples\u001b[0m \u001b[1;33m=\u001b[0m \u001b[0msentences_extraction\u001b[0m\u001b[1;33m(\u001b[0m\u001b[0msent_df\u001b[0m\u001b[1;33m,\u001b[0m \u001b[0msample_size\u001b[0m\u001b[1;33m=\u001b[0m \u001b[1;36m10\u001b[0m\u001b[1;33m)\u001b[0m\u001b[1;33m\u001b[0m\u001b[1;33m\u001b[0m\u001b[0m\n",
      "\u001b[1;32m<ipython-input-2-9a404eb7a2a2>\u001b[0m in \u001b[0;36mpreprocess\u001b[1;34m(Reviews_df)\u001b[0m\n\u001b[0;32m      1\u001b[0m \u001b[1;31m# 디장고 all 리뷰 데이터 불러오고. bulk load?\u001b[0m\u001b[1;33m\u001b[0m\u001b[1;33m\u001b[0m\u001b[1;33m\u001b[0m\u001b[0m\n\u001b[0;32m      2\u001b[0m \u001b[1;32mdef\u001b[0m \u001b[0mpreprocess\u001b[0m\u001b[1;33m(\u001b[0m\u001b[0mReviews_df\u001b[0m\u001b[1;33m)\u001b[0m\u001b[1;33m:\u001b[0m\u001b[1;33m\u001b[0m\u001b[1;33m\u001b[0m\u001b[0m\n\u001b[1;32m----> 3\u001b[1;33m     \u001b[0mall_reveiw\u001b[0m \u001b[1;33m=\u001b[0m \u001b[0mReviews_df\u001b[0m\u001b[1;33m.\u001b[0m\u001b[0mjoin\u001b[0m\u001b[1;33m(\u001b[0m\u001b[1;33m)\u001b[0m\u001b[1;33m\u001b[0m\u001b[1;33m\u001b[0m\u001b[0m\n\u001b[0m\u001b[0;32m      4\u001b[0m     \u001b[0msentences_list\u001b[0m \u001b[1;33m=\u001b[0m \u001b[0mtokenize\u001b[0m\u001b[1;33m.\u001b[0m\u001b[0msent_tokenize\u001b[0m\u001b[1;33m(\u001b[0m\u001b[0mall_review\u001b[0m\u001b[1;33m)\u001b[0m\u001b[1;33m\u001b[0m\u001b[1;33m\u001b[0m\u001b[0m\n\u001b[0;32m      5\u001b[0m \u001b[1;33m\u001b[0m\u001b[0m\n",
      "\u001b[1;31mTypeError\u001b[0m: join() missing 1 required positional argument: 'other'"
     ]
    }
   ],
   "source": [
    "Attractions = Attraction.objects.all()[:5]\n",
    "\n",
    "for the_Attraction in Attractions:\n",
    "    Reviews_df = pd.DataFrame(list(Review.objects.filter(attraction=the_Attraction).values()))\n",
    "    sentences_df = preprocess(Reviews_df)\n",
    "    sent_df = sentiment_analysis(sentences_df)\n",
    "    pos_samples, neg_samples = sentences_extraction(sent_df, sample_size= 10)\n",
    "\n",
    "    print(the_Attraction.name, \"\\n\")\n",
    "    print(pos_samples)\n",
    "    print(neg_samples)\n",
    "        "
   ]
  }
 ],
 "metadata": {
  "kernelspec": {
   "display_name": "Python 3",
   "language": "python",
   "name": "python3"
  },
  "language_info": {
   "codemirror_mode": {
    "name": "ipython",
    "version": 3
   },
   "file_extension": ".py",
   "mimetype": "text/x-python",
   "name": "python",
   "nbconvert_exporter": "python",
   "pygments_lexer": "ipython3",
   "version": "3.7.1"
  }
 },
 "nbformat": 4,
 "nbformat_minor": 4
}
