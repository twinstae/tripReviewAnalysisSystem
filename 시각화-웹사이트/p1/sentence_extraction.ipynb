{
 "cells": [
  {
   "cell_type": "code",
   "execution_count": 4,
   "metadata": {},
   "outputs": [],
   "source": [
    "%matplotlib inline\n",
    "\n",
    "from time import time\n",
    "import numpy as np\n",
    "import matplotlib.pyplot as plt\n",
    "\n",
    "import pandas as pd\n",
    "\n",
    "import os\n",
    "from os import path \n",
    "from time import time"
   ]
  },
  {
   "cell_type": "code",
   "execution_count": 5,
   "metadata": {},
   "outputs": [],
   "source": [
    "os.environ.setdefault(\"DJANGO_SETTINGS_MODULE\", \"TRAS.settings\")\n",
    "os.environ[\"DJANGO_ALLOW_ASYNC_UNSAFE\"] = \"true\"\n",
    "import django\n",
    "from django.core.exceptions import ObjectDoesNotExist\n",
    "django.setup()\n",
    "from django.db import transaction\n",
    "from django.conf import settings\n",
    "\n",
    "from django_pandas.io import read_frame\n",
    "\n",
    "from proto.models import Attraction, Review\n",
    "\n",
    "from nltk import tokenize\n",
    "from nltk.sentiment.vader import SentimentIntensityAnalyzer\n",
    "from asgiref.sync import sync_to_async\n",
    "import nltk"
   ]
  },
  {
   "cell_type": "code",
   "execution_count": 6,
   "metadata": {},
   "outputs": [],
   "source": [
    "# 디장고 all 리뷰 데이터 불러오고. bulk load?\n",
    "def sentiment(sentence_list):\n",
    "    '''\n",
    "    리뷰를 문장 단위로 쪼개놓은 데이터를 받아서\n",
    "    각 문장에 대한 감정 분석을 한다.\n",
    "    '''\n",
    "    sid = SentimentIntensityAnalyzer()\n",
    "    \n",
    "    result_list = []\n",
    "    for sentence in sentence_list:\n",
    "        # print(sentence) 샘플만 작게 해서 테스트\n",
    "        result_list.append((sentence ,sid.polarity_scores(sentence)['compound']))\n",
    "        '''\n",
    "        for k in sorted(ss):\n",
    "            print('{0}: {1}, '.format(k, ss[k]), end='')\n",
    "        print()\n",
    "        '''\n",
    "        #compound: 0.8316, neg: 0.0, neu: 0.254, pos: 0.746,\n",
    "    return pd.DataFrame(result_list, columns=['sentence','sentiment'])\n",
    "\n",
    "def sentences_extraction(sent_df, sample_size):\n",
    "    sent_df.sort_values(by=['sentiment'],inplace=True)\n",
    "    \n",
    "    positive_sample = sent_df[-int(sample_size):][::-1]\n",
    "    negative_sample = sent_df[:int(sample_size)]\n",
    "    \n",
    "    return (positive_sample, negative_sample)\n",
    "\n",
    "#star기반 수축 감정 사전 구축"
   ]
  },
  {
   "cell_type": "code",
   "execution_count": 29,
   "metadata": {},
   "outputs": [],
   "source": [
    "def attraction_sampling(Attractions_name, All_Reviews_df, start, end):\n",
    "    result_dict = {}\n",
    "    for Attraction_name in Attractions_name[start:end]:\n",
    "        Reviews_df = All_Reviews_df[All_Reviews_df['attraction'] == Attraction_name]\n",
    "        sentence_list = tokenize.sent_tokenize(\" \".join([Review[4] for Review in Reviews_df.values]))\n",
    "        sent_sent_df = sentiment(sentence_list)\n",
    "        result_dict[Attraction_name] = sentences_extraction(sent_sent_df, 10)\n",
    "        print(Attraction_name, \" 감정분석 완료!\")\n",
    "    return result_dict        "
   ]
  },
  {
   "cell_type": "code",
   "execution_count": 8,
   "metadata": {},
   "outputs": [],
   "source": [
    "Attractions_query = Attraction.objects.all()      \n",
    "Attractions_df = read_frame(Attractions_query)"
   ]
  },
  {
   "cell_type": "code",
   "execution_count": 9,
   "metadata": {},
   "outputs": [],
   "source": [
    "Attractions_name = Attractions_df.name.tolist()"
   ]
  },
  {
   "cell_type": "code",
   "execution_count": 10,
   "metadata": {},
   "outputs": [
    {
     "data": {
      "text/plain": [
       "['Gyeongbokgung Palace',\n",
       " 'Bukhansan National Park',\n",
       " 'Myeongdong Shopping Street',\n",
       " 'Changdeokgung Palace',\n",
       " 'The War Memorial of Korea',\n",
       " 'National Museum of Korea',\n",
       " 'Insadong',\n",
       " 'Trickeye Museum Seoul',\n",
       " 'Lotte World Tower & Mall',\n",
       " 'KTX (Korea Train Express)']"
      ]
     },
     "execution_count": 10,
     "metadata": {},
     "output_type": "execute_result"
    }
   ],
   "source": [
    "Attractions_name[:10]"
   ]
  },
  {
   "cell_type": "code",
   "execution_count": 11,
   "metadata": {},
   "outputs": [],
   "source": [
    "query = Review.objects.all()\n",
    "All_Reviews_df = read_frame(query)"
   ]
  },
  {
   "cell_type": "code",
   "execution_count": 26,
   "metadata": {},
   "outputs": [
    {
     "data": {
      "text/plain": [
       "'I had the chance to visit the site after a business meeting nearby, this is very impressive and gives an idea about history of Korea'"
      ]
     },
     "execution_count": 26,
     "metadata": {},
     "output_type": "execute_result"
    }
   ],
   "source": [
    "All_Reviews_df[::1000].values[0][4]"
   ]
  },
  {
   "cell_type": "code",
   "execution_count": 28,
   "metadata": {},
   "outputs": [],
   "source": [
    "attraction_review_sample = attraction_sampling(Attractions_name, All_Reviews_df, start=0, end=10)"
   ]
  },
  {
   "cell_type": "code",
   "execution_count": null,
   "metadata": {},
   "outputs": [],
   "source": [
    "import pprint\n",
    "pp = pprint.PrettyPrinter(indent = 4)"
   ]
  },
  {
   "cell_type": "code",
   "execution_count": 44,
   "metadata": {},
   "outputs": [],
   "source": [
    "def pprint_review_sample(attraction_review_sample, i):\n",
    "    key = list(attraction_review_sample.keys())[i]\n",
    "    (pos_df, neg_df) = attraction_review_sample[key]\n",
    "    print(key)\n",
    "    for pos_sent in pos_df.values:\n",
    "        print(pos_sent[1])\n",
    "        print(pos_sent[0].split('.')[0])\n",
    "    for neg_sent in neg_df.values:\n",
    "        print(neg_sent[1])\n",
    "        print(neg_sent[0].split('.')[0])"
   ]
  },
  {
   "cell_type": "code",
   "execution_count": 55,
   "metadata": {},
   "outputs": [
    {
     "data": {
      "text/plain": [
       "['Gyeongbokgung Palace',\n",
       " 'Bukhansan National Park',\n",
       " 'Myeongdong Shopping Street',\n",
       " 'Changdeokgung Palace',\n",
       " 'The War Memorial of Korea',\n",
       " 'National Museum of Korea',\n",
       " 'Insadong',\n",
       " 'Trickeye Museum Seoul',\n",
       " 'Lotte World Tower & Mall',\n",
       " 'KTX (Korea Train Express)']"
      ]
     },
     "execution_count": 55,
     "metadata": {},
     "output_type": "execute_result"
    }
   ],
   "source": [
    "Attractions_name[:10]"
   ]
  },
  {
   "cell_type": "code",
   "execution_count": null,
   "metadata": {},
   "outputs": [],
   "source": [
    "# 아래는 리뷰가 다 사라졌길래 다시 bulk create한 내용"
   ]
  },
  {
   "cell_type": "code",
   "execution_count": 54,
   "metadata": {},
   "outputs": [],
   "source": [
    "def review_date(date_string):\n",
    "    dict = {\n",
    "        ' January ':'-01-01',\n",
    "        ' February ':'-02-01',\n",
    "        ' March ':'-03-01',\n",
    "        ' April ':'-04-01',\n",
    "        ' May ':'-05-01',\n",
    "        ' June ':'-06-01',\n",
    "        ' July ':'-07-01',\n",
    "        ' August ':'-08-01',\n",
    "        ' September ':'-09-01',\n",
    "        ' October ':'-10-01',\n",
    "        ' November ':'-11-01',\n",
    "        ' December ':'-12-01',\n",
    "    }\n",
    "    \n",
    "    return date_string[-4:] + dict[date_string[:-4]]"
   ]
  },
  {
   "cell_type": "code",
   "execution_count": 66,
   "metadata": {},
   "outputs": [],
   "source": [
    "review_path = 'C:/Users/taehee/Documents/GitHub/tripReviewAnalysisSystem/크롤러-전처리/원시자료/'\n",
    "Attraction_list = Attraction.objects.all()\n",
    "Reviews_list = []\n",
    "for the_Attraction in Attraction_list:\n",
    "    Attraction_Reviews_df = pd.read_csv(review_path+ the_Attraction.name+\".csv\", engine='python', index_col = 0, encoding = 'utf-8')\n",
    "    for Review_list in Attraction_Reviews_df.values[2:]:\n",
    "        Reviews_list.append(Review(attraction = the_Attraction,\n",
    "                       star = Review_list[0],\n",
    "                      title = Review_list[1],\n",
    "                      text = Review_list[2],\n",
    "                      date = review_date(Review_list[3])))"
   ]
  },
  {
   "cell_type": "code",
   "execution_count": 69,
   "metadata": {},
   "outputs": [
    {
     "data": {
      "text/plain": [
       "18534"
      ]
     },
     "execution_count": 69,
     "metadata": {},
     "output_type": "execute_result"
    }
   ],
   "source": [
    "len(Reviews_list)"
   ]
  },
  {
   "cell_type": "code",
   "execution_count": 72,
   "metadata": {},
   "outputs": [],
   "source": [
    "for num in range(19):\n",
    "    start = (num-1)*1000\n",
    "    if start <0:\n",
    "        start = 0\n",
    "    end = num*1000\n",
    "    if end > 18534:\n",
    "        end = 18534\n",
    "    Review.objects.bulk_create(Reviews_list[start:end])"
   ]
  },
  {
   "cell_type": "code",
   "execution_count": 61,
   "metadata": {},
   "outputs": [],
   "source": [
    "max_len = 0\n",
    "max_text = \"\"\n",
    "for Review in Reviews_list:\n",
    "    if len(Review.text) > max_len:\n",
    "        max_text = Review.text\n",
    "        max_len = len(Review.text)"
   ]
  },
  {
   "cell_type": "code",
   "execution_count": 62,
   "metadata": {},
   "outputs": [
    {
     "name": "stdout",
     "output_type": "stream",
     "text": [
      "9136\n"
     ]
    }
   ],
   "source": [
    "print(max_len)"
   ]
  }
 ],
 "metadata": {
  "kernelspec": {
   "display_name": "Python 3",
   "language": "python",
   "name": "python3"
  },
  "language_info": {
   "codemirror_mode": {
    "name": "ipython",
    "version": 3
   },
   "file_extension": ".py",
   "mimetype": "text/x-python",
   "name": "python",
   "nbconvert_exporter": "python",
   "pygments_lexer": "ipython3",
   "version": "3.7.1"
  }
 },
 "nbformat": 4,
 "nbformat_minor": 4
}
