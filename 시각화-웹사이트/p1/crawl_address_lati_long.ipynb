{
 "cells": [
  {
   "cell_type": "code",
   "execution_count": 4,
   "metadata": {},
   "outputs": [],
   "source": [
    "from selenium import webdriver\n",
    "from bs4 import BeautifulSoup\n",
    "from selenium.webdriver.support.ui import WebDriverWait\n",
    "from selenium.webdriver.support import expected_conditions as EC\n",
    "from selenium.common.exceptions import NoSuchElementException\n",
    "from pandas import Series, DataFrame\n",
    "from selenium.webdriver.common.keys import Keys\n",
    "import time\n",
    "import re"
   ]
  },
  {
   "cell_type": "code",
   "execution_count": 10,
   "metadata": {},
   "outputs": [
    {
     "name": "stdout",
     "output_type": "stream",
     "text": [
      "[<div class=\"attractions-contact-card-ContactCard__contactRow--3Ih6v\"><span class=\"ui_icon map-pin-fill attractions-contact-card-ContactCard__icon--8F8Q9\"></span><span>50-4, Wausan-ro 35-gil, Mapo-gu, Seoul 04052 South Korea</span></div>, <div class=\"attractions-contact-card-ContactCard__contactRow--3Ih6v\"><span class=\"ui_icon laptop attractions-contact-card-ContactCard__icon--8F8Q9\"></span><div class=\"attractions-contact-card-ContactCard__linkWrapper--m0ETF\"><div><div class=\"_2wKz--mA\" data-encoded-url=\"http://www.gyeonguiline.org/\"><div class=\"attractions-contact-card-ContactCard__link--2pCqu\">Website</div></div></div></div></div>]\n",
      "<div class=\"attractions-contact-card-ContactCard__contactRow--3Ih6v\"><span class=\"ui_icon map-pin-fill attractions-contact-card-ContactCard__icon--8F8Q9\"></span><span>50-4, Wausan-ro 35-gil, Mapo-gu, Seoul 04052 South Korea</span></div>\n"
     ]
    },
    {
     "ename": "KeyError",
     "evalue": "1",
     "output_type": "error",
     "traceback": [
      "\u001b[1;31m---------------------------------------------------------------------------\u001b[0m",
      "\u001b[1;31mKeyError\u001b[0m                                  Traceback (most recent call last)",
      "\u001b[1;32m<ipython-input-10-47e08f282b90>\u001b[0m in \u001b[0;36m<module>\u001b[1;34m\u001b[0m\n\u001b[0;32m     22\u001b[0m \u001b[0maddress_block\u001b[0m \u001b[1;33m=\u001b[0m \u001b[0mcontact\u001b[0m\u001b[1;33m[\u001b[0m\u001b[1;36m0\u001b[0m\u001b[1;33m]\u001b[0m\u001b[1;33m\u001b[0m\u001b[1;33m\u001b[0m\u001b[0m\n\u001b[0;32m     23\u001b[0m \u001b[0mprint\u001b[0m\u001b[1;33m(\u001b[0m\u001b[0maddress_block\u001b[0m\u001b[1;33m)\u001b[0m\u001b[1;33m\u001b[0m\u001b[1;33m\u001b[0m\u001b[0m\n\u001b[1;32m---> 24\u001b[1;33m \u001b[0maddress_span\u001b[0m \u001b[1;33m=\u001b[0m \u001b[0maddress_block\u001b[0m\u001b[1;33m[\u001b[0m\u001b[1;36m1\u001b[0m\u001b[1;33m]\u001b[0m\u001b[1;33m\u001b[0m\u001b[1;33m\u001b[0m\u001b[0m\n\u001b[0m\u001b[0;32m     25\u001b[0m \u001b[0mprint\u001b[0m\u001b[1;33m(\u001b[0m\u001b[0maddress_span\u001b[0m\u001b[1;33m)\u001b[0m\u001b[1;33m\u001b[0m\u001b[1;33m\u001b[0m\u001b[0m\n\u001b[0;32m     26\u001b[0m \u001b[0maddress\u001b[0m \u001b[1;33m=\u001b[0m \u001b[0maddress_span\u001b[0m\u001b[1;33m.\u001b[0m\u001b[0mtext\u001b[0m\u001b[1;33m\u001b[0m\u001b[1;33m\u001b[0m\u001b[0m\n",
      "\u001b[1;32m~\\Anaconda3\\lib\\site-packages\\bs4\\element.py\u001b[0m in \u001b[0;36m__getitem__\u001b[1;34m(self, key)\u001b[0m\n\u001b[0;32m   1069\u001b[0m         \"\"\"tag[key] returns the value of the 'key' attribute for the tag,\n\u001b[0;32m   1070\u001b[0m         and throws an exception if it's not there.\"\"\"\n\u001b[1;32m-> 1071\u001b[1;33m         \u001b[1;32mreturn\u001b[0m \u001b[0mself\u001b[0m\u001b[1;33m.\u001b[0m\u001b[0mattrs\u001b[0m\u001b[1;33m[\u001b[0m\u001b[0mkey\u001b[0m\u001b[1;33m]\u001b[0m\u001b[1;33m\u001b[0m\u001b[1;33m\u001b[0m\u001b[0m\n\u001b[0m\u001b[0;32m   1072\u001b[0m \u001b[1;33m\u001b[0m\u001b[0m\n\u001b[0;32m   1073\u001b[0m     \u001b[1;32mdef\u001b[0m \u001b[0m__iter__\u001b[0m\u001b[1;33m(\u001b[0m\u001b[0mself\u001b[0m\u001b[1;33m)\u001b[0m\u001b[1;33m:\u001b[0m\u001b[1;33m\u001b[0m\u001b[1;33m\u001b[0m\u001b[0m\n",
      "\u001b[1;31mKeyError\u001b[0m: 1"
     ]
    }
   ],
   "source": [
    "def crawl_soup(url):\n",
    "    driver = webdriver.Chrome(r'C:\\Users\\taehee/Downloads/chromedriver_win32\\chromedriver.exe')\n",
    "\n",
    "    #결측치 어트랙션을 예시로 하나 잡아보자.\n",
    "\n",
    "    driver.get(url)\n",
    "\n",
    "    time.sleep(5)\n",
    "\n",
    "    columns = ['name', 'address']\n",
    "\n",
    "    #저장할 리스트를 생성합니다. \n",
    "\n",
    "    #뷰티풀스프를 실행\n",
    "    \n",
    "    html = driver.page_source\n",
    "    soup = BeautifulSoup(html, 'html.parser')"
   ]
  },
  {
   "cell_type": "code",
   "execution_count": null,
   "metadata": {},
   "outputs": [],
   "source": [
    "url = 'https://www.tripadvisor.ca/Attraction_Review-g294197-d12202187-Reviews-Gyeongui_line_forest-Seoul.html'"
   ]
  },
  {
   "cell_type": "code",
   "execution_count": 11,
   "metadata": {},
   "outputs": [
    {
     "name": "stdout",
     "output_type": "stream",
     "text": [
      "[<div class=\"attractions-contact-card-ContactCard__contactRow--3Ih6v\"><span class=\"ui_icon map-pin-fill attractions-contact-card-ContactCard__icon--8F8Q9\"></span><span>50-4, Wausan-ro 35-gil, Mapo-gu, Seoul 04052 South Korea</span></div>, <div class=\"attractions-contact-card-ContactCard__contactRow--3Ih6v\"><span class=\"ui_icon laptop attractions-contact-card-ContactCard__icon--8F8Q9\"></span><div class=\"attractions-contact-card-ContactCard__linkWrapper--m0ETF\"><div><div class=\"_2wKz--mA\" data-encoded-url=\"http://www.gyeonguiline.org/\"><div class=\"attractions-contact-card-ContactCard__link--2pCqu\">Website</div></div></div></div></div>]\n",
      "<div class=\"attractions-contact-card-ContactCard__contactRow--3Ih6v\"><span class=\"ui_icon map-pin-fill attractions-contact-card-ContactCard__icon--8F8Q9\"></span><span>50-4, Wausan-ro 35-gil, Mapo-gu, Seoul 04052 South Korea</span></div>\n",
      "[<span class=\"ui_icon map-pin-fill attractions-contact-card-ContactCard__icon--8F8Q9\"></span>, <span>50-4, Wausan-ro 35-gil, Mapo-gu, Seoul 04052 South Korea</span>]\n",
      "<span>50-4, Wausan-ro 35-gil, Mapo-gu, Seoul 04052 South Korea</span>\n",
      "50-4, Wausan-ro 35-gil, Mapo-gu, Seoul 04052 South Korea\n"
     ]
    }
   ],
   "source": [
    "def find_address(soup):\n",
    "    contact = soup.find_all(class_ = 'attractions-contact-card-ContactCard__contactRow--3Ih6v')\n",
    "    address_block = contact[0]\n",
    "    address_spans = address_block.contents\n",
    "    address_span = address_spans[1]\n",
    "    address = address_span.text\n",
    "    return address\n",
    "\n",
    "\"\"\"data_test = [names, location]\n",
    "\n",
    "df_list = pd.DataFrame(data_test, columns = columns)\n",
    "df_list.to_csv('crawler test.csv')\n",
    "\"\"\"\n"
   ]
  }
 ],
 "metadata": {
  "kernelspec": {
   "display_name": "Python 3",
   "language": "python",
   "name": "python3"
  },
  "language_info": {
   "codemirror_mode": {
    "name": "ipython",
    "version": 3
   },
   "file_extension": ".py",
   "mimetype": "text/x-python",
   "name": "python",
   "nbconvert_exporter": "python",
   "pygments_lexer": "ipython3",
   "version": "3.7.1"
  }
 },
 "nbformat": 4,
 "nbformat_minor": 4
}
