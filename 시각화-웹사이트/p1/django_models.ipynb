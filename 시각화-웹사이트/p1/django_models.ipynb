{
 "cells": [
  {
   "cell_type": "code",
   "execution_count": 55,
   "metadata": {},
   "outputs": [],
   "source": [
    "import pandas as pd\n",
    "import os\n",
    "from os import path \n",
    "from time import time\n",
    "os.environ.setdefault(\"DJANGO_SETTINGS_MODULE\", \"TRAS.settings\")\n",
    "import django\n",
    "from django.core.exceptions import ObjectDoesNotExist\n",
    "django.setup()\n",
    "from django.db import transaction\n",
    "from django.conf import settings\n",
    "from matplotlib.pyplot import imshow\n",
    "import numpy as np\n",
    "from PIL import Image\n",
    "\n",
    "%matplotlib inline\n",
    "\n",
    "from proto.models import Attraction, Review, Big_Sort\n",
    "os.environ[\"DJANGO_ALLOW_ASYNC_UNSAFE\"] = \"true\""
   ]
  },
  {
   "cell_type": "code",
   "execution_count": null,
   "metadata": {},
   "outputs": [],
   "source": [
    "def read_attraction_csv (file_name, full_file_name, attraction):\n",
    "    if attration == file_name:\n",
    "        result_df = pd.read_csv(path+full_file_name, index_col=0, engine='python', encoding='utf-8)\n",
    "        type_reviews_abstract = result_df.iloc([],[2])\n",
    "    return type_reviews_abstract"
   ]
  },
  {
   "cell_type": "code",
   "execution_count": 52,
   "metadata": {},
   "outputs": [],
   "source": [
    "def load_travelertype(path, travel_type, attraction):\n",
    "    files_list = os.listdir(path)\n",
    "    file_name = files_list[-1]\n",
    "    file_type_list = [file for file in files_list if file.endswith(travel_type + '_df.csv')]\n",
    "    for full_file_name in file_type_list:\n",
    "        name_set = full_file_name.find(_)\n",
    "        file_name = full_file_name[:name_set]\n",
    "        read_attraction_csv(file_name, full_file_name, attraction)"
   ]
  },
  {
   "cell_type": "code",
   "execution_count": 54,
   "metadata": {},
   "outputs": [
    {
     "name": "stdout",
     "output_type": "stream",
     "text": [
      "['63 City_Business_df.csv', 'Alive Museum Insadong_Business_df.csv', 'Amore Pacific Museum of Art_Business_df.csv', 'An Jung-geun Memorial Hall_Business_df.csv', 'Ansan Jarak-gil_Business_df.csv', 'apm Place_Business_df.csv', 'Arario Museum in Space_Business_df.csv', \"Baek In-je's House_Business_df.csv\", 'Banpodaegyo Bridge_Business_df.csv', 'Bongeunsa Temple_Business_df.csv', 'Bugaksan Seoul Fortress_Business_df.csv', 'Bukchon Hanok Village_Business_df.csv', 'Bukhansan National Park_Business_df.csv', 'Changdeokgung Palace_Business_df.csv', 'Changgyeonggung Palace_Business_df.csv', 'Cheonggyecheon Stream_Business_df.csv', 'Cheongwadae Sarangchae_Business_df.csv', 'Children’s Museum of National Museum of Korea_Business_df.csv', 'Coex Aquarium_Business_df.csv', 'COEX Center_Business_df.csv', 'Common Ground_Business_df.csv', 'Culture Station Seoul 284_Business_df.csv', 'D Museum_Business_df.csv', 'D-Cube City_Business_df.csv', 'Daelim Museum_Business_df.csv', 'Deoksugung_Business_df.csv', 'Dongdaemun Design Plaza (DDP)_Business_df.csv', 'Dongdaemun Gate (Heunginjimun)_Business_df.csv', 'Dongdaemun History & Culture Park_Business_df.csv', 'Dongdaemun Seonggwak Park_Business_df.csv', 'Dongdaemun Shopping Complex_Business_df.csv', 'Doota_Business_df.csv', 'Dosan Neighborhood Park_Business_df.csv', 'Dream Forest_Business_df.csv', 'Eungbongsan Mountain_Business_df.csv', \"Ewha Woman's University_Business_df.csv\", 'Ewha Womans University_Business_df.csv', 'Express Bus Terminal Shopping Center_Business_df.csv', 'Figure Museum_Business_df.csv', 'Garak Market_Business_df.csv', 'Garosu-gil_Business_df.csv', 'Gilsangsa Shrine_Business_df.csv', 'Gocheok Sky Dome_Business_df.csv', 'GOTO Mall_Business_df.csv', 'Grevin Museum_Business_df.csv', 'Grilled Fish Street in Dongdaemun Market_Business_df.csv', 'Gwanghwamun Gate_Business_df.csv', 'Gwanghwamun Square_Business_df.csv', 'Gyeongbokgung Palace_Business_df.csv', 'Gyeonghuigung Palace_Business_df.csv', 'Gyeongui line forest_Business_df.csv', 'Haneul Park_Business_df.csv', 'Hangang Park_Business_df.csv', 'Hongdae Art Market Free Market_Business_df.csv', 'Hongdae NANTA Theatre_Business_df.csv', 'Hongik University Street_Business_df.csv', 'Hongik University_Business_df.csv', 'Hyundai Department Store Apgujeong Main_Business_df.csv', 'I-Park Mall_Business_df.csv', 'Ice Gallery_Business_df.csv', 'IFC Mall_Business_df.csv', 'Ihwa Mural Village_Business_df.csv', 'Ikseon-dong Hanok Street_Business_df.csv', 'Insadong_Business_df.csv', 'Inwangsan Mountain_Business_df.csv', 'Itaewon_Business_df.csv', 'Jamsil Baseball Stadium_Business_df.csv', \"Jeoldusan Martyrs' Shrine_Business_df.csv\", 'Jeongdong Observatory_Business_df.csv', 'Jeongdong Theater_Business_df.csv', 'Jogyesa Temple_Business_df.csv', 'Jongmyo Shrine_Business_df.csv', 'Jungbu Market_Business_df.csv', 'KBS On_Business_df.csv', 'Korea Furniture Museum_Business_df.csv', 'Korea House_Business_df.csv', 'Korea University_Business_df.csv', 'Korean Postage Stamp Museum_Business_df.csv', 'KTX (Korea Train Express)_Business_df.csv', 'Kukkiwon World Taekwondo Headquarters_Business_df.csv', 'Kwanghee Fasion Mall_Business_df.csv', 'Kwangjang Market_Business_df.csv', 'Kyunghee University Seoul Campus_Business_df.csv', 'Leeum Samsung Museum of Art_Business_df.csv', 'Lotte Department Store Main_Business_df.csv', 'Lotte FitIn_Business_df.csv', 'Lotte Outlets Seoul Station_Business_df.csv', 'Lotte World Aquarium_Business_df.csv', 'Lotte World Folk Museum_Business_df.csv', 'Lotte World Tower & Mall_Business_df.csv', 'Lotte World_Business_df.csv', 'Lotte Young Plaza Myeongdong_Business_df.csv', 'Love Museum_Business_df.csv', 'L’atelier_Business_df.csv', 'Majang Meat Market_Business_df.csv', 'Mangwon Market_Business_df.csv', 'Mario outlet_Business_df.csv', 'Mecenatpolis Mall_Business_df.csv', 'Migliore Dongdaemun Shop_Business_df.csv', 'Museum Kimchikan_Business_df.csv', 'Myeong-dong Cathedral_Business_df.csv', 'Myeongdong NANTA Theater_Business_df.csv', 'Myeongdong Shopping Street_Business_df.csv', 'Myeongdong Underground Shopping Center_Business_df.csv', 'N Seoul Tower_Business_df.csv', 'Naksan Park_Business_df.csv', 'Naksan Public Art_Business_df.csv', 'Namdaemun Market_Business_df.csv', 'Namsan Cable Car_Business_df.csv', 'Namsan Park_Business_df.csv', 'Namsangol Hanok Village_Business_df.csv', 'National Folk Museum of Korea_Business_df.csv', 'National Hangeul Museum_Business_df.csv', 'National Museum of Korean Contemporary History_Business_df.csv', 'National Museum of Korea_Business_df.csv', 'National Museum of Modern and Contemporary Art Seoul_Business_df.csv', 'National Palace Museum of Korea_Business_df.csv', 'Noryangjin Fisheries Wholesale Market_Business_df.csv', 'Olympic Park_Business_df.csv', 'Paradise Casino Walkerhill_Business_df.csv', 'Poopoo Land_Business_df.csv', 'Samcheongdong-gil Road_Business_df.csv', 'Samcheonggak_Business_df.csv', 'Sebitseom_Business_df.csv', 'Seocho Tourist Information Center_Business_df.csv', 'Seodaemun Museum of Natural History_Business_df.csv', 'Seodaemun Prison History Hall_Business_df.csv', 'Seokchon Lake_Business_df.csv', 'Seolleung & Jeongneung Royal Tomb_Business_df.csv', 'Seonyudo Park_Business_df.csv', 'Seoul Arts Center_Business_df.csv', 'Seoul Botanical Garden_Business_df.csv', 'Seoul Central Mosque_Business_df.csv', \"Seoul Children's Grand Park_Business_df.csv\", 'Seoul City Hall_Business_df.csv', 'Seoul City Wall Museum_Business_df.csv', 'Seoul City Wall_Business_df.csv', 'Seoul Daehangno_Business_df.csv', 'Seoul Folk Flea Market_Business_df.csv', 'Seoul Forest_Business_df.csv', 'Seoul International Fireworks Festival_Business_df.csv', 'Seoul Lantern Festival_Business_df.csv', 'Seoul Metro_Business_df.csv', 'Seoul Museum of Art_Business_df.csv', 'Seoul Museum of History_Business_df.csv', 'Seoul National Cemetery_Business_df.csv', 'Seoul Plaza_Business_df.csv', 'Seoul Sky_Business_df.csv', 'Seoul World Cup Stadium_Business_df.csv', 'Seoullo 7017_Business_df.csv', 'Seven Luck Casino Gangbuk Hilton_Business_df.csv', 'Seven Luck Casino Gangnam Coex_Business_df.csv', 'Shinsegae Dept. Store Main_Business_df.csv', 'Shinsegae Gangnam_Business_df.csv', 'Sinchon_Business_df.csv', 'SRT_Business_df.csv', 'Star Avenue at Lotte World_Business_df.csv', 'Starfield COEX Mall_Business_df.csv', 'Starfield Library_Business_df.csv', 'Statue of Admiral Yi Sun-Sin_Business_df.csv', 'Statue of Gangnam Style_Business_df.csv', 'Statue of Sejong the Great_Business_df.csv', 'Stylenanda Pink Hotel Flagship Store_Business_df.csv', 'Sungnyemun Gate_Business_df.csv', 'Tapgol Park_Business_df.csv', 'The Blue House (Cheong Wa Dae)_Business_df.csv', 'The Story of King Sejong & The Story of Admiral Yi Sunshin_Business_df.csv', \"The War and Women's Human Rights Museum_Business_df.csv\", 'The War Memorial of Korea_Business_df.csv', 'Times Square Mall_Business_df.csv', 'Tourist Information Center of Korea Tourism Organization_Business_df.csv', 'Trickeye Museum Seoul_Business_df.csv', 'Ttukseom Hangang Park_Business_df.csv', 'Unhyeongung_Business_df.csv', \"Yangjae Citizens' Park_Business_df.csv\", 'Yeouido Hangang Park_Business_df.csv', 'Yeouido Park_Business_df.csv', 'Yongma Land_Business_df.csv', 'Yongsan Family Park_Business_df.csv']\n"
     ]
    }
   ],
   "source": [
    "load_travelertype(r'C:\\Users\\Jeong\\Documents\\GitHub\\tripReviewAnalysisSystem\\크롤러-전처리\\Traveltype', travel_type = 'Business')"
   ]
  },
  {
   "cell_type": "code",
   "execution_count": 33,
   "metadata": {},
   "outputs": [
    {
     "ename": "FieldError",
     "evalue": "Cannot resolve keyword 'attraction_id_name' into field. Choices are: attraction, attraction_id, date, id, star, text, title",
     "output_type": "error",
     "traceback": [
      "\u001b[1;31m---------------------------------------------------------------------------\u001b[0m",
      "\u001b[1;31mFieldError\u001b[0m                                Traceback (most recent call last)",
      "\u001b[1;32m<ipython-input-33-c2a8ce81b3da>\u001b[0m in \u001b[0;36m<module>\u001b[1;34m\u001b[0m\n\u001b[1;32m----> 1\u001b[1;33m \u001b[0mqs\u001b[0m \u001b[1;33m=\u001b[0m \u001b[0mReview\u001b[0m\u001b[1;33m.\u001b[0m\u001b[0mobjects\u001b[0m\u001b[1;33m.\u001b[0m\u001b[0mfilter\u001b[0m\u001b[1;33m(\u001b[0m\u001b[0mattraction_id_name\u001b[0m \u001b[1;33m=\u001b[0m \u001b[1;34m'63 City'\u001b[0m\u001b[1;33m)\u001b[0m\u001b[1;33m\u001b[0m\u001b[1;33m\u001b[0m\u001b[0m\n\u001b[0m\u001b[0;32m      2\u001b[0m \u001b[0mprint\u001b[0m\u001b[1;33m(\u001b[0m\u001b[0mqs\u001b[0m\u001b[1;33m[\u001b[0m\u001b[1;36m0\u001b[0m\u001b[1;33m]\u001b[0m\u001b[1;33m.\u001b[0m\u001b[0maddress\u001b[0m\u001b[1;33m)\u001b[0m\u001b[1;33m\u001b[0m\u001b[1;33m\u001b[0m\u001b[0m\n",
      "\u001b[1;32m~\\Anaconda3\\lib\\site-packages\\django\\db\\models\\manager.py\u001b[0m in \u001b[0;36mmanager_method\u001b[1;34m(self, *args, **kwargs)\u001b[0m\n\u001b[0;32m     80\u001b[0m         \u001b[1;32mdef\u001b[0m \u001b[0mcreate_method\u001b[0m\u001b[1;33m(\u001b[0m\u001b[0mname\u001b[0m\u001b[1;33m,\u001b[0m \u001b[0mmethod\u001b[0m\u001b[1;33m)\u001b[0m\u001b[1;33m:\u001b[0m\u001b[1;33m\u001b[0m\u001b[1;33m\u001b[0m\u001b[0m\n\u001b[0;32m     81\u001b[0m             \u001b[1;32mdef\u001b[0m \u001b[0mmanager_method\u001b[0m\u001b[1;33m(\u001b[0m\u001b[0mself\u001b[0m\u001b[1;33m,\u001b[0m \u001b[1;33m*\u001b[0m\u001b[0margs\u001b[0m\u001b[1;33m,\u001b[0m \u001b[1;33m**\u001b[0m\u001b[0mkwargs\u001b[0m\u001b[1;33m)\u001b[0m\u001b[1;33m:\u001b[0m\u001b[1;33m\u001b[0m\u001b[1;33m\u001b[0m\u001b[0m\n\u001b[1;32m---> 82\u001b[1;33m                 \u001b[1;32mreturn\u001b[0m \u001b[0mgetattr\u001b[0m\u001b[1;33m(\u001b[0m\u001b[0mself\u001b[0m\u001b[1;33m.\u001b[0m\u001b[0mget_queryset\u001b[0m\u001b[1;33m(\u001b[0m\u001b[1;33m)\u001b[0m\u001b[1;33m,\u001b[0m \u001b[0mname\u001b[0m\u001b[1;33m)\u001b[0m\u001b[1;33m(\u001b[0m\u001b[1;33m*\u001b[0m\u001b[0margs\u001b[0m\u001b[1;33m,\u001b[0m \u001b[1;33m**\u001b[0m\u001b[0mkwargs\u001b[0m\u001b[1;33m)\u001b[0m\u001b[1;33m\u001b[0m\u001b[1;33m\u001b[0m\u001b[0m\n\u001b[0m\u001b[0;32m     83\u001b[0m             \u001b[0mmanager_method\u001b[0m\u001b[1;33m.\u001b[0m\u001b[0m__name__\u001b[0m \u001b[1;33m=\u001b[0m \u001b[0mmethod\u001b[0m\u001b[1;33m.\u001b[0m\u001b[0m__name__\u001b[0m\u001b[1;33m\u001b[0m\u001b[1;33m\u001b[0m\u001b[0m\n\u001b[0;32m     84\u001b[0m             \u001b[0mmanager_method\u001b[0m\u001b[1;33m.\u001b[0m\u001b[0m__doc__\u001b[0m \u001b[1;33m=\u001b[0m \u001b[0mmethod\u001b[0m\u001b[1;33m.\u001b[0m\u001b[0m__doc__\u001b[0m\u001b[1;33m\u001b[0m\u001b[1;33m\u001b[0m\u001b[0m\n",
      "\u001b[1;32m~\\Anaconda3\\lib\\site-packages\\django\\db\\models\\query.py\u001b[0m in \u001b[0;36mfilter\u001b[1;34m(self, *args, **kwargs)\u001b[0m\n\u001b[0;32m    902\u001b[0m         \"\"\"\n\u001b[0;32m    903\u001b[0m         \u001b[0mself\u001b[0m\u001b[1;33m.\u001b[0m\u001b[0m_not_support_combined_queries\u001b[0m\u001b[1;33m(\u001b[0m\u001b[1;34m'filter'\u001b[0m\u001b[1;33m)\u001b[0m\u001b[1;33m\u001b[0m\u001b[1;33m\u001b[0m\u001b[0m\n\u001b[1;32m--> 904\u001b[1;33m         \u001b[1;32mreturn\u001b[0m \u001b[0mself\u001b[0m\u001b[1;33m.\u001b[0m\u001b[0m_filter_or_exclude\u001b[0m\u001b[1;33m(\u001b[0m\u001b[1;32mFalse\u001b[0m\u001b[1;33m,\u001b[0m \u001b[1;33m*\u001b[0m\u001b[0margs\u001b[0m\u001b[1;33m,\u001b[0m \u001b[1;33m**\u001b[0m\u001b[0mkwargs\u001b[0m\u001b[1;33m)\u001b[0m\u001b[1;33m\u001b[0m\u001b[1;33m\u001b[0m\u001b[0m\n\u001b[0m\u001b[0;32m    905\u001b[0m \u001b[1;33m\u001b[0m\u001b[0m\n\u001b[0;32m    906\u001b[0m     \u001b[1;32mdef\u001b[0m \u001b[0mexclude\u001b[0m\u001b[1;33m(\u001b[0m\u001b[0mself\u001b[0m\u001b[1;33m,\u001b[0m \u001b[1;33m*\u001b[0m\u001b[0margs\u001b[0m\u001b[1;33m,\u001b[0m \u001b[1;33m**\u001b[0m\u001b[0mkwargs\u001b[0m\u001b[1;33m)\u001b[0m\u001b[1;33m:\u001b[0m\u001b[1;33m\u001b[0m\u001b[1;33m\u001b[0m\u001b[0m\n",
      "\u001b[1;32m~\\Anaconda3\\lib\\site-packages\\django\\db\\models\\query.py\u001b[0m in \u001b[0;36m_filter_or_exclude\u001b[1;34m(self, negate, *args, **kwargs)\u001b[0m\n\u001b[0;32m    921\u001b[0m             \u001b[0mclone\u001b[0m\u001b[1;33m.\u001b[0m\u001b[0mquery\u001b[0m\u001b[1;33m.\u001b[0m\u001b[0madd_q\u001b[0m\u001b[1;33m(\u001b[0m\u001b[1;33m~\u001b[0m\u001b[0mQ\u001b[0m\u001b[1;33m(\u001b[0m\u001b[1;33m*\u001b[0m\u001b[0margs\u001b[0m\u001b[1;33m,\u001b[0m \u001b[1;33m**\u001b[0m\u001b[0mkwargs\u001b[0m\u001b[1;33m)\u001b[0m\u001b[1;33m)\u001b[0m\u001b[1;33m\u001b[0m\u001b[1;33m\u001b[0m\u001b[0m\n\u001b[0;32m    922\u001b[0m         \u001b[1;32melse\u001b[0m\u001b[1;33m:\u001b[0m\u001b[1;33m\u001b[0m\u001b[1;33m\u001b[0m\u001b[0m\n\u001b[1;32m--> 923\u001b[1;33m             \u001b[0mclone\u001b[0m\u001b[1;33m.\u001b[0m\u001b[0mquery\u001b[0m\u001b[1;33m.\u001b[0m\u001b[0madd_q\u001b[0m\u001b[1;33m(\u001b[0m\u001b[0mQ\u001b[0m\u001b[1;33m(\u001b[0m\u001b[1;33m*\u001b[0m\u001b[0margs\u001b[0m\u001b[1;33m,\u001b[0m \u001b[1;33m**\u001b[0m\u001b[0mkwargs\u001b[0m\u001b[1;33m)\u001b[0m\u001b[1;33m)\u001b[0m\u001b[1;33m\u001b[0m\u001b[1;33m\u001b[0m\u001b[0m\n\u001b[0m\u001b[0;32m    924\u001b[0m         \u001b[1;32mreturn\u001b[0m \u001b[0mclone\u001b[0m\u001b[1;33m\u001b[0m\u001b[1;33m\u001b[0m\u001b[0m\n\u001b[0;32m    925\u001b[0m \u001b[1;33m\u001b[0m\u001b[0m\n",
      "\u001b[1;32m~\\Anaconda3\\lib\\site-packages\\django\\db\\models\\sql\\query.py\u001b[0m in \u001b[0;36madd_q\u001b[1;34m(self, q_object)\u001b[0m\n\u001b[0;32m   1348\u001b[0m         \u001b[1;31m# So, demotion is OK.\u001b[0m\u001b[1;33m\u001b[0m\u001b[1;33m\u001b[0m\u001b[1;33m\u001b[0m\u001b[0m\n\u001b[0;32m   1349\u001b[0m         \u001b[0mexisting_inner\u001b[0m \u001b[1;33m=\u001b[0m \u001b[1;33m{\u001b[0m\u001b[0ma\u001b[0m \u001b[1;32mfor\u001b[0m \u001b[0ma\u001b[0m \u001b[1;32min\u001b[0m \u001b[0mself\u001b[0m\u001b[1;33m.\u001b[0m\u001b[0malias_map\u001b[0m \u001b[1;32mif\u001b[0m \u001b[0mself\u001b[0m\u001b[1;33m.\u001b[0m\u001b[0malias_map\u001b[0m\u001b[1;33m[\u001b[0m\u001b[0ma\u001b[0m\u001b[1;33m]\u001b[0m\u001b[1;33m.\u001b[0m\u001b[0mjoin_type\u001b[0m \u001b[1;33m==\u001b[0m \u001b[0mINNER\u001b[0m\u001b[1;33m}\u001b[0m\u001b[1;33m\u001b[0m\u001b[1;33m\u001b[0m\u001b[0m\n\u001b[1;32m-> 1350\u001b[1;33m         \u001b[0mclause\u001b[0m\u001b[1;33m,\u001b[0m \u001b[0m_\u001b[0m \u001b[1;33m=\u001b[0m \u001b[0mself\u001b[0m\u001b[1;33m.\u001b[0m\u001b[0m_add_q\u001b[0m\u001b[1;33m(\u001b[0m\u001b[0mq_object\u001b[0m\u001b[1;33m,\u001b[0m \u001b[0mself\u001b[0m\u001b[1;33m.\u001b[0m\u001b[0mused_aliases\u001b[0m\u001b[1;33m)\u001b[0m\u001b[1;33m\u001b[0m\u001b[1;33m\u001b[0m\u001b[0m\n\u001b[0m\u001b[0;32m   1351\u001b[0m         \u001b[1;32mif\u001b[0m \u001b[0mclause\u001b[0m\u001b[1;33m:\u001b[0m\u001b[1;33m\u001b[0m\u001b[1;33m\u001b[0m\u001b[0m\n\u001b[0;32m   1352\u001b[0m             \u001b[0mself\u001b[0m\u001b[1;33m.\u001b[0m\u001b[0mwhere\u001b[0m\u001b[1;33m.\u001b[0m\u001b[0madd\u001b[0m\u001b[1;33m(\u001b[0m\u001b[0mclause\u001b[0m\u001b[1;33m,\u001b[0m \u001b[0mAND\u001b[0m\u001b[1;33m)\u001b[0m\u001b[1;33m\u001b[0m\u001b[1;33m\u001b[0m\u001b[0m\n",
      "\u001b[1;32m~\\Anaconda3\\lib\\site-packages\\django\\db\\models\\sql\\query.py\u001b[0m in \u001b[0;36m_add_q\u001b[1;34m(self, q_object, used_aliases, branch_negated, current_negated, allow_joins, split_subq, simple_col, check_filterable)\u001b[0m\n\u001b[0;32m   1379\u001b[0m                     \u001b[0mcurrent_negated\u001b[0m\u001b[1;33m=\u001b[0m\u001b[0mcurrent_negated\u001b[0m\u001b[1;33m,\u001b[0m \u001b[0mallow_joins\u001b[0m\u001b[1;33m=\u001b[0m\u001b[0mallow_joins\u001b[0m\u001b[1;33m,\u001b[0m\u001b[1;33m\u001b[0m\u001b[1;33m\u001b[0m\u001b[0m\n\u001b[0;32m   1380\u001b[0m                     \u001b[0msplit_subq\u001b[0m\u001b[1;33m=\u001b[0m\u001b[0msplit_subq\u001b[0m\u001b[1;33m,\u001b[0m \u001b[0msimple_col\u001b[0m\u001b[1;33m=\u001b[0m\u001b[0msimple_col\u001b[0m\u001b[1;33m,\u001b[0m\u001b[1;33m\u001b[0m\u001b[1;33m\u001b[0m\u001b[0m\n\u001b[1;32m-> 1381\u001b[1;33m                     \u001b[0mcheck_filterable\u001b[0m\u001b[1;33m=\u001b[0m\u001b[0mcheck_filterable\u001b[0m\u001b[1;33m,\u001b[0m\u001b[1;33m\u001b[0m\u001b[1;33m\u001b[0m\u001b[0m\n\u001b[0m\u001b[0;32m   1382\u001b[0m                 )\n\u001b[0;32m   1383\u001b[0m                 \u001b[0mjoinpromoter\u001b[0m\u001b[1;33m.\u001b[0m\u001b[0madd_votes\u001b[0m\u001b[1;33m(\u001b[0m\u001b[0mneeded_inner\u001b[0m\u001b[1;33m)\u001b[0m\u001b[1;33m\u001b[0m\u001b[1;33m\u001b[0m\u001b[0m\n",
      "\u001b[1;32m~\\Anaconda3\\lib\\site-packages\\django\\db\\models\\sql\\query.py\u001b[0m in \u001b[0;36mbuild_filter\u001b[1;34m(self, filter_expr, branch_negated, current_negated, can_reuse, allow_joins, split_subq, reuse_with_filtered_relation, simple_col, check_filterable)\u001b[0m\n\u001b[0;32m   1248\u001b[0m         \u001b[1;32mif\u001b[0m \u001b[1;32mnot\u001b[0m \u001b[0marg\u001b[0m\u001b[1;33m:\u001b[0m\u001b[1;33m\u001b[0m\u001b[1;33m\u001b[0m\u001b[0m\n\u001b[0;32m   1249\u001b[0m             \u001b[1;32mraise\u001b[0m \u001b[0mFieldError\u001b[0m\u001b[1;33m(\u001b[0m\u001b[1;34m\"Cannot parse keyword query %r\"\u001b[0m \u001b[1;33m%\u001b[0m \u001b[0marg\u001b[0m\u001b[1;33m)\u001b[0m\u001b[1;33m\u001b[0m\u001b[1;33m\u001b[0m\u001b[0m\n\u001b[1;32m-> 1250\u001b[1;33m         \u001b[0mlookups\u001b[0m\u001b[1;33m,\u001b[0m \u001b[0mparts\u001b[0m\u001b[1;33m,\u001b[0m \u001b[0mreffed_expression\u001b[0m \u001b[1;33m=\u001b[0m \u001b[0mself\u001b[0m\u001b[1;33m.\u001b[0m\u001b[0msolve_lookup_type\u001b[0m\u001b[1;33m(\u001b[0m\u001b[0marg\u001b[0m\u001b[1;33m)\u001b[0m\u001b[1;33m\u001b[0m\u001b[1;33m\u001b[0m\u001b[0m\n\u001b[0m\u001b[0;32m   1251\u001b[0m \u001b[1;33m\u001b[0m\u001b[0m\n\u001b[0;32m   1252\u001b[0m         \u001b[1;32mif\u001b[0m \u001b[0mcheck_filterable\u001b[0m\u001b[1;33m:\u001b[0m\u001b[1;33m\u001b[0m\u001b[1;33m\u001b[0m\u001b[0m\n",
      "\u001b[1;32m~\\Anaconda3\\lib\\site-packages\\django\\db\\models\\sql\\query.py\u001b[0m in \u001b[0;36msolve_lookup_type\u001b[1;34m(self, lookup)\u001b[0m\n\u001b[0;32m   1085\u001b[0m             \u001b[1;32mif\u001b[0m \u001b[0mexpression\u001b[0m\u001b[1;33m:\u001b[0m\u001b[1;33m\u001b[0m\u001b[1;33m\u001b[0m\u001b[0m\n\u001b[0;32m   1086\u001b[0m                 \u001b[1;32mreturn\u001b[0m \u001b[0mexpression_lookups\u001b[0m\u001b[1;33m,\u001b[0m \u001b[1;33m(\u001b[0m\u001b[1;33m)\u001b[0m\u001b[1;33m,\u001b[0m \u001b[0mexpression\u001b[0m\u001b[1;33m\u001b[0m\u001b[1;33m\u001b[0m\u001b[0m\n\u001b[1;32m-> 1087\u001b[1;33m         \u001b[0m_\u001b[0m\u001b[1;33m,\u001b[0m \u001b[0mfield\u001b[0m\u001b[1;33m,\u001b[0m \u001b[0m_\u001b[0m\u001b[1;33m,\u001b[0m \u001b[0mlookup_parts\u001b[0m \u001b[1;33m=\u001b[0m \u001b[0mself\u001b[0m\u001b[1;33m.\u001b[0m\u001b[0mnames_to_path\u001b[0m\u001b[1;33m(\u001b[0m\u001b[0mlookup_splitted\u001b[0m\u001b[1;33m,\u001b[0m \u001b[0mself\u001b[0m\u001b[1;33m.\u001b[0m\u001b[0mget_meta\u001b[0m\u001b[1;33m(\u001b[0m\u001b[1;33m)\u001b[0m\u001b[1;33m)\u001b[0m\u001b[1;33m\u001b[0m\u001b[1;33m\u001b[0m\u001b[0m\n\u001b[0m\u001b[0;32m   1088\u001b[0m         \u001b[0mfield_parts\u001b[0m \u001b[1;33m=\u001b[0m \u001b[0mlookup_splitted\u001b[0m\u001b[1;33m[\u001b[0m\u001b[1;36m0\u001b[0m\u001b[1;33m:\u001b[0m\u001b[0mlen\u001b[0m\u001b[1;33m(\u001b[0m\u001b[0mlookup_splitted\u001b[0m\u001b[1;33m)\u001b[0m \u001b[1;33m-\u001b[0m \u001b[0mlen\u001b[0m\u001b[1;33m(\u001b[0m\u001b[0mlookup_parts\u001b[0m\u001b[1;33m)\u001b[0m\u001b[1;33m]\u001b[0m\u001b[1;33m\u001b[0m\u001b[1;33m\u001b[0m\u001b[0m\n\u001b[0;32m   1089\u001b[0m         \u001b[1;32mif\u001b[0m \u001b[0mlen\u001b[0m\u001b[1;33m(\u001b[0m\u001b[0mlookup_parts\u001b[0m\u001b[1;33m)\u001b[0m \u001b[1;33m>\u001b[0m \u001b[1;36m1\u001b[0m \u001b[1;32mand\u001b[0m \u001b[1;32mnot\u001b[0m \u001b[0mfield_parts\u001b[0m\u001b[1;33m:\u001b[0m\u001b[1;33m\u001b[0m\u001b[1;33m\u001b[0m\u001b[0m\n",
      "\u001b[1;32m~\\Anaconda3\\lib\\site-packages\\django\\db\\models\\sql\\query.py\u001b[0m in \u001b[0;36mnames_to_path\u001b[1;34m(self, names, opts, allow_many, fail_on_missing)\u001b[0m\n\u001b[0;32m   1481\u001b[0m                     ])\n\u001b[0;32m   1482\u001b[0m                     raise FieldError(\"Cannot resolve keyword '%s' into field. \"\n\u001b[1;32m-> 1483\u001b[1;33m                                      \"Choices are: %s\" % (name, \", \".join(available)))\n\u001b[0m\u001b[0;32m   1484\u001b[0m                 \u001b[1;32mbreak\u001b[0m\u001b[1;33m\u001b[0m\u001b[1;33m\u001b[0m\u001b[0m\n\u001b[0;32m   1485\u001b[0m             \u001b[1;31m# Check if we need any joins for concrete inheritance cases (the\u001b[0m\u001b[1;33m\u001b[0m\u001b[1;33m\u001b[0m\u001b[1;33m\u001b[0m\u001b[0m\n",
      "\u001b[1;31mFieldError\u001b[0m: Cannot resolve keyword 'attraction_id_name' into field. Choices are: attraction, attraction_id, date, id, star, text, title"
     ]
    }
   ],
   "source": [
    "def traveler_type_add(path)    \n",
    "    for attraction in Attraction.objects.all()[:]:\n",
    "\n",
    "        for travel_type in [\"Family\", \"Business\", \"Solo\", \"Couple\", \"Friend\"]:\n",
    "            files_list = os.listdir(path)\n",
    "            file_name = files_list[-1]\n",
    "            file_type_list = [file for file in files_list if file.endswith(travel_type + '_df.csv')]\n",
    "                for full_file_name in file_type_list:\n",
    "                    name_set = full_file_name.find(_)\n",
    "                    file_name = full_file_name[:name_set]\n",
    "                    type_reviews = read_attraction_csv(file_name, full_file_name, attraction)\n",
    "\n",
    "                    for type_review in type_reviews:\n",
    "                        if type_review != Reviews_list(앞글자만 따온다): # 디장고에 리뷰가 올라가 있나??\n",
    "                            type_review = Family update \n",
    "                            type_review = Family create # 기존 크롤링한 리뷰와 type리뷰가 동일하지않다면 Review의 type필드에 저장(create), text필드에 저장(update)\n",
    "                        else if :\n",
    "                            type_review = Family create # 기존 크롤링한 리뷰와 type리뷰가 동일하다면 Review의 type필드에 저장"
   ]
  },
  {
   "cell_type": "code",
   "execution_count": null,
   "metadata": {},
   "outputs": [],
   "source": [
    "traveler_type_add(r'C:\\Users\\Jeong\\Documents\\GitHub\\tripReviewAnalysisSystem\\크롤러-전처리\\Traveltype)"
   ]
  },
  {
   "cell_type": "code",
   "execution_count": null,
   "metadata": {},
   "outputs": [],
   "source": []
  },
  {
   "cell_type": "code",
   "execution_count": null,
   "metadata": {},
   "outputs": [],
   "source": []
  },
  {
   "cell_type": "code",
   "execution_count": 50,
   "metadata": {},
   "outputs": [],
   "source": [
    "def update_address_lati_long(path):\n",
    "    files_address_list = os.listdir(path)\n",
    "    file_name = files_address_list[-1]\n",
    "    if file_name.startswith(\"lati_long\"):\n",
    "        result_df = pd.read_csv(path+file_name, index_col=0, engine='python', encoding='utf-8')\n",
    "    \n",
    "    #주소 폴더에는 주소와 경위도 파일만 있다고 가정하고, 이미 수집한 경위도 자료는 무시.\n",
    "    \n",
    "    for file_name in files_address_list[:-1]:\n",
    "        if file_name.startswith(\"lati_long\"):\n",
    "            new_df = pd.read_csv(path+file_name, index_col=0, engine='python', encoding='utf-8')\n",
    "            result_df = result_df.append(new_df, ignore_index = True)\n",
    "    \n",
    "    result_dict = {data_list[0]:data_list[1]for data_list in result_df.values}\n",
    "    \n",
    "    \n",
    "    Attractions = Attraction.objects.all()[:]\n",
    "    #[Attraction1, Attraction2, ..., Attraction180]\n",
    "    for attraction in Attractions:\n",
    "        try :\n",
    "            string_data = result_dict[attraction.name]\n",
    "            lati_long_list = [float(value) for value in string_data[1:-2].split(', ') if value != 'na']\n",
    "        \n",
    "            attraction.latitude = lati_long_list[0]\n",
    "            attraction.longitude =lati_long_list[1]\n",
    "        except KeyError:\n",
    "            print(attraction.name)\n",
    "        \n",
    "    Attraction.objects.bulk_update(Attractions, ['latitude', 'longitude'])"
   ]
  },
  {
   "cell_type": "code",
   "execution_count": 11,
   "metadata": {},
   "outputs": [
    {
     "name": "stdout",
     "output_type": "stream",
     "text": [
      "63 City.csv\n",
      "63 City\n"
     ]
    }
   ],
   "source": [
    "print(file_list[0])\n",
    "print(file_list[0][:-4])\n",
    "test_df = pd.read_csv(path+ file_list[0], engine='python', index_col = 0, encoding = 'utf-8')"
   ]
  }
 ],
 "metadata": {
  "kernelspec": {
   "display_name": "Python 3",
   "language": "python",
   "name": "python3"
  },
  "language_info": {
   "codemirror_mode": {
    "name": "ipython",
    "version": 3
   },
   "file_extension": ".py",
   "mimetype": "text/x-python",
   "name": "python",
   "nbconvert_exporter": "python",
   "pygments_lexer": "ipython3",
   "version": "3.7.4"
  }
 },
 "nbformat": 4,
 "nbformat_minor": 4
}
